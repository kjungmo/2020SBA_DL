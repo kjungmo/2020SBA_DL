{
 "cells": [
  {
   "cell_type": "code",
   "execution_count": 6,
   "metadata": {},
   "outputs": [
    {
     "data": {
      "text/plain": [
       "7"
      ]
     },
     "execution_count": 6,
     "metadata": {},
     "output_type": "execute_result"
    }
   ],
   "source": [
    "a = [0,0,0,0,0]\n",
    "n = 7\n",
    "a = [ 0 for i in range(n)]\n",
    "a\n",
    "a = [ [0 for i in range(n)]] # 2차원 배열로 보면 원소 개수가 1개이다.\n",
    "a\n",
    "len(a) # 이건 값이 1\n",
    "len(a[0])"
   ]
  },
  {
   "cell_type": "code",
   "execution_count": 10,
   "metadata": {},
   "outputs": [
    {
     "data": {
      "text/plain": [
       "[[0, 0, 0, 0, 0],\n",
       " [0, 0, 0, 0, 0],\n",
       " [0, 0, 0, 0, 0],\n",
       " [0, 0, 0, 0, 0],\n",
       " [0, 0, 0, 0, 0]]"
      ]
     },
     "execution_count": 10,
     "metadata": {},
     "output_type": "execute_result"
    }
   ],
   "source": [
    "n=5\n",
    "a = [ [0 for i in range(n)] for j in range(n)]\n",
    "a\n",
    "#len(a[0])"
   ]
  },
  {
   "cell_type": "code",
   "execution_count": 11,
   "metadata": {},
   "outputs": [
    {
     "data": {
      "text/plain": [
       "[[0, 0, 0, 0, 0],\n",
       " [0, 0, 0, 0, 0],\n",
       " [0, 0, 0, 0, 0],\n",
       " [0, 0, 0, 0, 0],\n",
       " [0, 0, 0, 0, 0]]"
      ]
     },
     "execution_count": 11,
     "metadata": {},
     "output_type": "execute_result"
    }
   ],
   "source": [
    "# 더 쉬운 방법\n",
    "n=5\n",
    "a = [ [0]*n for j in range(n)]\n",
    "a"
   ]
  },
  {
   "cell_type": "code",
   "execution_count": 13,
   "metadata": {},
   "outputs": [
    {
     "data": {
      "text/plain": [
       "[[1, 2, 3, 4, 5],\n",
       " [0, 0, 0, 0, 0],\n",
       " [0, 0, 0, 0, 0],\n",
       " [0, 0, 0, 0, 0],\n",
       " [0, 0, 0, 0, 0]]"
      ]
     },
     "execution_count": 13,
     "metadata": {},
     "output_type": "execute_result"
    }
   ],
   "source": [
    "#알고리즘적인 문제\n",
    "n=5\n",
    "a = [ [0]*n for j in range(n)]\n",
    "row = 0 # 열\n",
    "col = -1 # 행\n",
    "count = 1 #1부터 증가하니까\n",
    "\n",
    "for i in range(n):\n",
    "    col += 1\n",
    "    a[row][col] = count\n",
    "    count += 1\n",
    "a"
   ]
  },
  {
   "cell_type": "code",
   "execution_count": 15,
   "metadata": {},
   "outputs": [
    {
     "data": {
      "text/plain": [
       "[[1, 2, 3, 4, 5],\n",
       " [0, 0, 0, 0, 6],\n",
       " [0, 0, 0, 0, 7],\n",
       " [0, 0, 0, 0, 8],\n",
       " [0, 0, 0, 0, 9]]"
      ]
     },
     "execution_count": 15,
     "metadata": {},
     "output_type": "execute_result"
    }
   ],
   "source": [
    "n=5\n",
    "a = [ [0]*n for j in range(n)]\n",
    "row = 0 # 열\n",
    "col = -1 # 행\n",
    "count = 1 #1부터 증가하니까\n",
    "num = n # 회전수 담당 변수\n",
    "\n",
    "for i in range(num):\n",
    "    col += 1\n",
    "    a[row][col] = count\n",
    "    count += 1\n",
    "    \n",
    "num -= 1\n",
    "\n",
    "for i in range(num):\n",
    "    row += 1\n",
    "    a[row][col] = count\n",
    "    count += 1\n",
    "\n",
    "a"
   ]
  },
  {
   "cell_type": "code",
   "execution_count": 28,
   "metadata": {
    "scrolled": true
   },
   "outputs": [
    {
     "name": "stdout",
     "output_type": "stream",
     "text": [
      "   1   2   3   4   5   6   7   8   9  10  11\n",
      "  40  41  42  43  44  45  46  47  48  49  12\n",
      "  39  72  73  74  75  76  77  78  79  50  13\n",
      "  38  71  96  97  98  99 100 101  80  51  14\n",
      "  37  70  95 112 113 114 115 102  81  52  15\n",
      "  36  69  94 111 120 121 116 103  82  53  16\n",
      "  35  68  93 110 119 118 117 104  83  54  17\n",
      "  34  67  92 109 108 107 106 105  84  55  18\n",
      "  33  66  91  90  89  88  87  86  85  56  19\n",
      "  32  65  64  63  62  61  60  59  58  57  20\n",
      "  31  30  29  28  27  26  25  24  23  22  21\n"
     ]
    }
   ],
   "source": [
    "def display(a):\n",
    "    for i in range(n):\n",
    "        for j in range(n):\n",
    "            print(\"%4d\"%a[i][j], end='')\n",
    "        print()\n",
    "\n",
    "n=11\n",
    "a = [ [0]*n for j in range(n)]\n",
    "row = 0 # 열\n",
    "col = -1 # 행\n",
    "count = 1 #1부터 증가하니까\n",
    "num = n # 회전수 담당 변수\n",
    "\n",
    "\n",
    "while True:\n",
    "    for i in range(num):\n",
    "        col += 1\n",
    "        a[row][col] = count\n",
    "        count += 1\n",
    "\n",
    "    num -= 1 #회전수 감소할 때 소환\n",
    "    if num == 0:\n",
    "        break\n",
    "        \n",
    "    for i in range(num):\n",
    "        row += 1 # 행건드릴때\n",
    "        a[row][col] = count\n",
    "        count += 1\n",
    "\n",
    "    for i in range(num):\n",
    "        col -= 1 #열 건드릴때\n",
    "        a[row][col] = count\n",
    "        count += 1\n",
    "\n",
    "    num -= 1\n",
    "    if num == 0:\n",
    "        break\n",
    "        \n",
    "    for i in range(num):\n",
    "        row -= 1\n",
    "        a[row][col] = count\n",
    "        count += 1\n",
    "\n",
    "display(a)"
   ]
  },
  {
   "cell_type": "code",
   "execution_count": 32,
   "metadata": {},
   "outputs": [
    {
     "name": "stdout",
     "output_type": "stream",
     "text": [
      "   1   2   3   4   5\n",
      "  16  17  18  19   6\n",
      "  15  24  25  20   7\n",
      "  14  23  22  21   8\n",
      "  13  12  11  10   9\n"
     ]
    }
   ],
   "source": [
    "def display(a):\n",
    "    for i in range(n):\n",
    "        for j in range(n):\n",
    "            print(\"%4d\"%a[i][j], end='')\n",
    "        print()\n",
    "\n",
    "n=5\n",
    "a = [ [0]*n for j in range(n)]\n",
    "row = 0 # 열\n",
    "col = -1 # 행\n",
    "count = 1 #1부터 증가하니까\n",
    "num = n # 회전수 담당 변수\n",
    "sign = 1\n",
    "\n",
    "while True:\n",
    "    for i in range(num):\n",
    "        col += sign #sign 반전코드 만드는것.\n",
    "        a[row][col] = count\n",
    "        count += 1\n",
    "\n",
    "    num -= 1\n",
    "    if num == 0:\n",
    "        break\n",
    "        \n",
    "    for i in range(num):\n",
    "        row += sign # 행건드릴때\n",
    "        a[row][col] = count\n",
    "        count += 1\n",
    "    sign = - sign #sign 부호반전이 while 루프 돌면서 발생\n",
    "\n",
    "display(a)"
   ]
  },
  {
   "cell_type": "code",
   "execution_count": 39,
   "metadata": {},
   "outputs": [
    {
     "name": "stdout",
     "output_type": "stream",
     "text": [
      "   1   2   3   4   5\n",
      "   6   7   8   9  10\n",
      "  11  12  13  14  15\n",
      "  16  17  18  19  20\n",
      "  21  22  23  24  25\n"
     ]
    }
   ],
   "source": [
    "def display(a):\n",
    "    for i in range(n):\n",
    "        for j in range(n):\n",
    "            print(\"%4d\"%a[i][j], end='')\n",
    "        print()\n",
    "        \n",
    "\n",
    "def init(n):\n",
    "    a = [ [0]*n for j in range(n)]\n",
    "    return a\n",
    "\n",
    "def fill(a, n):\n",
    "    count = 1\n",
    "    for i in range(n):\n",
    "        for j in range(n):\n",
    "            a[i][j] = count\n",
    "            count += 1\n",
    "    \n",
    "    \n",
    "n=5\n",
    "a = init(n)\n",
    "fill(a,n)\n",
    "display(a)"
   ]
  },
  {
   "cell_type": "code",
   "execution_count": 41,
   "metadata": {},
   "outputs": [
    {
     "name": "stdout",
     "output_type": "stream",
     "text": [
      "   1   0   0   0   0\n",
      "   2   6   0   0   0\n",
      "   3   7  10   0   0\n",
      "   4   8  11  13   0\n",
      "   5   9  12  14  15\n"
     ]
    }
   ],
   "source": [
    "def display(a):\n",
    "    for i in range(n):\n",
    "        for j in range(n):\n",
    "            print(\"%4d\"%a[i][j], end='')\n",
    "        print()\n",
    "        \n",
    "\n",
    "def init(n):\n",
    "    a = [ [0]*n for j in range(n)]\n",
    "    return a\n",
    "\n",
    "def fill(a, n):\n",
    "    count = 1\n",
    "    for i in range(n):\n",
    "        for j in range(n-i):\n",
    "            a[i+j][i] = count\n",
    "            count += 1\n",
    "    \n",
    "    \n",
    "n=5\n",
    "a = init(n)\n",
    "fill(a,n)\n",
    "display(a)"
   ]
  },
  {
   "cell_type": "code",
   "execution_count": 45,
   "metadata": {},
   "outputs": [
    {
     "name": "stdout",
     "output_type": "stream",
     "text": [
      "   5   4   3   2   1\n",
      "   9   8   7   6   0\n",
      "  12  11  10   0   0\n",
      "  14  13   0   0   0\n",
      "  15   0   0   0   0\n"
     ]
    }
   ],
   "source": [
    "def display(a):\n",
    "    for i in range(n):\n",
    "        for j in range(n):\n",
    "            print(\"%4d\"%a[i][j], end='')\n",
    "        print()\n",
    "        \n",
    "\n",
    "def init(n):\n",
    "    a = [ [0]*n for j in range(n)]\n",
    "    return a\n",
    "\n",
    "def fill(a, n):\n",
    "    count = 1\n",
    "    for i in range(n):\n",
    "        for j in range(n-i):\n",
    "            a[i][n-i-1-j] = count\n",
    "            count += 1\n",
    "    \n",
    "    \n",
    "n=5\n",
    "a = init(n)\n",
    "fill(a,n)\n",
    "display(a)"
   ]
  },
  {
   "cell_type": "code",
   "execution_count": 54,
   "metadata": {},
   "outputs": [
    {
     "name": "stdout",
     "output_type": "stream",
     "text": [
      "   1   2   4   7  11\n",
      "   3   5   8  12  16\n",
      "   6   9  13  17  20\n",
      "  10  14  18  21  23\n",
      "  15  19  22  24  25\n"
     ]
    }
   ],
   "source": [
    "def display(a):\n",
    "    for i in range(n):\n",
    "        for j in range(n):\n",
    "            print(\"%4d\"%a[i][j], end='')\n",
    "        print()\n",
    "        \n",
    "\n",
    "def init(n):\n",
    "    a = [ [0]*n for j in range(n)]\n",
    "    return a\n",
    "\n",
    "def fill(a, n):\n",
    "    count = 1\n",
    "    for k in range(2*n-1):\n",
    "        for i in range(n):\n",
    "            for j in range(n):\n",
    "                if (i+j) == k:\n",
    "                    a[i][j] = count\n",
    "                    count += 1\n",
    "    \n",
    "    \n",
    "n=5\n",
    "a = init(n)\n",
    "fill(a,n)\n",
    "display(a)"
   ]
  },
  {
   "cell_type": "code",
   "execution_count": 56,
   "metadata": {},
   "outputs": [
    {
     "name": "stdout",
     "output_type": "stream",
     "text": [
      "   1   3   6  10  15\n",
      "   2   5   9  14  19\n",
      "   4   8  13  18  22\n",
      "   7  12  17  21  24\n",
      "  11  16  20  23  25\n"
     ]
    }
   ],
   "source": [
    "def display(a):\n",
    "    for i in range(n):\n",
    "        for j in range(n):\n",
    "            print(\"%4d\"%a[i][j], end='')\n",
    "        print()\n",
    "        \n",
    "\n",
    "def init(n):\n",
    "    a = [ [0]*n for j in range(n)]\n",
    "    return a\n",
    "\n",
    "def fill(a, n):\n",
    "    count = 1\n",
    "    for k in range(2*n-1):\n",
    "        for i in range(n):\n",
    "            for j in range(n):\n",
    "                if (i+j) == k:\n",
    "                    a[j][i] = count\n",
    "                    count += 1\n",
    "    \n",
    "    \n",
    "n=5\n",
    "a = init(n)\n",
    "fill(a,n)\n",
    "display(a)"
   ]
  },
  {
   "cell_type": "code",
   "execution_count": 67,
   "metadata": {},
   "outputs": [
    {
     "name": "stdout",
     "output_type": "stream",
     "text": [
      "   1   0   0   0  13\n",
      "   2   6   0  10  14\n",
      "   3   7   9  11  15\n",
      "   4   8   0  12  16\n",
      "   5   0   0   0  17\n"
     ]
    }
   ],
   "source": [
    "def display(a):\n",
    "    for i in range(n):\n",
    "        for j in range(n):\n",
    "            print(\"%4d\"%a[i][j], end='')\n",
    "        print()\n",
    "        \n",
    "\n",
    "def init(n):\n",
    "    a = [ [0]*n for j in range(n)]\n",
    "    return a\n",
    "\n",
    "def fill(a, n):\n",
    "    count = 1\n",
    "    inc = 0\n",
    "    flag = 1\n",
    "    for i in range(n):\n",
    "        for j in range(n-inc*2):\n",
    "            a[inc+j][i] = count\n",
    "            count += 1\n",
    "        if n//2 == i:\n",
    "            flag = -flag\n",
    "        inc += flag\n",
    "    \n",
    "n=5\n",
    "a = init(n)\n",
    "fill(a,n)\n",
    "display(a)"
   ]
  },
  {
   "cell_type": "markdown",
   "metadata": {},
   "source": [
    "## 클래스 만들기 "
   ]
  },
  {
   "cell_type": "code",
   "execution_count": 69,
   "metadata": {},
   "outputs": [
    {
     "name": "stdout",
     "output_type": "stream",
     "text": [
      "7\n"
     ]
    }
   ],
   "source": [
    "class FourCal:\n",
    "    def add(self, a, b):\n",
    "        result = a + b\n",
    "        return result\n",
    "\n",
    "a = FourCal()\n",
    "print(a.add(3,4))"
   ]
  },
  {
   "cell_type": "code",
   "execution_count": 72,
   "metadata": {},
   "outputs": [
    {
     "name": "stdout",
     "output_type": "stream",
     "text": [
      "7\n"
     ]
    }
   ],
   "source": [
    "class FourCal:\n",
    "    def setdata(self, first, second):\n",
    "        self.first = first\n",
    "        self.second = second\n",
    "    \n",
    "    def add(self):\n",
    "        result = self.first + self.second\n",
    "        return result\n",
    "\n",
    "a = FourCal()\n",
    "a.setdata(3,4)\n",
    "print(a.add())"
   ]
  },
  {
   "cell_type": "code",
   "execution_count": 80,
   "metadata": {},
   "outputs": [
    {
     "name": "stdout",
     "output_type": "stream",
     "text": [
      "FourCal.__init__()\n",
      "7\n"
     ]
    }
   ],
   "source": [
    "class FourCal:\n",
    "    def __init__(self, first, second):#생성자\n",
    "        print(\"FourCal.__init__()\")\n",
    "        self.first = first\n",
    "        self.second = second\n",
    "    \n",
    "    def setdata(self, first, second):\n",
    "        self.first = first\n",
    "        self.second = second\n",
    "    \n",
    "    def add(self):\n",
    "        result = self.first + self.second\n",
    "        return result\n",
    "\n",
    "a = FourCal(3,4)\n",
    "print(a.add())"
   ]
  },
  {
   "cell_type": "code",
   "execution_count": 87,
   "metadata": {},
   "outputs": [
    {
     "name": "stdout",
     "output_type": "stream",
     "text": [
      "FourCal.__init__()\n"
     ]
    },
    {
     "data": {
      "text/plain": [
       "81"
      ]
     },
     "execution_count": 87,
     "metadata": {},
     "output_type": "execute_result"
    }
   ],
   "source": [
    "class MoreFourCal(FourCal):\n",
    "    def pow(self):\n",
    "        result = self.first ** self.second\n",
    "        return result\n",
    "\n",
    "a = MoreFourCal(3,4)\n",
    "a.pow()"
   ]
  },
  {
   "cell_type": "code",
   "execution_count": 89,
   "metadata": {},
   "outputs": [
    {
     "name": "stdout",
     "output_type": "stream",
     "text": [
      "FourCal.__init__()\n",
      "0.75\n"
     ]
    }
   ],
   "source": [
    "class FourCal:\n",
    "    def __init__(self, first, second):#생성자\n",
    "        print(\"FourCal.__init__()\")\n",
    "        self.first = first\n",
    "        self.second = second\n",
    "    \n",
    "    def setdata(self, first, second):\n",
    "        self.first = first\n",
    "        self.second = second\n",
    "    \n",
    "    def add(self):\n",
    "        result = self.first + self.second\n",
    "        return result\n",
    "    \n",
    "    def div(self):\n",
    "        result = self.first/self.second\n",
    "        return result\n",
    "\n",
    "a = FourCal(3,4)\n",
    "print(a.div())"
   ]
  },
  {
   "cell_type": "code",
   "execution_count": 95,
   "metadata": {},
   "outputs": [
    {
     "name": "stdout",
     "output_type": "stream",
     "text": [
      "FourCal.__init__()\n"
     ]
    },
    {
     "ename": "ZeroDivisionError",
     "evalue": "division by zero",
     "output_type": "error",
     "traceback": [
      "\u001b[1;31m---------------------------------------------------------------------------\u001b[0m",
      "\u001b[1;31mZeroDivisionError\u001b[0m                         Traceback (most recent call last)",
      "\u001b[1;32m<ipython-input-95-c747fb8c94e4>\u001b[0m in \u001b[0;36m<module>\u001b[1;34m\u001b[0m\n\u001b[0;32m     18\u001b[0m \u001b[1;33m\u001b[0m\u001b[0m\n\u001b[0;32m     19\u001b[0m \u001b[0ma\u001b[0m \u001b[1;33m=\u001b[0m \u001b[0mFourCal\u001b[0m\u001b[1;33m(\u001b[0m\u001b[1;36m3\u001b[0m\u001b[1;33m,\u001b[0m\u001b[1;36m0\u001b[0m\u001b[1;33m)\u001b[0m\u001b[1;33m\u001b[0m\u001b[1;33m\u001b[0m\u001b[0m\n\u001b[1;32m---> 20\u001b[1;33m \u001b[0mprint\u001b[0m\u001b[1;33m(\u001b[0m\u001b[0ma\u001b[0m\u001b[1;33m.\u001b[0m\u001b[0mdiv\u001b[0m\u001b[1;33m(\u001b[0m\u001b[1;33m)\u001b[0m\u001b[1;33m)\u001b[0m\u001b[1;33m\u001b[0m\u001b[1;33m\u001b[0m\u001b[0m\n\u001b[0m",
      "\u001b[1;32m<ipython-input-95-c747fb8c94e4>\u001b[0m in \u001b[0;36mdiv\u001b[1;34m(self)\u001b[0m\n\u001b[0;32m     14\u001b[0m \u001b[1;33m\u001b[0m\u001b[0m\n\u001b[0;32m     15\u001b[0m     \u001b[1;32mdef\u001b[0m \u001b[0mdiv\u001b[0m\u001b[1;33m(\u001b[0m\u001b[0mself\u001b[0m\u001b[1;33m)\u001b[0m\u001b[1;33m:\u001b[0m\u001b[1;33m\u001b[0m\u001b[1;33m\u001b[0m\u001b[0m\n\u001b[1;32m---> 16\u001b[1;33m         \u001b[0mresult\u001b[0m \u001b[1;33m=\u001b[0m \u001b[0mself\u001b[0m\u001b[1;33m.\u001b[0m\u001b[0mfirst\u001b[0m\u001b[1;33m/\u001b[0m\u001b[0mself\u001b[0m\u001b[1;33m.\u001b[0m\u001b[0msecond\u001b[0m\u001b[1;33m\u001b[0m\u001b[1;33m\u001b[0m\u001b[0m\n\u001b[0m\u001b[0;32m     17\u001b[0m         \u001b[1;32mreturn\u001b[0m \u001b[0mresult\u001b[0m\u001b[1;33m\u001b[0m\u001b[1;33m\u001b[0m\u001b[0m\n\u001b[0;32m     18\u001b[0m \u001b[1;33m\u001b[0m\u001b[0m\n",
      "\u001b[1;31mZeroDivisionError\u001b[0m: division by zero"
     ]
    }
   ],
   "source": [
    "class FourCal:\n",
    "    def __init__(self, first, second):#생성자\n",
    "        print(\"FourCal.__init__()\")\n",
    "        self.first = first\n",
    "        self.second = second\n",
    "    \n",
    "    def setdata(self, first, second):\n",
    "        self.first = first\n",
    "        self.second = second\n",
    "    \n",
    "    def add(self):\n",
    "        result = self.first + self.second\n",
    "        return result\n",
    "    \n",
    "    def div(self):\n",
    "        print(\"FourCal.div()\")\n",
    "        result = self.first/self.second\n",
    "        return result\n",
    "\n",
    "a = FourCal(3,0)\n",
    "print(a.div())"
   ]
  },
  {
   "cell_type": "code",
   "execution_count": 96,
   "metadata": {},
   "outputs": [
    {
     "name": "stdout",
     "output_type": "stream",
     "text": [
      "FourCal.__init__()\n",
      "MoreFourCal.div()\n",
      "분모는 0으로 지정하면 안되요\n"
     ]
    }
   ],
   "source": [
    "class MoreFourCal(FourCal):\n",
    "    def pow(self):\n",
    "        result = self.first ** self.second\n",
    "        return result\n",
    "    \n",
    "    def div(self): #오버라이딩. 부모랑 똑같은 이름의 함수 호출하면 자식의 함수가 호출됨\n",
    "        print(\"MoreFourCal.div()\")\n",
    "        if(self.second == 0):\n",
    "            print('분모는 0으로 지정하면 안되요')\n",
    "            return\n",
    "        \n",
    "        result = self.first/self.second\n",
    "        return result\n",
    "\n",
    "a = MoreFourCal(3,0)\n",
    "a.div()"
   ]
  },
  {
   "cell_type": "code",
   "execution_count": 107,
   "metadata": {},
   "outputs": [
    {
     "name": "stdout",
     "output_type": "stream",
     "text": [
      "foo(a)\n",
      "foo(a)\n"
     ]
    }
   ],
   "source": [
    "def foo():\n",
    "    print('foo()')\n",
    "    \n",
    "def foo(a):\n",
    "    print('foo(a)')\n",
    "    \n",
    "foo(a)\n",
    "foo(3) #이건 오버로딩인데 파이썬에서는 지원하지 않는다. 전통적인 객체지향 프로그램은 오버로딩 지원함.\n",
    "#호출안하면 에러 안난다. \n",
    "#위에거 호출하면 에러난다. \n",
    "#foo 가 변수같은 존재\n",
    "#함수도 파이썬에서는 객체라 최신의 함수만 남아 작동하게 된다."
   ]
  },
  {
   "cell_type": "markdown",
   "metadata": {},
   "source": [
    "### 클래스 변수 "
   ]
  },
  {
   "cell_type": "code",
   "execution_count": 108,
   "metadata": {},
   "outputs": [
    {
     "name": "stdout",
     "output_type": "stream",
     "text": [
      "김\n"
     ]
    }
   ],
   "source": [
    "class Family:\n",
    "    lastname = '김'#지역변수와 멤버변수 사이에 있는 희안한 존재, 클래스안에만 있다. 클래스 변수. \n",
    "                    #멤버변수가 아니다. 파이썬은 클래스도 객체다.\n",
    "    def foo():\n",
    "        name = '홍길동' #local 변수\n",
    "        \n",
    "print(Family.lastname)"
   ]
  },
  {
   "cell_type": "code",
   "execution_count": 109,
   "metadata": {},
   "outputs": [
    {
     "name": "stdout",
     "output_type": "stream",
     "text": [
      "김\n"
     ]
    }
   ],
   "source": [
    "a = Family()\n",
    "print(a.lastname)"
   ]
  },
  {
   "cell_type": "code",
   "execution_count": 110,
   "metadata": {},
   "outputs": [
    {
     "name": "stdout",
     "output_type": "stream",
     "text": [
      "김\n"
     ]
    }
   ],
   "source": [
    "b = Family()\n",
    "print(b.lastname)"
   ]
  },
  {
   "cell_type": "code",
   "execution_count": 111,
   "metadata": {},
   "outputs": [],
   "source": [
    "Family.lastname = '박' # 클래스 전체에 소속된 변수이기 때문에 수정하면 통으로 수정됨"
   ]
  },
  {
   "cell_type": "code",
   "execution_count": 112,
   "metadata": {},
   "outputs": [
    {
     "name": "stdout",
     "output_type": "stream",
     "text": [
      "박\n"
     ]
    }
   ],
   "source": [
    "print(a.lastname)"
   ]
  },
  {
   "cell_type": "code",
   "execution_count": 113,
   "metadata": {},
   "outputs": [
    {
     "name": "stdout",
     "output_type": "stream",
     "text": [
      "박\n"
     ]
    }
   ],
   "source": [
    "print(b.lastname)"
   ]
  },
  {
   "cell_type": "code",
   "execution_count": 114,
   "metadata": {},
   "outputs": [
    {
     "data": {
      "text/plain": [
       "2378593582336"
      ]
     },
     "execution_count": 114,
     "metadata": {},
     "output_type": "execute_result"
    }
   ],
   "source": [
    "id(Family.lastname)"
   ]
  },
  {
   "cell_type": "code",
   "execution_count": 115,
   "metadata": {},
   "outputs": [
    {
     "data": {
      "text/plain": [
       "2378593582336"
      ]
     },
     "execution_count": 115,
     "metadata": {},
     "output_type": "execute_result"
    }
   ],
   "source": [
    "id(a.lastname)"
   ]
  },
  {
   "cell_type": "code",
   "execution_count": 117,
   "metadata": {},
   "outputs": [
    {
     "data": {
      "text/plain": [
       "2378593582336"
      ]
     },
     "execution_count": 117,
     "metadata": {},
     "output_type": "execute_result"
    }
   ],
   "source": [
    "id(b.lastname)"
   ]
  },
  {
   "cell_type": "code",
   "execution_count": null,
   "metadata": {},
   "outputs": [],
   "source": []
  }
 ],
 "metadata": {
  "kernelspec": {
   "display_name": "Python 3",
   "language": "python",
   "name": "python3"
  },
  "language_info": {
   "codemirror_mode": {
    "name": "ipython",
    "version": 3
   },
   "file_extension": ".py",
   "mimetype": "text/x-python",
   "name": "python",
   "nbconvert_exporter": "python",
   "pygments_lexer": "ipython3",
   "version": "3.7.6"
  }
 },
 "nbformat": 4,
 "nbformat_minor": 4
}
