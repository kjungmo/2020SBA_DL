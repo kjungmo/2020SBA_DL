{
 "cells": [
  {
   "cell_type": "code",
   "execution_count": 118,
   "metadata": {},
   "outputs": [],
   "source": [
    "a = [0,0,0,0,0]"
   ]
  },
  {
   "cell_type": "code",
   "execution_count": 119,
   "metadata": {},
   "outputs": [
    {
     "data": {
      "text/plain": [
       "[0, 0, 0, 0, 0, 0, 0]"
      ]
     },
     "execution_count": 119,
     "metadata": {},
     "output_type": "execute_result"
    }
   ],
   "source": [
    "n = 7\n",
    "a = [ 0 for i in range(n)]\n",
    "a"
   ]
  },
  {
   "cell_type": "code",
   "execution_count": 122,
   "metadata": {},
   "outputs": [
    {
     "data": {
      "text/plain": [
       "[[0, 0, 0, 0, 0, 0, 0]]"
      ]
     },
     "execution_count": 122,
     "metadata": {},
     "output_type": "execute_result"
    }
   ],
   "source": [
    "n=7\n",
    "a = [ [0 for i in range(n)]] # 2차원 배열로 보면 원소 개수가 1개이다.\n",
    "a"
   ]
  },
  {
   "cell_type": "code",
   "execution_count": 123,
   "metadata": {},
   "outputs": [
    {
     "data": {
      "text/plain": [
       "1"
      ]
     },
     "execution_count": 123,
     "metadata": {},
     "output_type": "execute_result"
    }
   ],
   "source": [
    "n = 7\n",
    "a = [ [0 for i in range(n)]] # 2차원 배열로 보면 원소 개수가 1개이다.\n",
    "a\n",
    "len(a) # 이건 값이 1"
   ]
  },
  {
   "cell_type": "code",
   "execution_count": 124,
   "metadata": {},
   "outputs": [
    {
     "data": {
      "text/plain": [
       "7"
      ]
     },
     "execution_count": 124,
     "metadata": {},
     "output_type": "execute_result"
    }
   ],
   "source": [
    "n = 7\n",
    "a = [ [0 for i in range(n)]] # 2차원 배열로 보면 원소 개수가 1개이다.\n",
    "a\n",
    "\n",
    "len(a[0])"
   ]
  },
  {
   "cell_type": "code",
   "execution_count": 10,
   "metadata": {},
   "outputs": [
    {
     "data": {
      "text/plain": [
       "[[0, 0, 0, 0, 0],\n",
       " [0, 0, 0, 0, 0],\n",
       " [0, 0, 0, 0, 0],\n",
       " [0, 0, 0, 0, 0],\n",
       " [0, 0, 0, 0, 0]]"
      ]
     },
     "execution_count": 10,
     "metadata": {},
     "output_type": "execute_result"
    }
   ],
   "source": [
    "n=5\n",
    "a = [ [0 for i in range(n)] for j in range(n)]\n",
    "a\n",
    "#len(a[0])"
   ]
  },
  {
   "cell_type": "code",
   "execution_count": 127,
   "metadata": {},
   "outputs": [
    {
     "data": {
      "text/plain": [
       "[[0, 0, 0, 0, 0],\n",
       " [0, 0, 0, 0, 0],\n",
       " [0, 0, 0, 0, 0],\n",
       " [0, 0, 0, 0, 0],\n",
       " [0, 0, 0, 0, 0]]"
      ]
     },
     "execution_count": 127,
     "metadata": {},
     "output_type": "execute_result"
    }
   ],
   "source": [
    "# 더 쉬운 방법\n",
    "n=5\n",
    "a = [ [0]*n for j in range(n)]\n",
    "a"
   ]
  },
  {
   "cell_type": "code",
   "execution_count": 131,
   "metadata": {},
   "outputs": [
    {
     "name": "stdout",
     "output_type": "stream",
     "text": [
      "[0, 0, 0, 0, 0]\n",
      "[[0, 0, 0, 0, 0]]\n"
     ]
    }
   ],
   "source": [
    "a = [0]* n\n",
    "print(a)\n",
    "b = [[0]*n]\n",
    "print(b)"
   ]
  },
  {
   "cell_type": "code",
   "execution_count": 133,
   "metadata": {},
   "outputs": [
    {
     "data": {
      "text/plain": [
       "[[1, 2, 3, 4, 5],\n",
       " [0, 0, 0, 0, 0],\n",
       " [0, 0, 0, 0, 0],\n",
       " [0, 0, 0, 0, 0],\n",
       " [0, 0, 0, 0, 0]]"
      ]
     },
     "execution_count": 133,
     "metadata": {},
     "output_type": "execute_result"
    }
   ],
   "source": [
    "#알고리즘적인 문제\n",
    "n=5\n",
    "a = [ [0]*n for j in range(n)]\n",
    "row = 0 # 열\n",
    "col = -1 # 행\n",
    "count = 1 #1부터 증가하니까\n",
    "\n",
    "for i in range(n):\n",
    "    col += 1\n",
    "    a[row][col] = count\n",
    "    count += 1\n",
    "a"
   ]
  },
  {
   "cell_type": "code",
   "execution_count": 140,
   "metadata": {},
   "outputs": [
    {
     "data": {
      "text/plain": [
       "[[1, 2, 3, 4, 5],\n",
       " [0, 0, 0, 0, 0],\n",
       " [0, 0, 0, 0, 0],\n",
       " [0, 0, 0, 0, 0],\n",
       " [0, 0, 0, 0, 0]]"
      ]
     },
     "execution_count": 140,
     "metadata": {},
     "output_type": "execute_result"
    }
   ],
   "source": [
    "# &&&&&&& 실험용 &&&&&&&&&&&\n",
    "#알고리즘적인 문제\n",
    "n=5\n",
    "a = [ [0]*n for j in range(n)]\n",
    "row = 0 # 열\n",
    "col = 0 # 행 ( **** 왜 근데 원래 식에서는 -1로 주고 밑에도 col의 위치가 다르지?****)\n",
    "count = 1 #1부터 증가하니까   ( col에 0을 주고 아래에서도 col을 먼저 더해주지 않으면 list의 range를 벗어나는 값이 나옴)\n",
    "\n",
    "for i in range(n):\n",
    "    a[row][col] = count\n",
    "    col += 1\n",
    "    count += 1\n",
    "\n",
    "a"
   ]
  },
  {
   "cell_type": "code",
   "execution_count": 15,
   "metadata": {},
   "outputs": [
    {
     "data": {
      "text/plain": [
       "[[1, 2, 3, 4, 5],\n",
       " [0, 0, 0, 0, 6],\n",
       " [0, 0, 0, 0, 7],\n",
       " [0, 0, 0, 0, 8],\n",
       " [0, 0, 0, 0, 9]]"
      ]
     },
     "execution_count": 15,
     "metadata": {},
     "output_type": "execute_result"
    }
   ],
   "source": [
    "n=5\n",
    "a = [ [0]*n for j in range(n)]\n",
    "row = 0 # 열\n",
    "col = -1 # 행\n",
    "count = 1 #1부터 증가하니까\n",
    "num = n # 회전수 담당 변수\n",
    "\n",
    "for i in range(num):\n",
    "    col += 1\n",
    "    a[row][col] = count\n",
    "    count += 1\n",
    "    \n",
    "num -= 1\n",
    "\n",
    "for i in range(num):\n",
    "    row += 1\n",
    "    a[row][col] = count\n",
    "    count += 1\n",
    "\n",
    "a"
   ]
  },
  {
   "cell_type": "code",
   "execution_count": 145,
   "metadata": {},
   "outputs": [
    {
     "data": {
      "text/plain": [
       "[[2, 3, 4, 5, 6],\n",
       " [0, 0, 0, 0, 7],\n",
       " [0, 0, 0, 0, 8],\n",
       " [0, 0, 0, 0, 9],\n",
       " [0, 0, 0, 0, 0]]"
      ]
     },
     "execution_count": 145,
     "metadata": {},
     "output_type": "execute_result"
    }
   ],
   "source": [
    "# &&&&&&& 실험용 &&&&&&&&&&&\n",
    "n=5\n",
    "a = [ [0]*n for j in range(n)]\n",
    "row = 0 # 열\n",
    "col = -1 # 행\n",
    "count = 1 #1부터 증가하니까\n",
    "num = n # 회전수 담당 변수\n",
    "\n",
    "for i in range(num):\n",
    "    \n",
    "    a[row][col] = count  #( 여기서 col =-1 로 시작하고 위치를 아래에 두니 count=1 의 값이 count=6의 값으로 덮어씌워짐.)\n",
    "    col += 1\n",
    "    count += 1\n",
    "    \n",
    "num -= 1\n",
    "\n",
    "for i in range(num):\n",
    "    \n",
    "    a[row][col] = count\n",
    "    row += 1\n",
    "    count += 1\n",
    "\n",
    "a\n",
    "#print(a[0][-1])"
   ]
  },
  {
   "cell_type": "code",
   "execution_count": 28,
   "metadata": {
    "scrolled": true
   },
   "outputs": [
    {
     "name": "stdout",
     "output_type": "stream",
     "text": [
      "   1   2   3   4   5   6   7   8   9  10  11\n",
      "  40  41  42  43  44  45  46  47  48  49  12\n",
      "  39  72  73  74  75  76  77  78  79  50  13\n",
      "  38  71  96  97  98  99 100 101  80  51  14\n",
      "  37  70  95 112 113 114 115 102  81  52  15\n",
      "  36  69  94 111 120 121 116 103  82  53  16\n",
      "  35  68  93 110 119 118 117 104  83  54  17\n",
      "  34  67  92 109 108 107 106 105  84  55  18\n",
      "  33  66  91  90  89  88  87  86  85  56  19\n",
      "  32  65  64  63  62  61  60  59  58  57  20\n",
      "  31  30  29  28  27  26  25  24  23  22  21\n"
     ]
    }
   ],
   "source": [
    "def display(a):\n",
    "    for i in range(n):\n",
    "        for j in range(n):\n",
    "            print(\"%4d\"%a[i][j], end='')\n",
    "        print()\n",
    "\n",
    "n=11\n",
    "a = [ [0]*n for j in range(n)]\n",
    "row = 0 # 열\n",
    "col = -1 # 행\n",
    "count = 1 #1부터 증가하니까\n",
    "num = n # 회전수 담당 변수\n",
    "\n",
    "\n",
    "while True:\n",
    "    for i in range(num):\n",
    "        col += 1\n",
    "        a[row][col] = count\n",
    "        count += 1\n",
    "\n",
    "    num -= 1 #회전수 감소할 때 소환\n",
    "    if num == 0:\n",
    "        break\n",
    "        \n",
    "    for i in range(num):\n",
    "        row += 1 # 행건드릴때\n",
    "        a[row][col] = count\n",
    "        count += 1\n",
    "\n",
    "    for i in range(num):\n",
    "        col -= 1 #열 건드릴때\n",
    "        a[row][col] = count\n",
    "        count += 1\n",
    "\n",
    "    num -= 1\n",
    "    if num == 0:\n",
    "        break\n",
    "        \n",
    "    for i in range(num):\n",
    "        row -= 1\n",
    "        a[row][col] = count\n",
    "        count += 1\n",
    "\n",
    "display(a)"
   ]
  },
  {
   "cell_type": "code",
   "execution_count": 146,
   "metadata": {},
   "outputs": [
    {
     "name": "stdout",
     "output_type": "stream",
     "text": [
      "   1   2   3   4   5\n",
      "  16  17  18  19   6\n",
      "  15  24  25  20   7\n",
      "  14  23  22  21   8\n",
      "  13  12  11  10   9\n"
     ]
    }
   ],
   "source": [
    "def display(a):\n",
    "    for i in range(n):\n",
    "        for j in range(n):\n",
    "            print(\"%4d\"%a[i][j], end='')\n",
    "        print()\n",
    "# 코드가 부호 제외하고는 같아서 반전코드 사용해서 코드 단순화\n",
    "n=5\n",
    "a = [ [0]*n for j in range(n)]\n",
    "row = 0 # 열\n",
    "col = -1 # 행\n",
    "count = 1 #1부터 증가하니까\n",
    "num = n # 회전수 담당 변수\n",
    "sign = 1\n",
    "\n",
    "while True:\n",
    "    for i in range(num):\n",
    "        col += sign #sign 반전코드 만드는것.\n",
    "        a[row][col] = count\n",
    "        count += 1\n",
    "\n",
    "    num -= 1\n",
    "    if num == 0:\n",
    "        break\n",
    "        \n",
    "    for i in range(num):\n",
    "        row += sign # 행건드릴때\n",
    "        a[row][col] = count\n",
    "        count += 1\n",
    "    sign = - sign #sign 부호반전이 while 루프 돌면서 발생\n",
    "\n",
    "display(a)"
   ]
  },
  {
   "cell_type": "code",
   "execution_count": 39,
   "metadata": {},
   "outputs": [
    {
     "name": "stdout",
     "output_type": "stream",
     "text": [
      "   1   2   3   4   5\n",
      "   6   7   8   9  10\n",
      "  11  12  13  14  15\n",
      "  16  17  18  19  20\n",
      "  21  22  23  24  25\n"
     ]
    }
   ],
   "source": [
    "def display(a):\n",
    "    for i in range(n):\n",
    "        for j in range(n):\n",
    "            print(\"%4d\"%a[i][j], end='')\n",
    "        print()\n",
    "        \n",
    "\n",
    "def init(n):\n",
    "    a = [ [0]*n for j in range(n)]\n",
    "    return a\n",
    "\n",
    "def fill(a, n):\n",
    "    count = 1\n",
    "    for i in range(n):\n",
    "        for j in range(n):\n",
    "            a[i][j] = count\n",
    "            count += 1\n",
    "    \n",
    "    \n",
    "n=5\n",
    "a = init(n)\n",
    "fill(a,n)\n",
    "display(a)"
   ]
  },
  {
   "cell_type": "code",
   "execution_count": 41,
   "metadata": {},
   "outputs": [
    {
     "name": "stdout",
     "output_type": "stream",
     "text": [
      "   1   0   0   0   0\n",
      "   2   6   0   0   0\n",
      "   3   7  10   0   0\n",
      "   4   8  11  13   0\n",
      "   5   9  12  14  15\n"
     ]
    }
   ],
   "source": [
    "def display(a):\n",
    "    for i in range(n):\n",
    "        for j in range(n):\n",
    "            print(\"%4d\"%a[i][j], end='')\n",
    "        print()\n",
    "        \n",
    "\n",
    "def init(n):\n",
    "    a = [ [0]*n for j in range(n)]\n",
    "    return a\n",
    "\n",
    "def fill(a, n):\n",
    "    count = 1\n",
    "    for i in range(n):\n",
    "        for j in range(n-i):\n",
    "            a[i+j][i] = count\n",
    "            count += 1\n",
    "    \n",
    "    \n",
    "n=5\n",
    "a = init(n)\n",
    "fill(a,n)\n",
    "display(a)"
   ]
  },
  {
   "cell_type": "code",
   "execution_count": 45,
   "metadata": {},
   "outputs": [
    {
     "name": "stdout",
     "output_type": "stream",
     "text": [
      "   5   4   3   2   1\n",
      "   9   8   7   6   0\n",
      "  12  11  10   0   0\n",
      "  14  13   0   0   0\n",
      "  15   0   0   0   0\n"
     ]
    }
   ],
   "source": [
    "def display(a):\n",
    "    for i in range(n):\n",
    "        for j in range(n):\n",
    "            print(\"%4d\"%a[i][j], end='')\n",
    "        print()\n",
    "        \n",
    "\n",
    "def init(n):\n",
    "    a = [ [0]*n for j in range(n)]\n",
    "    return a\n",
    "\n",
    "def fill(a, n):\n",
    "    count = 1\n",
    "    for i in range(n):\n",
    "        for j in range(n-i):\n",
    "            a[i][n-i-1-j] = count  \n",
    "            count += 1\n",
    "    \n",
    "\n",
    "n=5\n",
    "a = init(n)\n",
    "fill(a,n)\n",
    "display(a)"
   ]
  },
  {
   "cell_type": "code",
   "execution_count": 230,
   "metadata": {},
   "outputs": [
    {
     "name": "stdout",
     "output_type": "stream",
     "text": [
      "   5   4   3   2   1\n",
      "   9   8   7   6   0\n",
      "  12  11  10   0   0\n",
      "  14  13   0   0   0\n",
      "  15   0   0   0   0\n"
     ]
    }
   ],
   "source": [
    "# &&&&&&&&&&&&실험용 &&&&&&&&&&&&&&&&&&&&&&&&&&&&&&&&&&&&&&&&&&&&\n",
    "def display(a):\n",
    "    for i in range(n):\n",
    "        for j in range(n):\n",
    "            print(\"%4d\"%a[i][j], end='')\n",
    "        print()\n",
    "        \n",
    "\n",
    "def init(n):\n",
    "    a = [ [0]*n for j in range(n)]\n",
    "    return a\n",
    "\n",
    "def fill(a, n):\n",
    "    count = 1\n",
    "    for i in range(n):\n",
    "        for j in range(n-i):\n",
    "            a[i][n-i-j-1] = count \n",
    "            count += 1\n",
    "    \n",
    "\n",
    "n=5\n",
    "a = init(n)\n",
    "fill(a,n)\n",
    "display(a)"
   ]
  },
  {
   "cell_type": "code",
   "execution_count": 54,
   "metadata": {},
   "outputs": [
    {
     "name": "stdout",
     "output_type": "stream",
     "text": [
      "   1   2   4   7  11\n",
      "   3   5   8  12  16\n",
      "   6   9  13  17  20\n",
      "  10  14  18  21  23\n",
      "  15  19  22  24  25\n"
     ]
    }
   ],
   "source": [
    "def display(a):\n",
    "    for i in range(n):\n",
    "        for j in range(n):\n",
    "            print(\"%4d\"%a[i][j], end='')\n",
    "        print()\n",
    "        \n",
    "\n",
    "def init(n):\n",
    "    a = [ [0]*n for j in range(n)]\n",
    "    return a\n",
    "\n",
    "def fill(a, n):\n",
    "    count = 1\n",
    "    for k in range(2*n-1):\n",
    "        for i in range(n):\n",
    "            for j in range(n):\n",
    "                if (i+j) == k:\n",
    "                    a[i][j] = count\n",
    "                    count += 1\n",
    "    \n",
    "    \n",
    "n=5\n",
    "a = init(n)\n",
    "fill(a,n)\n",
    "display(a)"
   ]
  },
  {
   "cell_type": "code",
   "execution_count": 56,
   "metadata": {},
   "outputs": [
    {
     "name": "stdout",
     "output_type": "stream",
     "text": [
      "   1   3   6  10  15\n",
      "   2   5   9  14  19\n",
      "   4   8  13  18  22\n",
      "   7  12  17  21  24\n",
      "  11  16  20  23  25\n"
     ]
    }
   ],
   "source": [
    "def display(a):\n",
    "    for i in range(n):\n",
    "        for j in range(n):\n",
    "            print(\"%4d\"%a[i][j], end='')\n",
    "        print()\n",
    "        \n",
    "\n",
    "def init(n):\n",
    "    a = [ [0]*n for j in range(n)]\n",
    "    return a\n",
    "\n",
    "def fill(a, n):\n",
    "    count = 1\n",
    "    for k in range(2*n-1):\n",
    "        for i in range(n):\n",
    "            for j in range(n):\n",
    "                if (i+j) == k:\n",
    "                    a[j][i] = count\n",
    "                    count += 1\n",
    "    \n",
    "    \n",
    "n=5\n",
    "a = init(n)\n",
    "fill(a,n)\n",
    "display(a)"
   ]
  },
  {
   "cell_type": "code",
   "execution_count": 67,
   "metadata": {},
   "outputs": [
    {
     "name": "stdout",
     "output_type": "stream",
     "text": [
      "   1   0   0   0  13\n",
      "   2   6   0  10  14\n",
      "   3   7   9  11  15\n",
      "   4   8   0  12  16\n",
      "   5   0   0   0  17\n"
     ]
    }
   ],
   "source": [
    "def display(a):\n",
    "    for i in range(n):\n",
    "        for j in range(n):\n",
    "            print(\"%4d\"%a[i][j], end='')\n",
    "        print()\n",
    "        \n",
    "\n",
    "def init(n):\n",
    "    a = [ [0]*n for j in range(n)]\n",
    "    return a\n",
    "\n",
    "def fill(a, n):\n",
    "    count = 1\n",
    "    inc = 0\n",
    "    flag = 1\n",
    "    for i in range(n):\n",
    "        for j in range(n-inc*2):\n",
    "            a[inc+j][i] = count\n",
    "            count += 1\n",
    "        if n//2 == i:\n",
    "            flag = -flag\n",
    "        inc += flag\n",
    "    \n",
    "n=5\n",
    "a = init(n)\n",
    "fill(a,n)\n",
    "display(a)"
   ]
  },
  {
   "cell_type": "markdown",
   "metadata": {},
   "source": [
    "## 클래스 만들기 "
   ]
  },
  {
   "cell_type": "code",
   "execution_count": 69,
   "metadata": {},
   "outputs": [
    {
     "name": "stdout",
     "output_type": "stream",
     "text": [
      "7\n"
     ]
    }
   ],
   "source": [
    "class FourCal:\n",
    "    def add(self, a, b):\n",
    "        result = a + b\n",
    "        return result\n",
    "\n",
    "a = FourCal()\n",
    "print(a.add(3,4))\n"
   ]
  },
  {
   "cell_type": "code",
   "execution_count": 8,
   "metadata": {},
   "outputs": [
    {
     "name": "stdout",
     "output_type": "stream",
     "text": [
      "7\n"
     ]
    }
   ],
   "source": [
    "class FourCal:\n",
    "    def setdata(self, first, second):\n",
    "        self.first = first\n",
    "        self.second = second\n",
    "    \n",
    "    def add(self):\n",
    "        result = self.first + self.second\n",
    "        return result\n",
    "\n",
    "a = FourCal()\n",
    "a.setdata(3,4)\n",
    "print(a.add())\n",
    "\n",
    "# self.first = 3, self.second = 4 가 전달되어 setdata메소드 수행\n",
    "# self는 전달된 객체 a이므로 a.first = 3, a.second =4 로 해석됨\n",
    "# a.first = 3 문장이 수행되면 a객체에 객체변수 first가 생성되고 값 4가 저장됨\n",
    "#마찬가지로 a.second = 4\n",
    "\n",
    "#클래스로 만든 객체의 객체변수는 다른 객체의 객체변수에 상관없이 독립적인 값 유지\n",
    "\n",
    "\n",
    "# FourCal.setdata(a, 3, 4) 클래스이름.메서드 형태로 호출하는 것도 가능하다\n",
    "# 하지만 이 경우 객체 a를 매개변수 self에 꼭 전달해줘야 한다.\n",
    "# but 객체.메서드 형태로 호출할 때는 self 반드시 생략해서 호출"
   ]
  },
  {
   "cell_type": "markdown",
   "metadata": {},
   "source": [
    "###  생성자\n",
    "객체에 초깃값을 설정해야 할 필요가 있을 때는 생성자를 구현하는 것이 안전한 방법이다.\n",
    "* 생성자(constructor)란 객체가 생성될 때 자동으로 호출되는 메서드를 의미한다. \n",
    "파이썬 메서드 이름으로 \\_\\_init\\_\\_ 를 사용하면 이 메서드는 생성자가 된다\n",
    "\n",
    "* 생성자를 사용하면 객체가 생성될 때 객체의 속성을 생성 및 초기화 할 수 있다"
   ]
  },
  {
   "cell_type": "code",
   "execution_count": 10,
   "metadata": {},
   "outputs": [
    {
     "name": "stdout",
     "output_type": "stream",
     "text": [
      "FourCal.__init__()\n",
      "7\n"
     ]
    }
   ],
   "source": [
    "class FourCal:\n",
    "    def __init__(self, first, second):#생성자\n",
    "        print(\"FourCal.__init__()\")\n",
    "        self.first = first\n",
    "        self.second = second\n",
    "    # __init__ 메서드는 setdata메서드와 이름만 다르고 모든게 동일하다\n",
    "    # 단 메서드 이름을 __init__으로 했기 때문에 생성자로 인식되어\n",
    "    # 객체가 생성되는 시점에 자동으로 호출되는 차이가 있다.\n",
    "    # a = FourCal()을 생성자가 있는 상태에서 호출하면\n",
    "    # 오류가 난다. 생성자의 매개변수 first와 second에 해당하는 값이 전달되지\n",
    "    # 않았기 때문. a = FourCal(3,2)라고 해야 오류 나지 않는다\n",
    "    # 이렇게 하면 __init__메서드의 매개변수에는\n",
    "    # self -> 생성되는 객체, first ->  3, second->2 값이 대입된다\n",
    "    \n",
    "    def setdata(self, first, second): #메서드 (클래스 안에 구현된 함수)\n",
    "        self.first = first #메서드의 첫번째 매개변수 self에는 setdata메서드를\n",
    "                            #호출한 객체 a가 자동으로 전달된다\n",
    "        self.second = second\n",
    "        # 파이썬 메서드의 첫번째 매개변수 이름은 관례적으로 self를 사용\n",
    "        # 객체를 호출할 때 호출한 객체 자신이 전달되기 때문에 self를 사용한것\n",
    "    \n",
    "    def add(self):\n",
    "        result = self.first + self.second\n",
    "        return result\n",
    "\n",
    "a = FourCal(3,4)\n",
    "print(a.add())"
   ]
  },
  {
   "cell_type": "markdown",
   "metadata": {},
   "source": [
    "###  클래스의 상속\n",
    "상속(Inheritance)이란 물려받다라는 뜻으로 어떤 클래스를 만들 때 다른 클래스의 기능을 물려받을 수 있게 만드는 것이다\n",
    "\n",
    "* 클래스를 상속하기 위해서는   \n",
    "*class 클래스 이름 (상속할 클래스 이름)**\n",
    "\n",
    "* 상속받은 클래스는 상속한 클래스의 모든 기능을 사용할 수 있어야 한다\n",
    "* 상속은 기존 클래스를 변경하지 않고 기능을 추가하거나 기존 기능을 변경하려고 할 때 사용한다"
   ]
  },
  {
   "cell_type": "code",
   "execution_count": 11,
   "metadata": {},
   "outputs": [
    {
     "name": "stdout",
     "output_type": "stream",
     "text": [
      "FourCal.__init__()\n"
     ]
    },
    {
     "data": {
      "text/plain": [
       "81"
      ]
     },
     "execution_count": 11,
     "metadata": {},
     "output_type": "execute_result"
    }
   ],
   "source": [
    "class MoreFourCal(FourCal): # FourCal을 상속한다\n",
    "    def pow(self):\n",
    "        result = self.first ** self.second\n",
    "        return result\n",
    "\n",
    "a = MoreFourCal(3,4)\n",
    "a.pow()"
   ]
  },
  {
   "cell_type": "code",
   "execution_count": 2,
   "metadata": {},
   "outputs": [
    {
     "name": "stdout",
     "output_type": "stream",
     "text": [
      "FourCal.__init__()\n",
      "FourCal.div()\n",
      "0.75\n"
     ]
    }
   ],
   "source": [
    "class FourCal:\n",
    "    def __init__(self, first, second):#생성자\n",
    "        print(\"FourCal.__init__()\")\n",
    "        self.first = first\n",
    "        self.second = second\n",
    "    \n",
    "    def setdata(self, first, second):\n",
    "        self.first = first\n",
    "        self.second = second\n",
    "    \n",
    "    def add(self):\n",
    "        result = self.first + self.second\n",
    "        return result\n",
    "    \n",
    "    def div(self):\n",
    "        print(\"FourCal.div()\")\n",
    "        result = self.first/self.second\n",
    "        return result\n",
    "\n",
    "a = FourCal(3,4)\n",
    "print(a.div())"
   ]
  },
  {
   "cell_type": "code",
   "execution_count": 3,
   "metadata": {},
   "outputs": [
    {
     "name": "stdout",
     "output_type": "stream",
     "text": [
      "FourCal.__init__()\n",
      "FourCal.div()\n"
     ]
    },
    {
     "ename": "ZeroDivisionError",
     "evalue": "division by zero",
     "output_type": "error",
     "traceback": [
      "\u001b[1;31m---------------------------------------------------------------------------\u001b[0m",
      "\u001b[1;31mZeroDivisionError\u001b[0m                         Traceback (most recent call last)",
      "\u001b[1;32m<ipython-input-3-dd61f070710a>\u001b[0m in \u001b[0;36m<module>\u001b[1;34m\u001b[0m\n\u001b[0;32m     19\u001b[0m \u001b[1;33m\u001b[0m\u001b[0m\n\u001b[0;32m     20\u001b[0m \u001b[0ma\u001b[0m \u001b[1;33m=\u001b[0m \u001b[0mFourCal\u001b[0m\u001b[1;33m(\u001b[0m\u001b[1;36m3\u001b[0m\u001b[1;33m,\u001b[0m\u001b[1;36m0\u001b[0m\u001b[1;33m)\u001b[0m\u001b[1;33m\u001b[0m\u001b[1;33m\u001b[0m\u001b[0m\n\u001b[1;32m---> 21\u001b[1;33m \u001b[0mprint\u001b[0m\u001b[1;33m(\u001b[0m\u001b[0ma\u001b[0m\u001b[1;33m.\u001b[0m\u001b[0mdiv\u001b[0m\u001b[1;33m(\u001b[0m\u001b[1;33m)\u001b[0m\u001b[1;33m)\u001b[0m\u001b[1;33m\u001b[0m\u001b[1;33m\u001b[0m\u001b[0m\n\u001b[0m",
      "\u001b[1;32m<ipython-input-3-dd61f070710a>\u001b[0m in \u001b[0;36mdiv\u001b[1;34m(self)\u001b[0m\n\u001b[0;32m     15\u001b[0m     \u001b[1;32mdef\u001b[0m \u001b[0mdiv\u001b[0m\u001b[1;33m(\u001b[0m\u001b[0mself\u001b[0m\u001b[1;33m)\u001b[0m\u001b[1;33m:\u001b[0m\u001b[1;33m\u001b[0m\u001b[1;33m\u001b[0m\u001b[0m\n\u001b[0;32m     16\u001b[0m         \u001b[0mprint\u001b[0m\u001b[1;33m(\u001b[0m\u001b[1;34m\"FourCal.div()\"\u001b[0m\u001b[1;33m)\u001b[0m\u001b[1;33m\u001b[0m\u001b[1;33m\u001b[0m\u001b[0m\n\u001b[1;32m---> 17\u001b[1;33m         \u001b[0mresult\u001b[0m \u001b[1;33m=\u001b[0m \u001b[0mself\u001b[0m\u001b[1;33m.\u001b[0m\u001b[0mfirst\u001b[0m\u001b[1;33m/\u001b[0m\u001b[0mself\u001b[0m\u001b[1;33m.\u001b[0m\u001b[0msecond\u001b[0m\u001b[1;33m\u001b[0m\u001b[1;33m\u001b[0m\u001b[0m\n\u001b[0m\u001b[0;32m     18\u001b[0m         \u001b[1;32mreturn\u001b[0m \u001b[0mresult\u001b[0m\u001b[1;33m\u001b[0m\u001b[1;33m\u001b[0m\u001b[0m\n\u001b[0;32m     19\u001b[0m \u001b[1;33m\u001b[0m\u001b[0m\n",
      "\u001b[1;31mZeroDivisionError\u001b[0m: division by zero"
     ]
    }
   ],
   "source": [
    "class FourCal:\n",
    "    def __init__(self, first, second):#생성자\n",
    "        print(\"FourCal.__init__()\")\n",
    "        self.first = first\n",
    "        self.second = second\n",
    "    \n",
    "    def setdata(self, first, second):\n",
    "        self.first = first\n",
    "        self.second = second\n",
    "    \n",
    "    def add(self):\n",
    "        result = self.first + self.second\n",
    "        return result\n",
    "    \n",
    "    def div(self):\n",
    "        print(\"FourCal.div()\")\n",
    "        result = self.first/self.second\n",
    "        return result\n",
    "\n",
    "a = FourCal(3,0)\n",
    "print(a.div())"
   ]
  },
  {
   "cell_type": "code",
   "execution_count": 12,
   "metadata": {},
   "outputs": [
    {
     "name": "stdout",
     "output_type": "stream",
     "text": [
      "FourCal.__init__()\n",
      "MoreFourCal.div()\n",
      "분모는 0으로 지정하면 안되요\n"
     ]
    }
   ],
   "source": [
    "class MoreFourCal(FourCal):\n",
    "    def pow(self):\n",
    "        result = self.first ** self.second\n",
    "        return result\n",
    "    \n",
    "    def div(self): #오버라이딩. 부모랑 똑같은 이름의 함수 호출하면 \n",
    "                    #자식의 함수가 호출됨\n",
    "        print(\"MoreFourCal.div()\")\n",
    "        if(self.second == 0):  # 나누는 값이 0인 경우 숫자 을 돌려주도록 수정\n",
    "            print('분모는 0으로 지정하면 안되요')\n",
    "            return\n",
    "        \n",
    "        result = self.first/self.second\n",
    "        return result\n",
    "# 이렇게 부모클래스에 있는 메서드를 동일한 이름으로 다시 만드는 것을\n",
    "# 메서드 오버라이딩이라고한다. \n",
    "a = MoreFourCal(3,0)\n",
    "a.div()"
   ]
  },
  {
   "cell_type": "code",
   "execution_count": 4,
   "metadata": {},
   "outputs": [
    {
     "ename": "TypeError",
     "evalue": "foo() missing 1 required positional argument: 'a'",
     "output_type": "error",
     "traceback": [
      "\u001b[1;31m---------------------------------------------------------------------------\u001b[0m",
      "\u001b[1;31mTypeError\u001b[0m                                 Traceback (most recent call last)",
      "\u001b[1;32m<ipython-input-4-8d5a5ffdd6e7>\u001b[0m in \u001b[0;36m<module>\u001b[1;34m\u001b[0m\n\u001b[0;32m      5\u001b[0m     \u001b[0mprint\u001b[0m\u001b[1;33m(\u001b[0m\u001b[1;34m'foo(a)'\u001b[0m\u001b[1;33m)\u001b[0m\u001b[1;33m\u001b[0m\u001b[1;33m\u001b[0m\u001b[0m\n\u001b[0;32m      6\u001b[0m \u001b[1;33m\u001b[0m\u001b[0m\n\u001b[1;32m----> 7\u001b[1;33m \u001b[0mfoo\u001b[0m\u001b[1;33m(\u001b[0m\u001b[1;33m)\u001b[0m\u001b[1;33m\u001b[0m\u001b[1;33m\u001b[0m\u001b[0m\n\u001b[0m\u001b[0;32m      8\u001b[0m \u001b[0mfoo\u001b[0m\u001b[1;33m(\u001b[0m\u001b[1;36m3\u001b[0m\u001b[1;33m)\u001b[0m \u001b[1;31m#이건 오버로딩인데 파이썬에서는 지원하지 않는다. 전통적인 객체지향 프로그램은 오버로딩 지원함.\u001b[0m\u001b[1;33m\u001b[0m\u001b[1;33m\u001b[0m\u001b[0m\n\u001b[0;32m      9\u001b[0m \u001b[1;31m#호출안하면 에러 안난다.\u001b[0m\u001b[1;33m\u001b[0m\u001b[1;33m\u001b[0m\u001b[1;33m\u001b[0m\u001b[0m\n",
      "\u001b[1;31mTypeError\u001b[0m: foo() missing 1 required positional argument: 'a'"
     ]
    }
   ],
   "source": [
    "def foo():\n",
    "    print('foo()')\n",
    "    \n",
    "def foo(a):\n",
    "    print('foo(a)')\n",
    "    \n",
    "foo()\n",
    "foo(3) #이건 오버로딩인데 파이썬에서는 지원하지 않는다. 전통적인 객체지향 프로그램은 오버로딩 지원함.\n",
    "#호출안하면 에러 안난다. \n",
    "#위에거 호출하면 에러난다. \n",
    "#foo 가 변수같은 존재\n",
    "#함수도 파이썬에서는 객체라 최신의 함수만 남아 작동하게 된다."
   ]
  },
  {
   "cell_type": "markdown",
   "metadata": {},
   "source": [
    "### 클래스 변수 \n",
    "* 객체변수는 다른 객체들에 영향받지 않고 독립적으로 그 값을 유지한다\n",
    "* 클래스변수의 경우 클래스 안에 함수를 선언하는 것과 마찬가지로 클래스안에 \n",
    "변수를 선언하여 생성한다"
   ]
  },
  {
   "cell_type": "code",
   "execution_count": 25,
   "metadata": {},
   "outputs": [
    {
     "name": "stdout",
     "output_type": "stream",
     "text": [
      "김\n"
     ]
    }
   ],
   "source": [
    "class Family: \n",
    "    lastname = '김'#지역변수와 멤버변수 사이에 있는 희안한 존재, \n",
    "                    #클래스안에만 있다. 클래스 변수. \n",
    "                    #멤버변수가 아니다. 파이썬은 클래스도 객체다.\n",
    "    def foo():\n",
    "        name = '홍길동' #local 변수\n",
    "        \n",
    "print(Family.lastname)"
   ]
  },
  {
   "cell_type": "code",
   "execution_count": 26,
   "metadata": {},
   "outputs": [
    {
     "name": "stdout",
     "output_type": "stream",
     "text": [
      "김\n"
     ]
    }
   ],
   "source": [
    "a = Family()\n",
    "print(a.lastname)"
   ]
  },
  {
   "cell_type": "code",
   "execution_count": 27,
   "metadata": {},
   "outputs": [
    {
     "name": "stdout",
     "output_type": "stream",
     "text": [
      "김\n"
     ]
    }
   ],
   "source": [
    "b = Family()\n",
    "print(b.lastname)"
   ]
  },
  {
   "cell_type": "code",
   "execution_count": 28,
   "metadata": {},
   "outputs": [],
   "source": [
    "Family.lastname = '박' # 클래스 전체에 소속된 변수이기 때문에 \n",
    "                       #수정하면 통으로 수정됨"
   ]
  },
  {
   "cell_type": "code",
   "execution_count": 29,
   "metadata": {},
   "outputs": [
    {
     "name": "stdout",
     "output_type": "stream",
     "text": [
      "박\n"
     ]
    }
   ],
   "source": [
    "print(a.lastname)"
   ]
  },
  {
   "cell_type": "code",
   "execution_count": 30,
   "metadata": {},
   "outputs": [
    {
     "name": "stdout",
     "output_type": "stream",
     "text": [
      "박\n"
     ]
    }
   ],
   "source": [
    "print(b.lastname)  \n",
    "# 클래스 변수는 클래스로 만든 모든 객체에 공유된다는 특징"
   ]
  },
  {
   "cell_type": "code",
   "execution_count": 114,
   "metadata": {},
   "outputs": [
    {
     "data": {
      "text/plain": [
       "2378593582336"
      ]
     },
     "execution_count": 114,
     "metadata": {},
     "output_type": "execute_result"
    }
   ],
   "source": [
    "id(Family.lastname)"
   ]
  },
  {
   "cell_type": "code",
   "execution_count": 115,
   "metadata": {},
   "outputs": [
    {
     "data": {
      "text/plain": [
       "2378593582336"
      ]
     },
     "execution_count": 115,
     "metadata": {},
     "output_type": "execute_result"
    }
   ],
   "source": [
    "id(a.lastname)"
   ]
  },
  {
   "cell_type": "code",
   "execution_count": 117,
   "metadata": {},
   "outputs": [
    {
     "data": {
      "text/plain": [
       "2378593582336"
      ]
     },
     "execution_count": 117,
     "metadata": {},
     "output_type": "execute_result"
    }
   ],
   "source": [
    "id(b.lastname)  # 모두 같은 메모리를 가리키고 있다."
   ]
  },
  {
   "cell_type": "markdown",
   "metadata": {},
   "source": [
    "### 모듈\n",
    "모듈이란 함수나 변수 또는 클래스를 모아 놓은 파일이다. 모듈은 다른 파이썬 프로그램에서 불러와 사용할 수 있게끔 만든 파이썬 파일이라고도 할 수 있다.\n"
   ]
  },
  {
   "cell_type": "code",
   "execution_count": 156,
   "metadata": {},
   "outputs": [
    {
     "name": "stdout",
     "output_type": "stream",
     "text": [
      "mod1: add()\n",
      "5\n",
      "mod1: sub()\n",
      "0\n"
     ]
    }
   ],
   "source": [
    "import mod1\n",
    "print(mod1.add(3,2))\n",
    "print(mod1.sub(3,3))"
   ]
  },
  {
   "cell_type": "code",
   "execution_count": 158,
   "metadata": {},
   "outputs": [
    {
     "name": "stdout",
     "output_type": "stream",
     "text": [
      "mod1: add()\n",
      "4\n"
     ]
    }
   ],
   "source": [
    "from mod1 import add  # 이렇게 파일에서 함수를 임포트 한다면 모듈네임을 타입하지 않아도 된다.\n",
    "print(add(3,1))"
   ]
  },
  {
   "cell_type": "code",
   "execution_count": 162,
   "metadata": {},
   "outputs": [
    {
     "name": "stdout",
     "output_type": "stream",
     "text": [
      "mod1: add()\n",
      "4\n",
      "mod1: sub()\n",
      "2\n"
     ]
    }
   ],
   "source": [
    "from mod1 import add,sub \n",
    "print(add(3,1))\n",
    "print(sub(3,1))"
   ]
  },
  {
   "cell_type": "code",
   "execution_count": 160,
   "metadata": {},
   "outputs": [
    {
     "name": "stdout",
     "output_type": "stream",
     "text": [
      "mod1: add()\n",
      "4\n",
      "mod1: sub()\n",
      "2\n"
     ]
    }
   ],
   "source": [
    "from mod1 import * # 이렇게 별표 치면 모든 함수 다 임포트\n",
    "print(add(3,1))\n",
    "print(sub(3,1))"
   ]
  },
  {
   "cell_type": "code",
   "execution_count": 161,
   "metadata": {},
   "outputs": [
    {
     "name": "stdout",
     "output_type": "stream",
     "text": [
      "__main__\n"
     ]
    }
   ],
   "source": [
    "print(__name__)  #자기사진의 이름은 항상 main으로 나온다."
   ]
  },
  {
   "cell_type": "code",
   "execution_count": 163,
   "metadata": {},
   "outputs": [
    {
     "name": "stdout",
     "output_type": "stream",
     "text": [
      "mod1: add()\n"
     ]
    },
    {
     "data": {
      "text/plain": [
       "3"
      ]
     },
     "execution_count": 163,
     "metadata": {},
     "output_type": "execute_result"
    }
   ],
   "source": [
    "from mod1 import *\n",
    "add(1,2)"
   ]
  },
  {
   "cell_type": "code",
   "execution_count": 164,
   "metadata": {},
   "outputs": [
    {
     "name": "stdout",
     "output_type": "stream",
     "text": [
      "mod1\n"
     ]
    }
   ],
   "source": [
    "from mod1 import *\n",
    "print(mod1.__name__)"
   ]
  },
  {
   "cell_type": "markdown",
   "metadata": {},
   "source": [
    "### 예외처리 \n",
    "파이썬은 오류가 발생하면 프로그램을 중단하고 오류 메시지를 보여준다"
   ]
  },
  {
   "cell_type": "code",
   "execution_count": 166,
   "metadata": {},
   "outputs": [
    {
     "ename": "FileNotFoundError",
     "evalue": "[Errno 2] No such file or directory: '나없는파일1'",
     "output_type": "error",
     "traceback": [
      "\u001b[1;31m---------------------------------------------------------------------------\u001b[0m",
      "\u001b[1;31mFileNotFoundError\u001b[0m                         Traceback (most recent call last)",
      "\u001b[1;32m<ipython-input-166-bc31104beb9b>\u001b[0m in \u001b[0;36m<module>\u001b[1;34m\u001b[0m\n\u001b[1;32m----> 1\u001b[1;33m \u001b[0mopen\u001b[0m\u001b[1;33m(\u001b[0m\u001b[1;34m\"나없는파일1\"\u001b[0m\u001b[1;33m,\u001b[0m \u001b[1;34m\"r\"\u001b[0m\u001b[1;33m)\u001b[0m\u001b[1;33m\u001b[0m\u001b[1;33m\u001b[0m\u001b[0m\n\u001b[0m",
      "\u001b[1;31mFileNotFoundError\u001b[0m: [Errno 2] No such file or directory: '나없는파일1'"
     ]
    }
   ],
   "source": [
    "open(\"나없는파일1\", \"r\") # 없는 파일을 열려고 시도하면 FileNotFoundError 발생"
   ]
  },
  {
   "cell_type": "code",
   "execution_count": 168,
   "metadata": {},
   "outputs": [
    {
     "name": "stdout",
     "output_type": "stream",
     "text": [
      "division by zero\n"
     ]
    }
   ],
   "source": [
    "try : #정상적으로 시도되는 expression\n",
    "    4 / 0 # 0으로 나누려니까 ZeroDivisionError 발생\n",
    "except ZeroDivisionError as e:\n",
    "    print(e)"
   ]
  },
  {
   "cell_type": "code",
   "execution_count": 31,
   "metadata": {},
   "outputs": [
    {
     "ename": "NameError",
     "evalue": "name 'e' is not defined",
     "output_type": "error",
     "traceback": [
      "\u001b[1;31m---------------------------------------------------------------------------\u001b[0m",
      "\u001b[1;31mZeroDivisionError\u001b[0m                         Traceback (most recent call last)",
      "\u001b[1;32m<ipython-input-31-20e7f92c9bc4>\u001b[0m in \u001b[0;36m<module>\u001b[1;34m\u001b[0m\n\u001b[0;32m      3\u001b[0m \u001b[1;32mtry\u001b[0m \u001b[1;33m:\u001b[0m\u001b[1;33m\u001b[0m\u001b[1;33m\u001b[0m\u001b[0m\n\u001b[1;32m----> 4\u001b[1;33m     \u001b[1;36m4\u001b[0m \u001b[1;33m/\u001b[0m \u001b[1;36m0\u001b[0m\u001b[1;33m\u001b[0m\u001b[1;33m\u001b[0m\u001b[0m\n\u001b[0m\u001b[0;32m      5\u001b[0m \u001b[1;32mfinally\u001b[0m\u001b[1;33m:\u001b[0m \u001b[1;31m#예외발생하더라도 무조건 실행해야 하는것은 finally블록에 넣으면 된다.\u001b[0m\u001b[1;33m\u001b[0m\u001b[1;33m\u001b[0m\u001b[0m\n",
      "\u001b[1;31mZeroDivisionError\u001b[0m: division by zero",
      "\nDuring handling of the above exception, another exception occurred:\n",
      "\u001b[1;31mNameError\u001b[0m                                 Traceback (most recent call last)",
      "\u001b[1;32m<ipython-input-31-20e7f92c9bc4>\u001b[0m in \u001b[0;36m<module>\u001b[1;34m\u001b[0m\n\u001b[0;32m      6\u001b[0m     \u001b[0mf\u001b[0m\u001b[1;33m.\u001b[0m\u001b[0mclose\u001b[0m\u001b[1;33m(\u001b[0m\u001b[1;33m)\u001b[0m\u001b[1;33m\u001b[0m\u001b[1;33m\u001b[0m\u001b[0m\n\u001b[0;32m      7\u001b[0m \u001b[1;33m\u001b[0m\u001b[0m\n\u001b[1;32m----> 8\u001b[1;33m     \u001b[0mprint\u001b[0m\u001b[1;33m(\u001b[0m\u001b[0me\u001b[0m\u001b[1;33m)\u001b[0m\u001b[1;33m\u001b[0m\u001b[1;33m\u001b[0m\u001b[0m\n\u001b[0m",
      "\u001b[1;31mNameError\u001b[0m: name 'e' is not defined"
     ]
    }
   ],
   "source": [
    "f = open('foof.txt', 'w')\n",
    "\n",
    "try : \n",
    "    4 / 0\n",
    "finally: #예외발생하더라도 무조건 실행해야 하는것은 finally블록에 넣으면 된다.\n",
    "    f.close()\n",
    "    \n",
    "    print(e)"
   ]
  },
  {
   "cell_type": "code",
   "execution_count": 34,
   "metadata": {},
   "outputs": [
    {
     "ename": "IndexError",
     "evalue": "list index out of range",
     "output_type": "error",
     "traceback": [
      "\u001b[1;31m---------------------------------------------------------------------------\u001b[0m",
      "\u001b[1;31mIndexError\u001b[0m                                Traceback (most recent call last)",
      "\u001b[1;32m<ipython-input-34-1d1016350b10>\u001b[0m in \u001b[0;36m<module>\u001b[1;34m\u001b[0m\n\u001b[0;32m      1\u001b[0m \u001b[0ma\u001b[0m \u001b[1;33m=\u001b[0m \u001b[1;33m[\u001b[0m\u001b[1;36m1\u001b[0m\u001b[1;33m,\u001b[0m\u001b[1;36m2\u001b[0m\u001b[1;33m,\u001b[0m\u001b[1;36m3\u001b[0m\u001b[1;33m]\u001b[0m\u001b[1;33m\u001b[0m\u001b[1;33m\u001b[0m\u001b[0m\n\u001b[1;32m----> 2\u001b[1;33m \u001b[0ma\u001b[0m\u001b[1;33m[\u001b[0m\u001b[1;36m4\u001b[0m\u001b[1;33m]\u001b[0m\u001b[1;33m\u001b[0m\u001b[1;33m\u001b[0m\u001b[0m\n\u001b[0m\u001b[0;32m      3\u001b[0m \u001b[1;31m# a[4]는 a 리스트에서 얻을 수 없는 값이다. 따라서 IndexError 발생\u001b[0m\u001b[1;33m\u001b[0m\u001b[1;33m\u001b[0m\u001b[1;33m\u001b[0m\u001b[0m\n",
      "\u001b[1;31mIndexError\u001b[0m: list index out of range"
     ]
    }
   ],
   "source": [
    "a = [1,2,3]\n",
    "a[4]\n",
    "# a[4]는 a 리스트에서 얻을 수 없는 값이다. 따라서 IndexError 발생"
   ]
  },
  {
   "cell_type": "markdown",
   "metadata": {},
   "source": [
    "### 오류 예외 처리 기법\n",
    "try, except문 : try블록 수행 중 오류가 발생하면  except블록이 수행된다. 하지만 try블록에서 오류가 발생하지 않는다면 except블록은 수행되지 않는다\n",
    "\n",
    "``` \n",
    "try: \n",
    "       ...\n",
    "except [발생오류[as 오류 메시지 변수]]:\n",
    "        ...\n",
    "        \n",
    "```\n"
   ]
  },
  {
   "cell_type": "markdown",
   "metadata": {},
   "source": [
    "### 여러개의 오류 처리하기 "
   ]
  },
  {
   "cell_type": "code",
   "execution_count": 175,
   "metadata": {},
   "outputs": [
    {
     "name": "stdout",
     "output_type": "stream",
     "text": [
      "division by zero\n"
     ]
    }
   ],
   "source": [
    "try :\n",
    "    4/0\n",
    "    a = [1, 2]\n",
    "    a[3] = 4\n",
    "    \n",
    "    \n",
    "except (ZeroDivisionError, IndexError) as e:\n",
    "    print(e)\n"
   ]
  },
  {
   "cell_type": "code",
   "execution_count": 176,
   "metadata": {},
   "outputs": [
    {
     "name": "stdout",
     "output_type": "stream",
     "text": [
      "list assignment index out of range\n"
     ]
    }
   ],
   "source": [
    "try :\n",
    "    \n",
    "    a = [1, 2]\n",
    "    a[3] = 4\n",
    "    4/0\n",
    "    \n",
    "except (ZeroDivisionError, IndexError) as e:\n",
    "    print(e)\n"
   ]
  },
  {
   "cell_type": "markdown",
   "metadata": {},
   "source": [
    "### 오류 회피하기 "
   ]
  },
  {
   "cell_type": "code",
   "execution_count": 181,
   "metadata": {},
   "outputs": [],
   "source": [
    "try :\n",
    "    f = open(\"나없는파일3\", \"r\")\n",
    "except FileNotFoundError:\n",
    "    pass  #아무것도 안나타나게 함"
   ]
  },
  {
   "cell_type": "markdown",
   "metadata": {},
   "source": [
    "### 오류 일부러 발생시키기 "
   ]
  },
  {
   "cell_type": "code",
   "execution_count": 207,
   "metadata": {},
   "outputs": [
    {
     "ename": "NotImplementedError",
     "evalue": "",
     "output_type": "error",
     "traceback": [
      "\u001b[1;31m---------------------------------------------------------------------------\u001b[0m",
      "\u001b[1;31mNotImplementedError\u001b[0m                       Traceback (most recent call last)",
      "\u001b[1;32m<ipython-input-207-c7f0ce3d6fa6>\u001b[0m in \u001b[0;36m<module>\u001b[1;34m\u001b[0m\n\u001b[0;32m      4\u001b[0m \u001b[1;33m\u001b[0m\u001b[0m\n\u001b[0;32m      5\u001b[0m \u001b[0mb\u001b[0m \u001b[1;33m=\u001b[0m \u001b[0mBird\u001b[0m\u001b[1;33m(\u001b[0m\u001b[1;33m)\u001b[0m\u001b[1;33m\u001b[0m\u001b[1;33m\u001b[0m\u001b[0m\n\u001b[1;32m----> 6\u001b[1;33m \u001b[0mb\u001b[0m\u001b[1;33m.\u001b[0m\u001b[0mfly\u001b[0m\u001b[1;33m(\u001b[0m\u001b[1;33m)\u001b[0m\u001b[1;33m\u001b[0m\u001b[1;33m\u001b[0m\u001b[0m\n\u001b[0m",
      "\u001b[1;32m<ipython-input-207-c7f0ce3d6fa6>\u001b[0m in \u001b[0;36mfly\u001b[1;34m(self)\u001b[0m\n\u001b[0;32m      1\u001b[0m \u001b[1;32mclass\u001b[0m \u001b[0mBird\u001b[0m\u001b[1;33m:\u001b[0m\u001b[1;33m\u001b[0m\u001b[1;33m\u001b[0m\u001b[0m\n\u001b[0;32m      2\u001b[0m     \u001b[1;32mdef\u001b[0m \u001b[0mfly\u001b[0m\u001b[1;33m(\u001b[0m\u001b[0mself\u001b[0m\u001b[1;33m)\u001b[0m\u001b[1;33m:\u001b[0m\u001b[1;33m\u001b[0m\u001b[1;33m\u001b[0m\u001b[0m\n\u001b[1;32m----> 3\u001b[1;33m         \u001b[1;32mraise\u001b[0m \u001b[0mNotImplementedError\u001b[0m\u001b[1;33m\u001b[0m\u001b[1;33m\u001b[0m\u001b[0m\n\u001b[0m\u001b[0;32m      4\u001b[0m \u001b[1;33m\u001b[0m\u001b[0m\n\u001b[0;32m      5\u001b[0m \u001b[0mb\u001b[0m \u001b[1;33m=\u001b[0m \u001b[0mBird\u001b[0m\u001b[1;33m(\u001b[0m\u001b[1;33m)\u001b[0m\u001b[1;33m\u001b[0m\u001b[1;33m\u001b[0m\u001b[0m\n",
      "\u001b[1;31mNotImplementedError\u001b[0m: "
     ]
    }
   ],
   "source": [
    "class Bird:\n",
    "    def fly(self):\n",
    "        raise NotImplementedError\n",
    "        \n",
    "b = Bird()\n",
    "b.fly()"
   ]
  },
  {
   "cell_type": "code",
   "execution_count": 232,
   "metadata": {},
   "outputs": [
    {
     "ename": "NotImplementedError",
     "evalue": "",
     "output_type": "error",
     "traceback": [
      "\u001b[1;31m---------------------------------------------------------------------------\u001b[0m",
      "\u001b[1;31mNotImplementedError\u001b[0m                       Traceback (most recent call last)",
      "\u001b[1;32m<ipython-input-232-4b34361200bd>\u001b[0m in \u001b[0;36m<module>\u001b[1;34m\u001b[0m\n\u001b[0;32m      9\u001b[0m \u001b[1;33m\u001b[0m\u001b[0m\n\u001b[0;32m     10\u001b[0m \u001b[0me\u001b[0m \u001b[1;33m=\u001b[0m \u001b[0mEagle\u001b[0m\u001b[1;33m(\u001b[0m\u001b[1;33m)\u001b[0m\u001b[1;33m\u001b[0m\u001b[1;33m\u001b[0m\u001b[0m\n\u001b[1;32m---> 11\u001b[1;33m \u001b[0me\u001b[0m\u001b[1;33m.\u001b[0m\u001b[0mfly\u001b[0m\u001b[1;33m(\u001b[0m\u001b[1;33m)\u001b[0m\u001b[1;33m\u001b[0m\u001b[1;33m\u001b[0m\u001b[0m\n\u001b[0m",
      "\u001b[1;32m<ipython-input-232-4b34361200bd>\u001b[0m in \u001b[0;36mfly\u001b[1;34m(self)\u001b[0m\n\u001b[0;32m      1\u001b[0m \u001b[1;32mclass\u001b[0m \u001b[0mBird\u001b[0m\u001b[1;33m:\u001b[0m\u001b[1;33m\u001b[0m\u001b[1;33m\u001b[0m\u001b[0m\n\u001b[0;32m      2\u001b[0m     \u001b[1;32mdef\u001b[0m \u001b[0mfly\u001b[0m\u001b[1;33m(\u001b[0m\u001b[0mself\u001b[0m\u001b[1;33m)\u001b[0m\u001b[1;33m:\u001b[0m\u001b[1;33m\u001b[0m\u001b[1;33m\u001b[0m\u001b[0m\n\u001b[1;32m----> 3\u001b[1;33m         \u001b[1;32mraise\u001b[0m \u001b[0mNotImplementedError\u001b[0m\u001b[1;33m\u001b[0m\u001b[1;33m\u001b[0m\u001b[0m\n\u001b[0m\u001b[0;32m      4\u001b[0m \u001b[1;33m\u001b[0m\u001b[0m\n\u001b[0;32m      5\u001b[0m \u001b[1;33m\u001b[0m\u001b[0m\n",
      "\u001b[1;31mNotImplementedError\u001b[0m: "
     ]
    }
   ],
   "source": [
    "class Bird:\n",
    "    def fly(self):\n",
    "        raise NotImplementedError\n",
    "        \n",
    "\n",
    "class Eagle(Bird):\n",
    "    #def fly(self):\n",
    "        pass\n",
    "    \n",
    "e = Eagle()\n",
    "e.fly()"
   ]
  },
  {
   "cell_type": "code",
   "execution_count": 191,
   "metadata": {},
   "outputs": [
    {
     "name": "stdout",
     "output_type": "stream",
     "text": [
      "호랭이\n"
     ]
    }
   ],
   "source": [
    "class MyError(Exception):\n",
    "    pass\n",
    "\n",
    "def say_nick(nick):\n",
    "    if(nick == '멍충이'):\n",
    "        raise MyError()\n",
    "    print(nick)\n",
    "    \n",
    "say_nick(\"호랭이\")"
   ]
  },
  {
   "cell_type": "code",
   "execution_count": 194,
   "metadata": {},
   "outputs": [
    {
     "name": "stdout",
     "output_type": "stream",
     "text": [
      "허용되지 않은 별명입니다.\n"
     ]
    }
   ],
   "source": [
    "try:\n",
    "    say_nick(\"멍충이\")\n",
    "\n",
    "except MyError:\n",
    "    print('허용되지 않은 별명입니다.')"
   ]
  },
  {
   "cell_type": "code",
   "execution_count": 202,
   "metadata": {},
   "outputs": [
    {
     "name": "stdout",
     "output_type": "stream",
     "text": [
      "허용되지 않는 별명입니다.\n"
     ]
    }
   ],
   "source": [
    "class MyError(Exception):\n",
    "    def __str__(self):\n",
    "        return \"허용되지 않는 별명입니다.\"\n",
    "\n",
    "def say_nick(nick):\n",
    "    if(nick == '멍충이'):\n",
    "        raise MyError()\n",
    "    print(nick)\n",
    "    \n",
    "try:\n",
    "    say_nick(\"멍충이\")\n",
    "\n",
    "except MyError as e:\n",
    "    print(e)"
   ]
  },
  {
   "cell_type": "markdown",
   "metadata": {},
   "source": [
    "### 내장 함수 "
   ]
  },
  {
   "cell_type": "code",
   "execution_count": 210,
   "metadata": {},
   "outputs": [
    {
     "name": "stdout",
     "output_type": "stream",
     "text": [
      "body\n",
      "foo\n",
      "bar\n"
     ]
    }
   ],
   "source": [
    "for value in ['body', 'foo', 'bar']:\n",
    "    print(value)"
   ]
  },
  {
   "cell_type": "code",
   "execution_count": 213,
   "metadata": {},
   "outputs": [
    {
     "name": "stdout",
     "output_type": "stream",
     "text": [
      "0 body\n",
      "1 foo\n",
      "2 bar\n"
     ]
    }
   ],
   "source": [
    "for i, value in enumerate (['body', 'foo', 'bar']):\n",
    "    print(i, value)"
   ]
  },
  {
   "cell_type": "code",
   "execution_count": 214,
   "metadata": {},
   "outputs": [
    {
     "name": "stdout",
     "output_type": "stream",
     "text": [
      "body 100\n",
      "fpp 200\n",
      "bar 300\n"
     ]
    }
   ],
   "source": [
    "a = ['body', 'fpp', 'bar']\n",
    "b = [100, 200 , 300]\n",
    "\n",
    "for i in range(3):\n",
    "    print(a[i], b[i])"
   ]
  },
  {
   "cell_type": "code",
   "execution_count": 216,
   "metadata": {},
   "outputs": [
    {
     "name": "stdout",
     "output_type": "stream",
     "text": [
      "body 100\n",
      "fpp 200\n",
      "bar 300\n"
     ]
    },
    {
     "ename": "IndexError",
     "evalue": "list index out of range",
     "output_type": "error",
     "traceback": [
      "\u001b[1;31m---------------------------------------------------------------------------\u001b[0m",
      "\u001b[1;31mIndexError\u001b[0m                                Traceback (most recent call last)",
      "\u001b[1;32m<ipython-input-216-a5cc57917be0>\u001b[0m in \u001b[0;36m<module>\u001b[1;34m\u001b[0m\n\u001b[0;32m      3\u001b[0m \u001b[1;33m\u001b[0m\u001b[0m\n\u001b[0;32m      4\u001b[0m \u001b[1;32mfor\u001b[0m \u001b[0mi\u001b[0m \u001b[1;32min\u001b[0m \u001b[0mrange\u001b[0m\u001b[1;33m(\u001b[0m\u001b[1;36m4\u001b[0m\u001b[1;33m)\u001b[0m\u001b[1;33m:\u001b[0m\u001b[1;33m\u001b[0m\u001b[1;33m\u001b[0m\u001b[0m\n\u001b[1;32m----> 5\u001b[1;33m     \u001b[0mprint\u001b[0m\u001b[1;33m(\u001b[0m\u001b[0ma\u001b[0m\u001b[1;33m[\u001b[0m\u001b[0mi\u001b[0m\u001b[1;33m]\u001b[0m\u001b[1;33m,\u001b[0m \u001b[0mb\u001b[0m\u001b[1;33m[\u001b[0m\u001b[0mi\u001b[0m\u001b[1;33m]\u001b[0m\u001b[1;33m)\u001b[0m\u001b[1;33m\u001b[0m\u001b[1;33m\u001b[0m\u001b[0m\n\u001b[0m",
      "\u001b[1;31mIndexError\u001b[0m: list index out of range"
     ]
    }
   ],
   "source": [
    "a = ['body', 'fpp', 'bar']\n",
    "b = [100, 200 , 300, 400]\n",
    "\n",
    "for i in range(4):\n",
    "    print(a[i], b[i])"
   ]
  },
  {
   "cell_type": "code",
   "execution_count": 221,
   "metadata": {},
   "outputs": [
    {
     "name": "stdout",
     "output_type": "stream",
     "text": [
      "('body', 100)\n",
      "('fpp', 200)\n",
      "('bar', 300)\n"
     ]
    }
   ],
   "source": [
    "a = ['body', 'fpp', 'bar']\n",
    "b = [100, 200 , 300, 400]\n",
    "\n",
    "for temp in zip(a, b):\n",
    "    print(temp)"
   ]
  },
  {
   "cell_type": "code",
   "execution_count": 226,
   "metadata": {},
   "outputs": [
    {
     "data": {
      "text/plain": [
       "[(1, 4), (2, 5), (3, 6)]"
      ]
     },
     "execution_count": 226,
     "metadata": {},
     "output_type": "execute_result"
    }
   ],
   "source": [
    "list ( zip([1,2,3], [4,5,6]))"
   ]
  },
  {
   "cell_type": "code",
   "execution_count": 223,
   "metadata": {},
   "outputs": [
    {
     "data": {
      "text/plain": [
       "[(1, 4, 7), (2, 5, 8), (3, 6, 9)]"
      ]
     },
     "execution_count": 223,
     "metadata": {},
     "output_type": "execute_result"
    }
   ],
   "source": [
    "list ( zip([1,2,3], [4,5,6], [7,8,9]))"
   ]
  },
  {
   "cell_type": "code",
   "execution_count": 224,
   "metadata": {},
   "outputs": [
    {
     "data": {
      "text/plain": [
       "[('a', 'd'), ('b', 'e'), ('c', 'f')]"
      ]
     },
     "execution_count": 224,
     "metadata": {},
     "output_type": "execute_result"
    }
   ],
   "source": [
    "list ( zip(\"abc\", \"def\"))"
   ]
  },
  {
   "cell_type": "code",
   "execution_count": 225,
   "metadata": {},
   "outputs": [
    {
     "data": {
      "text/plain": [
       "[('a', 1), ('b', 2), ('c', 3)]"
      ]
     },
     "execution_count": 225,
     "metadata": {},
     "output_type": "execute_result"
    }
   ],
   "source": [
    "list ( zip(\"abc\", [1,2,3,]))"
   ]
  },
  {
   "cell_type": "code",
   "execution_count": 233,
   "metadata": {},
   "outputs": [
    {
     "ename": "FileNotFoundError",
     "evalue": "[Errno 2] No such file or directory: 'nofile'",
     "output_type": "error",
     "traceback": [
      "\u001b[1;31m---------------------------------------------------------------------------\u001b[0m",
      "\u001b[1;31mFileNotFoundError\u001b[0m                         Traceback (most recent call last)",
      "\u001b[1;32m<ipython-input-233-3cce65b7cb80>\u001b[0m in \u001b[0;36m<module>\u001b[1;34m\u001b[0m\n\u001b[1;32m----> 1\u001b[1;33m \u001b[0mf\u001b[0m \u001b[1;33m=\u001b[0m \u001b[0mopen\u001b[0m\u001b[1;33m(\u001b[0m\u001b[1;34m\"nofile\"\u001b[0m\u001b[1;33m,\u001b[0m \u001b[1;34m'r'\u001b[0m\u001b[1;33m)\u001b[0m\u001b[1;33m\u001b[0m\u001b[1;33m\u001b[0m\u001b[0m\n\u001b[0m",
      "\u001b[1;31mFileNotFoundError\u001b[0m: [Errno 2] No such file or directory: 'nofile'"
     ]
    }
   ],
   "source": [
    "f = open(\"nofile\", 'r')"
   ]
  },
  {
   "cell_type": "markdown",
   "metadata": {},
   "source": [
    "## 5장 연습문제 "
   ]
  },
  {
   "cell_type": "markdown",
   "metadata": {},
   "source": [
    "### 연습문제 1"
   ]
  },
  {
   "cell_type": "code",
   "execution_count": 234,
   "metadata": {},
   "outputs": [],
   "source": [
    "class Calculator:\n",
    "    def __init__(self):\n",
    "        self.value = 0\n",
    "        \n",
    "    def add(self,val):\n",
    "        self.value += val"
   ]
  },
  {
   "cell_type": "code",
   "execution_count": 235,
   "metadata": {},
   "outputs": [],
   "source": [
    "class UpgradeCalculator(Calculator):\n",
    "    def minus(self,val):\n",
    "        self.value -= val\n",
    "        \n"
   ]
  },
  {
   "cell_type": "code",
   "execution_count": 236,
   "metadata": {},
   "outputs": [
    {
     "name": "stdout",
     "output_type": "stream",
     "text": [
      "3\n"
     ]
    }
   ],
   "source": [
    "cal = UpgradeCalculator()\n",
    "cal.add(10)\n",
    "cal.minus(7)\n",
    "\n",
    "print(cal.value)"
   ]
  },
  {
   "cell_type": "markdown",
   "metadata": {},
   "source": [
    "### 연습문제 2 "
   ]
  },
  {
   "cell_type": "code",
   "execution_count": 247,
   "metadata": {},
   "outputs": [
    {
     "name": "stdout",
     "output_type": "stream",
     "text": [
      "100\n"
     ]
    }
   ],
   "source": [
    "class Calculator:\n",
    "    def __init__(self):\n",
    "        self.value = 0\n",
    "        \n",
    "    def add(self,val):\n",
    "        self.value += val\n",
    "        \n",
    "class MaxLimitCalculator(Calculator):\n",
    "    def add(self,val):\n",
    "        self.value += val     \n",
    "        if(cal.value > 100):\n",
    "            cal.value = 100\n",
    "    \n",
    "    \n",
    "\n",
    "\n",
    "cal = MaxLimitCalculator()\n",
    "cal.add(50)\n",
    "cal.add(60)\n",
    "\n",
    "print(cal.value)\n",
    "    \n",
    "    "
   ]
  },
  {
   "cell_type": "code",
   "execution_count": 248,
   "metadata": {},
   "outputs": [
    {
     "data": {
      "text/plain": [
       "False"
      ]
     },
     "execution_count": 248,
     "metadata": {},
     "output_type": "execute_result"
    }
   ],
   "source": [
    "all([1,2,abs(-3)-3])"
   ]
  },
  {
   "cell_type": "code",
   "execution_count": 249,
   "metadata": {},
   "outputs": [
    {
     "data": {
      "text/plain": [
       "True"
      ]
     },
     "execution_count": 249,
     "metadata": {},
     "output_type": "execute_result"
    }
   ],
   "source": [
    "chr(ord('a')) == 'a'"
   ]
  },
  {
   "cell_type": "code",
   "execution_count": 264,
   "metadata": {},
   "outputs": [
    {
     "name": "stdout",
     "output_type": "stream",
     "text": [
      "   3   2   1   5   4\n",
      "  23  22  21  25  24\n",
      "  18  17  16  20  19\n",
      "  13  12  11  15  14\n",
      "   8   7   6  10   9\n"
     ]
    }
   ],
   "source": [
    "def display(a):\n",
    "    for i in range(n):\n",
    "        for j in range(n):\n",
    "            print(\"%4d\"%a[i][j], end='')\n",
    "        print()\n",
    "        \n",
    "\n",
    "def init(n):\n",
    "    a = [ [0]*n for j in range(n)]\n",
    "    return a\n",
    "\n",
    "def fill(a, n):\n",
    "    count = 1\n",
    "    for i in range(n):\n",
    "        for j in range(n):\n",
    "            a[n-i-5][n-3-j] = count\n",
    "            count += 1\n",
    "            if ((n-i-5) == -1):\n",
    "                (n-i-5) == 4\n",
    "    \n",
    "n=5\n",
    "a = init(n)\n",
    "fill(a,n)\n",
    "display(a)"
   ]
  },
  {
   "cell_type": "code",
   "execution_count": 54,
   "metadata": {},
   "outputs": [
    {
     "name": "stdout",
     "output_type": "stream",
     "text": [
      "   1   2   4   7  11\n",
      "   3   5   8  12  16\n",
      "   6   9  13  17  20\n",
      "  10  14  18  21  23\n",
      "  15  19  22  24  25\n"
     ]
    }
   ],
   "source": [
    "def display(a):\n",
    "    for i in range(n):\n",
    "        for j in range(n):\n",
    "            print(\"%4d\"%a[i][j], end='')\n",
    "        print()\n",
    "        \n",
    "\n",
    "def init(n):\n",
    "    a = [ [0]*n for j in range(n)]\n",
    "    return a\n",
    "\n",
    "def fill(a, n):\n",
    "    count = 1\n",
    "    for k in range(2*n-1):\n",
    "        for i in range(n):\n",
    "            for j in range(n):\n",
    "                if (i+j) == k:\n",
    "                    a[i][j] = count\n",
    "                    count += 1\n",
    "    \n",
    "    \n",
    "n=5\n",
    "a = init(n)\n",
    "fill(a,n)\n",
    "display(a)"
   ]
  },
  {
   "cell_type": "code",
   "execution_count": 268,
   "metadata": {},
   "outputs": [
    {
     "ename": "IndexError",
     "evalue": "list assignment index out of range",
     "output_type": "error",
     "traceback": [
      "\u001b[1;31m---------------------------------------------------------------------------\u001b[0m",
      "\u001b[1;31mIndexError\u001b[0m                                Traceback (most recent call last)",
      "\u001b[1;32m<ipython-input-268-30da0056d612>\u001b[0m in \u001b[0;36m<module>\u001b[1;34m\u001b[0m\n\u001b[0;32m     18\u001b[0m     \u001b[1;32mfor\u001b[0m \u001b[0mi\u001b[0m \u001b[1;32min\u001b[0m \u001b[0mrange\u001b[0m\u001b[1;33m(\u001b[0m\u001b[0mnum\u001b[0m\u001b[1;33m)\u001b[0m\u001b[1;33m:\u001b[0m\u001b[1;33m\u001b[0m\u001b[1;33m\u001b[0m\u001b[0m\n\u001b[0;32m     19\u001b[0m         \u001b[0mcol\u001b[0m \u001b[1;33m+=\u001b[0m \u001b[1;36m1\u001b[0m\u001b[1;33m\u001b[0m\u001b[1;33m\u001b[0m\u001b[0m\n\u001b[1;32m---> 20\u001b[1;33m         \u001b[0ma\u001b[0m\u001b[1;33m[\u001b[0m\u001b[0mrow\u001b[0m\u001b[1;33m]\u001b[0m\u001b[1;33m[\u001b[0m\u001b[0mcol\u001b[0m\u001b[1;33m]\u001b[0m \u001b[1;33m=\u001b[0m \u001b[0mcount\u001b[0m\u001b[1;33m\u001b[0m\u001b[1;33m\u001b[0m\u001b[0m\n\u001b[0m\u001b[0;32m     21\u001b[0m         \u001b[0mcount\u001b[0m \u001b[1;33m+=\u001b[0m \u001b[1;36m1\u001b[0m\u001b[1;33m\u001b[0m\u001b[1;33m\u001b[0m\u001b[0m\n\u001b[0;32m     22\u001b[0m \u001b[1;33m\u001b[0m\u001b[0m\n",
      "\u001b[1;31mIndexError\u001b[0m: list assignment index out of range"
     ]
    }
   ],
   "source": [
    "def display(a):\n",
    "    for i in range(n):\n",
    "        for j in range(n):\n",
    "            print(\"%4d\" % a[i][j], end='')\n",
    "        print()\n",
    "\n",
    "\n",
    "# 코드가 부호 제외하고는 같아서 반전코드 사용해서 코드 단순화\n",
    "n = 5\n",
    "a = [[0] * n for j in range(n)]\n",
    "row = 0  # 열\n",
    "col = -1  # 행\n",
    "count = 1  # 1부터 증가하니까\n",
    "num = n  # 회전수 담당 변수\n",
    "\n",
    "\n",
    "while True:\n",
    "    for i in range(num):\n",
    "        col += 1\n",
    "        a[row][col] = count\n",
    "        count += 1\n",
    "\n",
    "    num -= 1\n",
    "    if num == 0:\n",
    "        break\n",
    "\n",
    "    for i in range(num):\n",
    "        row += 1  # 행건드릴때\n",
    "        a[row][col] = count\n",
    "        count += 1\n",
    "\n",
    "\n",
    "display(a)"
   ]
  },
  {
   "cell_type": "markdown",
   "metadata": {},
   "source": [
    "## 홀수마방진 \n",
    "### 1. 1은 첫번째 행의 가운데에 채운다\n",
    "### 2. 다음 숫자는 왼쪽 열의 윗쪽 행에 채운다\n",
    "### 3. 행을 넘어가면 마지막 행에 채운다\n",
    "### 4. 열을 넘어가면 마지막 열에 채운다\n",
    "### 5. 채울 공간에 이미 숫자가 채워져 있다면 현재 위치의 아랫쪽 행에 채운다(현재 위치를 기억하고 있어야 함)\n",
    "### # 검산도 해야한다 (가로/ 세로 / 대각선 합 확인)\n",
    "\n",
    "\n",
    "#### 1) 전체 회전수가 중요하다\n",
    "#### 2) 1의 시작점을 찍고 시작해야 한다\n",
    "* x,y는 좌표계, [x][y]는 행렬이다\n",
    "* 하지만 컴퓨터는 왼쪽 상단을 0,0으로 갖으며 이는 제 4 사분면을 사용한다는 의미이다. \n",
    "* 그렇기 때문에 우리는 row와 col을 사용하자"
   ]
  },
  {
   "cell_type": "code",
   "execution_count": 1,
   "metadata": {},
   "outputs": [
    {
     "name": "stdout",
     "output_type": "stream",
     "text": [
      "  15   8   1  24  17  65\n",
      "  16  14   7   5  23  65\n",
      "  22  20  13   6   4  65\n",
      "   3  21  19  12  10  65\n",
      "   9   2  25  18  11  65\n",
      "  65  65  65  65  65  65\n"
     ]
    }
   ],
   "source": [
    "def  display(a, n):\n",
    "    for i in range(n):\n",
    "        for j in range(n):\n",
    "            print(\"%4d\"%a[i][j], end='')\n",
    "        print()\n",
    "        \n",
    "def init(n):\n",
    "    a = [ [0]*n for j in  range(n) ] \n",
    "    return a\n",
    "\n",
    "def fill(a, n):\n",
    "    row=0\n",
    "    count=1\n",
    "    col=n//2 #모든 수의 가운데는 n//2이다. 몫이 2이기 때문이다.\n",
    "    r=0 # 여기서 r과 c는 임시변수다. \n",
    "    c=0\n",
    "    a[row][col] = count # 결국 이것을 for문 밖에 둔 이유는 \n",
    "                 #0,2에서 1이 시작해야 하기 때문임을 못 박는 것이다.\n",
    "\n",
    "    for i in range(n*n-1): # 회전수-1이유 > 위에서 이미 1은 [0][2]에 고정\n",
    "        count += 1 # for문에서 회전 시작 전에 count 에 1 더하고 시작\n",
    "        r = row-1\n",
    "        c = col-1\n",
    "        if( r < 0 ):\n",
    "            r = n-1 # 마지막행으로 보낸다는 뜻\n",
    "\n",
    "        if( c < 0 ):\n",
    "            c = n-1 # 마지막열로 보낸다는 뜻\n",
    "\n",
    "        if( a[r][c] > 0 ): # 이미 값이 배열되어 있는 경우\n",
    "            r = row+1\n",
    "            c = col\n",
    "\n",
    "        a[r][c] = count\n",
    "        row = r #회전 마치고 난 값을 현재 값으로 재설정해줌\n",
    "        col = c\n",
    "\n",
    "def check(a, n): #가로, 세로 , 대각선의 합으로 검사해주는 함수\n",
    "    for i in range(n):\n",
    "        for j in range(n):\n",
    "            a[i][n] += a[i][j] #n을 넣어주면 해당 열에 합으로 채워짐\n",
    "            a[n][i] += a[j][i] #n을 넣어주면 해당 행에 합으로 채워짐\n",
    "            if( i == j ): # 대각선 합의 경우( 단 오른쪽 아래의 값 하나 구한것)\n",
    "                a[n][n] += a[i][j]\n",
    "    \n",
    "n=5\n",
    "a = init(n+1) # 검사한 합이 와야 함으로 추가 행렬을 만들어줌\n",
    "fill(a, n) # 채워넣는 값은 5X5이므로 n 그대로\n",
    "check(a, n) #검사하는 부분은 5X5 부분임으로 n 그대로\n",
    "display(a,n+1) # 검산까지 표시해야 함으로 6X6"
   ]
  },
  {
   "cell_type": "code",
   "execution_count": null,
   "metadata": {},
   "outputs": [],
   "source": []
  }
 ],
 "metadata": {
  "kernelspec": {
   "display_name": "Python 3",
   "language": "python",
   "name": "python3"
  },
  "language_info": {
   "codemirror_mode": {
    "name": "ipython",
    "version": 3
   },
   "file_extension": ".py",
   "mimetype": "text/x-python",
   "name": "python",
   "nbconvert_exporter": "python",
   "pygments_lexer": "ipython3",
   "version": "3.7.6"
  }
 },
 "nbformat": 4,
 "nbformat_minor": 4
}
