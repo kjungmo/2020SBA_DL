{
 "cells": [
  {
   "cell_type": "code",
   "execution_count": 6,
   "metadata": {},
   "outputs": [
    {
     "data": {
      "text/plain": [
       "7"
      ]
     },
     "execution_count": 6,
     "metadata": {},
     "output_type": "execute_result"
    }
   ],
   "source": [
    "a = [0,0,0,0,0]\n",
    "n = 7\n",
    "a = [ 0 for i in range(n)]\n",
    "a\n",
    "a = [ [0 for i in range(n)]] # 2차원 배열로 보면 원소 개수가 1개이다.\n",
    "a\n",
    "len(a) # 이건 값이 1\n",
    "len(a[0])"
   ]
  },
  {
   "cell_type": "code",
   "execution_count": 10,
   "metadata": {},
   "outputs": [
    {
     "data": {
      "text/plain": [
       "[[0, 0, 0, 0, 0],\n",
       " [0, 0, 0, 0, 0],\n",
       " [0, 0, 0, 0, 0],\n",
       " [0, 0, 0, 0, 0],\n",
       " [0, 0, 0, 0, 0]]"
      ]
     },
     "execution_count": 10,
     "metadata": {},
     "output_type": "execute_result"
    }
   ],
   "source": [
    "n=5\n",
    "a = [ [0 for i in range(n)] for j in range(n)]\n",
    "a\n",
    "#len(a[0])"
   ]
  },
  {
   "cell_type": "code",
   "execution_count": 11,
   "metadata": {},
   "outputs": [
    {
     "data": {
      "text/plain": [
       "[[0, 0, 0, 0, 0],\n",
       " [0, 0, 0, 0, 0],\n",
       " [0, 0, 0, 0, 0],\n",
       " [0, 0, 0, 0, 0],\n",
       " [0, 0, 0, 0, 0]]"
      ]
     },
     "execution_count": 11,
     "metadata": {},
     "output_type": "execute_result"
    }
   ],
   "source": [
    "# 더 쉬운 방법\n",
    "n=5\n",
    "a = [ [0]*n for j in range(n)]\n",
    "a"
   ]
  },
  {
   "cell_type": "code",
   "execution_count": 13,
   "metadata": {},
   "outputs": [
    {
     "data": {
      "text/plain": [
       "[[1, 2, 3, 4, 5],\n",
       " [0, 0, 0, 0, 0],\n",
       " [0, 0, 0, 0, 0],\n",
       " [0, 0, 0, 0, 0],\n",
       " [0, 0, 0, 0, 0]]"
      ]
     },
     "execution_count": 13,
     "metadata": {},
     "output_type": "execute_result"
    }
   ],
   "source": [
    "#알고리즘적인 문제\n",
    "n=5\n",
    "a = [ [0]*n for j in range(n)]\n",
    "row = 0 # 열\n",
    "col = -1 # 행\n",
    "count = 1 #1부터 증가하니까\n",
    "\n",
    "for i in range(n):\n",
    "    col += 1\n",
    "    a[row][col] = count\n",
    "    count += 1\n",
    "a"
   ]
  },
  {
   "cell_type": "code",
   "execution_count": 15,
   "metadata": {},
   "outputs": [
    {
     "data": {
      "text/plain": [
       "[[1, 2, 3, 4, 5],\n",
       " [0, 0, 0, 0, 6],\n",
       " [0, 0, 0, 0, 7],\n",
       " [0, 0, 0, 0, 8],\n",
       " [0, 0, 0, 0, 9]]"
      ]
     },
     "execution_count": 15,
     "metadata": {},
     "output_type": "execute_result"
    }
   ],
   "source": [
    "n=5\n",
    "a = [ [0]*n for j in range(n)]\n",
    "row = 0 # 열\n",
    "col = -1 # 행\n",
    "count = 1 #1부터 증가하니까\n",
    "num = n # 회전수 담당 변수\n",
    "\n",
    "for i in range(num):\n",
    "    col += 1\n",
    "    a[row][col] = count\n",
    "    count += 1\n",
    "    \n",
    "num -= 1\n",
    "\n",
    "for i in range(num):\n",
    "    row += 1\n",
    "    a[row][col] = count\n",
    "    count += 1\n",
    "\n",
    "a"
   ]
  },
  {
   "cell_type": "code",
   "execution_count": 28,
   "metadata": {
    "scrolled": true
   },
   "outputs": [
    {
     "name": "stdout",
     "output_type": "stream",
     "text": [
      "   1   2   3   4   5   6   7   8   9  10  11\n",
      "  40  41  42  43  44  45  46  47  48  49  12\n",
      "  39  72  73  74  75  76  77  78  79  50  13\n",
      "  38  71  96  97  98  99 100 101  80  51  14\n",
      "  37  70  95 112 113 114 115 102  81  52  15\n",
      "  36  69  94 111 120 121 116 103  82  53  16\n",
      "  35  68  93 110 119 118 117 104  83  54  17\n",
      "  34  67  92 109 108 107 106 105  84  55  18\n",
      "  33  66  91  90  89  88  87  86  85  56  19\n",
      "  32  65  64  63  62  61  60  59  58  57  20\n",
      "  31  30  29  28  27  26  25  24  23  22  21\n"
     ]
    }
   ],
   "source": [
    "def display(a):\n",
    "    for i in range(n):\n",
    "        for j in range(n):\n",
    "            print(\"%4d\"%a[i][j], end='')\n",
    "        print()\n",
    "\n",
    "n=11\n",
    "a = [ [0]*n for j in range(n)]\n",
    "row = 0 # 열\n",
    "col = -1 # 행\n",
    "count = 1 #1부터 증가하니까\n",
    "num = n # 회전수 담당 변수\n",
    "\n",
    "\n",
    "while True:\n",
    "    for i in range(num):\n",
    "        col += 1\n",
    "        a[row][col] = count\n",
    "        count += 1\n",
    "\n",
    "    num -= 1 #회전수 감소할 때 소환\n",
    "    if num == 0:\n",
    "        break\n",
    "        \n",
    "    for i in range(num):\n",
    "        row += 1 # 행건드릴때\n",
    "        a[row][col] = count\n",
    "        count += 1\n",
    "\n",
    "    for i in range(num):\n",
    "        col -= 1 #열 건드릴때\n",
    "        a[row][col] = count\n",
    "        count += 1\n",
    "\n",
    "    num -= 1\n",
    "    if num == 0:\n",
    "        break\n",
    "        \n",
    "    for i in range(num):\n",
    "        row -= 1\n",
    "        a[row][col] = count\n",
    "        count += 1\n",
    "\n",
    "display(a)"
   ]
  },
  {
   "cell_type": "code",
   "execution_count": 32,
   "metadata": {},
   "outputs": [
    {
     "name": "stdout",
     "output_type": "stream",
     "text": [
      "   1   2   3   4   5\n",
      "  16  17  18  19   6\n",
      "  15  24  25  20   7\n",
      "  14  23  22  21   8\n",
      "  13  12  11  10   9\n"
     ]
    }
   ],
   "source": [
    "def display(a):\n",
    "    for i in range(n):\n",
    "        for j in range(n):\n",
    "            print(\"%4d\"%a[i][j], end='')\n",
    "        print()\n",
    "\n",
    "n=5\n",
    "a = [ [0]*n for j in range(n)]\n",
    "row = 0 # 열\n",
    "col = -1 # 행\n",
    "count = 1 #1부터 증가하니까\n",
    "num = n # 회전수 담당 변수\n",
    "sign = 1\n",
    "\n",
    "while True:\n",
    "    for i in range(num):\n",
    "        col += sign #sign 반전코드 만드는것.\n",
    "        a[row][col] = count\n",
    "        count += 1\n",
    "\n",
    "    num -= 1\n",
    "    if num == 0:\n",
    "        break\n",
    "        \n",
    "    for i in range(num):\n",
    "        row += sign # 행건드릴때\n",
    "        a[row][col] = count\n",
    "        count += 1\n",
    "    sign = - sign #sign 부호반전이 while 루프 돌면서 발생\n",
    "\n",
    "display(a)"
   ]
  },
  {
   "cell_type": "code",
   "execution_count": 39,
   "metadata": {},
   "outputs": [
    {
     "name": "stdout",
     "output_type": "stream",
     "text": [
      "   1   2   3   4   5\n",
      "   6   7   8   9  10\n",
      "  11  12  13  14  15\n",
      "  16  17  18  19  20\n",
      "  21  22  23  24  25\n"
     ]
    }
   ],
   "source": [
    "def display(a):\n",
    "    for i in range(n):\n",
    "        for j in range(n):\n",
    "            print(\"%4d\"%a[i][j], end='')\n",
    "        print()\n",
    "        \n",
    "\n",
    "def init(n):\n",
    "    a = [ [0]*n for j in range(n)]\n",
    "    return a\n",
    "\n",
    "def fill(a, n):\n",
    "    count = 1\n",
    "    for i in range(n):\n",
    "        for j in range(n):\n",
    "            a[i][j] = count\n",
    "            count += 1\n",
    "    \n",
    "    \n",
    "n=5\n",
    "a = init(n)\n",
    "fill(a,n)\n",
    "display(a)"
   ]
  },
  {
   "cell_type": "code",
   "execution_count": 41,
   "metadata": {},
   "outputs": [
    {
     "name": "stdout",
     "output_type": "stream",
     "text": [
      "   1   0   0   0   0\n",
      "   2   6   0   0   0\n",
      "   3   7  10   0   0\n",
      "   4   8  11  13   0\n",
      "   5   9  12  14  15\n"
     ]
    }
   ],
   "source": [
    "def display(a):\n",
    "    for i in range(n):\n",
    "        for j in range(n):\n",
    "            print(\"%4d\"%a[i][j], end='')\n",
    "        print()\n",
    "        \n",
    "\n",
    "def init(n):\n",
    "    a = [ [0]*n for j in range(n)]\n",
    "    return a\n",
    "\n",
    "def fill(a, n):\n",
    "    count = 1\n",
    "    for i in range(n):\n",
    "        for j in range(n-i):\n",
    "            a[i+j][i] = count\n",
    "            count += 1\n",
    "    \n",
    "    \n",
    "n=5\n",
    "a = init(n)\n",
    "fill(a,n)\n",
    "display(a)"
   ]
  },
  {
   "cell_type": "code",
   "execution_count": 45,
   "metadata": {},
   "outputs": [
    {
     "name": "stdout",
     "output_type": "stream",
     "text": [
      "   5   4   3   2   1\n",
      "   9   8   7   6   0\n",
      "  12  11  10   0   0\n",
      "  14  13   0   0   0\n",
      "  15   0   0   0   0\n"
     ]
    }
   ],
   "source": [
    "def display(a):\n",
    "    for i in range(n):\n",
    "        for j in range(n):\n",
    "            print(\"%4d\"%a[i][j], end='')\n",
    "        print()\n",
    "        \n",
    "\n",
    "def init(n):\n",
    "    a = [ [0]*n for j in range(n)]\n",
    "    return a\n",
    "\n",
    "def fill(a, n):\n",
    "    count = 1\n",
    "    for i in range(n):\n",
    "        for j in range(n-i):\n",
    "            a[i][n-i-1-j] = count\n",
    "            count += 1\n",
    "    \n",
    "    \n",
    "n=5\n",
    "a = init(n)\n",
    "fill(a,n)\n",
    "display(a)"
   ]
  },
  {
   "cell_type": "code",
   "execution_count": 54,
   "metadata": {},
   "outputs": [
    {
     "name": "stdout",
     "output_type": "stream",
     "text": [
      "   1   2   4   7  11\n",
      "   3   5   8  12  16\n",
      "   6   9  13  17  20\n",
      "  10  14  18  21  23\n",
      "  15  19  22  24  25\n"
     ]
    }
   ],
   "source": [
    "def display(a):\n",
    "    for i in range(n):\n",
    "        for j in range(n):\n",
    "            print(\"%4d\"%a[i][j], end='')\n",
    "        print()\n",
    "        \n",
    "\n",
    "def init(n):\n",
    "    a = [ [0]*n for j in range(n)]\n",
    "    return a\n",
    "\n",
    "def fill(a, n):\n",
    "    count = 1\n",
    "    for k in range(2*n-1):\n",
    "        for i in range(n):\n",
    "            for j in range(n):\n",
    "                if (i+j) == k:\n",
    "                    a[i][j] = count\n",
    "                    count += 1\n",
    "    \n",
    "    \n",
    "n=5\n",
    "a = init(n)\n",
    "fill(a,n)\n",
    "display(a)"
   ]
  },
  {
   "cell_type": "code",
   "execution_count": 56,
   "metadata": {},
   "outputs": [
    {
     "name": "stdout",
     "output_type": "stream",
     "text": [
      "   1   3   6  10  15\n",
      "   2   5   9  14  19\n",
      "   4   8  13  18  22\n",
      "   7  12  17  21  24\n",
      "  11  16  20  23  25\n"
     ]
    }
   ],
   "source": [
    "def display(a):\n",
    "    for i in range(n):\n",
    "        for j in range(n):\n",
    "            print(\"%4d\"%a[i][j], end='')\n",
    "        print()\n",
    "        \n",
    "\n",
    "def init(n):\n",
    "    a = [ [0]*n for j in range(n)]\n",
    "    return a\n",
    "\n",
    "def fill(a, n):\n",
    "    count = 1\n",
    "    for k in range(2*n-1):\n",
    "        for i in range(n):\n",
    "            for j in range(n):\n",
    "                if (i+j) == k:\n",
    "                    a[j][i] = count\n",
    "                    count += 1\n",
    "    \n",
    "    \n",
    "n=5\n",
    "a = init(n)\n",
    "fill(a,n)\n",
    "display(a)"
   ]
  },
  {
   "cell_type": "code",
   "execution_count": 67,
   "metadata": {},
   "outputs": [
    {
     "name": "stdout",
     "output_type": "stream",
     "text": [
      "   1   0   0   0  13\n",
      "   2   6   0  10  14\n",
      "   3   7   9  11  15\n",
      "   4   8   0  12  16\n",
      "   5   0   0   0  17\n"
     ]
    }
   ],
   "source": [
    "def display(a):\n",
    "    for i in range(n):\n",
    "        for j in range(n):\n",
    "            print(\"%4d\"%a[i][j], end='')\n",
    "        print()\n",
    "        \n",
    "\n",
    "def init(n):\n",
    "    a = [ [0]*n for j in range(n)]\n",
    "    return a\n",
    "\n",
    "def fill(a, n):\n",
    "    count = 1\n",
    "    inc = 0\n",
    "    flag = 1\n",
    "    for i in range(n):\n",
    "        for j in range(n-inc*2):\n",
    "            a[inc+j][i] = count\n",
    "            count += 1\n",
    "        if n//2 == i:\n",
    "            flag = -flag\n",
    "        inc += flag\n",
    "    \n",
    "n=5\n",
    "a = init(n)\n",
    "fill(a,n)\n",
    "display(a)"
   ]
  },
  {
   "cell_type": "code",
   "execution_count": null,
   "metadata": {},
   "outputs": [],
   "source": []
  }
 ],
 "metadata": {
  "kernelspec": {
   "display_name": "Python 3",
   "language": "python",
   "name": "python3"
  },
  "language_info": {
   "codemirror_mode": {
    "name": "ipython",
    "version": 3
   },
   "file_extension": ".py",
   "mimetype": "text/x-python",
   "name": "python",
   "nbconvert_exporter": "python",
   "pygments_lexer": "ipython3",
   "version": "3.7.6"
  }
 },
 "nbformat": 4,
 "nbformat_minor": 4
}
