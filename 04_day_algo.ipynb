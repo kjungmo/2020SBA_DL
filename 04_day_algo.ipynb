{
 "cells": [
  {
   "cell_type": "markdown",
   "metadata": {},
   "source": [
    "###  세마포어"
   ]
  },
  {
   "cell_type": "code",
   "execution_count": 1,
   "metadata": {},
   "outputs": [
    {
     "name": "stdout",
     "output_type": "stream",
     "text": [
      "획득: 슬드 0 | 스레드풀: ['슬드 0']\n",
      "획득: 슬드 1 | 스레드풀: ['슬드 0', '슬드 1']\n",
      "획득: 슬드 2 | 스레드풀: ['슬드 0', '슬드 1', '슬드 2']\n",
      "반환: 슬드 0 | 스레드풀: ['슬드 1', '슬드 2']\n",
      "반환: 슬드 1 | 스레드풀: ['슬드 2']\n",
      "획득: 슬드 3 | 스레드풀: ['슬드 2', '슬드 3']\n",
      "획득: 슬드 4 | 스레드풀: ['슬드 2', '슬드 3', '슬드 4']\n",
      "반환: 슬드 2 | 스레드풀: ['슬드 3', '슬드 4']\n",
      "획득: 슬드 5 | 스레드풀: ['슬드 3', '슬드 4', '슬드 5']\n",
      "반환: 슬드 3 | 스레드풀: ['슬드 4', '슬드 5']\n",
      "반환: 슬드 4 | 스레드풀: ['슬드 5']\n",
      "획득: 슬드 6 | 스레드풀: ['슬드 5', '슬드 6']\n",
      "획득: 슬드 7 | 스레드풀: ['슬드 5', '슬드 6', '슬드 7']\n",
      "반환: 슬드 5 | 스레드풀: ['슬드 6', '슬드 7']\n",
      "획득: 슬드 8 | 스레드풀: ['슬드 6', '슬드 7', '슬드 8']\n",
      "반환: 슬드 6 | 스레드풀: ['슬드 7', '슬드 8']\n",
      "획득: 슬드 9 | 스레드풀: ['슬드 7', '슬드 8', '슬드 9']\n",
      "반환: 슬드 7 | 스레드풀: ['슬드 8', '슬드 9']\n",
      "반환: 슬드 8 | 스레드풀: ['슬드 9']\n",
      "반환: 슬드 9 | 스레드풀: []\n"
     ]
    }
   ],
   "source": [
    "import threading\n",
    "import time\n",
    "\n",
    "class ThreadPool(object):\n",
    "    def __init__(self): #생성자에서 락킹 지원\n",
    "        self.active = []\n",
    "        self.lock = threading.Lock() \n",
    "        \n",
    "    def acquire(self, name): #락을 획득하는 것은 락을 거는 것.\n",
    "        with self.lock: # 이것을 오토락이라고 함 맨처음 진입하는 애에 대해 락을 획득\n",
    "            self.active.append(name)\n",
    "            print(\"획득: {0} | 스레드풀: {1}\".format(name, self.active))\n",
    "            \n",
    "    def release(self, name): #락을 풀때 지원.\n",
    "        with self.lock: \n",
    "            self.active.remove(name)\n",
    "            print(\"반환: {0} | 스레드풀: {1}\".format(name, self.active))         \n",
    "            \n",
    "def worker(semaphore, pool):\n",
    "    with semaphore: #여기서 세마포어의\n",
    "        name = threading.currentThread().getName() #임계영역으로 3개만 들어가는 것, 들어온 이름 뽑아내기 위해 겟네임\n",
    "        pool.acquire(name) # 임계영역에 들어가서\n",
    "        time.sleep(1)# 1초 있다가 임계영역에서\n",
    "        pool.release(name) #이러면 빠져나온다\n",
    "            \n",
    "if __name__ == \"__main__\":\n",
    "    \n",
    "    threads = []\n",
    "    pool = ThreadPool()\n",
    "    semaphore = threading.Semaphore(3) #임계영역에 3개 들어갈 수 있게 설정\n",
    "    for i in range(10):\n",
    "        t = threading.Thread( target=worker, name=\"슬드 \"+str(i), args=(semaphore,pool))#세마포어와 스레드 풀을 만들어서 넘겨주는것) # 스레딩 만드는 것\n",
    "        t.start() # 기동 시키고\n",
    "        threads.append(t) #\n",
    "        \n",
    "    for t in threads:\n",
    "        t.join() #모든 스레드가 종료할 때 까지 메인스레드는 대기탄다"
   ]
  },
  {
   "cell_type": "code",
   "execution_count": null,
   "metadata": {},
   "outputs": [],
   "source": []
  }
 ],
 "metadata": {
  "kernelspec": {
   "display_name": "Python 3",
   "language": "python",
   "name": "python3"
  },
  "language_info": {
   "codemirror_mode": {
    "name": "ipython",
    "version": 3
   },
   "file_extension": ".py",
   "mimetype": "text/x-python",
   "name": "python",
   "nbconvert_exporter": "python",
   "pygments_lexer": "ipython3",
   "version": "3.7.6"
  }
 },
 "nbformat": 4,
 "nbformat_minor": 4
}
