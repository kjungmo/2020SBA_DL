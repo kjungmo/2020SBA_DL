{
 "cells": [
  {
   "cell_type": "code",
   "execution_count": 123,
   "metadata": {},
   "outputs": [
    {
     "data": {
      "text/plain": [
       "7"
      ]
     },
     "execution_count": 123,
     "metadata": {},
     "output_type": "execute_result"
    }
   ],
   "source": [
    "a = [0,0,0,0,0]\n"
   ]
  },
  {
   "cell_type": "code",
   "execution_count": 124,
   "metadata": {},
   "outputs": [
    {
     "data": {
      "text/plain": [
       "[0, 0, 0, 0, 0, 0, 0]"
      ]
     },
     "execution_count": 124,
     "metadata": {},
     "output_type": "execute_result"
    }
   ],
   "source": [
    "n = 7\n",
    "a = [ 0 for i in range(n)] \n",
    "a\n"
   ]
  },
  {
   "cell_type": "code",
   "execution_count": 125,
   "metadata": {},
   "outputs": [
    {
     "data": {
      "text/plain": [
       "7"
      ]
     },
     "execution_count": 125,
     "metadata": {},
     "output_type": "execute_result"
    }
   ],
   "source": [
    "a = [ [0 for i in range(n) ] ] \n",
    "a\n",
    "len(a[0])"
   ]
  },
  {
   "cell_type": "code",
   "execution_count": 128,
   "metadata": {},
   "outputs": [
    {
     "data": {
      "text/plain": [
       "[[0, 0, 0, 0, 0],\n",
       " [0, 0, 0, 0, 0],\n",
       " [0, 0, 0, 0, 0],\n",
       " [0, 0, 0, 0, 0],\n",
       " [0, 0, 0, 0, 0]]"
      ]
     },
     "execution_count": 128,
     "metadata": {},
     "output_type": "execute_result"
    }
   ],
   "source": [
    "n=5\n",
    "a = [ [0 for i in range(n) ] for j in  range(n) ] \n",
    "a"
   ]
  },
  {
   "cell_type": "code",
   "execution_count": 132,
   "metadata": {},
   "outputs": [
    {
     "data": {
      "text/plain": [
       "[[0, 0, 0, 0, 0],\n",
       " [0, 0, 0, 0, 0],\n",
       " [0, 0, 0, 0, 0],\n",
       " [0, 0, 0, 0, 0],\n",
       " [0, 0, 0, 0, 0]]"
      ]
     },
     "execution_count": 132,
     "metadata": {},
     "output_type": "execute_result"
    }
   ],
   "source": [
    "n=5\n",
    "a = [ [0]*n for j in  range(n) ] \n",
    "a"
   ]
  },
  {
   "cell_type": "code",
   "execution_count": 133,
   "metadata": {},
   "outputs": [
    {
     "data": {
      "text/plain": [
       "[[1, 2, 3, 4, 5],\n",
       " [0, 0, 0, 0, 0],\n",
       " [0, 0, 0, 0, 0],\n",
       " [0, 0, 0, 0, 0],\n",
       " [0, 0, 0, 0, 0]]"
      ]
     },
     "execution_count": 133,
     "metadata": {},
     "output_type": "execute_result"
    }
   ],
   "source": [
    "row=0\n",
    "col=-1\n",
    "count=1\n",
    "\n",
    "for i in range(n):\n",
    "   col += 1\n",
    "   a[row][col] = count\n",
    "   count += 1\n",
    "a"
   ]
  },
  {
   "cell_type": "code",
   "execution_count": 134,
   "metadata": {},
   "outputs": [
    {
     "data": {
      "text/plain": [
       "4"
      ]
     },
     "execution_count": 134,
     "metadata": {},
     "output_type": "execute_result"
    }
   ],
   "source": [
    "col"
   ]
  },
  {
   "cell_type": "code",
   "execution_count": 135,
   "metadata": {},
   "outputs": [
    {
     "data": {
      "text/plain": [
       "0"
      ]
     },
     "execution_count": 135,
     "metadata": {},
     "output_type": "execute_result"
    }
   ],
   "source": [
    "row"
   ]
  },
  {
   "cell_type": "code",
   "execution_count": 136,
   "metadata": {},
   "outputs": [
    {
     "data": {
      "text/plain": [
       "[[1, 2, 3, 4, 5],\n",
       " [0, 0, 0, 0, 6],\n",
       " [0, 0, 0, 0, 7],\n",
       " [0, 0, 0, 0, 8],\n",
       " [0, 0, 0, 0, 9]]"
      ]
     },
     "execution_count": 136,
     "metadata": {},
     "output_type": "execute_result"
    }
   ],
   "source": [
    "n=5\n",
    "a = [ [0]*n for j in  range(n) ] \n",
    "row=0\n",
    "col=-1\n",
    "count=1\n",
    "num = n\n",
    "\n",
    "for i in range(num):\n",
    "   col += 1\n",
    "   a[row][col] = count\n",
    "   count += 1\n",
    "\n",
    "num -= 1\n",
    "\n",
    "for i in range(num):\n",
    "   row += 1\n",
    "   a[row][col] = count\n",
    "   count += 1\n",
    "a"
   ]
  },
  {
   "cell_type": "code",
   "execution_count": 139,
   "metadata": {
    "scrolled": true
   },
   "outputs": [
    {
     "name": "stdout",
     "output_type": "stream",
     "text": [
      "   1   2   3   4   5\n",
      "   0   0   0   0   6\n",
      "   0   0   0   0   7\n",
      "   0   0   0   0   8\n",
      "  13  12  11  10   9\n"
     ]
    }
   ],
   "source": [
    "def  display(a):\n",
    "    for i in range(n):\n",
    "        for j in range(n):\n",
    "            print(\"%4d\"%a[i][j], end='')\n",
    "        print()\n",
    "\n",
    "n=5\n",
    "a = [ [0]*n for j in  range(n) ] \n",
    "row=0\n",
    "col=-1\n",
    "count=1\n",
    "num = n\n",
    "\n",
    "for i in range(num):\n",
    "   col += 1\n",
    "   a[row][col] = count\n",
    "   count += 1\n",
    "\n",
    "num -= 1\n",
    "\n",
    "for i in range(num):\n",
    "   row += 1\n",
    "   a[row][col] = count\n",
    "   count += 1\n",
    "\n",
    "for i in range(num):\n",
    "   col -= 1\n",
    "   a[row][col] = count\n",
    "   count += 1\n",
    "\n",
    "display(a)"
   ]
  },
  {
   "cell_type": "code",
   "execution_count": 141,
   "metadata": {
    "scrolled": true
   },
   "outputs": [
    {
     "name": "stdout",
     "output_type": "stream",
     "text": [
      "   1   2   3   4   5   6   7   8   9  10  11\n",
      "  40   0   0   0   0   0   0   0   0   0  12\n",
      "  39   0   0   0   0   0   0   0   0   0  13\n",
      "  38   0   0   0   0   0   0   0   0   0  14\n",
      "  37   0   0   0   0   0   0   0   0   0  15\n",
      "  36   0   0   0   0   0   0   0   0   0  16\n",
      "  35   0   0   0   0   0   0   0   0   0  17\n",
      "  34   0   0   0   0   0   0   0   0   0  18\n",
      "  33   0   0   0   0   0   0   0   0   0  19\n",
      "  32   0   0   0   0   0   0   0   0   0  20\n",
      "  31  30  29  28  27  26  25  24  23  22  21\n"
     ]
    }
   ],
   "source": [
    "def  display(a):\n",
    "    for i in range(n):\n",
    "        for j in range(n):\n",
    "            print(\"%4d\"%a[i][j], end='')\n",
    "        print()\n",
    "\n",
    "n=5\n",
    "a = [ [0]*n for j in  range(n) ] \n",
    "row=0\n",
    "col=-1\n",
    "count=1\n",
    "num = n\n",
    "\n",
    "for i in range(num):\n",
    "   col += 1\n",
    "   a[row][col] = count\n",
    "   count += 1\n",
    "\n",
    "num -= 1\n",
    "\n",
    "for i in range(num):\n",
    "   row += 1\n",
    "   a[row][col] = count\n",
    "   count += 1\n",
    "\n",
    "for i in range(num):\n",
    "   col -= 1\n",
    "   a[row][col] = count\n",
    "   count += 1\n",
    "\n",
    "num -= 1\n",
    "\n",
    "for i in range(num):\n",
    "   row -= 1\n",
    "   a[row][col] = count\n",
    "   count += 1\n",
    "\n",
    "display(a)"
   ]
  },
  {
   "cell_type": "code",
   "execution_count": 144,
   "metadata": {
    "scrolled": true
   },
   "outputs": [
    {
     "name": "stdout",
     "output_type": "stream",
     "text": [
      "   1   2   3   4   5   6   7   8   9  10  11\n",
      "  40  41  42  43  44  45  46  47  48  49  12\n",
      "  39  72  73  74  75  76  77  78  79  50  13\n",
      "  38  71  96  97  98  99 100 101  80  51  14\n",
      "  37  70  95 112 113 114 115 102  81  52  15\n",
      "  36  69  94 111 120 121 116 103  82  53  16\n",
      "  35  68  93 110 119 118 117 104  83  54  17\n",
      "  34  67  92 109 108 107 106 105  84  55  18\n",
      "  33  66  91  90  89  88  87  86  85  56  19\n",
      "  32  65  64  63  62  61  60  59  58  57  20\n",
      "  31  30  29  28  27  26  25  24  23  22  21\n"
     ]
    }
   ],
   "source": [
    "def  display(a):\n",
    "    for i in range(n):\n",
    "        for j in range(n):\n",
    "            print(\"%4d\"%a[i][j], end='')\n",
    "        print()\n",
    "\n",
    "n=11\n",
    "a = [ [0]*n for j in  range(n) ] \n",
    "row=0\n",
    "col=-1\n",
    "count=1\n",
    "num = n\n",
    "\n",
    "while True:\n",
    "    for i in range(num):\n",
    "       col += 1\n",
    "       a[row][col] = count\n",
    "       count += 1\n",
    "\n",
    "    num -= 1\n",
    "    if num==0 :\n",
    "        break\n",
    "\n",
    "    for i in range(num):\n",
    "       row += 1\n",
    "       a[row][col] = count\n",
    "       count += 1\n",
    "\n",
    "    for i in range(num):\n",
    "       col -= 1\n",
    "       a[row][col] = count\n",
    "       count += 1\n",
    "\n",
    "    num -= 1\n",
    "    if num==0 :\n",
    "        break\n",
    "\n",
    "    for i in range(num):\n",
    "       row -= 1\n",
    "       a[row][col] = count\n",
    "       count += 1\n",
    "\n",
    "display(a)"
   ]
  },
  {
   "cell_type": "code",
   "execution_count": 145,
   "metadata": {
    "scrolled": true
   },
   "outputs": [
    {
     "name": "stdout",
     "output_type": "stream",
     "text": [
      "   1   2   3   4   5   6   7   8   9  10  11\n",
      "  40  41  42  43  44  45  46  47  48  49  12\n",
      "  39  72  73  74  75  76  77  78  79  50  13\n",
      "  38  71  96  97  98  99 100 101  80  51  14\n",
      "  37  70  95 112 113 114 115 102  81  52  15\n",
      "  36  69  94 111 120 121 116 103  82  53  16\n",
      "  35  68  93 110 119 118 117 104  83  54  17\n",
      "  34  67  92 109 108 107 106 105  84  55  18\n",
      "  33  66  91  90  89  88  87  86  85  56  19\n",
      "  32  65  64  63  62  61  60  59  58  57  20\n",
      "  31  30  29  28  27  26  25  24  23  22  21\n"
     ]
    }
   ],
   "source": [
    "def  display(a):\n",
    "    for i in range(n):\n",
    "        for j in range(n):\n",
    "            print(\"%4d\"%a[i][j], end='')\n",
    "        print()\n",
    "\n",
    "n=11\n",
    "a = [ [0]*n for j in  range(n) ] \n",
    "row=0\n",
    "col=-1\n",
    "count=1\n",
    "num = n\n",
    "sign=1\n",
    "\n",
    "while True:\n",
    "    for i in range(num):\n",
    "       col += sign\n",
    "       a[row][col] = count\n",
    "       count += 1\n",
    "\n",
    "    num -= 1\n",
    "    if num==0 :\n",
    "        break\n",
    "\n",
    "    for i in range(num):\n",
    "       row += sign\n",
    "       a[row][col] = count\n",
    "       count += 1\n",
    "\n",
    "    sign = -sign\n",
    "\n",
    "display(a)"
   ]
  },
  {
   "cell_type": "code",
   "execution_count": 148,
   "metadata": {
    "scrolled": true
   },
   "outputs": [
    {
     "name": "stdout",
     "output_type": "stream",
     "text": [
      "   1   2   3   4   5\n",
      "   6   7   8   9  10\n",
      "  11  12  13  14  15\n",
      "  16  17  18  19  20\n",
      "  21  22  23  24  25\n"
     ]
    }
   ],
   "source": [
    "def  display(a):\n",
    "    for i in range(n):\n",
    "        for j in range(n):\n",
    "            print(\"%4d\"%a[i][j], end='')\n",
    "        print()\n",
    "        \n",
    "def init(n):\n",
    "    a = [ [0]*n for j in  range(n) ] \n",
    "    return a\n",
    "\n",
    "def fill(a, n):\n",
    "    count=1\n",
    "    for i in range(n):\n",
    "        for j in range(n):\n",
    "            a[i][j] = count\n",
    "            count += 1\n",
    "\n",
    "n=5\n",
    "a = init(n)\n",
    "fill(a, n)\n",
    "display(a)\n"
   ]
  },
  {
   "cell_type": "code",
   "execution_count": 149,
   "metadata": {
    "scrolled": true
   },
   "outputs": [
    {
     "name": "stdout",
     "output_type": "stream",
     "text": [
      "   1   0   0   0   0\n",
      "   2   6   0   0   0\n",
      "   3   7  10   0   0\n",
      "   4   8  11  13   0\n",
      "   5   9  12  14  15\n"
     ]
    }
   ],
   "source": [
    "def  display(a):\n",
    "    for i in range(n):\n",
    "        for j in range(n):\n",
    "            print(\"%4d\"%a[i][j], end='')\n",
    "        print()\n",
    "        \n",
    "def init(n):\n",
    "    a = [ [0]*n for j in  range(n) ] \n",
    "    return a\n",
    "\n",
    "def fill(a, n):\n",
    "    count=1\n",
    "    for i in range(n):\n",
    "        for j in range(n-i):\n",
    "            a[i+j][i] = count\n",
    "            count += 1\n",
    "\n",
    "n=5\n",
    "a = init(n)\n",
    "fill(a, n)\n",
    "display(a)"
   ]
  },
  {
   "cell_type": "code",
   "execution_count": 152,
   "metadata": {
    "scrolled": true
   },
   "outputs": [
    {
     "name": "stdout",
     "output_type": "stream",
     "text": [
      "   5   4   3   2   1\n",
      "   9   8   7   6   0\n",
      "  12  11  10   0   0\n",
      "  14  13   0   0   0\n",
      "  15   0   0   0   0\n"
     ]
    }
   ],
   "source": [
    "def  display(a):\n",
    "    for i in range(n):\n",
    "        for j in range(n):\n",
    "            print(\"%4d\"%a[i][j], end='')\n",
    "        print()\n",
    "        \n",
    "def init(n):\n",
    "    a = [ [0]*n for j in  range(n) ] \n",
    "    return a\n",
    "\n",
    "def fill(a, n):\n",
    "    count=1\n",
    "    for i in range(n):\n",
    "        for j in range(n-i):\n",
    "            a[i][n-i-1-j] = count\n",
    "            count += 1\n",
    "\n",
    "\n",
    "n=5\n",
    "a = init(n)\n",
    "fill(a, n)\n",
    "display(a)"
   ]
  },
  {
   "cell_type": "code",
   "execution_count": 153,
   "metadata": {
    "scrolled": true
   },
   "outputs": [
    {
     "name": "stdout",
     "output_type": "stream",
     "text": [
      "   1   3   6  10  15\n",
      "   2   5   9  14   0\n",
      "   4   8  13   0   0\n",
      "   7  12   0   0   0\n",
      "  11   0   0   0   0\n"
     ]
    }
   ],
   "source": [
    "def  display(a):\n",
    "    for i in range(n):\n",
    "        for j in range(n):\n",
    "            print(\"%4d\"%a[i][j], end='')\n",
    "        print()\n",
    "        \n",
    "def init(n):\n",
    "    a = [ [0]*n for j in  range(n) ] \n",
    "    return a\n",
    "\n",
    "def fill(a, n):\n",
    "    count=1\n",
    "    for i in range(n):\n",
    "        for j in range(i+1):\n",
    "            a[i-j][j] = count\n",
    "            count += 1\n",
    "\n",
    "\n",
    "\n",
    "n=5\n",
    "a = init(n)\n",
    "fill(a, n)\n",
    "display(a)"
   ]
  },
  {
   "cell_type": "code",
   "execution_count": 156,
   "metadata": {
    "scrolled": true
   },
   "outputs": [
    {
     "name": "stdout",
     "output_type": "stream",
     "text": [
      "   1   3   6  10  15  21  28  36  45  55  66\n",
      "   2   5   9  14  20  27  35  44  54  65  76\n",
      "   4   8  13  19  26  34  43  53  64  75  85\n",
      "   7  12  18  25  33  42  52  63  74  84  93\n",
      "  11  17  24  32  41  51  62  73  83  92 100\n",
      "  16  23  31  40  50  61  72  82  91  99 106\n",
      "  22  30  39  49  60  71  81  90  98 105 111\n",
      "  29  38  48  59  70  80  89  97 104 110 115\n",
      "  37  47  58  69  79  88  96 103 109 114 118\n",
      "  46  57  68  78  87  95 102 108 113 117 120\n",
      "  56  67  77  86  94 101 107 112 116 119 121\n"
     ]
    }
   ],
   "source": [
    "def  display(a):\n",
    "    for i in range(n):\n",
    "        for j in range(n):\n",
    "            print(\"%4d\"%a[i][j], end='')\n",
    "        print()\n",
    "        \n",
    "def init(n):\n",
    "    a = [ [0]*n for j in  range(n) ] \n",
    "    return a\n",
    "\n",
    "def fill(a, n):\n",
    "    count=1\n",
    "    for k in range(2*n-1):\n",
    "        for i in range(n):\n",
    "            for j in range(n):\n",
    "                if (i+j)==k : \n",
    "                    a[j][i] = count\n",
    "                    count += 1\n",
    "\n",
    "n=5\n",
    "a = init(n)\n",
    "fill(a, n)\n",
    "display(a)"
   ]
  },
  {
   "cell_type": "code",
   "execution_count": 157,
   "metadata": {
    "scrolled": false
   },
   "outputs": [
    {
     "name": "stdout",
     "output_type": "stream",
     "text": [
      "   1   0   0   0   0\n",
      "   2   6   0   0   0\n",
      "   3   7   9   0   0\n",
      "   4   8   0   0   0\n",
      "   5   0   0   0   0\n"
     ]
    }
   ],
   "source": [
    "def  display(a):\n",
    "    for i in range(n):\n",
    "        for j in range(n):\n",
    "            print(\"%4d\"%a[i][j], end='')\n",
    "        print()\n",
    "        \n",
    "def init(n):\n",
    "    a = [ [0]*n for j in  range(n) ] \n",
    "    return a\n",
    "\n",
    "def fill(a, n):\n",
    "    count=1\n",
    "    for i in range(n):\n",
    "        for j in range(n-i*2):\n",
    "            a[i+j][i] = count\n",
    "            count += 1\n",
    "\n",
    "\n",
    "n=5\n",
    "a = init(n)\n",
    "fill(a, n)\n",
    "display(a)"
   ]
  },
  {
   "cell_type": "code",
   "execution_count": 159,
   "metadata": {
    "scrolled": false
   },
   "outputs": [
    {
     "name": "stdout",
     "output_type": "stream",
     "text": [
      "   1   0   0   0   0   0   0   0   0   0  61\n",
      "   2  12   0   0   0   0   0   0   0  52  62\n",
      "   3  13  21   0   0   0   0   0  45  53  63\n",
      "   4  14  22  28   0   0   0  40  46  54  64\n",
      "   5  15  23  29  33   0  37  41  47  55  65\n",
      "   6  16  24  30  34  36  38  42  48  56  66\n",
      "   7  17  25  31  35   0  39  43  49  57  67\n",
      "   8  18  26  32   0   0   0  44  50  58  68\n",
      "   9  19  27   0   0   0   0   0  51  59  69\n",
      "  10  20   0   0   0   0   0   0   0  60  70\n",
      "  11   0   0   0   0   0   0   0   0   0  71\n"
     ]
    }
   ],
   "source": [
    "def  display(a):\n",
    "    for i in range(n):\n",
    "        for j in range(n):\n",
    "            print(\"%4d\"%a[i][j], end='')\n",
    "        print()\n",
    "        \n",
    "def init(n):\n",
    "    a = [ [0]*n for j in  range(n) ] \n",
    "    return a\n",
    "\n",
    "def fill(a, n):\n",
    "    count=1\n",
    "    inc=0\n",
    "    flag=1\n",
    "    for i in range(n):\n",
    "        for j in range(n-inc*2):\n",
    "            a[inc+j][i] = count\n",
    "            count += 1\n",
    "        if n//2 == i:\n",
    "            flag = -flag\n",
    "        inc += flag\n",
    "\n",
    "n=5\n",
    "a = init(n)\n",
    "fill(a, n)\n",
    "display(a)"
   ]
  },
  {
   "cell_type": "markdown",
   "metadata": {},
   "source": [
    "### 클래스 만들기"
   ]
  },
  {
   "cell_type": "code",
   "execution_count": 160,
   "metadata": {},
   "outputs": [
    {
     "name": "stdout",
     "output_type": "stream",
     "text": [
      "7\n"
     ]
    }
   ],
   "source": [
    "class FourCal:\n",
    "    def add(self,a,b):\n",
    "        result = a+b\n",
    "        return result\n",
    "\n",
    "a = FourCal()\n",
    "print(a.add(3,4))"
   ]
  },
  {
   "cell_type": "code",
   "execution_count": 161,
   "metadata": {},
   "outputs": [
    {
     "name": "stdout",
     "output_type": "stream",
     "text": [
      "7\n"
     ]
    }
   ],
   "source": [
    "class FourCal:\n",
    "    def setdata(self, first, second):\n",
    "        self.first = first\n",
    "        self.second = second\n",
    "        \n",
    "    def add(self):\n",
    "        result = self.first+self.second\n",
    "        return result\n",
    "\n",
    "a = FourCal()\n",
    "a.setdata(3,4)\n",
    "print(a.add())"
   ]
  },
  {
   "cell_type": "code",
   "execution_count": 175,
   "metadata": {},
   "outputs": [
    {
     "name": "stdout",
     "output_type": "stream",
     "text": [
      "FourCal.__init__()\n",
      "FourCal.div()\n"
     ]
    },
    {
     "ename": "ZeroDivisionError",
     "evalue": "division by zero",
     "output_type": "error",
     "traceback": [
      "\u001b[1;31m---------------------------------------------------------------------------\u001b[0m",
      "\u001b[1;31mZeroDivisionError\u001b[0m                         Traceback (most recent call last)",
      "\u001b[1;32m<ipython-input-175-0addf223f489>\u001b[0m in \u001b[0;36m<module>\u001b[1;34m\u001b[0m\n\u001b[0;32m     19\u001b[0m \u001b[1;33m\u001b[0m\u001b[0m\n\u001b[0;32m     20\u001b[0m \u001b[0ma\u001b[0m \u001b[1;33m=\u001b[0m \u001b[0mFourCal\u001b[0m\u001b[1;33m(\u001b[0m\u001b[1;36m3\u001b[0m\u001b[1;33m,\u001b[0m\u001b[1;36m0\u001b[0m\u001b[1;33m)\u001b[0m\u001b[1;33m\u001b[0m\u001b[1;33m\u001b[0m\u001b[0m\n\u001b[1;32m---> 21\u001b[1;33m \u001b[0mprint\u001b[0m\u001b[1;33m(\u001b[0m\u001b[0ma\u001b[0m\u001b[1;33m.\u001b[0m\u001b[0mdiv\u001b[0m\u001b[1;33m(\u001b[0m\u001b[1;33m)\u001b[0m\u001b[1;33m)\u001b[0m\u001b[1;33m\u001b[0m\u001b[1;33m\u001b[0m\u001b[0m\n\u001b[0m",
      "\u001b[1;32m<ipython-input-175-0addf223f489>\u001b[0m in \u001b[0;36mdiv\u001b[1;34m(self)\u001b[0m\n\u001b[0;32m     15\u001b[0m     \u001b[1;32mdef\u001b[0m \u001b[0mdiv\u001b[0m\u001b[1;33m(\u001b[0m\u001b[0mself\u001b[0m\u001b[1;33m)\u001b[0m\u001b[1;33m:\u001b[0m\u001b[1;33m\u001b[0m\u001b[1;33m\u001b[0m\u001b[0m\n\u001b[0;32m     16\u001b[0m         \u001b[0mprint\u001b[0m\u001b[1;33m(\u001b[0m\u001b[1;34m\"FourCal.div()\"\u001b[0m\u001b[1;33m)\u001b[0m\u001b[1;33m\u001b[0m\u001b[1;33m\u001b[0m\u001b[0m\n\u001b[1;32m---> 17\u001b[1;33m         \u001b[0mresult\u001b[0m \u001b[1;33m=\u001b[0m \u001b[0mself\u001b[0m\u001b[1;33m.\u001b[0m\u001b[0mfirst\u001b[0m\u001b[1;33m/\u001b[0m\u001b[0mself\u001b[0m\u001b[1;33m.\u001b[0m\u001b[0msecond\u001b[0m\u001b[1;33m\u001b[0m\u001b[1;33m\u001b[0m\u001b[0m\n\u001b[0m\u001b[0;32m     18\u001b[0m         \u001b[1;32mreturn\u001b[0m \u001b[0mresult\u001b[0m\u001b[1;33m\u001b[0m\u001b[1;33m\u001b[0m\u001b[0m\n\u001b[0;32m     19\u001b[0m \u001b[1;33m\u001b[0m\u001b[0m\n",
      "\u001b[1;31mZeroDivisionError\u001b[0m: division by zero"
     ]
    }
   ],
   "source": [
    "class FourCal:\n",
    "    def __init__(self, first, second):\n",
    "        print(\"FourCal.__init__()\")\n",
    "        self.first = first\n",
    "        self.second = second\n",
    "        \n",
    "    def setdata(self, first, second):\n",
    "        self.first = first\n",
    "        self.second = second\n",
    "        \n",
    "    def add(self):\n",
    "        result = self.first+self.second\n",
    "        return result\n",
    "    \n",
    "    def div(self):\n",
    "        print(\"FourCal.div()\")\n",
    "        result = self.first/self.second\n",
    "        return result\n",
    "\n",
    "a = FourCal(3,0)\n",
    "print(a.div())"
   ]
  },
  {
   "cell_type": "code",
   "execution_count": 176,
   "metadata": {},
   "outputs": [
    {
     "name": "stdout",
     "output_type": "stream",
     "text": [
      "FourCal.__init__()\n",
      "MoreFourCal.div()\n",
      "분모는 0으로 지정하면 안되요...\n"
     ]
    }
   ],
   "source": [
    "class MoreFourCal(FourCal):\n",
    "    def pow(self):\n",
    "        result = self.first ** self.second\n",
    "        return result\n",
    "    \n",
    "    def div(self):\n",
    "        print(\"MoreFourCal.div()\")\n",
    "        if(self.second==0):\n",
    "            print(\"분모는 0으로 지정하면 안되요...\")\n",
    "            return\n",
    "        \n",
    "        result = self.first/self.second\n",
    "        return result\n",
    "\n",
    "a = MoreFourCal(4,0)\n",
    "a.div()"
   ]
  },
  {
   "cell_type": "code",
   "execution_count": 181,
   "metadata": {},
   "outputs": [
    {
     "ename": "TypeError",
     "evalue": "foo() missing 1 required positional argument: 'a'",
     "output_type": "error",
     "traceback": [
      "\u001b[1;31m---------------------------------------------------------------------------\u001b[0m",
      "\u001b[1;31mTypeError\u001b[0m                                 Traceback (most recent call last)",
      "\u001b[1;32m<ipython-input-181-9882b0eddb6d>\u001b[0m in \u001b[0;36m<module>\u001b[1;34m\u001b[0m\n\u001b[0;32m      5\u001b[0m     \u001b[0mprint\u001b[0m\u001b[1;33m(\u001b[0m\u001b[1;34m\"foo(a)\"\u001b[0m\u001b[1;33m)\u001b[0m\u001b[1;33m\u001b[0m\u001b[1;33m\u001b[0m\u001b[0m\n\u001b[0;32m      6\u001b[0m \u001b[1;33m\u001b[0m\u001b[0m\n\u001b[1;32m----> 7\u001b[1;33m \u001b[0mfoo\u001b[0m\u001b[1;33m(\u001b[0m\u001b[1;33m)\u001b[0m\u001b[1;33m\u001b[0m\u001b[1;33m\u001b[0m\u001b[0m\n\u001b[0m\u001b[0;32m      8\u001b[0m \u001b[1;31m# foo(1)\u001b[0m\u001b[1;33m\u001b[0m\u001b[1;33m\u001b[0m\u001b[1;33m\u001b[0m\u001b[0m\n",
      "\u001b[1;31mTypeError\u001b[0m: foo() missing 1 required positional argument: 'a'"
     ]
    }
   ],
   "source": [
    "def foo():\n",
    "    print(\"foo()\")\n",
    "    \n",
    "def foo(a):\n",
    "    print(\"foo(a)\")\n",
    "    \n",
    "# foo()\n",
    "# foo(1)"
   ]
  },
  {
   "cell_type": "markdown",
   "metadata": {},
   "source": [
    "### 클래스 변수"
   ]
  },
  {
   "cell_type": "code",
   "execution_count": 182,
   "metadata": {},
   "outputs": [
    {
     "name": "stdout",
     "output_type": "stream",
     "text": [
      "김\n"
     ]
    }
   ],
   "source": [
    "class Family:\n",
    "    lastname = '김'\n",
    "    def foo():\n",
    "        name = '홍길동'\n",
    "        \n",
    "print(Family.lastname)\n",
    "    "
   ]
  },
  {
   "cell_type": "code",
   "execution_count": 183,
   "metadata": {},
   "outputs": [
    {
     "name": "stdout",
     "output_type": "stream",
     "text": [
      "김\n"
     ]
    }
   ],
   "source": [
    "a = Family()\n",
    "print(a.lastname)"
   ]
  },
  {
   "cell_type": "code",
   "execution_count": 184,
   "metadata": {},
   "outputs": [
    {
     "name": "stdout",
     "output_type": "stream",
     "text": [
      "김\n"
     ]
    }
   ],
   "source": [
    "b = Family()\n",
    "print(b.lastname)"
   ]
  },
  {
   "cell_type": "code",
   "execution_count": 185,
   "metadata": {},
   "outputs": [],
   "source": [
    "Family.lastname = '박'"
   ]
  },
  {
   "cell_type": "code",
   "execution_count": 186,
   "metadata": {},
   "outputs": [
    {
     "name": "stdout",
     "output_type": "stream",
     "text": [
      "박\n"
     ]
    }
   ],
   "source": [
    "print(a.lastname)"
   ]
  },
  {
   "cell_type": "code",
   "execution_count": 187,
   "metadata": {},
   "outputs": [
    {
     "name": "stdout",
     "output_type": "stream",
     "text": [
      "박\n"
     ]
    }
   ],
   "source": [
    "print(b.lastname)"
   ]
  },
  {
   "cell_type": "code",
   "execution_count": 188,
   "metadata": {},
   "outputs": [
    {
     "data": {
      "text/plain": [
       "2039502611600"
      ]
     },
     "execution_count": 188,
     "metadata": {},
     "output_type": "execute_result"
    }
   ],
   "source": [
    "id(Family.lastname)"
   ]
  },
  {
   "cell_type": "code",
   "execution_count": 189,
   "metadata": {},
   "outputs": [
    {
     "data": {
      "text/plain": [
       "2039502611600"
      ]
     },
     "execution_count": 189,
     "metadata": {},
     "output_type": "execute_result"
    }
   ],
   "source": [
    "id(a.lastname)"
   ]
  },
  {
   "cell_type": "code",
   "execution_count": 190,
   "metadata": {},
   "outputs": [
    {
     "data": {
      "text/plain": [
       "2039502611600"
      ]
     },
     "execution_count": 190,
     "metadata": {},
     "output_type": "execute_result"
    }
   ],
   "source": [
    "id(b.lastname)"
   ]
  },
  {
   "cell_type": "markdown",
   "metadata": {},
   "source": [
    "### 모듈"
   ]
  },
  {
   "cell_type": "code",
   "execution_count": 200,
   "metadata": {},
   "outputs": [
    {
     "name": "stdout",
     "output_type": "stream",
     "text": [
      "mod1: add()\n",
      "3\n",
      "mod1: sub()\n",
      "-1\n"
     ]
    }
   ],
   "source": [
    "import mod1\n",
    "print(mod1.add(1,2))\n",
    "print(mod1.sub(1,2))"
   ]
  },
  {
   "cell_type": "code",
   "execution_count": 201,
   "metadata": {},
   "outputs": [
    {
     "name": "stdout",
     "output_type": "stream",
     "text": [
      "mod1: add()\n",
      "3\n"
     ]
    }
   ],
   "source": [
    "from  mod1  import add\n",
    "print(add(1,2))"
   ]
  },
  {
   "cell_type": "code",
   "execution_count": 202,
   "metadata": {},
   "outputs": [
    {
     "name": "stdout",
     "output_type": "stream",
     "text": [
      "mod1: add()\n",
      "3\n",
      "mod1: sub()\n",
      "-1\n"
     ]
    }
   ],
   "source": [
    "from  mod1  import add,sub\n",
    "print(add(1,2))\n",
    "print(sub(1,2))"
   ]
  },
  {
   "cell_type": "code",
   "execution_count": 203,
   "metadata": {},
   "outputs": [
    {
     "name": "stdout",
     "output_type": "stream",
     "text": [
      "mod1: add()\n",
      "3\n",
      "mod1: sub()\n",
      "-1\n"
     ]
    }
   ],
   "source": [
    "from  mod1  import *\n",
    "print(add(1,2))\n",
    "print(sub(1,2))"
   ]
  },
  {
   "cell_type": "code",
   "execution_count": 204,
   "metadata": {},
   "outputs": [
    {
     "name": "stdout",
     "output_type": "stream",
     "text": [
      "__main__\n"
     ]
    }
   ],
   "source": [
    "print(__name__)"
   ]
  },
  {
   "cell_type": "code",
   "execution_count": 205,
   "metadata": {},
   "outputs": [
    {
     "name": "stdout",
     "output_type": "stream",
     "text": [
      "mod1: add()\n"
     ]
    },
    {
     "data": {
      "text/plain": [
       "3"
      ]
     },
     "execution_count": 205,
     "metadata": {},
     "output_type": "execute_result"
    }
   ],
   "source": [
    "add(1,2)"
   ]
  },
  {
   "cell_type": "code",
   "execution_count": 206,
   "metadata": {},
   "outputs": [
    {
     "name": "stdout",
     "output_type": "stream",
     "text": [
      "mod1: add()\n"
     ]
    },
    {
     "data": {
      "text/plain": [
       "3"
      ]
     },
     "execution_count": 206,
     "metadata": {},
     "output_type": "execute_result"
    }
   ],
   "source": [
    "from  mod1  import *\n",
    "add(1,2)"
   ]
  },
  {
   "cell_type": "code",
   "execution_count": 209,
   "metadata": {},
   "outputs": [],
   "source": [
    "from  mod1  import *"
   ]
  },
  {
   "cell_type": "code",
   "execution_count": 210,
   "metadata": {},
   "outputs": [
    {
     "name": "stdout",
     "output_type": "stream",
     "text": [
      "mod1\n"
     ]
    }
   ],
   "source": [
    "print(mod1.__name__)"
   ]
  },
  {
   "cell_type": "markdown",
   "metadata": {},
   "source": [
    "### 예외처리"
   ]
  },
  {
   "cell_type": "code",
   "execution_count": 212,
   "metadata": {},
   "outputs": [
    {
     "ename": "FileNotFoundError",
     "evalue": "[Errno 2] No such file or directory: '나없는파일1'",
     "output_type": "error",
     "traceback": [
      "\u001b[1;31m---------------------------------------------------------------------------\u001b[0m",
      "\u001b[1;31mFileNotFoundError\u001b[0m                         Traceback (most recent call last)",
      "\u001b[1;32m<ipython-input-212-bc31104beb9b>\u001b[0m in \u001b[0;36m<module>\u001b[1;34m\u001b[0m\n\u001b[1;32m----> 1\u001b[1;33m \u001b[0mopen\u001b[0m\u001b[1;33m(\u001b[0m\u001b[1;34m\"나없는파일1\"\u001b[0m\u001b[1;33m,\u001b[0m \u001b[1;34m\"r\"\u001b[0m\u001b[1;33m)\u001b[0m\u001b[1;33m\u001b[0m\u001b[1;33m\u001b[0m\u001b[0m\n\u001b[0m",
      "\u001b[1;31mFileNotFoundError\u001b[0m: [Errno 2] No such file or directory: '나없는파일1'"
     ]
    }
   ],
   "source": [
    "open(\"나없는파일1\", \"r\")"
   ]
  },
  {
   "cell_type": "code",
   "execution_count": 213,
   "metadata": {},
   "outputs": [
    {
     "ename": "ZeroDivisionError",
     "evalue": "division by zero",
     "output_type": "error",
     "traceback": [
      "\u001b[1;31m---------------------------------------------------------------------------\u001b[0m",
      "\u001b[1;31mZeroDivisionError\u001b[0m                         Traceback (most recent call last)",
      "\u001b[1;32m<ipython-input-213-87ac9c94a8c2>\u001b[0m in \u001b[0;36m<module>\u001b[1;34m\u001b[0m\n\u001b[1;32m----> 1\u001b[1;33m \u001b[1;36m4\u001b[0m \u001b[1;33m/\u001b[0m \u001b[1;36m0\u001b[0m\u001b[1;33m\u001b[0m\u001b[1;33m\u001b[0m\u001b[0m\n\u001b[0m",
      "\u001b[1;31mZeroDivisionError\u001b[0m: division by zero"
     ]
    }
   ],
   "source": [
    "4 / 0"
   ]
  },
  {
   "cell_type": "code",
   "execution_count": 214,
   "metadata": {},
   "outputs": [
    {
     "ename": "IndexError",
     "evalue": "list index out of range",
     "output_type": "error",
     "traceback": [
      "\u001b[1;31m---------------------------------------------------------------------------\u001b[0m",
      "\u001b[1;31mIndexError\u001b[0m                                Traceback (most recent call last)",
      "\u001b[1;32m<ipython-input-214-47894dcd86df>\u001b[0m in \u001b[0;36m<module>\u001b[1;34m\u001b[0m\n\u001b[0;32m      1\u001b[0m \u001b[0ma\u001b[0m \u001b[1;33m=\u001b[0m \u001b[1;33m[\u001b[0m\u001b[1;36m1\u001b[0m\u001b[1;33m,\u001b[0m\u001b[1;36m2\u001b[0m\u001b[1;33m,\u001b[0m\u001b[1;36m3\u001b[0m\u001b[1;33m]\u001b[0m\u001b[1;33m\u001b[0m\u001b[1;33m\u001b[0m\u001b[0m\n\u001b[1;32m----> 2\u001b[1;33m \u001b[0ma\u001b[0m\u001b[1;33m[\u001b[0m\u001b[1;36m3\u001b[0m\u001b[1;33m]\u001b[0m\u001b[1;33m\u001b[0m\u001b[1;33m\u001b[0m\u001b[0m\n\u001b[0m",
      "\u001b[1;31mIndexError\u001b[0m: list index out of range"
     ]
    }
   ],
   "source": [
    "a = [1,2,3]\n",
    "a[3]"
   ]
  },
  {
   "cell_type": "code",
   "execution_count": 215,
   "metadata": {},
   "outputs": [
    {
     "name": "stdout",
     "output_type": "stream",
     "text": [
      "division by zero\n"
     ]
    }
   ],
   "source": [
    "try : \n",
    "    4 / 0\n",
    "except  ZeroDivisionError as e : \n",
    "    print(e)"
   ]
  },
  {
   "cell_type": "code",
   "execution_count": 216,
   "metadata": {},
   "outputs": [
    {
     "name": "stdout",
     "output_type": "stream",
     "text": [
      "파일 종료\n"
     ]
    },
    {
     "ename": "ZeroDivisionError",
     "evalue": "division by zero",
     "output_type": "error",
     "traceback": [
      "\u001b[1;31m---------------------------------------------------------------------------\u001b[0m",
      "\u001b[1;31mZeroDivisionError\u001b[0m                         Traceback (most recent call last)",
      "\u001b[1;32m<ipython-input-216-8f3921cca94a>\u001b[0m in \u001b[0;36m<module>\u001b[1;34m\u001b[0m\n\u001b[0;32m      1\u001b[0m \u001b[0mf\u001b[0m  \u001b[1;33m=\u001b[0m \u001b[0mopen\u001b[0m\u001b[1;33m(\u001b[0m\u001b[1;34m'foo.txt'\u001b[0m\u001b[1;33m,\u001b[0m \u001b[1;34m'w'\u001b[0m\u001b[1;33m)\u001b[0m\u001b[1;33m\u001b[0m\u001b[1;33m\u001b[0m\u001b[0m\n\u001b[0;32m      2\u001b[0m \u001b[1;32mtry\u001b[0m \u001b[1;33m:\u001b[0m\u001b[1;33m\u001b[0m\u001b[1;33m\u001b[0m\u001b[0m\n\u001b[1;32m----> 3\u001b[1;33m     \u001b[1;36m4\u001b[0m \u001b[1;33m/\u001b[0m \u001b[1;36m0\u001b[0m\u001b[1;33m\u001b[0m\u001b[1;33m\u001b[0m\u001b[0m\n\u001b[0m\u001b[0;32m      4\u001b[0m \u001b[1;32mfinally\u001b[0m\u001b[1;33m:\u001b[0m\u001b[1;33m\u001b[0m\u001b[1;33m\u001b[0m\u001b[0m\n\u001b[0;32m      5\u001b[0m     \u001b[0mf\u001b[0m\u001b[1;33m.\u001b[0m\u001b[0mclose\u001b[0m\u001b[1;33m(\u001b[0m\u001b[1;33m)\u001b[0m\u001b[1;33m\u001b[0m\u001b[1;33m\u001b[0m\u001b[0m\n",
      "\u001b[1;31mZeroDivisionError\u001b[0m: division by zero"
     ]
    }
   ],
   "source": [
    "f  = open('foo.txt', 'w')\n",
    "try : \n",
    "    4 / 0\n",
    "finally:  \n",
    "    f.close()\n",
    "    print(\"파일 종료\")"
   ]
  },
  {
   "cell_type": "markdown",
   "metadata": {},
   "source": [
    "### 여러개의 오류 처리하기 "
   ]
  },
  {
   "cell_type": "code",
   "execution_count": 224,
   "metadata": {},
   "outputs": [
    {
     "name": "stdout",
     "output_type": "stream",
     "text": [
      "0으로 나눌수 없습니다.\n"
     ]
    }
   ],
   "source": [
    "try:\n",
    "    4/0\n",
    "    a = [1,2]\n",
    "    a[3] = 4\n",
    "    \n",
    "except  ZeroDivisionError as e: \n",
    "    print(\"0으로 나눌수 없습니다.\")\n",
    "except IndexError:\n",
    "    print(\"인덱싱할 수 없습니다.\")"
   ]
  },
  {
   "cell_type": "code",
   "execution_count": 226,
   "metadata": {},
   "outputs": [
    {
     "name": "stdout",
     "output_type": "stream",
     "text": [
      "list assignment index out of range\n"
     ]
    }
   ],
   "source": [
    "try:\n",
    "    \n",
    "    a = [1,2]\n",
    "    a[3] = 4\n",
    "    4/0\n",
    "    \n",
    "except  (ZeroDivisionError,IndexError)  as e: \n",
    "    print(e)\n"
   ]
  },
  {
   "cell_type": "markdown",
   "metadata": {},
   "source": [
    "### 오류 회피하기 "
   ]
  },
  {
   "cell_type": "code",
   "execution_count": 229,
   "metadata": {},
   "outputs": [],
   "source": [
    "try : \n",
    "    f = open(\"나없는파일3\", \"r\")\n",
    "except FileNotFoundError:\n",
    "    pass"
   ]
  },
  {
   "cell_type": "markdown",
   "metadata": {},
   "source": [
    "### 오류 일부러 발생시키기"
   ]
  },
  {
   "cell_type": "code",
   "execution_count": 231,
   "metadata": {},
   "outputs": [
    {
     "ename": "NotImplementedError",
     "evalue": "",
     "output_type": "error",
     "traceback": [
      "\u001b[1;31m---------------------------------------------------------------------------\u001b[0m",
      "\u001b[1;31mNotImplementedError\u001b[0m                       Traceback (most recent call last)",
      "\u001b[1;32m<ipython-input-231-7d9f62126725>\u001b[0m in \u001b[0;36m<module>\u001b[1;34m\u001b[0m\n\u001b[0;32m      4\u001b[0m \u001b[1;33m\u001b[0m\u001b[0m\n\u001b[0;32m      5\u001b[0m \u001b[0mb\u001b[0m \u001b[1;33m=\u001b[0m \u001b[0mBird\u001b[0m\u001b[1;33m(\u001b[0m\u001b[1;33m)\u001b[0m\u001b[1;33m\u001b[0m\u001b[1;33m\u001b[0m\u001b[0m\n\u001b[1;32m----> 6\u001b[1;33m \u001b[0mb\u001b[0m\u001b[1;33m.\u001b[0m\u001b[0mfly\u001b[0m\u001b[1;33m(\u001b[0m\u001b[1;33m)\u001b[0m\u001b[1;33m\u001b[0m\u001b[1;33m\u001b[0m\u001b[0m\n\u001b[0m",
      "\u001b[1;32m<ipython-input-231-7d9f62126725>\u001b[0m in \u001b[0;36mfly\u001b[1;34m(self)\u001b[0m\n\u001b[0;32m      1\u001b[0m \u001b[1;32mclass\u001b[0m \u001b[0mBird\u001b[0m\u001b[1;33m:\u001b[0m\u001b[1;33m\u001b[0m\u001b[1;33m\u001b[0m\u001b[0m\n\u001b[0;32m      2\u001b[0m     \u001b[1;32mdef\u001b[0m \u001b[0mfly\u001b[0m\u001b[1;33m(\u001b[0m\u001b[0mself\u001b[0m\u001b[1;33m)\u001b[0m\u001b[1;33m:\u001b[0m\u001b[1;33m\u001b[0m\u001b[1;33m\u001b[0m\u001b[0m\n\u001b[1;32m----> 3\u001b[1;33m         \u001b[1;32mraise\u001b[0m  \u001b[0mNotImplementedError\u001b[0m\u001b[1;33m\u001b[0m\u001b[1;33m\u001b[0m\u001b[0m\n\u001b[0m\u001b[0;32m      4\u001b[0m \u001b[1;33m\u001b[0m\u001b[0m\n\u001b[0;32m      5\u001b[0m \u001b[0mb\u001b[0m \u001b[1;33m=\u001b[0m \u001b[0mBird\u001b[0m\u001b[1;33m(\u001b[0m\u001b[1;33m)\u001b[0m\u001b[1;33m\u001b[0m\u001b[1;33m\u001b[0m\u001b[0m\n",
      "\u001b[1;31mNotImplementedError\u001b[0m: "
     ]
    }
   ],
   "source": [
    "class Bird:\n",
    "    def fly(self):\n",
    "        raise  NotImplementedError\n",
    "        \n",
    "b = Bird()\n",
    "b.fly()"
   ]
  },
  {
   "cell_type": "code",
   "execution_count": 233,
   "metadata": {},
   "outputs": [
    {
     "ename": "NotImplementedError",
     "evalue": "",
     "output_type": "error",
     "traceback": [
      "\u001b[1;31m---------------------------------------------------------------------------\u001b[0m",
      "\u001b[1;31mNotImplementedError\u001b[0m                       Traceback (most recent call last)",
      "\u001b[1;32m<ipython-input-233-4c872f5f1bd5>\u001b[0m in \u001b[0;36m<module>\u001b[1;34m\u001b[0m\n\u001b[0;32m      9\u001b[0m \u001b[1;33m\u001b[0m\u001b[0m\n\u001b[0;32m     10\u001b[0m \u001b[0me\u001b[0m \u001b[1;33m=\u001b[0m \u001b[0mEagle\u001b[0m\u001b[1;33m(\u001b[0m\u001b[1;33m)\u001b[0m\u001b[1;33m\u001b[0m\u001b[1;33m\u001b[0m\u001b[0m\n\u001b[1;32m---> 11\u001b[1;33m \u001b[0me\u001b[0m\u001b[1;33m.\u001b[0m\u001b[0mfly\u001b[0m\u001b[1;33m(\u001b[0m\u001b[1;33m)\u001b[0m\u001b[1;33m\u001b[0m\u001b[1;33m\u001b[0m\u001b[0m\n\u001b[0m",
      "\u001b[1;32m<ipython-input-233-4c872f5f1bd5>\u001b[0m in \u001b[0;36mfly\u001b[1;34m(self)\u001b[0m\n\u001b[0;32m      1\u001b[0m \u001b[1;32mclass\u001b[0m \u001b[0mBird\u001b[0m\u001b[1;33m:\u001b[0m\u001b[1;33m\u001b[0m\u001b[1;33m\u001b[0m\u001b[0m\n\u001b[0;32m      2\u001b[0m     \u001b[1;32mdef\u001b[0m \u001b[0mfly\u001b[0m\u001b[1;33m(\u001b[0m\u001b[0mself\u001b[0m\u001b[1;33m)\u001b[0m\u001b[1;33m:\u001b[0m\u001b[1;33m\u001b[0m\u001b[1;33m\u001b[0m\u001b[0m\n\u001b[1;32m----> 3\u001b[1;33m         \u001b[1;32mraise\u001b[0m  \u001b[0mNotImplementedError\u001b[0m\u001b[1;33m\u001b[0m\u001b[1;33m\u001b[0m\u001b[0m\n\u001b[0m\u001b[0;32m      4\u001b[0m \u001b[1;33m\u001b[0m\u001b[0m\n\u001b[0;32m      5\u001b[0m \u001b[1;32mclass\u001b[0m \u001b[0mEagle\u001b[0m\u001b[1;33m(\u001b[0m\u001b[0mBird\u001b[0m\u001b[1;33m)\u001b[0m\u001b[1;33m:\u001b[0m\u001b[1;33m\u001b[0m\u001b[1;33m\u001b[0m\u001b[0m\n",
      "\u001b[1;31mNotImplementedError\u001b[0m: "
     ]
    }
   ],
   "source": [
    "class Bird:\n",
    "    def fly(self):\n",
    "        raise  NotImplementedError\n",
    "\n",
    "class Eagle(Bird):\n",
    "    pass\n",
    "#     def fly(self):\n",
    "#         pass\n",
    "    \n",
    "e = Eagle()\n",
    "e.fly()"
   ]
  },
  {
   "cell_type": "code",
   "execution_count": 235,
   "metadata": {},
   "outputs": [
    {
     "name": "stdout",
     "output_type": "stream",
     "text": [
      "호랭이\n"
     ]
    }
   ],
   "source": [
    "class MyError(Exception):\n",
    "    pass\n",
    "\n",
    "def say_nick(nick):\n",
    "    if( nick == '멍충이'):\n",
    "        raise MyError()\n",
    "    print(nick)\n",
    "    \n",
    "say_nick(\"호랭이\")"
   ]
  },
  {
   "cell_type": "code",
   "execution_count": 237,
   "metadata": {},
   "outputs": [
    {
     "name": "stdout",
     "output_type": "stream",
     "text": [
      "허용되지 않는 별명입니다.\n"
     ]
    }
   ],
   "source": [
    "try:\n",
    "    say_nick(\"멍충이\")\n",
    "except MyError:\n",
    "    print('허용되지 않는 별명입니다.')"
   ]
  },
  {
   "cell_type": "code",
   "execution_count": 239,
   "metadata": {},
   "outputs": [
    {
     "name": "stdout",
     "output_type": "stream",
     "text": [
      "허용 되지 않는 별명입니다.\n"
     ]
    }
   ],
   "source": [
    "class MyError(Exception):\n",
    "    def  __str__(self):\n",
    "        return \"허용 되지 않는 별명입니다.\"\n",
    "\n",
    "def say_nick(nick):\n",
    "    if( nick == '멍충이'):\n",
    "        raise MyError()\n",
    "    print(nick)\n",
    "    \n",
    "try:\n",
    "    say_nick(\"멍충이\")\n",
    "except MyError as e:\n",
    "    print(e)"
   ]
  },
  {
   "cell_type": "markdown",
   "metadata": {},
   "source": [
    "### 내장 함수"
   ]
  },
  {
   "cell_type": "code",
   "execution_count": 243,
   "metadata": {},
   "outputs": [
    {
     "name": "stdout",
     "output_type": "stream",
     "text": [
      "0 body\n",
      "1 foo\n",
      "2 bar\n"
     ]
    }
   ],
   "source": [
    "for  i, value in enumerate(['body', 'foo', 'bar']):\n",
    "    print(i, value)"
   ]
  },
  {
   "cell_type": "code",
   "execution_count": 245,
   "metadata": {},
   "outputs": [
    {
     "name": "stdout",
     "output_type": "stream",
     "text": [
      "body 100\n",
      "foo 200\n",
      "bar 300\n"
     ]
    },
    {
     "ename": "IndexError",
     "evalue": "list index out of range",
     "output_type": "error",
     "traceback": [
      "\u001b[1;31m---------------------------------------------------------------------------\u001b[0m",
      "\u001b[1;31mIndexError\u001b[0m                                Traceback (most recent call last)",
      "\u001b[1;32m<ipython-input-245-be359a39d5aa>\u001b[0m in \u001b[0;36m<module>\u001b[1;34m\u001b[0m\n\u001b[0;32m      3\u001b[0m \u001b[1;33m\u001b[0m\u001b[0m\n\u001b[0;32m      4\u001b[0m \u001b[1;32mfor\u001b[0m  \u001b[0mi\u001b[0m \u001b[1;32min\u001b[0m \u001b[0mrange\u001b[0m\u001b[1;33m(\u001b[0m\u001b[1;36m4\u001b[0m\u001b[1;33m)\u001b[0m\u001b[1;33m:\u001b[0m\u001b[1;33m\u001b[0m\u001b[1;33m\u001b[0m\u001b[0m\n\u001b[1;32m----> 5\u001b[1;33m     \u001b[0mprint\u001b[0m\u001b[1;33m(\u001b[0m\u001b[0ma\u001b[0m\u001b[1;33m[\u001b[0m\u001b[0mi\u001b[0m\u001b[1;33m]\u001b[0m\u001b[1;33m,\u001b[0m \u001b[0mb\u001b[0m\u001b[1;33m[\u001b[0m\u001b[0mi\u001b[0m\u001b[1;33m]\u001b[0m\u001b[1;33m)\u001b[0m\u001b[1;33m\u001b[0m\u001b[1;33m\u001b[0m\u001b[0m\n\u001b[0m",
      "\u001b[1;31mIndexError\u001b[0m: list index out of range"
     ]
    }
   ],
   "source": [
    "a = ['body', 'foo', 'bar']\n",
    "b = [100,200,300,400]\n",
    "\n",
    "for  i in range(4):\n",
    "    print(a[i], b[i])"
   ]
  },
  {
   "cell_type": "code",
   "execution_count": 246,
   "metadata": {},
   "outputs": [
    {
     "name": "stdout",
     "output_type": "stream",
     "text": [
      "('body', 100)\n",
      "('foo', 200)\n",
      "('bar', 300)\n"
     ]
    }
   ],
   "source": [
    "a = ['body', 'foo', 'bar']\n",
    "b = [100,200,300,400]\n",
    "\n",
    "for  temp in zip(a, b):\n",
    "    print(temp)"
   ]
  },
  {
   "cell_type": "code",
   "execution_count": 247,
   "metadata": {},
   "outputs": [
    {
     "data": {
      "text/plain": [
       "[(1, 4), (2, 5), (3, 6)]"
      ]
     },
     "execution_count": 247,
     "metadata": {},
     "output_type": "execute_result"
    }
   ],
   "source": [
    "list(zip([1,2,3],[4,5,6]))"
   ]
  },
  {
   "cell_type": "code",
   "execution_count": 248,
   "metadata": {},
   "outputs": [
    {
     "data": {
      "text/plain": [
       "[(1, 4, 7), (2, 5, 8), (3, 6, 9)]"
      ]
     },
     "execution_count": 248,
     "metadata": {},
     "output_type": "execute_result"
    }
   ],
   "source": [
    "list(zip([1,2,3],[4,5,6],[7,8,9]))"
   ]
  },
  {
   "cell_type": "code",
   "execution_count": 249,
   "metadata": {},
   "outputs": [
    {
     "data": {
      "text/plain": [
       "[('a', 'd'), ('b', 'e'), ('c', 'f')]"
      ]
     },
     "execution_count": 249,
     "metadata": {},
     "output_type": "execute_result"
    }
   ],
   "source": [
    "list(zip(\"abc\", \"def\"))"
   ]
  },
  {
   "cell_type": "code",
   "execution_count": 250,
   "metadata": {},
   "outputs": [
    {
     "data": {
      "text/plain": [
       "[('a', 10), ('b', 20), ('c', 30)]"
      ]
     },
     "execution_count": 250,
     "metadata": {},
     "output_type": "execute_result"
    }
   ],
   "source": [
    "list(zip(\"abc\", [10,20,30]))"
   ]
  },
  {
   "cell_type": "code",
   "execution_count": null,
   "metadata": {},
   "outputs": [],
   "source": []
  }
 ],
 "metadata": {
  "kernelspec": {
   "display_name": "Python 3",
   "language": "python",
   "name": "python3"
  },
  "language_info": {
   "codemirror_mode": {
    "name": "ipython",
    "version": 3
   },
   "file_extension": ".py",
   "mimetype": "text/x-python",
   "name": "python",
   "nbconvert_exporter": "python",
   "pygments_lexer": "ipython3",
   "version": "3.7.6"
  }
 },
 "nbformat": 4,
 "nbformat_minor": 4
}
