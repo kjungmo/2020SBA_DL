{
 "cells": [
  {
   "cell_type": "markdown",
   "metadata": {},
   "source": [
    "### 문자열 전체 반전하기"
   ]
  },
  {
   "cell_type": "code",
   "execution_count": 5,
   "metadata": {},
   "outputs": [
    {
     "name": "stdout",
     "output_type": "stream",
     "text": [
      "!상세 녕안\n",
      "!상세 녕안\n"
     ]
    }
   ],
   "source": [
    "def revert(s):\n",
    "    if s:\n",
    "        s = s[-1] +  revert(s[:-1])\n",
    "    return s\n",
    "\n",
    "def revert2(string):\n",
    "    return string[::-1]\n",
    "\n",
    "if __name__ == \"__main__\":\n",
    "    str1 = \"안녕 세상!\"\n",
    "    str2 = revert(str1)\n",
    "    str3 = revert2(str1)\n",
    "    print(str2)\n",
    "    print(str3)\n"
   ]
  },
  {
   "cell_type": "markdown",
   "metadata": {},
   "source": [
    "### 문자열 단어 단위로 반전하기"
   ]
  },
  {
   "cell_type": "code",
   "execution_count": 10,
   "metadata": {},
   "outputs": [
    {
     "name": "stdout",
     "output_type": "stream",
     "text": [
      "재미있다 정말 알고리즘 파이썬\n"
     ]
    }
   ],
   "source": [
    "def reverser(string1, p1=0, p2=None):\n",
    "    if len(string1)< 2 :\n",
    "        return string1\n",
    "    \n",
    "    p2 = p2 or len(string1)-1 \n",
    "    \n",
    "    while p1 < p2 :\n",
    "        string1[p1], string1[p2] = string1[p2], string1[p1]\n",
    "        p1 += 1\n",
    "        p2 -= 1\n",
    "\n",
    "def reversing_words_setence_logic(string1):\n",
    "    reverser(string1)\n",
    "#     print(string1)\n",
    "    p = 0\n",
    "    start = 0\n",
    "    while p < len(string1):\n",
    "        if string1[p] == u\"\\u0020\":\n",
    "            reverser(string1, start, p-1)\n",
    "            start = p+1\n",
    "        p += 1\n",
    "    \n",
    "    reverser(string1, start, p-1)\n",
    "    return \"\".join(string1)\n",
    "            \n",
    "\n",
    "if __name__ == \"__main__\":\n",
    "    str1 = \"파이썬 알고리즘 정말 재미있다\"\n",
    "    str2 = reversing_words_setence_logic( list(str1) )\n",
    "    print(str2)"
   ]
  },
  {
   "cell_type": "code",
   "execution_count": 26,
   "metadata": {},
   "outputs": [
    {
     "name": "stdout",
     "output_type": "stream",
     "text": [
      "재미있다 정말 알고리즘 파이썬\n"
     ]
    }
   ],
   "source": [
    "def reversing_words_brute(string):\n",
    "    word, sentence = [], []\n",
    "    for character in string:\n",
    "        if( character != \" \" ):\n",
    "            word.append(character)\n",
    "        else:\n",
    "            if word:\n",
    "                sentence.append(\"\".join(word))\n",
    "            word = []\n",
    "\n",
    "    if word != \"\" :\n",
    "        sentence.append(\"\".join(word))   \n",
    "        \n",
    "    sentence.reverse()\n",
    "    return \" \".join(sentence)\n",
    "            \n",
    "\n",
    "if __name__ == \"__main__\":\n",
    "    str1 = \"파이썬 알고리즘 정말 재미있다\"\n",
    "    str2 = reversing_words_brute(str1)\n",
    "    print(str2)"
   ]
  },
  {
   "cell_type": "code",
   "execution_count": 18,
   "metadata": {},
   "outputs": [
    {
     "name": "stdout",
     "output_type": "stream",
     "text": [
      "재미있다 정말 알고리즘 파이썬\n"
     ]
    }
   ],
   "source": [
    "def reversing_words_slice(word):\n",
    "    new_word = []\n",
    "    words = word.split(\" \")\n",
    "    for word in words[::-1]:\n",
    "        new_word.append(word)\n",
    "    \n",
    "    return \" \".join(new_word)\n",
    "            \n",
    "\n",
    "if __name__ == \"__main__\":\n",
    "    str1 = \"파이썬 알고리즘 정말 재미있다\"\n",
    "    str2 = reversing_words_slice(str1)\n",
    "    print(str2)"
   ]
  },
  {
   "cell_type": "code",
   "execution_count": 23,
   "metadata": {},
   "outputs": [
    {
     "name": "stdout",
     "output_type": "stream",
     "text": [
      "재미있다 정말 알고리즘 파이썬\n",
      "재미있다 정말 알고리즘 파이썬\n"
     ]
    }
   ],
   "source": [
    "def reversing_words(str1):\n",
    "    words = str1.split(\" \")\n",
    "    rev_set = \" \".join(reversed(words))\n",
    "    return rev_set\n",
    "            \n",
    "def reversing_words2(str1):\n",
    "    words = str1.split(\" \")\n",
    "    words.reverse()\n",
    "    return \" \".join(words)\n",
    "            \n",
    "if __name__ == \"__main__\":\n",
    "    str1 = \"파이썬 알고리즘 정말 재미있다\"\n",
    "    str2 = reversing_words(str1)\n",
    "    str3 = reversing_words2(str1)\n",
    "    print(str2)\n",
    "    print(str3)"
   ]
  },
  {
   "cell_type": "markdown",
   "metadata": {},
   "source": [
    "### 단순 문자열 압축"
   ]
  },
  {
   "cell_type": "code",
   "execution_count": 27,
   "metadata": {},
   "outputs": [
    {
     "name": "stdout",
     "output_type": "stream",
     "text": [
      "a2b1c5a3\n"
     ]
    }
   ],
   "source": [
    "def str_compression(s):\n",
    "    count, last = 1, \"\"\n",
    "    list_aux = []\n",
    "    \n",
    "    for i, c in enumerate(s):\n",
    "        if last == c:\n",
    "            count += 1\n",
    "        else:\n",
    "            if i != 0:\n",
    "                list_aux.append(str(count))\n",
    "            list_aux.append(c)\n",
    "            count = 1\n",
    "            last = c\n",
    "    list_aux.append(str(count))\n",
    "    return \"\".join(list_aux)\n",
    "                \n",
    "if __name__ == \"__main__\":\n",
    "    result = str_compression(\"aabcccccaaa\")\n",
    "    print(result)"
   ]
  },
  {
   "cell_type": "markdown",
   "metadata": {},
   "source": [
    "###  문자열 순열"
   ]
  },
  {
   "cell_type": "code",
   "execution_count": 34,
   "metadata": {},
   "outputs": [
    {
     "name": "stdout",
     "output_type": "stream",
     "text": [
      "['012', '021', '102', '120', '201', '210']\n",
      "['012', '021', '102', '120', '201', '210']\n"
     ]
    }
   ],
   "source": [
    "import itertools\n",
    "def perm(s):\n",
    "    if len(s) < 2:\n",
    "        return s\n",
    "    res = []\n",
    "    for i, c in enumerate(s):\n",
    "        for cc in perm(s[:i]+s[i+1:]):\n",
    "            res.append(c + cc)\n",
    "    return res\n",
    "\n",
    "def perm2(s):\n",
    "    res = itertools.permutations(s)\n",
    "    return [\"\".join(i) for i in res]\n",
    "\n",
    "if __name__ == \"__main__\":\n",
    "    val = \"012\"\n",
    "    \n",
    "    print(perm(val))\n",
    "    print(perm2(val))"
   ]
  },
  {
   "cell_type": "markdown",
   "metadata": {},
   "source": [
    "### combination 구현"
   ]
  },
  {
   "cell_type": "code",
   "execution_count": 36,
   "metadata": {},
   "outputs": [
    {
     "name": "stdout",
     "output_type": "stream",
     "text": [
      "['a', 'ab', 'abc', 'ac', 'acb', 'b', 'ba', 'bac', 'bc', 'bca', 'c', 'ca', 'cab', 'cb', 'cba']\n"
     ]
    }
   ],
   "source": [
    "def combinations(s):\n",
    "    if len(s) < 2:\n",
    "        return s\n",
    "    res = []\n",
    "    for i, c in enumerate(s):\n",
    "        res.append(c)\n",
    "        for j in combinations(s[:i]+s[i+1:]):\n",
    "            res.append(c + j)\n",
    "    return res\n",
    "\n",
    "\n",
    "if __name__ == \"__main__\":\n",
    "    result = combinations(\"abc\")\n",
    "    print(result)"
   ]
  },
  {
   "cell_type": "markdown",
   "metadata": {},
   "source": [
    "### 회문"
   ]
  },
  {
   "cell_type": "code",
   "execution_count": 47,
   "metadata": {},
   "outputs": [
    {
     "name": "stdout",
     "output_type": "stream",
     "text": [
      "True\n"
     ]
    }
   ],
   "source": [
    "def is_palindrome(s):\n",
    "    l = s.split(\" \")\n",
    "    s2 = \"\".join(l)\n",
    "    return s2 == s2[::-1]\n",
    "\n",
    "def is_palindrome2(s):\n",
    "    l = len(s)\n",
    "    f, b = 0, l-1\n",
    "    \n",
    "    while( f < l//2 ):\n",
    "        while s[f] == \" \":\n",
    "            f += 1\n",
    "        while s[f] == \" \":\n",
    "            b -= 1\n",
    "            \n",
    "        if( s[f] != s[b] ):\n",
    "            return False\n",
    "        \n",
    "        f+=1\n",
    "        b-=1\n",
    "    return True\n",
    "\n",
    "def is_palindrome3(s):\n",
    "    s = s.strip()\n",
    "    if len(s) < 2:\n",
    "        return True\n",
    "    if s[0] == s[-1]:\n",
    "        return is_palindrome3(s[1:-1])\n",
    "    else:\n",
    "        return False\n",
    "\n",
    "if __name__ == \"__main__\":\n",
    "    str1 = \"소주 잔한잔주소\"\n",
    "    print(is_palindrome3(str1))"
   ]
  },
  {
   "cell_type": "markdown",
   "metadata": {},
   "source": [
    "### set(집합)"
   ]
  },
  {
   "cell_type": "code",
   "execution_count": 48,
   "metadata": {},
   "outputs": [
    {
     "data": {
      "text/plain": [
       "['__and__',\n",
       " '__class__',\n",
       " '__contains__',\n",
       " '__delattr__',\n",
       " '__dir__',\n",
       " '__doc__',\n",
       " '__eq__',\n",
       " '__format__',\n",
       " '__ge__',\n",
       " '__getattribute__',\n",
       " '__gt__',\n",
       " '__hash__',\n",
       " '__iand__',\n",
       " '__init__',\n",
       " '__init_subclass__',\n",
       " '__ior__',\n",
       " '__isub__',\n",
       " '__iter__',\n",
       " '__ixor__',\n",
       " '__le__',\n",
       " '__len__',\n",
       " '__lt__',\n",
       " '__ne__',\n",
       " '__new__',\n",
       " '__or__',\n",
       " '__rand__',\n",
       " '__reduce__',\n",
       " '__reduce_ex__',\n",
       " '__repr__',\n",
       " '__ror__',\n",
       " '__rsub__',\n",
       " '__rxor__',\n",
       " '__setattr__',\n",
       " '__sizeof__',\n",
       " '__str__',\n",
       " '__sub__',\n",
       " '__subclasshook__',\n",
       " '__xor__',\n",
       " 'add',\n",
       " 'clear',\n",
       " 'copy',\n",
       " 'difference',\n",
       " 'difference_update',\n",
       " 'discard',\n",
       " 'intersection',\n",
       " 'intersection_update',\n",
       " 'isdisjoint',\n",
       " 'issubset',\n",
       " 'issuperset',\n",
       " 'pop',\n",
       " 'remove',\n",
       " 'symmetric_difference',\n",
       " 'symmetric_difference_update',\n",
       " 'union',\n",
       " 'update']"
      ]
     },
     "execution_count": 48,
     "metadata": {},
     "output_type": "execute_result"
    }
   ],
   "source": [
    "dir(set())"
   ]
  },
  {
   "cell_type": "code",
   "execution_count": 49,
   "metadata": {},
   "outputs": [],
   "source": [
    "fs = frozenset((0,1,2,3,4))"
   ]
  },
  {
   "cell_type": "code",
   "execution_count": 50,
   "metadata": {},
   "outputs": [
    {
     "data": {
      "text/plain": [
       "True"
      ]
     },
     "execution_count": 50,
     "metadata": {},
     "output_type": "execute_result"
    }
   ],
   "source": [
    "2 in fs"
   ]
  },
  {
   "cell_type": "code",
   "execution_count": 51,
   "metadata": {},
   "outputs": [
    {
     "data": {
      "text/plain": [
       "5"
      ]
     },
     "execution_count": 51,
     "metadata": {},
     "output_type": "execute_result"
    }
   ],
   "source": [
    "len(fs)"
   ]
  },
  {
   "cell_type": "markdown",
   "metadata": {},
   "source": [
    "### set method"
   ]
  },
  {
   "cell_type": "code",
   "execution_count": 53,
   "metadata": {},
   "outputs": [
    {
     "data": {
      "text/plain": [
       "{'버피', '에인절', '윌로', '자일스'}"
      ]
     },
     "execution_count": 53,
     "metadata": {},
     "output_type": "execute_result"
    }
   ],
   "source": [
    "people = {\"버피\", \"에인절\", \"자일스\"}\n",
    "people.add(\"윌로\")\n",
    "people"
   ]
  },
  {
   "cell_type": "code",
   "execution_count": 55,
   "metadata": {},
   "outputs": [
    {
     "data": {
      "text/plain": [
       "{'로미오', '버피', '에인절', '자일스', '줄리엣'}"
      ]
     },
     "execution_count": 55,
     "metadata": {},
     "output_type": "execute_result"
    }
   ],
   "source": [
    "people = {\"버피\", \"에인절\", \"자일스\"}\n",
    "people.update({\"로미오\", \"에인절\", \"줄리엣\"})\n",
    "people"
   ]
  },
  {
   "cell_type": "code",
   "execution_count": 56,
   "metadata": {},
   "outputs": [],
   "source": [
    "people |= {\"리키\", \"유진\", \"에인절\"}"
   ]
  },
  {
   "cell_type": "code",
   "execution_count": 57,
   "metadata": {},
   "outputs": [
    {
     "data": {
      "text/plain": [
       "{'로미오', '리키', '버피', '에인절', '유진', '자일스', '줄리엣'}"
      ]
     },
     "execution_count": 57,
     "metadata": {},
     "output_type": "execute_result"
    }
   ],
   "source": [
    "people"
   ]
  },
  {
   "cell_type": "code",
   "execution_count": 59,
   "metadata": {},
   "outputs": [
    {
     "data": {
      "text/plain": [
       "{'에인절', '자일스'}"
      ]
     },
     "execution_count": 59,
     "metadata": {},
     "output_type": "execute_result"
    }
   ],
   "source": [
    "people = {\"버피\", \"에인절\", \"자일스\", \"이안\"}\n",
    "vampires = { \"에인절\", \"자일스\", \"윌로\" }\n",
    "people.intersection(vampires)"
   ]
  },
  {
   "cell_type": "code",
   "execution_count": 60,
   "metadata": {},
   "outputs": [
    {
     "data": {
      "text/plain": [
       "{'에인절', '자일스'}"
      ]
     },
     "execution_count": 60,
     "metadata": {},
     "output_type": "execute_result"
    }
   ],
   "source": [
    "people & vampires"
   ]
  },
  {
   "cell_type": "code",
   "execution_count": 61,
   "metadata": {},
   "outputs": [
    {
     "data": {
      "text/plain": [
       "{'버피', '아영', '자일스'}"
      ]
     },
     "execution_count": 61,
     "metadata": {},
     "output_type": "execute_result"
    }
   ],
   "source": [
    "people = {\"버피\", \"에인절\", \"자일스\", \"아영\"}\n",
    "vampires = { \"스파이크\", \"에인절\", \"상민\" }\n",
    "people.difference(vampires)"
   ]
  },
  {
   "cell_type": "code",
   "execution_count": 62,
   "metadata": {},
   "outputs": [
    {
     "data": {
      "text/plain": [
       "{'버피', '아영', '자일스'}"
      ]
     },
     "execution_count": 62,
     "metadata": {},
     "output_type": "execute_result"
    }
   ],
   "source": [
    "people - vampires"
   ]
  },
  {
   "cell_type": "code",
   "execution_count": 63,
   "metadata": {},
   "outputs": [
    {
     "data": {
      "text/plain": [
       "set()"
      ]
     },
     "execution_count": 63,
     "metadata": {},
     "output_type": "execute_result"
    }
   ],
   "source": [
    "people = {\"버피\", \"에인절\", \"자일스\", \"아영\"}\n",
    "people.clear()\n",
    "people"
   ]
  },
  {
   "cell_type": "code",
   "execution_count": 69,
   "metadata": {},
   "outputs": [
    {
     "data": {
      "text/plain": [
       "{'스페인', '프랑스'}"
      ]
     },
     "execution_count": 69,
     "metadata": {},
     "output_type": "execute_result"
    }
   ],
   "source": [
    "countris = {\"프랑스\", \"스페인\", \"영국\"}\n",
    "countris.discard(\"한국\")\n",
    "countris.remove(\"영국\")\n",
    "countris"
   ]
  },
  {
   "cell_type": "code",
   "execution_count": 71,
   "metadata": {},
   "outputs": [
    {
     "data": {
      "text/plain": [
       "{'영국', '프랑스'}"
      ]
     },
     "execution_count": 71,
     "metadata": {},
     "output_type": "execute_result"
    }
   ],
   "source": [
    "countris = {\"프랑스\", \"스페인\", \"영국\"}\n",
    "countris.pop()\n",
    "countris"
   ]
  },
  {
   "cell_type": "markdown",
   "metadata": {},
   "source": [
    "### 셋과 리스트"
   ]
  },
  {
   "cell_type": "code",
   "execution_count": 74,
   "metadata": {},
   "outputs": [
    {
     "name": "stdout",
     "output_type": "stream",
     "text": [
      "[1, 2, 3, 4, 5, 9, 11, 15]\n",
      "[4, 5]\n",
      "[1, 2, 3, 4, 5, 6, 7, 8, 9, 11, 15]\n"
     ]
    }
   ],
   "source": [
    "def remove_dup(l1):\n",
    "    return list(set(l1))\n",
    "\n",
    "def intersection(l1, l2):\n",
    "    return list( set(l1) & set(l2))\n",
    "\n",
    "def union(l1, l2):\n",
    "    return list( set(l1) | set(l2))\n",
    "\n",
    "def test_sets_operations_with_lists():\n",
    "    l1 = [1,2,3,4,5,5,9,11,11,15]\n",
    "    l2 = [4,5,6,7,8]\n",
    "    print(remove_dup(l1))\n",
    "    print(intersection(l1, l2))\n",
    "    print(union(l1, l2))\n",
    "\n",
    "if __name__ == \"__main__\":\n",
    "    test_sets_operations_with_lists()"
   ]
  },
  {
   "cell_type": "markdown",
   "metadata": {},
   "source": [
    "### 딕셔너리"
   ]
  },
  {
   "cell_type": "code",
   "execution_count": 78,
   "metadata": {},
   "outputs": [
    {
     "data": {
      "text/plain": [
       "'감독'"
      ]
     },
     "execution_count": 78,
     "metadata": {},
     "output_type": "execute_result"
    }
   ],
   "source": [
    "tarantino = {}\n",
    "tarantino['name'] = '쿠엔틴 타란티노'\n",
    "tarantino['job'] = '감독'\n",
    "tarantino['job']"
   ]
  },
  {
   "cell_type": "code",
   "execution_count": 79,
   "metadata": {},
   "outputs": [
    {
     "data": {
      "text/plain": [
       "{'name': '버피', 'age': 16, 'hobby': '게임'}"
      ]
     },
     "execution_count": 79,
     "metadata": {},
     "output_type": "execute_result"
    }
   ],
   "source": [
    "sunnydale = dict({'name':\"버피\", \"age\":16, \"hobby\":'게임'})\n",
    "sunnydale"
   ]
  },
  {
   "cell_type": "code",
   "execution_count": 84,
   "metadata": {},
   "outputs": [
    {
     "data": {
      "text/plain": [
       "{'name': '자일스', 'age': 45, 'hobby': '영화감상'}"
      ]
     },
     "execution_count": 84,
     "metadata": {},
     "output_type": "execute_result"
    }
   ],
   "source": [
    "sunnydale = dict(name=\"자일스\", age=45, hobby='영화감상')\n",
    "sunnydale"
   ]
  },
  {
   "cell_type": "code",
   "execution_count": 86,
   "metadata": {},
   "outputs": [
    {
     "data": {
      "text/plain": [
       "{'name': '자일스', 'age': 45, 'hobby': '영화감상'}"
      ]
     },
     "execution_count": 86,
     "metadata": {},
     "output_type": "execute_result"
    }
   ],
   "source": [
    "sunnydale = dict([('name',\"자일스\"), ('age',45), ('hobby','영화감상')])\n",
    "sunnydale"
   ]
  },
  {
   "cell_type": "code",
   "execution_count": 97,
   "metadata": {
    "scrolled": true
   },
   "outputs": [
    {
     "name": "stdout",
     "output_type": "stream",
     "text": [
      "<class 'tuple'>\n",
      "{'key1': ['value1', 'value2'], 'key2': ['value3', 'value4', 'value5']}\n",
      "{'key1': ['value1', 'value2'], 'key2': ['value3', 'value4', 'value5']}\n"
     ]
    }
   ],
   "source": [
    "def usual_dict(dict_data):\n",
    "    newdata = {}\n",
    "    for k, v in dict_data:\n",
    "        if k in newdata:\n",
    "            newdata[k].append(v)\n",
    "        else:\n",
    "            newdata[k] = [v]\n",
    "    return newdata\n",
    "\n",
    "def setdefault_dict(dict_data):\n",
    "    newdata = {}\n",
    "    for k, v in dict_data:\n",
    "        newdata.setdefault(k, []).append(v)\n",
    "    return newdata\n",
    "\n",
    "def test_setdef():\n",
    "    dict_data = ((\"key1\", \"value1\"),\n",
    "                 (\"key1\", \"value2\"),\n",
    "                 (\"key2\", \"value3\"),\n",
    "                 (\"key2\", \"value4\"),\n",
    "                 (\"key2\", \"value5\"),)\n",
    "    print(type(dict_data))\n",
    "    print(usual_dict(dict_data))\n",
    "    print(setdefault_dict(dict_data))\n",
    "    \n",
    "if __name__ == \"__main__\":\n",
    "    test_setdef()"
   ]
  },
  {
   "cell_type": "markdown",
   "metadata": {},
   "source": [
    "### 딕셔너리 성능 측정"
   ]
  },
  {
   "cell_type": "code",
   "execution_count": 101,
   "metadata": {},
   "outputs": [
    {
     "name": "stdout",
     "output_type": "stream",
     "text": [
      "10000,      0.078,      0.001\n",
      "30000,      0.215,      0.001\n",
      "50000,      0.377,      0.001\n",
      "70000,      0.510,      0.001\n",
      "90000,      0.663,      0.001\n",
      "110000,      0.821,      0.001\n",
      "130000,      0.985,      0.001\n",
      "150000,      1.099,      0.001\n",
      "170000,      1.310,      0.001\n",
      "190000,      1.401,      0.001\n",
      "210000,      1.540,      0.001\n",
      "230000,      1.705,      0.001\n",
      "250000,      1.991,      0.001\n",
      "270000,      2.076,      0.001\n",
      "290000,      2.144,      0.001\n",
      "310000,      2.297,      0.001\n",
      "330000,      2.385,      0.001\n",
      "350000,      2.604,      0.001\n",
      "370000,      2.797,      0.001\n",
      "390000,      2.968,      0.001\n",
      "410000,      3.002,      0.001\n",
      "430000,      3.394,      0.001\n",
      "450000,      3.345,      0.001\n",
      "470000,      3.584,      0.001\n",
      "490000,      3.746,      0.001\n",
      "510000,      3.877,      0.001\n",
      "530000,      3.949,      0.001\n",
      "550000,      4.125,      0.001\n",
      "570000,      4.360,      0.001\n",
      "590000,      4.666,      0.001\n",
      "610000,      4.482,      0.001\n",
      "630000,      4.740,      0.001\n",
      "650000,      4.989,      0.001\n",
      "670000,      5.140,      0.001\n",
      "690000,      5.273,      0.001\n",
      "710000,      5.550,      0.001\n",
      "730000,      5.619,      0.001\n",
      "750000,      5.595,      0.001\n",
      "770000,      5.774,      0.001\n",
      "790000,      5.766,      0.001\n",
      "810000,      5.985,      0.001\n",
      "830000,      6.164,      0.001\n",
      "850000,      6.474,      0.001\n",
      "870000,      6.548,      0.001\n",
      "890000,      6.690,      0.001\n",
      "910000,      6.775,      0.001\n",
      "930000,      7.107,      0.001\n",
      "950000,      7.543,      0.001\n",
      "970000,      7.189,      0.002\n",
      "990000,      7.625,      0.001\n"
     ]
    }
   ],
   "source": [
    "import timeit\n",
    "import random\n",
    "\n",
    "for i in range(10000, 1000001, 20000):\n",
    "    t = timeit.Timer( \"random.randrange(%d) in x\"%i, \n",
    "                      \"from __main__ import random, x\")\n",
    "    x = list(range(i))\n",
    "    lst_time = t.timeit(number=1000)\n",
    "    x = {j: None for j in range(i) }\n",
    "    d_time = t.timeit(number=1000)\n",
    "    print(\"%d, %10.3f, %10.3f\" % ( i, lst_time, d_time ))"
   ]
  },
  {
   "cell_type": "code",
   "execution_count": 106,
   "metadata": {},
   "outputs": [
    {
     "name": "stdout",
     "output_type": "stream",
     "text": [
      "<class 'set'>\n",
      "{'c': [3], 'b': [2], 'a': [1]}\n",
      "defaultdict(<class 'list'>, {'c': [3], 'b': [2], 'a': [1]})\n"
     ]
    }
   ],
   "source": [
    "from collections import defaultdict\n",
    "\n",
    "def defaultdict_example():\n",
    "    pairs = {(\"a\",1), (\"b\",2), (\"c\",3)}\n",
    "    print(type(pairs))\n",
    "    \n",
    "    d1 = {}\n",
    "    for key, value in pairs:\n",
    "        if key not in d1:\n",
    "            d1[key] = []\n",
    "        d1[key].append(value)\n",
    "    print(d1)\n",
    "    \n",
    "    d2 = defaultdict(list)\n",
    "    for key, value in pairs:\n",
    "        d2[key].append(value)\n",
    "    print(d2)\n",
    "    \n",
    "    \n",
    "if __name__ == \"__main__\":\n",
    "    defaultdict_example()"
   ]
  },
  {
   "cell_type": "markdown",
   "metadata": {},
   "source": [
    "### 정렬된 딕셔너리 "
   ]
  },
  {
   "cell_type": "code",
   "execution_count": 111,
   "metadata": {
    "scrolled": true
   },
   "outputs": [
    {
     "name": "stdout",
     "output_type": "stream",
     "text": [
      "<class 'list'>\n",
      "b [1]\n",
      "c [2]\n",
      "a [3]\n",
      "b 1\n",
      "c 2\n",
      "a 3\n"
     ]
    }
   ],
   "source": [
    "from collections import OrderedDict\n",
    "\n",
    "def orderedDict_example():\n",
    "    pairs = [(\"b\",1), (\"c\",2), (\"a\",3)]\n",
    "    print(type(pairs))\n",
    "    \n",
    "    d1 = {}\n",
    "    for key, value in pairs:\n",
    "        if key not in d1:\n",
    "            d1[key] = []\n",
    "        d1[key].append(value)\n",
    "    for key in d1:\n",
    "        print(key, d1[key])\n",
    "    \n",
    "    d2 = OrderedDict(pairs)\n",
    "    for key in d2:\n",
    "        print(key, d2[key])\n",
    "    \n",
    "    \n",
    "if __name__ == \"__main__\":\n",
    "    orderedDict_example()"
   ]
  },
  {
   "cell_type": "markdown",
   "metadata": {},
   "source": [
    "### 카운터 딕셔너리"
   ]
  },
  {
   "cell_type": "code",
   "execution_count": 120,
   "metadata": {},
   "outputs": [
    {
     "name": "stdout",
     "output_type": "stream",
     "text": [
      "Counter({2: 6, 5: 4, 1: 3, 3: 1, 4: 1})\n",
      "Counter({2: 7, 1: 4, 5: 4, 3: 2, 4: 1})\n",
      "Counter({2: 7, 1: 5, 5: 4, 3: 3, 4: 2})\n",
      "Counter({1: 1, 4: 1, 3: 1})\n",
      "Counter({2: 7, 1: 6, 3: 4, 5: 4, 4: 3})\n",
      "Counter({2: 7, 1: 4, 5: 4, 3: 2, 4: 1})\n"
     ]
    }
   ],
   "source": [
    "from collections import Counter\n",
    "\n",
    "def counter_example():\n",
    "    seq1 = [1,2,3,5,1,2,2,2,2,5,5,2,5,1,4]\n",
    "    seq_counts = Counter(seq1)\n",
    "    print(seq_counts)\n",
    "    \n",
    "    seq2 = [1,2,3]\n",
    "    seq_counts.update(seq2)\n",
    "    print(seq_counts)\n",
    "    \n",
    "    seq3 = [1,4,3]\n",
    "    for key in seq3:\n",
    "        seq_counts[key] += 1\n",
    "    print(seq_counts)\n",
    "    \n",
    "    seq_counts_2 = Counter(seq3)\n",
    "    print(seq_counts_2)\n",
    "    print( seq_counts + seq_counts_2 )\n",
    "    print( seq_counts - seq_counts_2 )\n",
    "\n",
    "\n",
    "if __name__ == \"__main__\":\n",
    "    counter_example()"
   ]
  },
  {
   "cell_type": "markdown",
   "metadata": {},
   "source": [
    "### filter()"
   ]
  },
  {
   "cell_type": "code",
   "execution_count": 122,
   "metadata": {},
   "outputs": [
    {
     "data": {
      "text/plain": [
       "False"
      ]
     },
     "execution_count": 122,
     "metadata": {},
     "output_type": "execute_result"
    }
   ],
   "source": [
    "def f(x):\n",
    "    return x%2 != 0  and x%3 != 0\n",
    "\n",
    "f(33)"
   ]
  },
  {
   "cell_type": "code",
   "execution_count": 123,
   "metadata": {},
   "outputs": [
    {
     "data": {
      "text/plain": [
       "True"
      ]
     },
     "execution_count": 123,
     "metadata": {},
     "output_type": "execute_result"
    }
   ],
   "source": [
    "f(17)"
   ]
  },
  {
   "cell_type": "code",
   "execution_count": 124,
   "metadata": {},
   "outputs": [
    {
     "data": {
      "text/plain": [
       "[5, 7, 11, 13, 17, 19, 23]"
      ]
     },
     "execution_count": 124,
     "metadata": {},
     "output_type": "execute_result"
    }
   ],
   "source": [
    "list(filter(f, range(2,25)))"
   ]
  },
  {
   "cell_type": "markdown",
   "metadata": {},
   "source": [
    "### map()"
   ]
  },
  {
   "cell_type": "code",
   "execution_count": 125,
   "metadata": {},
   "outputs": [
    {
     "data": {
      "text/plain": [
       "[1, 8, 27, 64, 125, 216, 343, 512, 729, 1000]"
      ]
     },
     "execution_count": 125,
     "metadata": {},
     "output_type": "execute_result"
    }
   ],
   "source": [
    "def cube(x):\n",
    "    return x*x*x\n",
    "\n",
    "list(map(cube, range(1,11)))"
   ]
  },
  {
   "cell_type": "code",
   "execution_count": 126,
   "metadata": {},
   "outputs": [
    {
     "data": {
      "text/plain": [
       "[(0, 0), (1, 1), (2, 4), (3, 9), (4, 16), (5, 25), (6, 36), (7, 49)]"
      ]
     },
     "execution_count": 126,
     "metadata": {},
     "output_type": "execute_result"
    }
   ],
   "source": [
    "seq = range(8)\n",
    "def square(x):\n",
    "    return x*x\n",
    "\n",
    "list(zip( seq, map(square, seq)))"
   ]
  },
  {
   "cell_type": "markdown",
   "metadata": {},
   "source": [
    "### 람다 함수(익명의 함수)"
   ]
  },
  {
   "cell_type": "code",
   "execution_count": 128,
   "metadata": {},
   "outputs": [
    {
     "data": {
      "text/plain": [
       "10.0"
      ]
     },
     "execution_count": 128,
     "metadata": {},
     "output_type": "execute_result"
    }
   ],
   "source": [
    "def area(b, h):\n",
    "    return 0.5 * b * h\n",
    "\n",
    "area(5,4)"
   ]
  },
  {
   "cell_type": "code",
   "execution_count": 130,
   "metadata": {},
   "outputs": [
    {
     "data": {
      "text/plain": [
       "10.0"
      ]
     },
     "execution_count": 130,
     "metadata": {},
     "output_type": "execute_result"
    }
   ],
   "source": [
    "area = lambda b,h : 0.5*b*h\n",
    "area(5,4)"
   ]
  },
  {
   "cell_type": "code",
   "execution_count": 131,
   "metadata": {},
   "outputs": [
    {
     "data": {
      "text/plain": [
       "[(0, 0), (1, 1), (2, 4), (3, 9), (4, 16), (5, 25), (6, 36), (7, 49)]"
      ]
     },
     "execution_count": 131,
     "metadata": {},
     "output_type": "execute_result"
    }
   ],
   "source": [
    "seq = range(8)\n",
    "list(zip( seq, map(lambda x:x*x, seq)))"
   ]
  },
  {
   "cell_type": "code",
   "execution_count": 132,
   "metadata": {},
   "outputs": [
    {
     "data": {
      "text/plain": [
       "[1, 8, 27, 64, 125, 216, 343, 512, 729, 1000]"
      ]
     },
     "execution_count": 132,
     "metadata": {},
     "output_type": "execute_result"
    }
   ],
   "source": [
    "list(map( lambda x:x*x*x, range(1,11)))"
   ]
  },
  {
   "cell_type": "code",
   "execution_count": 133,
   "metadata": {},
   "outputs": [
    {
     "data": {
      "text/plain": [
       "[5, 7, 11, 13, 17, 19, 23]"
      ]
     },
     "execution_count": 133,
     "metadata": {},
     "output_type": "execute_result"
    }
   ],
   "source": [
    "list(filter(lambda x:x%2 != 0  and x%3 != 0, range(2,25)))"
   ]
  },
  {
   "cell_type": "markdown",
   "metadata": {},
   "source": [
    "### pickle 모듈"
   ]
  },
  {
   "cell_type": "code",
   "execution_count": 137,
   "metadata": {},
   "outputs": [],
   "source": [
    "import pickle\n",
    "\n",
    "x = {}\n",
    "x['name'] = \"아스틴\"\n",
    "x['age'] = 23\n",
    "\n",
    "y = [1,2,3,4]\n",
    "with open(\"name.pkl\", \"wb\") as f : \n",
    "    pickle.dump( x, f )\n",
    "    pickle.dump( y, f )"
   ]
  },
  {
   "cell_type": "code",
   "execution_count": 142,
   "metadata": {},
   "outputs": [
    {
     "name": "stdout",
     "output_type": "stream",
     "text": [
      "{'name': '아스틴', 'age': 23}\n",
      "[1, 2, 3, 4]\n"
     ]
    }
   ],
   "source": [
    "with open(\"name.pkl\", \"rb\") as f : \n",
    "    name = pickle.load(f)\n",
    "    temp = pickle.load(f)\n",
    "print(name)\n",
    "print(temp)"
   ]
  },
  {
   "cell_type": "code",
   "execution_count": null,
   "metadata": {},
   "outputs": [],
   "source": []
  }
 ],
 "metadata": {
  "kernelspec": {
   "display_name": "Python 3",
   "language": "python",
   "name": "python3"
  },
  "language_info": {
   "codemirror_mode": {
    "name": "ipython",
    "version": 3
   },
   "file_extension": ".py",
   "mimetype": "text/x-python",
   "name": "python",
   "nbconvert_exporter": "python",
   "pygments_lexer": "ipython3",
   "version": "3.7.6"
  }
 },
 "nbformat": 4,
 "nbformat_minor": 4
}
