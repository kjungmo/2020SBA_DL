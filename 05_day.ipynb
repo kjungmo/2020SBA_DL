{
 "cells": [
  {
   "cell_type": "markdown",
   "metadata": {},
   "source": [
    "## 달력 만들기 "
   ]
  },
  {
   "cell_type": "code",
   "execution_count": 14,
   "metadata": {},
   "outputs": [
    {
     "name": "stdout",
     "output_type": "stream",
     "text": [
      "  15   8   1  24  17  65\n",
      "  16  14   7   5  23  65\n",
      "  22  20  13   6   4  65\n",
      "   3  21  19  12  10  65\n",
      "   9   2  25  18  11  65\n",
      "  65  65  65  65  65  65\n"
     ]
    }
   ],
   "source": [
    "def display(a, n):\n",
    "    for i in range(n):\n",
    "        for j in range(n):\n",
    "            print(\"%4d\"%a[i][j], end='')\n",
    "        print()\n",
    "        \n",
    "\n",
    "def init(n):\n",
    "    a = [ [0]*n for j in range(n)]\n",
    "    return a\n",
    "\n",
    "def fill(a, n):\n",
    "    \n",
    "    row = 0 \n",
    "    count = 1\n",
    "    col = n//2\n",
    "    a[row][col] = count\n",
    "    \n",
    "    for i in range(n*n - 1):\n",
    "        count += 1\n",
    "        r = row - 1\n",
    "        c = col - 1\n",
    "        \n",
    "        if (r < 0 ):\n",
    "            r = n - 1\n",
    "\n",
    "        if ( c < 0 ):\n",
    "            c = n - 1\n",
    "\n",
    "        if ( a[r][c] > 0):\n",
    "            r = row + 1\n",
    "            c = col\n",
    "        \n",
    "        a[r][c] = count\n",
    "        row = r\n",
    "        col = c\n",
    "\n",
    "def check(a, n):\n",
    "    for i in range(n):\n",
    "        for j in range(n):\n",
    "            a[i][n] += a[i][j]\n",
    "            a[n][j] += a[j][i]\n",
    "            if (i == j ):\n",
    "                a[n][n] += a[i][j]\n",
    "\n",
    "    \n",
    "n=5\n",
    "a = init(n+1)\n",
    "fill(a,n)\n",
    "check(a,n)\n",
    "display(a, n+1)"
   ]
  },
  {
   "cell_type": "code",
   "execution_count": null,
   "metadata": {},
   "outputs": [],
   "source": [
    "def isLeap(year):\n",
    "    return (year%4 == 0 and year%100!=0) or (year%400==0) \n",
    "\n",
    "def totalYear(year):\n",
    "    total = 0\n",
    "    for i in range( year-1): #회전 돌 때 작년까지 연수를 돌아야 함\n",
    "        total += 365\n",
    "        if(isLeap(i+1)): #1년 부터 돌아야 하고 i는 0부터니까 +1 해준것\n",
    "            total += 1\n",
    "    return total\n",
    "\n",
    "def totalMonth(year, month):\n",
    "    total = 0\n",
    "    mon = [31,28,31,30,31,30,31,31,30,31,30,31]\n",
    "    if( isLeap(year)):\n",
    "        mon[1] += 1\n",
    "        \n",
    "    for i in range(month-1):\n",
    "        total += mon[i]\n",
    "    return total\n",
    "\n",
    "def totalDay(year, month):\n",
    "    total = 0\n",
    "    total += totalYear(year) #year전년까지의 일 수 \n",
    "    total += totalMonth(year, month) # 그 해의 해당 월 까지의 일수\n",
    "    return total # 총 일수가 된다. \n",
    "\n",
    "def cal(year, month):\n",
    "    days = [0]*42 #6*7 배열, 비어있는 1차원 배열\n",
    "    mon = [31,28,31,30,31,30,31,31,30,31,30,31]\n",
    "    if( isLeap(year)):\n",
    "        mon[1] += 1\n",
    "    week = 0\n",
    "    total = totalDay(year, month) \n",
    "    week = (total+1)%7\n",
    "    for i in range(mon[month-1]):  #그 달의 날 수 만큼 루프 돈다.\n",
    "        days[i + week ] = i + 1 # 어디서 부터 채울지 결정, i가 0부터 출발함으로 +1,\n",
    "        \n",
    "    print(\"%d년 %d월\"%(year,month)) #왼쪽 상단에 연, 월\n",
    "    print()\n",
    "    title = \"일월화수목금토\"\n",
    "    for str in title:\n",
    "        print(\"%3s\"%str, end='')\n",
    "    print()    \n",
    "    for i in range(6):\n",
    "        for j in range(7):\n",
    "            if( days[i*7 + j] > 0): # 날짜 찍혀있는 곳이라면 , i*7 + j 는 배열을 이차원화 시켜줌\n",
    "                print(\"%4d\"%days[i*7+j], end='') #공백 -> 얼라이먼트 중요\n",
    "            else:\n",
    "                print(\"    \", end='')\n",
    "        print() #한 줄 찍고 엔터 찍고 days 찍힘\n"
   ]
  },
  {
   "cell_type": "code",
   "execution_count": null,
   "metadata": {},
   "outputs": [],
   "source": [
    "total = totalYear(2020)\n",
    "total%7+1 #2020년 1월 1일이 몇 요일인가? +1 한 이유는 일요일을 index 0으로 보기 위함이다.\n",
    "\n",
    "totalMonth(2020, 7)"
   ]
  },
  {
   "cell_type": "code",
   "execution_count": null,
   "metadata": {},
   "outputs": [],
   "source": [
    "total = totalYear(2019)\n",
    "total%7+1 #이렇게는 month의 계산을 할 수 없다"
   ]
  },
  {
   "cell_type": "code",
   "execution_count": null,
   "metadata": {},
   "outputs": [],
   "source": [
    "total = totalDay(2020, 7)\n",
    "total%7+1  # 7/1 = wednesday, index[0] = sun , index[3] = wed"
   ]
  },
  {
   "cell_type": "code",
   "execution_count": null,
   "metadata": {},
   "outputs": [],
   "source": [
    "def cal(year, month):\n",
    "    week = 0\n",
    "    total = totalDay(year, month) \n",
    "    week = (total+1)%7\n",
    "    "
   ]
  },
  {
   "cell_type": "code",
   "execution_count": null,
   "metadata": {},
   "outputs": [],
   "source": [
    "def cal(year, month):\n",
    "    days = [0]*42 #6*7 배열, 비어있는 1차원 배열\n",
    "    mon = [31,28,31,30,31,30,31,31,30,31,30,31]\n",
    "    if( isLeap(year)):\n",
    "        mon[1] += 1\n",
    "    week = 0\n",
    "    total = totalDay(year, month) \n",
    "    week = (total+1)%7\n",
    "    for i in range(mon[month-1]):  #그 달의 날 수 만큼 루프 돈다.\n",
    "        days[i + week ] = i + 1 # 어디서 부터 채울지 결정, i가 0부터 출발함으로 +1,\n",
    "        \n",
    "    print(\"%d년 %d월\"%(year,month)) #왼쪽 상단에 연, 월\n",
    "    print()\n",
    "    title = \"일월화수목금토\"\n",
    "    for str in title:\n",
    "        print(\"%3s\"%str, end='')\n",
    "    print()    \n",
    "    for i in range(6):\n",
    "        for j in range(7):\n",
    "            if( days[i*7 + j] > 0): # 날짜 찍혀있는 곳이라면 , i*7 + j 는 배열을 이차원화 시켜줌\n",
    "                print(\"%4d\"%days[i*7+j], end='') #공백 -> 얼라이먼트 중요\n",
    "            else:\n",
    "                print(\"    \", end='')\n",
    "        print() #한 줄 찍고 엔터 찍고 days 찍힘\n",
    "#참고로 서기는 1년부터 시작된다 (그래서 0년이랑 1년이랑 완전 똑같이 나온다.)"
   ]
  },
  {
   "cell_type": "code",
   "execution_count": null,
   "metadata": {},
   "outputs": [],
   "source": [
    "cal(1,12)"
   ]
  },
  {
   "cell_type": "markdown",
   "metadata": {},
   "source": [
    "### 주민 번호 체크 "
   ]
  },
  {
   "cell_type": "code",
   "execution_count": 2,
   "metadata": {},
   "outputs": [
    {
     "name": "stdout",
     "output_type": "stream",
     "text": [
      "0\n",
      "올바른 주민번호 입니다.\n"
     ]
    }
   ],
   "source": [
    "#str = input()\n",
    "#jumin = [ ch for ch in str]\n",
    "jumin = [ 8,8,1,1,2,0,1,2,3,4,5,6,0]\n",
    "seq = [2,3,4,5,6,7,8,9,2,3,4,5]\n",
    "sum = 0\n",
    "\n",
    "for i in range(len(seq)):\n",
    "    sum += jumin[i]*seq[i]\n",
    "    \n",
    "sum = (11 - sum%11)%10\n",
    "print(sum)\n",
    "\n",
    "if(sum == jumin[12]):\n",
    "    print(\"올바른 주민번호 입니다.\")\n",
    "else:\n",
    "    print(\"잘못된 주민번호\")"
   ]
  },
  {
   "cell_type": "code",
   "execution_count": null,
   "metadata": {},
   "outputs": [],
   "source": [
    "input()"
   ]
  },
  {
   "cell_type": "code",
   "execution_count": null,
   "metadata": {},
   "outputs": [],
   "source": [
    "str = input()\n",
    "jumin = [ int(ch) for ch in str]\n",
    "jumin"
   ]
  },
  {
   "cell_type": "code",
   "execution_count": 4,
   "metadata": {},
   "outputs": [],
   "source": [
    "def jumin_check():\n",
    "    str = input()\n",
    "    jumin = [int(ch) for ch in str]\n",
    "    seq = [2,3,4,5,6,7,8,9,2,3,4,5]\n",
    "    sum = 0\n",
    "\n",
    "    for i in range(len(seq)):\n",
    "        sum += jumin[i]*seq[i]\n",
    "\n",
    "    sum = (11 - sum%11)%10\n",
    "    print(sum)\n",
    "\n",
    "    if(sum == jumin[12]):\n",
    "        print(\"올바른 주민번호 입니다.\")\n",
    "    else:\n",
    "        print(\"잘못된 주민번호\")"
   ]
  },
  {
   "cell_type": "code",
   "execution_count": 7,
   "metadata": {},
   "outputs": [
    {
     "name": "stdout",
     "output_type": "stream",
     "text": [
      "1234561234564\n",
      "3\n",
      "잘못된 주민번호\n"
     ]
    }
   ],
   "source": [
    "jumin_check()"
   ]
  },
  {
   "cell_type": "code",
   "execution_count": null,
   "metadata": {},
   "outputs": [],
   "source": []
  }
 ],
 "metadata": {
  "kernelspec": {
   "display_name": "Python 3",
   "language": "python",
   "name": "python3"
  },
  "language_info": {
   "codemirror_mode": {
    "name": "ipython",
    "version": 3
   },
   "file_extension": ".py",
   "mimetype": "text/x-python",
   "name": "python",
   "nbconvert_exporter": "python",
   "pygments_lexer": "ipython3",
   "version": "3.7.6"
  }
 },
 "nbformat": 4,
 "nbformat_minor": 4
}
