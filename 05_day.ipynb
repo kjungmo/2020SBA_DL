{
 "cells": [
  {
   "cell_type": "markdown",
   "metadata": {},
   "source": [
    "## 홀수마방진"
   ]
  },
  {
   "cell_type": "code",
   "execution_count": 14,
   "metadata": {},
   "outputs": [
    {
     "name": "stdout",
     "output_type": "stream",
     "text": [
      "  15   8   1  24  17  65\n",
      "  16  14   7   5  23  65\n",
      "  22  20  13   6   4  65\n",
      "   3  21  19  12  10  65\n",
      "   9   2  25  18  11  65\n",
      "  65  65  65  65  65  65\n"
     ]
    }
   ],
   "source": [
    "def display(a, n):\n",
    "    for i in range(n):\n",
    "        for j in range(n):\n",
    "            print(\"%4d\"%a[i][j], end='')\n",
    "        print()\n",
    "        \n",
    "\n",
    "def init(n):\n",
    "    a = [ [0]*n for j in range(n)]\n",
    "    return a\n",
    "\n",
    "def fill(a, n):\n",
    "    \n",
    "    row = 0 \n",
    "    count = 1\n",
    "    col = n//2\n",
    "    a[row][col] = count\n",
    "    \n",
    "    for i in range(n*n - 1):\n",
    "        count += 1\n",
    "        r = row - 1\n",
    "        c = col - 1\n",
    "        \n",
    "        if (r < 0 ):\n",
    "            r = n - 1\n",
    "\n",
    "        if ( c < 0 ):\n",
    "            c = n - 1\n",
    "\n",
    "        if ( a[r][c] > 0):\n",
    "            r = row + 1\n",
    "            c = col\n",
    "        \n",
    "        a[r][c] = count\n",
    "        row = r\n",
    "        col = c\n",
    "\n",
    "def check(a, n):\n",
    "    for i in range(n):\n",
    "        for j in range(n):\n",
    "            a[i][n] += a[i][j]\n",
    "            a[n][j] += a[j][i]\n",
    "            if (i == j ):\n",
    "                a[n][n] += a[i][j]\n",
    "\n",
    "    \n",
    "n=5\n",
    "a = init(n+1)\n",
    "fill(a,n)\n",
    "check(a,n)\n",
    "display(a, n+1)"
   ]
  },
  {
   "cell_type": "markdown",
   "metadata": {},
   "source": [
    "## 달력 만들기 "
   ]
  },
  {
   "cell_type": "code",
   "execution_count": 52,
   "metadata": {},
   "outputs": [],
   "source": [
    "def isLeap(year): #입력한 연도가 윤년인지 알아보기 위함\n",
    "    return (year%4==0 and year%100!=0) or (year%400==0) \n",
    "# 4의 배수이면서 100의 배수가 아니라면 윤년인데 또는 400의 배수라면 윤년이기도\n",
    "#때문에 입력한 year가 윤년이라면  True를 리턴한다"
   ]
  },
  {
   "cell_type": "code",
   "execution_count": 53,
   "metadata": {},
   "outputs": [
    {
     "data": {
      "text/plain": [
       "True"
      ]
     },
     "execution_count": 53,
     "metadata": {},
     "output_type": "execute_result"
    }
   ],
   "source": [
    "isLeap(2000) # 2000은 4의 배수이면서 100의배수가 아닌것은 아니지만 400의 배수"
   ]
  },
  {
   "cell_type": "code",
   "execution_count": 54,
   "metadata": {},
   "outputs": [],
   "source": [
    "def totalYear(year): #year의 1월 1일까지 며칠이 지났는지 구할 수 있다.\n",
    "    total=0  # 작년도까지의 누적 일수를 구해야 year기준 1/1까지 경과한 일수 출력\n",
    "    for i in range(year-1): # 그래서 year-1을 범위로 \n",
    "        total += 365 #평년은 365일이므로 total에 계속 더해준다\n",
    "        if(isLeap(i+1)): # i가 0부터 시작하니까 1년이 윤년인지 검사하고 \n",
    "            total += 1 # 윤년에 해당한다면 그 해에 1일을 더해줌\n",
    "    return total # 그렇게 경과한 일수를 구할 수 있다."
   ]
  },
  {
   "cell_type": "code",
   "execution_count": 68,
   "metadata": {},
   "outputs": [
    {
     "data": {
      "text/plain": [
       "2"
      ]
     },
     "execution_count": 68,
     "metadata": {},
     "output_type": "execute_result"
    }
   ],
   "source": [
    "total = totalYear(2019) #2019년의 1월 1일까지 경과한 일수를 얻어낸다\n",
    "total%7+1 #얻어낸 일자에 7로 나눈 몪은 월요일을 기준으로 하는 요일 인수다\n",
    "#하지만 우리는 일요일을 기준으로 하는 달력을 만들고자 함으로 +1을 더해준다\n",
    "# 0은 일요일 1은 월요일 2는 화요일이다"
   ]
  },
  {
   "cell_type": "code",
   "execution_count": 58,
   "metadata": {},
   "outputs": [],
   "source": [
    "def totalMonth(year, month):#매개변수로 주어진 해의 달의 전 달까지누적일수구하기\n",
    "    total = 0\n",
    "    mon = [31,28,31,30,31,30,31,31,30,31,30,31]#월수를 list로 생성해준다\n",
    "    if( isLeap(year) ): #윤년의 경우\n",
    "        mon[1] += 1 #2월에 해당하는 변수에 값을 1일 올려준다\n",
    "\n",
    "    for i in range(month-1): #전달 까지를 구해야 함으로 month-1\n",
    "        total += mon[i] #mon 리스트에서 인수 뽑아서 더해주는것\n",
    "    return total # 결국 매개변수로 주어진 year의 1월 1일 부터month의 첫날까지\n",
    "                #경과한 일수를 구하는 함수이다."
   ]
  },
  {
   "cell_type": "code",
   "execution_count": 70,
   "metadata": {},
   "outputs": [
    {
     "data": {
      "text/plain": [
       "181"
      ]
     },
     "execution_count": 70,
     "metadata": {},
     "output_type": "execute_result"
    }
   ],
   "source": [
    "totalMonth(2019, 7) # 2019년 7월 1일 전날까지 경과한 일수."
   ]
  },
  {
   "cell_type": "code",
   "execution_count": 60,
   "metadata": {},
   "outputs": [],
   "source": [
    "def totalDay(year, month): #year까지 경과한 일수 + year의 month의 1일까지 경과일\n",
    "    total = 0\n",
    "    total += totalYear(year) #1년부터 year까지 경과한 일수\n",
    "    total += totalMonth(year,month) #year의 month의 1일까지 경과한 일수\n",
    "    return total"
   ]
  },
  {
   "cell_type": "code",
   "execution_count": 73,
   "metadata": {},
   "outputs": [
    {
     "data": {
      "text/plain": [
       "3"
      ]
     },
     "execution_count": 73,
     "metadata": {},
     "output_type": "execute_result"
    }
   ],
   "source": [
    "total = totalDay(2020,7) #2020년 7월 1일전까지 경과한 일수\n",
    "total%7+1 # 2020년 7월 1일이 무슨 요일인지\n",
    "#3은 수요일을 뜻한다"
   ]
  },
  {
   "cell_type": "code",
   "execution_count": 74,
   "metadata": {},
   "outputs": [],
   "source": [
    "def cal(year, month): #달력을 만드는 함수\n",
    "    days = [0]*42 #1차원 배열로 6X7을 생성하고자 하는것이다.\n",
    "    mon = [31,28,31,30,31,30,31,31,30,31,30,31] #월의 List 작성\n",
    "    if( isLeap(year) ): #윤년인경우 2월에 1일 추가\n",
    "        mon[1] += 1\n",
    "    week=0 #요일을 나타낸다\n",
    "    total = totalDay(year,month) #year의 month의 1일까지 경과한 일 수\n",
    "    week = (total+1)%7 #year의 month의 1일의 요일을 나타냄\n",
    "    print(week)\n",
    "    for i in range(mon[month-1]): #month-1하는 이유는 mon[]이 인덱스라서 \n",
    "        days[i+week] = i+1 #mon[month-1]만큼 회전한다.\n",
    "    #i가 0부터라 1일 찍으려먼 +1 \n",
    "    #day가 일차원배열이라 [0],[1],[2]여기서부터 1일이 찍힌다 \n",
    "    #day가 찍히는 횟수, 즉 range 회전은 29일(mon[month-1])동안\n",
    "    print(\"%d년 %d월\"%(year,month)) # year 와 month를 좌상단에 찍어줌\n",
    "    title = \"일월화수목금토\" # title 을 str로 만들어줘서 인자 하나씩 빼기\n",
    "    for str in title:\n",
    "        print(\"%3s\"%str, end='') # 빈칸을 주고 title 요소를 하나씩 빼서 넣기\n",
    "    print() \n",
    "    for i in range(6): # 6개의 행을 가지고있고\n",
    "        for j in range(7): # 7개의 열을 가지고있는 데에\n",
    "            if( days[i*7+j] > 0 ): #이미 값을 가지고 있다면 day[]의 해당 인덱스값 출력\n",
    "                print(\"%4d\"%days[i*7+j], end='') \n",
    "            else: # 값이 없어서 0이라면 \n",
    "                print(\"    \", end='') # 빈칸을 출력해준다.\n",
    "        print()"
   ]
  },
  {
   "cell_type": "code",
   "execution_count": 75,
   "metadata": {},
   "outputs": [
    {
     "name": "stdout",
     "output_type": "stream",
     "text": [
      "2\n",
      "2000년 2월\n",
      "  일  월  화  수  목  금  토\n",
      "           1   2   3   4   5\n",
      "   6   7   8   9  10  11  12\n",
      "  13  14  15  16  17  18  19\n",
      "  20  21  22  23  24  25  26\n",
      "  27  28  29                \n",
      "                            \n"
     ]
    }
   ],
   "source": [
    "cal(2000,2)"
   ]
  },
  {
   "cell_type": "code",
   "execution_count": null,
   "metadata": {},
   "outputs": [],
   "source": [
    "def isLeap(year):\n",
    "    return (year%4 == 0 and year%100!=0) or (year%400==0) \n",
    "\n",
    "def totalYear(year):\n",
    "    total = 0\n",
    "    for i in range( year-1): #회전 돌 때 작년까지 연수를 돌아야 함\n",
    "        total += 365\n",
    "        if(isLeap(i+1)): #1년 부터 돌아야 하고 i는 0부터니까 +1 해준것\n",
    "            total += 1\n",
    "    return total\n",
    "\n",
    "def totalMonth(year, month):\n",
    "    total = 0\n",
    "    mon = [31,28,31,30,31,30,31,31,30,31,30,31]\n",
    "    if( isLeap(year)):\n",
    "        mon[1] += 1\n",
    "        \n",
    "    for i in range(month-1):\n",
    "        total += mon[i]\n",
    "    return total\n",
    "\n",
    "def totalDay(year, month):\n",
    "    total = 0\n",
    "    total += totalYear(year) #year전년까지의 일 수 \n",
    "    total += totalMonth(year, month) # 그 해의 해당 월 까지의 일수\n",
    "    return total # 총 일수가 된다. \n",
    "\n",
    "def cal(year, month):\n",
    "    days = [0]*42 #6*7 배열, 비어있는 1차원 배열\n",
    "    mon = [31,28,31,30,31,30,31,31,30,31,30,31]\n",
    "    if( isLeap(year)):\n",
    "        mon[1] += 1\n",
    "    week = 0\n",
    "    total = totalDay(year, month) \n",
    "    week = (total+1)%7\n",
    "    for i in range(mon[month-1]):  #그 달의 날 수 만큼 루프 돈다.\n",
    "        days[i + week ] = i + 1 # 어디서 부터 채울지 결정, i가 0부터 출발함으로 +1,\n",
    "        \n",
    "    print(\"%d년 %d월\"%(year,month)) #왼쪽 상단에 연, 월\n",
    "    print()\n",
    "    title = \"일월화수목금토\"\n",
    "    for str in title:\n",
    "        print(\"%3s\"%str, end='')\n",
    "    print()    \n",
    "    for i in range(6):\n",
    "        for j in range(7):\n",
    "            if( days[i*7 + j] > 0): # 날짜 찍혀있는 곳이라면 , i*7 + j 는 배열을 이차원화 시켜줌\n",
    "                print(\"%4d\"%days[i*7+j], end='') #공백 -> 얼라이먼트 중요\n",
    "            else:\n",
    "                print(\"    \", end='')\n",
    "        print() #한 줄 찍고 엔터 찍고 days 찍힘\n"
   ]
  },
  {
   "cell_type": "code",
   "execution_count": null,
   "metadata": {},
   "outputs": [],
   "source": [
    "total = totalYear(2020)\n",
    "total%7+1 #2020년 1월 1일이 몇 요일인가? +1 한 이유는 일요일을 index 0으로 보기 위함이다.\n",
    "\n",
    "totalMonth(2020, 7)"
   ]
  },
  {
   "cell_type": "code",
   "execution_count": null,
   "metadata": {},
   "outputs": [],
   "source": [
    "total = totalYear(2019)\n",
    "total%7+1 #이렇게는 month의 계산을 할 수 없다"
   ]
  },
  {
   "cell_type": "code",
   "execution_count": null,
   "metadata": {},
   "outputs": [],
   "source": [
    "total = totalDay(2020, 7)\n",
    "total%7+1  # 7/1 = wednesday, index[0] = sun , index[3] = wed"
   ]
  },
  {
   "cell_type": "code",
   "execution_count": null,
   "metadata": {},
   "outputs": [],
   "source": [
    "def cal(year, month):\n",
    "    week = 0\n",
    "    total = totalDay(year, month) \n",
    "    week = (total+1)%7\n",
    "    "
   ]
  },
  {
   "cell_type": "code",
   "execution_count": null,
   "metadata": {},
   "outputs": [],
   "source": [
    "def cal(year, month):\n",
    "    days = [0]*42 #6*7 배열, 비어있는 1차원 배열\n",
    "    mon = [31,28,31,30,31,30,31,31,30,31,30,31]\n",
    "    if( isLeap(year)):\n",
    "        mon[1] += 1\n",
    "    week = 0\n",
    "    total = totalDay(year, month) \n",
    "    week = (total+1)%7\n",
    "    for i in range(mon[month-1]):  #그 달의 날 수 만큼 루프 돈다.\n",
    "        days[i + week ] = i + 1 # 어디서 부터 채울지 결정, i가 0부터 출발함으로 +1,\n",
    "        \n",
    "    print(\"%d년 %d월\"%(year,month)) #왼쪽 상단에 연, 월\n",
    "    print()\n",
    "    title = \"일월화수목금토\"\n",
    "    for str in title:\n",
    "        print(\"%3s\"%str, end='')\n",
    "    print()    \n",
    "    for i in range(6):\n",
    "        for j in range(7):\n",
    "            if( days[i*7 + j] > 0): # 날짜 찍혀있는 곳이라면 , i*7 + j 는 배열을 이차원화 시켜줌\n",
    "                print(\"%4d\"%days[i*7+j], end='') #공백 -> 얼라이먼트 중요\n",
    "            else:\n",
    "                print(\"    \", end='')\n",
    "        print() #한 줄 찍고 엔터 찍고 days 찍힘\n",
    "#참고로 서기는 1년부터 시작된다 (그래서 0년이랑 1년이랑 완전 똑같이 나온다.)"
   ]
  },
  {
   "cell_type": "code",
   "execution_count": null,
   "metadata": {},
   "outputs": [],
   "source": [
    "cal(1,12)"
   ]
  },
  {
   "cell_type": "markdown",
   "metadata": {},
   "source": [
    "### 주민 번호 체크 "
   ]
  },
  {
   "cell_type": "code",
   "execution_count": 2,
   "metadata": {},
   "outputs": [
    {
     "name": "stdout",
     "output_type": "stream",
     "text": [
      "0\n",
      "올바른 주민번호 입니다.\n"
     ]
    }
   ],
   "source": [
    "#str = input()\n",
    "#jumin = [ ch for ch in str]\n",
    "jumin = [ 8,8,1,1,2,0,1,2,3,4,5,6,0]\n",
    "seq = [2,3,4,5,6,7,8,9,2,3,4,5]\n",
    "sum = 0\n",
    "\n",
    "for i in range(len(seq)):\n",
    "    sum += jumin[i]*seq[i]\n",
    "    \n",
    "sum = (11 - sum%11)%10\n",
    "print(sum)\n",
    "\n",
    "if(sum == jumin[12]):\n",
    "    print(\"올바른 주민번호 입니다.\")\n",
    "else:\n",
    "    print(\"잘못된 주민번호\")"
   ]
  },
  {
   "cell_type": "code",
   "execution_count": null,
   "metadata": {},
   "outputs": [],
   "source": [
    "input()"
   ]
  },
  {
   "cell_type": "code",
   "execution_count": null,
   "metadata": {},
   "outputs": [],
   "source": [
    "str = input()\n",
    "jumin = [ int(ch) for ch in str]\n",
    "jumin"
   ]
  },
  {
   "cell_type": "code",
   "execution_count": 4,
   "metadata": {},
   "outputs": [],
   "source": [
    "def jumin_check():\n",
    "    str = input()\n",
    "    jumin = [int(ch) for ch in str]\n",
    "    seq = [2,3,4,5,6,7,8,9,2,3,4,5]\n",
    "    sum = 0\n",
    "\n",
    "    for i in range(len(seq)):\n",
    "        sum += jumin[i]*seq[i]\n",
    "\n",
    "    sum = (11 - sum%11)%10\n",
    "    print(sum)\n",
    "\n",
    "    if(sum == jumin[12]):\n",
    "        print(\"올바른 주민번호 입니다.\")\n",
    "    else:\n",
    "        print(\"잘못된 주민번호\")"
   ]
  },
  {
   "cell_type": "code",
   "execution_count": 47,
   "metadata": {},
   "outputs": [
    {
     "name": "stdout",
     "output_type": "stream",
     "text": [
      "1234123412341\n",
      "5\n",
      "잘못된 주민번호\n"
     ]
    }
   ],
   "source": [
    "jumin_check()"
   ]
  },
  {
   "cell_type": "markdown",
   "metadata": {},
   "source": [
    "# Divide and conquer "
   ]
  },
  {
   "cell_type": "markdown",
   "metadata": {},
   "source": [
    "## 재귀 호출\n",
    "\n",
    "### 반복문(iteration) vs 재귀문(recursion)\n",
    "\n",
    "* Iteration ::: for 나 while 같은 기본적인 반복 제어문\n",
    "* Recursion ::: 하나의 함수가 자신을 다시 호출하여 반복되는 작업을 수행하는 함수\n",
    "\n",
    "* 재귀 호출을 사용하면 코드의 가독성이 좋아진다. 사용하는 변수의 개수도 줄어들고, 구현이 반복문보다 간단하다. 어렵고 복잡한 문제도 빠르고 단순하게 접근할 수 있다. "
   ]
  },
  {
   "cell_type": "markdown",
   "metadata": {},
   "source": [
    "자기가 자기 자신을 호출하는 것\n"
   ]
  },
  {
   "cell_type": "code",
   "execution_count": 32,
   "metadata": {},
   "outputs": [],
   "source": [
    "def sum_iter(n):\n",
    "    total = 0\n",
    "    \n",
    "    for i in range(n):\n",
    "        total += i + 1\n",
    "    \n",
    "    return total\n"
   ]
  },
  {
   "cell_type": "code",
   "execution_count": 33,
   "metadata": {},
   "outputs": [
    {
     "data": {
      "text/plain": [
       "15"
      ]
     },
     "execution_count": 33,
     "metadata": {},
     "output_type": "execute_result"
    }
   ],
   "source": [
    "sum_iter(5)"
   ]
  },
  {
   "cell_type": "code",
   "execution_count": 34,
   "metadata": {},
   "outputs": [],
   "source": [
    "def sum_recur(n):\n",
    "    if (n == 1 ):\n",
    "        return 1\n",
    "            \n",
    "    return n + sum_recur(n-1)\n"
   ]
  },
  {
   "cell_type": "code",
   "execution_count": 35,
   "metadata": {},
   "outputs": [
    {
     "data": {
      "text/plain": [
       "15"
      ]
     },
     "execution_count": 35,
     "metadata": {},
     "output_type": "execute_result"
    }
   ],
   "source": [
    "sum_recur(5)"
   ]
  },
  {
   "cell_type": "code",
   "execution_count": 36,
   "metadata": {},
   "outputs": [],
   "source": [
    "def sum_recur(n):\n",
    "    if (n == 1 ):\n",
    "        return 1\n",
    "            \n",
    "    return n * sum_recur(n-1) #팩토리얼 ::: 곱하는거니까\n"
   ]
  },
  {
   "cell_type": "code",
   "execution_count": 37,
   "metadata": {},
   "outputs": [
    {
     "data": {
      "text/plain": [
       "120"
      ]
     },
     "execution_count": 37,
     "metadata": {},
     "output_type": "execute_result"
    }
   ],
   "source": [
    "sum_recur(5)"
   ]
  },
  {
   "cell_type": "markdown",
   "metadata": {},
   "source": [
    "## 피보나치 수열"
   ]
  },
  {
   "cell_type": "code",
   "execution_count": 46,
   "metadata": {},
   "outputs": [],
   "source": [
    "def fibo(n):\n",
    "    if( n < 2):\n",
    "        return 1\n",
    "    return fibo(n-1) + fibo(n-2) #알고리즘 ::: 자기 인덱스의 전과 전전의 합이다.\n"
   ]
  },
  {
   "cell_type": "code",
   "execution_count": 43,
   "metadata": {},
   "outputs": [
    {
     "data": {
      "text/plain": [
       "1"
      ]
     },
     "execution_count": 43,
     "metadata": {},
     "output_type": "execute_result"
    }
   ],
   "source": [
    "fibo(1)"
   ]
  },
  {
   "cell_type": "code",
   "execution_count": 44,
   "metadata": {},
   "outputs": [
    {
     "data": {
      "text/plain": [
       "3"
      ]
     },
     "execution_count": 44,
     "metadata": {},
     "output_type": "execute_result"
    }
   ],
   "source": [
    "fibo(3)"
   ]
  },
  {
   "cell_type": "code",
   "execution_count": 45,
   "metadata": {},
   "outputs": [
    {
     "data": {
      "text/plain": [
       "89"
      ]
     },
     "execution_count": 45,
     "metadata": {},
     "output_type": "execute_result"
    }
   ],
   "source": [
    "fibo(10)"
   ]
  },
  {
   "cell_type": "code",
   "execution_count": 1,
   "metadata": {},
   "outputs": [
    {
     "ename": "SyntaxError",
     "evalue": "invalid syntax (<ipython-input-1-de2ff267d673>, line 2)",
     "output_type": "error",
     "traceback": [
      "\u001b[1;36m  File \u001b[1;32m\"<ipython-input-1-de2ff267d673>\"\u001b[1;36m, line \u001b[1;32m2\u001b[0m\n\u001b[1;33m    fibo = [int(f) for i in ]\u001b[0m\n\u001b[1;37m                            ^\u001b[0m\n\u001b[1;31mSyntaxError\u001b[0m\u001b[1;31m:\u001b[0m invalid syntax\n"
     ]
    }
   ],
   "source": [
    "# def fibo_iter(n):\n",
    "#     fibo = [int(f) for i in ]"
   ]
  },
  {
   "cell_type": "code",
   "execution_count": 12,
   "metadata": {},
   "outputs": [
    {
     "name": "stdout",
     "output_type": "stream",
     "text": [
      "4\n"
     ]
    },
    {
     "ename": "RecursionError",
     "evalue": "maximum recursion depth exceeded in comparison",
     "output_type": "error",
     "traceback": [
      "\u001b[1;31m---------------------------------------------------------------------------\u001b[0m",
      "\u001b[1;31mRecursionError\u001b[0m                            Traceback (most recent call last)",
      "\u001b[1;32m<ipython-input-12-21f66e37bcdf>\u001b[0m in \u001b[0;36m<module>\u001b[1;34m\u001b[0m\n\u001b[0;32m      9\u001b[0m     \u001b[1;32mreturn\u001b[0m \u001b[0mfibo\u001b[0m\u001b[1;33m(\u001b[0m\u001b[0mn\u001b[0m\u001b[1;33m-\u001b[0m\u001b[1;36m1\u001b[0m\u001b[1;33m)\u001b[0m \u001b[1;33m+\u001b[0m \u001b[0mfibo\u001b[0m\u001b[1;33m(\u001b[0m\u001b[0mn\u001b[0m\u001b[1;33m-\u001b[0m\u001b[1;36m2\u001b[0m\u001b[1;33m)\u001b[0m\u001b[1;33m\u001b[0m\u001b[1;33m\u001b[0m\u001b[0m\n\u001b[0;32m     10\u001b[0m \u001b[1;33m\u001b[0m\u001b[0m\n\u001b[1;32m---> 11\u001b[1;33m \u001b[0mfiboList\u001b[0m\u001b[1;33m.\u001b[0m\u001b[0mappend\u001b[0m\u001b[1;33m(\u001b[0m\u001b[0mfibo\u001b[0m\u001b[1;33m(\u001b[0m\u001b[0mn\u001b[0m\u001b[1;33m)\u001b[0m\u001b[1;33m)\u001b[0m\u001b[1;33m\u001b[0m\u001b[1;33m\u001b[0m\u001b[0m\n\u001b[0m",
      "\u001b[1;32m<ipython-input-12-21f66e37bcdf>\u001b[0m in \u001b[0;36mfibo\u001b[1;34m(n)\u001b[0m\n\u001b[0;32m      7\u001b[0m             \u001b[1;32mreturn\u001b[0m \u001b[1;36m1\u001b[0m\u001b[1;33m\u001b[0m\u001b[1;33m\u001b[0m\u001b[0m\n\u001b[0;32m      8\u001b[0m \u001b[1;33m\u001b[0m\u001b[0m\n\u001b[1;32m----> 9\u001b[1;33m     \u001b[1;32mreturn\u001b[0m \u001b[0mfibo\u001b[0m\u001b[1;33m(\u001b[0m\u001b[0mn\u001b[0m\u001b[1;33m-\u001b[0m\u001b[1;36m1\u001b[0m\u001b[1;33m)\u001b[0m \u001b[1;33m+\u001b[0m \u001b[0mfibo\u001b[0m\u001b[1;33m(\u001b[0m\u001b[0mn\u001b[0m\u001b[1;33m-\u001b[0m\u001b[1;36m2\u001b[0m\u001b[1;33m)\u001b[0m\u001b[1;33m\u001b[0m\u001b[1;33m\u001b[0m\u001b[0m\n\u001b[0m\u001b[0;32m     10\u001b[0m \u001b[1;33m\u001b[0m\u001b[0m\n\u001b[0;32m     11\u001b[0m \u001b[0mfiboList\u001b[0m\u001b[1;33m.\u001b[0m\u001b[0mappend\u001b[0m\u001b[1;33m(\u001b[0m\u001b[0mfibo\u001b[0m\u001b[1;33m(\u001b[0m\u001b[0mn\u001b[0m\u001b[1;33m)\u001b[0m\u001b[1;33m)\u001b[0m\u001b[1;33m\u001b[0m\u001b[1;33m\u001b[0m\u001b[0m\n",
      "... last 1 frames repeated, from the frame below ...\n",
      "\u001b[1;32m<ipython-input-12-21f66e37bcdf>\u001b[0m in \u001b[0;36mfibo\u001b[1;34m(n)\u001b[0m\n\u001b[0;32m      7\u001b[0m             \u001b[1;32mreturn\u001b[0m \u001b[1;36m1\u001b[0m\u001b[1;33m\u001b[0m\u001b[1;33m\u001b[0m\u001b[0m\n\u001b[0;32m      8\u001b[0m \u001b[1;33m\u001b[0m\u001b[0m\n\u001b[1;32m----> 9\u001b[1;33m     \u001b[1;32mreturn\u001b[0m \u001b[0mfibo\u001b[0m\u001b[1;33m(\u001b[0m\u001b[0mn\u001b[0m\u001b[1;33m-\u001b[0m\u001b[1;36m1\u001b[0m\u001b[1;33m)\u001b[0m \u001b[1;33m+\u001b[0m \u001b[0mfibo\u001b[0m\u001b[1;33m(\u001b[0m\u001b[0mn\u001b[0m\u001b[1;33m-\u001b[0m\u001b[1;36m2\u001b[0m\u001b[1;33m)\u001b[0m\u001b[1;33m\u001b[0m\u001b[1;33m\u001b[0m\u001b[0m\n\u001b[0m\u001b[0;32m     10\u001b[0m \u001b[1;33m\u001b[0m\u001b[0m\n\u001b[0;32m     11\u001b[0m \u001b[0mfiboList\u001b[0m\u001b[1;33m.\u001b[0m\u001b[0mappend\u001b[0m\u001b[1;33m(\u001b[0m\u001b[0mfibo\u001b[0m\u001b[1;33m(\u001b[0m\u001b[0mn\u001b[0m\u001b[1;33m)\u001b[0m\u001b[1;33m)\u001b[0m\u001b[1;33m\u001b[0m\u001b[1;33m\u001b[0m\u001b[0m\n",
      "\u001b[1;31mRecursionError\u001b[0m: maximum recursion depth exceeded in comparison"
     ]
    }
   ],
   "source": [
    "fiboList = []\n",
    "n = int(input())\n",
    "\n",
    "def fibo(n):\n",
    "    for i in range(n):\n",
    "        if( n < 2):\n",
    "            return 1\n",
    "    \n",
    "    return fibo(n-1) + fibo(n-2)\n",
    "\n",
    "fiboList.append(fibo(n))\n"
   ]
  },
  {
   "cell_type": "markdown",
   "metadata": {},
   "source": [
    "### 피보나치의 반복 버전 "
   ]
  },
  {
   "cell_type": "code",
   "execution_count": 17,
   "metadata": {},
   "outputs": [
    {
     "name": "stdout",
     "output_type": "stream",
     "text": [
      "[1, 1, 2, 3, 5, 8, 13, 21, 34, 55, 89]\n"
     ]
    },
    {
     "data": {
      "text/plain": [
       "89"
      ]
     },
     "execution_count": 17,
     "metadata": {},
     "output_type": "execute_result"
    }
   ],
   "source": [
    "#리스트 버전\n",
    "def fibo(n):\n",
    "    temp = [1,1]\n",
    "    \n",
    "    for i in range(2,n+1):\n",
    "        temp.append( temp[i-1] + temp[i-2] )\n",
    "    \n",
    "    print(temp)\n",
    "    return temp[n]\n",
    "\n",
    "fibo(10)"
   ]
  },
  {
   "cell_type": "code",
   "execution_count": 20,
   "metadata": {},
   "outputs": [
    {
     "data": {
      "text/plain": [
       "8"
      ]
     },
     "execution_count": 20,
     "metadata": {},
     "output_type": "execute_result"
    }
   ],
   "source": [
    "# 리스트 없이 짜는 것\n",
    "def fibo(n):\n",
    "    temp0 = 1\n",
    "    temp1 = 1\n",
    "    total = 0\n",
    "    \n",
    "    for i in range(n-1): #오른쪽으로 미는 것\n",
    "        total = temp0 + temp1\n",
    "        temp0 = temp1\n",
    "        temp1 = total\n",
    "    \n",
    "    return total\n",
    "\n",
    "\n",
    "fibo(5)"
   ]
  },
  {
   "cell_type": "markdown",
   "metadata": {},
   "source": [
    "### 하노이의 탑 "
   ]
  },
  {
   "cell_type": "code",
   "execution_count": 47,
   "metadata": {},
   "outputs": [
    {
     "name": "stdout",
     "output_type": "stream",
     "text": [
      "1 : a -> c\n",
      "2 : a -> b\n",
      "1 : c -> b\n",
      "3 : a -> c\n",
      "1 : b -> a\n",
      "2 : b -> c\n",
      "1 : a -> c\n"
     ]
    }
   ],
   "source": [
    "#재귀 함수를 이해할 때는 함수가 호출되는 과정을 하나씩 따라가서는 어렵다\n",
    "# 1. 어떤 호출의 의미\n",
    "# 2. 그 호출과 재귀호출의 관계 \n",
    "# 이 두가지를 이해하면 된다\n",
    "\n",
    "def hanoi( n, fr, by, to ): \n",
    "    if (n==1):\n",
    "        print(\"%d : %s -> %s\" %(n, fr, to))\n",
    "        return\n",
    "    \n",
    "    hanoi( n-1, fr, to, by)\n",
    "    print(\"%d : %s -> %s\"%(n,fr,to))\n",
    "    hanoi( n-1, by, fr, to)\n",
    "    \n",
    "hanoi(3, 'a', 'b', 'c') \n",
    "#이 의미는 3개의 블록이 a에 쌓여있는걸 c로 옮길것이며\n",
    "#남은 하나의 기둥이 b라는 뜻이고, \n",
    "#하노이탑 공식에 의해 그 과정은\n",
    "#\"n-1\"개를 a->b로 옮기고 \"남은 1개를 a->c로 옮기고\" \"n-1개를 b->c로 옮기는\"\n",
    "#이 셋으로 나눌 수 있고, 이것을 그대로 재귀호출 - 출력 - 재귀호출로 나타낸 것"
   ]
  },
  {
   "cell_type": "code",
   "execution_count": 37,
   "metadata": {},
   "outputs": [],
   "source": [
    "# 하노이의 탑 풀어 쓴 것 \n",
    "# hanoi(3, 'a', 'b', 'c')\n",
    "\n",
    "# def hanoi( 3, a, b, c ):\n",
    "#     if (n==1):\n",
    "#         print(\"%d : %s -> %s\" %(n, a, c))\n",
    "#         return\n",
    "    \n",
    "#     hanoi( 2, a, c, b)\n",
    "#         def hanoi( 2, a, c, b ):\n",
    "#             if (n==1):\n",
    "#                 print(\"%d : %s -> %s\" %(n, a, b))\n",
    "#                 return\n",
    "\n",
    "#             hanoi( 1, a, b, c)\n",
    "#                 def hanoi( 1, a, b, c ):\n",
    "#                     if (n==1):\n",
    "#                         print(\"%d : %s -> %s\" %(1, a, c)) ##########################\n",
    "#                         return\n",
    "\n",
    "#             print(\"%d : %s -> %s\"%(2,a,b)) ############################\n",
    "#             hanoi( 1, c, a, b)\n",
    "#                 def hanoi( 1, c, a, b ):\n",
    "#                     if (n==1):\n",
    "#                         print(\"%d : %s -> %s\" %(1, c, b)) #############\n",
    "#                         return\n",
    "\n",
    "#     print(\"%d : %s -> %s\"%(3,a,c)) ###########################\n",
    "#     hanoi( 2, b, a, c)\n",
    "#         def hanoi( 2, b, a, c ):\n",
    "#             if (n==1):\n",
    "#                 print(\"%d : %s -> %s\" %(n, b, c))\n",
    "#                 return\n",
    "#             hanoi( 1, b, c, a)\n",
    "#                 def hanoi( 1, b, c, a ):\n",
    "#                     if (n==1):\n",
    "#                         print(\"%d : %s -> %s\" %(1, b, a))#######################\n",
    "#                         return\n",
    "\n",
    "#             print(\"%d : %s -> %s\"%(2,b,c))###################\n",
    "#             hanoi( 1, a, b, c)\n",
    "#                 def hanoi( 1, a, b, c ):\n",
    "#                     if (n==1):\n",
    "#                         print(\"%d : %s -> %s\" %(1, a, c)) #####################\n",
    "#                         return"
   ]
  },
  {
   "cell_type": "code",
   "execution_count": 43,
   "metadata": {},
   "outputs": [
    {
     "name": "stdout",
     "output_type": "stream",
     "text": [
      "1 : a -> c\n",
      "1 : a -> b\n",
      "2 : a -> c\n",
      "1 : b -> c\n",
      "1 : a -> c\n",
      "2 : a -> b\n",
      "1 : c -> b\n",
      "3 : a -> c\n",
      "1 : b -> a\n",
      "2 : b -> c\n",
      "1 : a -> c\n"
     ]
    }
   ],
   "source": [
    "def hanoi( n, fr, by, to ):\n",
    "    if (n==1):\n",
    "        print(\"%d : %s -> %s\" %(n, fr, to))\n",
    "        return\n",
    "    \n",
    "    hanoi( n-1, fr, to, by)\n",
    "    print(\"%d : %s -> %s\"%(n,fr,to))\n",
    "    hanoi( n-1, by, fr, to)\n",
    "    \n",
    "hanoi(1, 'a', 'b', 'c')\n",
    "hanoi(2, 'a', 'b', 'c')\n",
    "hanoi(3, 'a', 'b', 'c')\n",
    "#print()안에 hanoi함수 넣으면 none이 출력값 아래에 뜨는데 \n",
    "# 그 이유는 함수를 실행하고 나서 return에 값이 없기 때문이다. \n",
    "# 없는 값을 print()하려고 해서 none이 출력된다."
   ]
  },
  {
   "cell_type": "code",
   "execution_count": 46,
   "metadata": {},
   "outputs": [
    {
     "data": {
      "text/plain": [
       "2"
      ]
     },
     "execution_count": 46,
     "metadata": {},
     "output_type": "execute_result"
    }
   ],
   "source": [
    "a = 3\n",
    "b = 2\n",
    "a\n",
    "b \n",
    "# 여기에서 a나 b를 print()없이 사용해도 값이 출력되는 것을 알 수 있다.\n",
    "# 하지만 stack 메모리 개념에서 이해하면 \n",
    "#print()없이 파이썬에서는 제일 마지막 변수의 값을 출력해준다."
   ]
  },
  {
   "cell_type": "code",
   "execution_count": null,
   "metadata": {},
   "outputs": [],
   "source": []
  }
 ],
 "metadata": {
  "kernelspec": {
   "display_name": "Python 3",
   "language": "python",
   "name": "python3"
  },
  "language_info": {
   "codemirror_mode": {
    "name": "ipython",
    "version": 3
   },
   "file_extension": ".py",
   "mimetype": "text/x-python",
   "name": "python",
   "nbconvert_exporter": "python",
   "pygments_lexer": "ipython3",
   "version": "3.7.6"
  }
 },
 "nbformat": 4,
 "nbformat_minor": 4
}
