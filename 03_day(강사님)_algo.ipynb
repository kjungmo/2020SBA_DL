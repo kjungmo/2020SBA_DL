{
 "cells": [
  {
   "cell_type": "markdown",
   "metadata": {},
   "source": [
    "### 다형성"
   ]
  },
  {
   "cell_type": "code",
   "execution_count": 2,
   "metadata": {},
   "outputs": [
    {
     "name": "stdout",
     "output_type": "stream",
     "text": [
      "False\n",
      "False\n",
      "2\n",
      "1696371823368\n",
      "1696371823752\n"
     ]
    }
   ],
   "source": [
    "class Symbol(object):\n",
    "    def __init__(self, value):\n",
    "        self.value = value\n",
    "        \n",
    "if __name__ == \"__main__\":\n",
    "    x = Symbol(\"Py\")\n",
    "    y = Symbol(\"Py\")\n",
    "    \n",
    "    symbols = set()\n",
    "    symbols.add(x)\n",
    "    symbols.add(y)\n",
    "    \n",
    "    print( x is y )\n",
    "    print( x == y)\n",
    "    print( len(symbols) )\n",
    "    print( id(x) )\n",
    "    print( id(y) )"
   ]
  },
  {
   "cell_type": "code",
   "execution_count": 4,
   "metadata": {
    "scrolled": true
   },
   "outputs": [
    {
     "name": "stdout",
     "output_type": "stream",
     "text": [
      "Symbol.__eq__()\n",
      "False\n",
      "Symbol.__eq__()\n",
      "True\n",
      "1\n"
     ]
    }
   ],
   "source": [
    "class Symbol(object):\n",
    "    def __init__(self, value):\n",
    "        self.value = value\n",
    "        \n",
    "    def __eq__(self, other):\n",
    "        print(\"Symbol.__eq__()\")\n",
    "        if isinstance(self, other.__class__):\n",
    "            return self.value == other.value\n",
    "        else:\n",
    "            return NotImplemented\n",
    "        \n",
    "    def __hash__(self):\n",
    "        return hash(self.value)\n",
    "        \n",
    "if __name__ == \"__main__\":\n",
    "    x = Symbol(\"Py\")\n",
    "    y = Symbol(\"Py\")\n",
    "    \n",
    "    symbols = set()\n",
    "    symbols.add(x)\n",
    "    symbols.add(y)\n",
    "    \n",
    "    print( x is y )\n",
    "    print( x == y)\n",
    "    print( len(symbols) )\n"
   ]
  },
  {
   "cell_type": "markdown",
   "metadata": {},
   "source": [
    "### 클래스 예제"
   ]
  },
  {
   "cell_type": "code",
   "execution_count": 27,
   "metadata": {},
   "outputs": [
    {
     "name": "stdout",
     "output_type": "stream",
     "text": [
      "Point.__init__()\n",
      "10 10\n",
      "14.142135623730951\n",
      "Point.__init__()\n",
      "True\n",
      "[1, 2, 3]\n",
      "Point (10, 10)\n",
      "Circle.__init__()\n",
      "Point.__init__()\n",
      "Circle (5, 20, 20)\n",
      "78.53981633974483\n"
     ]
    }
   ],
   "source": [
    "import math\n",
    "\n",
    "class Point(object):\n",
    "    def __init__(self, x=0, y=0):\n",
    "        print(\"Point.__init__()\")\n",
    "        self.x = x\n",
    "        self.y = y\n",
    "\n",
    "    def distance_from_origin(self):\n",
    "        return math.hypot(self.x, self.y)\n",
    "    \n",
    "    def __eq__(self, other):\n",
    "        return self.x == other.x and self.y == other.y\n",
    "    \n",
    "    def __repr__(self):\n",
    "        return \"Point ({0.x!r}, {0.y!r})\".format(self)\n",
    "   \n",
    "    def __str__(self):\n",
    "        return repr(self)\n",
    "      \n",
    "class Circle(Point):\n",
    "    def __init__(self, radius, x=0, y=0):\n",
    "        print(\"Circle.__init__()\")\n",
    "        super().__init__(x,y)\n",
    "        self.radius = radius\n",
    "\n",
    "    def edge_distance_from_origin(self):\n",
    "        return  abs(self.distance_from_origin()-self.radius)\n",
    "    \n",
    "    def area(self):\n",
    "        return math.pi * (self.radius**2)\n",
    "    \n",
    "    def circumference(self):\n",
    "        return 2*math.pi*self.radius\n",
    "    \n",
    "    def __eq__(self, other):\n",
    "        return self.radius == other.radius and super().__eq__(other)\n",
    "    \n",
    "    def __repr__(self):\n",
    "        return \"Circle ({0.radius!r}, {0.x!r}, {0.y!r})\".format(self)\n",
    "   \n",
    "    def __str__(self):\n",
    "        return repr(self)        \n",
    "    \n",
    "if __name__ == \"__main__\":\n",
    "    p1 = Point(10,10)\n",
    "    print(p1.x, p1.y)\n",
    "    print(p1.distance_from_origin())\n",
    "    \n",
    "    p2= Point(10,10)\n",
    "    print(p1 == p2)\n",
    "    \n",
    "    l1 =[1,2,3]\n",
    "    print(l1)\n",
    "    print(p1)\n",
    "    p1 # Point(10,10)\n",
    "    \n",
    "    c1 = Circle(5, 20, 20)\n",
    "    print(c1)\n",
    "    print(c1.area())"
   ]
  },
  {
   "cell_type": "markdown",
   "metadata": {},
   "source": [
    "### 데커레이터 패턴\n"
   ]
  },
  {
   "cell_type": "code",
   "execution_count": 28,
   "metadata": {},
   "outputs": [
    {
     "ename": "NameError",
     "evalue": "name 'my_decorator' is not defined",
     "output_type": "error",
     "traceback": [
      "\u001b[1;31m---------------------------------------------------------------------------\u001b[0m",
      "\u001b[1;31mNameError\u001b[0m                                 Traceback (most recent call last)",
      "\u001b[1;32m<ipython-input-28-f1cbfba29083>\u001b[0m in \u001b[0;36m<module>\u001b[1;34m\u001b[0m\n\u001b[1;32m----> 1\u001b[1;33m \u001b[1;32mclass\u001b[0m \u001b[0mC\u001b[0m\u001b[1;33m(\u001b[0m\u001b[0mobject\u001b[0m\u001b[1;33m)\u001b[0m\u001b[1;33m:\u001b[0m\u001b[1;33m\u001b[0m\u001b[1;33m\u001b[0m\u001b[0m\n\u001b[0m\u001b[0;32m      2\u001b[0m     \u001b[1;33m@\u001b[0m\u001b[0mmy_decorator\u001b[0m\u001b[1;33m\u001b[0m\u001b[1;33m\u001b[0m\u001b[0m\n\u001b[0;32m      3\u001b[0m     \u001b[1;32mdef\u001b[0m \u001b[0mmethod\u001b[0m\u001b[1;33m(\u001b[0m\u001b[0mself\u001b[0m\u001b[1;33m)\u001b[0m\u001b[1;33m:\u001b[0m\u001b[1;33m\u001b[0m\u001b[1;33m\u001b[0m\u001b[0m\n\u001b[0;32m      4\u001b[0m         \u001b[1;32mpass\u001b[0m\u001b[1;33m\u001b[0m\u001b[1;33m\u001b[0m\u001b[0m\n",
      "\u001b[1;32m<ipython-input-28-f1cbfba29083>\u001b[0m in \u001b[0;36mC\u001b[1;34m()\u001b[0m\n\u001b[0;32m      1\u001b[0m \u001b[1;32mclass\u001b[0m \u001b[0mC\u001b[0m\u001b[1;33m(\u001b[0m\u001b[0mobject\u001b[0m\u001b[1;33m)\u001b[0m\u001b[1;33m:\u001b[0m\u001b[1;33m\u001b[0m\u001b[1;33m\u001b[0m\u001b[0m\n\u001b[1;32m----> 2\u001b[1;33m     \u001b[1;33m@\u001b[0m\u001b[0mmy_decorator\u001b[0m\u001b[1;33m\u001b[0m\u001b[1;33m\u001b[0m\u001b[0m\n\u001b[0m\u001b[0;32m      3\u001b[0m     \u001b[1;32mdef\u001b[0m \u001b[0mmethod\u001b[0m\u001b[1;33m(\u001b[0m\u001b[0mself\u001b[0m\u001b[1;33m)\u001b[0m\u001b[1;33m:\u001b[0m\u001b[1;33m\u001b[0m\u001b[1;33m\u001b[0m\u001b[0m\n\u001b[0;32m      4\u001b[0m         \u001b[1;32mpass\u001b[0m\u001b[1;33m\u001b[0m\u001b[1;33m\u001b[0m\u001b[0m\n",
      "\u001b[1;31mNameError\u001b[0m: name 'my_decorator' is not defined"
     ]
    }
   ],
   "source": [
    "class C(object):\n",
    "    @my_decorator\n",
    "    def method(self):\n",
    "        pass"
   ]
  },
  {
   "cell_type": "code",
   "execution_count": null,
   "metadata": {},
   "outputs": [],
   "source": [
    "class C(object):\n",
    "    @my_decorator\n",
    "    def method(self):\n",
    "        pass\n",
    "    \n",
    "    method = my_decorator(method)"
   ]
  },
  {
   "cell_type": "code",
   "execution_count": 35,
   "metadata": {},
   "outputs": [
    {
     "name": "stdout",
     "output_type": "stream",
     "text": [
      "random_tree() 2.378393199999664\n"
     ]
    }
   ],
   "source": [
    "import random\n",
    "import time\n",
    "\n",
    "def random_tree(n):\n",
    "    t = time.perf_counter()\n",
    "    temp = [ n for n in range(n) ]\n",
    "    for i in range(n+1):\n",
    "        temp[random.choice(temp)] = random.choice(temp)\n",
    "    \n",
    "    print(\"{0} {1}\".format( \"random_tree()\", time.perf_counter()-t ))\n",
    "    return temp\n",
    "\n",
    "if __name__ == \"__main__\":\n",
    "    random_tree(1000000)"
   ]
  },
  {
   "cell_type": "code",
   "execution_count": 37,
   "metadata": {},
   "outputs": [
    {
     "name": "stdout",
     "output_type": "stream",
     "text": [
      "random_tree() 2.4557804999994914\n"
     ]
    }
   ],
   "source": [
    "import random\n",
    "import time\n",
    "\n",
    "def benchmark(func):\n",
    "    def wrapper( *args, **kwargs):\n",
    "        t = time.perf_counter()\n",
    "        res = func(*args, **kwargs)\n",
    "        print(\"{0} {1}\".format( \"random_tree()\", time.perf_counter()-t ))\n",
    "    return wrapper\n",
    "\n",
    "def random_tree(n):\n",
    "    temp = [ n for n in range(n) ]\n",
    "    for i in range(n+1):\n",
    "        temp[random.choice(temp)] = random.choice(temp)\n",
    "    return temp\n",
    "\n",
    "if __name__ == \"__main__\":\n",
    "    random_tree = benchmark(random_tree)\n",
    "    random_tree(1000000)"
   ]
  },
  {
   "cell_type": "code",
   "execution_count": 40,
   "metadata": {},
   "outputs": [
    {
     "name": "stdout",
     "output_type": "stream",
     "text": [
      "random_tree() 2.320738899999924\n"
     ]
    }
   ],
   "source": [
    "import random\n",
    "import time\n",
    "\n",
    "def benchmark(func):\n",
    "    def wrapper( *args, **kwargs):\n",
    "        t = time.perf_counter()\n",
    "        res = func(*args, **kwargs)\n",
    "        print(\"{0} {1}\".format( \"random_tree()\", time.perf_counter()-t ))\n",
    "    return wrapper\n",
    "\n",
    "@benchmark\n",
    "def random_tree(n):\n",
    "    temp = [ n for n in range(n) ]\n",
    "    for i in range(n+1):\n",
    "        temp[random.choice(temp)] = random.choice(temp)\n",
    "    return temp\n",
    "\n",
    "if __name__ == \"__main__\":\n",
    "    random_tree(1000000)"
   ]
  },
  {
   "cell_type": "code",
   "execution_count": 47,
   "metadata": {},
   "outputs": [
    {
     "name": "stdout",
     "output_type": "stream",
     "text": [
      "foo(<__main__.A object at 0x0000018AF7AE97C8>, 1) 실행\n",
      "class_foo(<class '__main__.A'>, 2) 실행\n",
      "static_foo(3) 실행\n"
     ]
    }
   ],
   "source": [
    "class A(object):\n",
    "    def foo(self, x):\n",
    "        print(\"foo({0}, {1}) 실행\".format(self, x))\n",
    "        \n",
    "    @classmethod    \n",
    "    def class_foo(cls, x):\n",
    "        print(\"class_foo({0}, {1}) 실행\".format(cls, x))\n",
    "        \n",
    "    @staticmethod\n",
    "    def static_foo(x):\n",
    "        print(\"static_foo({0}) 실행\".format(x))\n",
    "        \n",
    "if __name__ == \"__main__\":\n",
    "    a = A()\n",
    "    a.foo(1)\n",
    "    a.class_foo(2)\n",
    "    A.static_foo(3)"
   ]
  },
  {
   "cell_type": "markdown",
   "metadata": {},
   "source": [
    "### 프로퍼티"
   ]
  },
  {
   "cell_type": "code",
   "execution_count": 52,
   "metadata": {},
   "outputs": [
    {
     "name": "stdout",
     "output_type": "stream",
     "text": [
      "홍길동\n",
      "임꺽정\n"
     ]
    }
   ],
   "source": [
    "class C :\n",
    "    def __init__(self, name):\n",
    "        self.name = name \n",
    "        \n",
    "    def getName(self):\n",
    "        return self.name\n",
    "    \n",
    "    def setName(self, new_name):\n",
    "        self.name = new_name\n",
    "\n",
    "if __name__ == \"__main__\":\n",
    "    c = C(\"홍길동\")\n",
    "    print(c.getName())\n",
    "    c.setName(\"임꺽정\")\n",
    "    print(c.getName())"
   ]
  },
  {
   "cell_type": "code",
   "execution_count": 53,
   "metadata": {},
   "outputs": [
    {
     "name": "stdout",
     "output_type": "stream",
     "text": [
      "C.getter()\n",
      "홍길동\n",
      "C.setter()\n",
      "C.getter()\n",
      "임꺽정\n"
     ]
    }
   ],
   "source": [
    "class C :\n",
    "    def __init__(self, name):\n",
    "        self._name = name \n",
    "        \n",
    "    @property\n",
    "    def name(self):\n",
    "        print(\"C.getter()\")\n",
    "        return self._name\n",
    "    \n",
    "    @name.setter\n",
    "    def name(self, new_name):\n",
    "        print(\"C.setter()\")\n",
    "        self._name = new_name\n",
    "\n",
    "if __name__ == \"__main__\":\n",
    "    c = C(\"홍길동\")\n",
    "    print(c.name)\n",
    "    c.name = \"임꺽정\"\n",
    "    print(c.name)"
   ]
  },
  {
   "cell_type": "markdown",
   "metadata": {},
   "source": [
    "### 옵저버(관찰자) 패턴"
   ]
  },
  {
   "cell_type": "code",
   "execution_count": 54,
   "metadata": {},
   "outputs": [
    {
     "name": "stdout",
     "output_type": "stream",
     "text": [
      "아스틴, 점심시간입니다.\n",
      "제임스, 점심시간입니다.\n",
      "제프, 점심시간입니다.\n",
      "아스틴, 퇴근시간입니다.\n",
      "제임스, 퇴근시간입니다.\n"
     ]
    }
   ],
   "source": [
    "class Subscriber(object):\n",
    "    def __init__(self, name):\n",
    "        self.name = name\n",
    "        \n",
    "    def update(self, message ):\n",
    "        print(\"{0}, {1}\".format(self.name, message))\n",
    "\n",
    "class Publisher(object):\n",
    "    def __init__(self):\n",
    "        self.subscribers = set()\n",
    "        \n",
    "    def register(self, who):\n",
    "        self.subscribers.add(who)\n",
    "        \n",
    "    def unregister(self, who):\n",
    "        self.subscribers.discard(who)\n",
    "        \n",
    "    def dispatch(self, message):\n",
    "        for subscriber in self.subscribers:\n",
    "            subscriber.update(message)\n",
    "        \n",
    "if __name__ == \"__main__\":\n",
    "    pub = Publisher()\n",
    "    \n",
    "    astin = Subscriber(\"아스틴\")\n",
    "    james = Subscriber(\"제임스\")\n",
    "    jeff  = Subscriber(\"제프\")\n",
    "    \n",
    "    pub.register(astin)\n",
    "    pub.register(james)\n",
    "    pub.register(jeff)\n",
    "    \n",
    "    pub.dispatch(\"점심시간입니다.\")\n",
    "    pub.unregister(jeff)\n",
    "    pub.dispatch(\"퇴근시간입니다.\")\n"
   ]
  },
  {
   "cell_type": "code",
   "execution_count": 56,
   "metadata": {},
   "outputs": [
    {
     "name": "stdout",
     "output_type": "stream",
     "text": [
      "아스틴, 점심시간입니다.\n",
      "제임스, 점심시간입니다.\n",
      "제프, 점심시간입니다.\n",
      "아스틴, 퇴근시간입니다.\n",
      "제임스, 퇴근시간입니다.\n"
     ]
    }
   ],
   "source": [
    "class SubscriberOne(object):\n",
    "    def __init__(self, name):\n",
    "        self.name = name\n",
    "        \n",
    "    def update(self, message ):\n",
    "        print(\"{0}, {1}\".format(self.name, message))\n",
    "        \n",
    "class SubscriberTwo(object):\n",
    "    def __init__(self, name):\n",
    "        self.name = name\n",
    "        \n",
    "    def receive(self, message ):\n",
    "        print(\"{0}, {1}\".format(self.name, message))\n",
    "\n",
    "class Publisher(object):\n",
    "    def __init__(self):\n",
    "        self.subscribers = dict()\n",
    "        \n",
    "    def register(self, who, callback=None):\n",
    "        if callback is None:\n",
    "            callback = getattr(who, 'update')\n",
    "        self.subscribers[who] = callback\n",
    "        \n",
    "    def unregister(self, who):\n",
    "        del self.subscribers[who]\n",
    "        \n",
    "    def dispatch(self, message):\n",
    "        for subscriber, callback in self.subscribers.items():\n",
    "            callback(message)\n",
    "        \n",
    "if __name__ == \"__main__\":\n",
    "    pub = Publisher()\n",
    "    \n",
    "    astin = SubscriberOne(\"아스틴\")\n",
    "    james = SubscriberTwo(\"제임스\")\n",
    "    jeff  = SubscriberOne(\"제프\")\n",
    "    \n",
    "    pub.register(astin, astin.update)\n",
    "    pub.register(james, james.receive)\n",
    "    pub.register(jeff)\n",
    "    \n",
    "    pub.dispatch(\"점심시간입니다.\")\n",
    "    pub.unregister(jeff)\n",
    "    pub.dispatch(\"퇴근시간입니다.\")\n"
   ]
  },
  {
   "cell_type": "code",
   "execution_count": 59,
   "metadata": {
    "scrolled": true
   },
   "outputs": [
    {
     "name": "stdout",
     "output_type": "stream",
     "text": [
      "아스틴, 점심시간입니다.\n",
      "제프, 점심시간입니다.\n",
      "아스틴, 저녁시간입니다.\n",
      "제임스, 저녁시간입니다.\n"
     ]
    }
   ],
   "source": [
    "class Subscriber(object):\n",
    "    def __init__(self, name):\n",
    "        self.name = name\n",
    "        \n",
    "    def update(self, message ):\n",
    "        print(\"{0}, {1}\".format(self.name, message))\n",
    "        \n",
    "class Publisher(object):\n",
    "    def __init__(self, events):\n",
    "        self.subscribers = { event: dict() for event in events }\n",
    "        \n",
    "    def get_subscribers(self, event):\n",
    "        return self.subscribers[event]\n",
    "    \n",
    "    def register(self, event, who, callback=None):\n",
    "        if callback is None:\n",
    "            callback = getattr(who, 'update')\n",
    "        self.get_subscribers(event)[who] = callback\n",
    "        \n",
    "    def unregister(self, event, who):\n",
    "        del self.get_subscribers(event)[who]\n",
    "        \n",
    "    def dispatch(self, event , message):\n",
    "        for subscriber, callback in self.get_subscribers(event).items():\n",
    "            callback(message)\n",
    "        \n",
    "if __name__ == \"__main__\":\n",
    "    pub = Publisher([\"점심\", \"퇴근\"])\n",
    "    \n",
    "    astin = Subscriber(\"아스틴\")\n",
    "    james = Subscriber(\"제임스\")\n",
    "    jeff  = Subscriber(\"제프\")\n",
    "    \n",
    "    pub.register( \"점심\" , astin)\n",
    "    pub.register( \"퇴근\" , astin)\n",
    "    pub.register( \"퇴근\" , james)\n",
    "    pub.register( \"점심\" , jeff)\n",
    "  \n",
    "    pub.dispatch( \"점심\", \"점심시간입니다.\")\n",
    "    pub.dispatch( \"퇴근\", \"저녁시간입니다.\")\n"
   ]
  },
  {
   "cell_type": "markdown",
   "metadata": {},
   "source": [
    "### 싱글턴(singleton)"
   ]
  },
  {
   "cell_type": "code",
   "execution_count": 78,
   "metadata": {
    "scrolled": true
   },
   "outputs": [
    {
     "name": "stdout",
     "output_type": "stream",
     "text": [
      "객체를 위한 메모리 생성\n",
      "시스템에 매우 중요한 초기화 작업\n",
      "시스템에 매우 중요한 초기화 작업\n",
      "True\n",
      "1696372160776\n",
      "1696372160776\n"
     ]
    }
   ],
   "source": [
    "class SinEx(object):\n",
    "    _sing = None\n",
    "    \n",
    "    def __init__(self):\n",
    "        print(\"시스템에 매우 중요한 초기화 작업\")\n",
    "    \n",
    "    def __new__( self, *args, **kwargs):\n",
    "        if not SinEx._sing:\n",
    "            print(\"객체를 위한 메모리 생성\")\n",
    "            SinEx._sing = super(SinEx,self).__new__(self, *args, **kwargs)\n",
    "        return SinEx._sing\n",
    "\n",
    "if __name__ == \"__main__\":\n",
    "    x = SinEx()\n",
    "    y = SinEx() \n",
    "    print(x == y)\n",
    "    print(id(x))\n",
    "    print(id(y))"
   ]
  },
  {
   "cell_type": "markdown",
   "metadata": {},
   "source": [
    "### 파이썬 쓰레드"
   ]
  },
  {
   "cell_type": "code",
   "execution_count": 2,
   "metadata": {},
   "outputs": [
    {
     "name": "stdout",
     "output_type": "stream",
     "text": [
      "스레드 1 : 처리 완료 0스레드 4 : 처리 완료 1스레드 5 : 처리 완료 2\n",
      "스레드 5 : 처리 완료 3\n",
      "스레드 5 : 처리 완료 4\n",
      "스레드 5 : 처리 완료 5\n",
      "스레드 5 : 처리 완료 6\n",
      "스레드 5 : 처리 완료 7\n",
      "스레드 5 : 처리 완료 8\n",
      "스레드 5 : 처리 완료 9\n",
      "\n",
      "스레드 1 : 처리 완료 10\n",
      "스레드 1 : 처리 완료 11스레드 2 : 처리 완료 12\n",
      "스레드 1 : 처리 완료 13\n",
      "스레드 1 : 처리 완료 14\n",
      "스레드 1 : 처리 완료 15\n",
      "스레드 1 : 처리 완료 16\n",
      "스레드 1 : 처리 완료 17\n",
      "스레드 1 : 처리 완료 18\n",
      "스레드 1 : 처리 완료 19\n",
      "\n",
      "\n"
     ]
    }
   ],
   "source": [
    "import threading\n",
    "import queue\n",
    "\n",
    "q = queue.Queue()\n",
    "\n",
    "def worker(num):\n",
    "    while True:\n",
    "        item = q.get()\n",
    "        if item is None:\n",
    "            break\n",
    "        \n",
    "        print(\"스레드 {0} : 처리 완료 {1}\".format(num+1, item))\n",
    "        q.task_done()\n",
    "        \n",
    "if __name__ == \"__main__\":\n",
    "    num_worker_threads = 5\n",
    "    threads = []\n",
    "    for i in range(num_worker_threads):\n",
    "        t = threading.Thread( target=worker, args=(i,))\n",
    "        t.start()\n",
    "        threads.append(t)\n",
    "        \n",
    "    for item in range(20):\n",
    "        q.put(item)\n",
    "    \n",
    "    q.join()\n",
    "    \n",
    "    for i in range(num_worker_threads):\n",
    "        q.put(None)\n",
    "        \n",
    "    for t in threads:\n",
    "        t.join()"
   ]
  },
  {
   "cell_type": "code",
   "execution_count": null,
   "metadata": {},
   "outputs": [],
   "source": []
  },
  {
   "cell_type": "code",
   "execution_count": null,
   "metadata": {},
   "outputs": [],
   "source": []
  }
 ],
 "metadata": {
  "kernelspec": {
   "display_name": "Python 3",
   "language": "python",
   "name": "python3"
  },
  "language_info": {
   "codemirror_mode": {
    "name": "ipython",
    "version": 3
   },
   "file_extension": ".py",
   "mimetype": "text/x-python",
   "name": "python",
   "nbconvert_exporter": "python",
   "pygments_lexer": "ipython3",
   "version": "3.7.6"
  }
 },
 "nbformat": 4,
 "nbformat_minor": 4
}
