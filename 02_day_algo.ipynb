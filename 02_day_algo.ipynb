{
 "cells": [
  {
   "cell_type": "markdown",
   "metadata": {},
   "source": [
    "### 문자열 전체 반전하기"
   ]
  },
  {
   "cell_type": "code",
   "execution_count": 117,
   "metadata": {},
   "outputs": [
    {
     "name": "stdout",
     "output_type": "stream",
     "text": [
      "!상세 녕안\n",
      "!상세 녕안\n"
     ]
    }
   ],
   "source": [
    "def revert(s):\n",
    "    if s:\n",
    "        s = s[-1] + revert(s[:-1]) #맨 마지막글자 + 가장 끝 글자를 배제한 전체 글자를 재귀호출\n",
    "    return s\n",
    "\n",
    "def revert2(string):\n",
    "    return string[::-1] # 스텝은 보통 1로 되어있다. 한글자 한글자 접근하도록, -1이면 뒤에서부터 앞으로 -1씩 인덱스 줄이면서 접근한다\n",
    "        # 스텝이 -1 이면 문자열 처음부터 끝까지 간격을 -1로 슬라이싱 한다.\n",
    "if __name__ == \"__main__\":\n",
    "    str1 = \"안녕 세상!\"\n",
    "    str2 = revert(str1)\n",
    "    str3 = revert2(str1)\n",
    "    print(str2)\n",
    "    print(str3)"
   ]
  },
  {
   "cell_type": "markdown",
   "metadata": {},
   "source": [
    "###  문자열 단어 단위로 반전하기"
   ]
  },
  {
   "cell_type": "code",
   "execution_count": 121,
   "metadata": {},
   "outputs": [
    {
     "name": "stdout",
     "output_type": "stream",
     "text": [
      "['다', '있', '미', '재', ' ', '말', '정', ' ', '즘', '리', '고', '알', ' ', '썬', '이', '파']\n"
     ]
    }
   ],
   "source": [
    "def reverser(string1, p1=0, p2=None): #p1, p2를 default parameter로 설정\n",
    "    if len(string1)<2:\n",
    "        return string1\n",
    "    p2 = p2 or len(string1)-1\n",
    "    \n",
    "    while p1<p2:\n",
    "        string1[p1], string1[p2] = string1[p2], string1[p1] #리스트에서 단어 하나를 꺼내는 것, 튜플 스왑. \n",
    "        p1 += 1\n",
    "        p2 -= 1\n",
    "\n",
    "def reversing_words_sentence_logic(string1):\n",
    "    reverser(string1) #문장 전체를 반전시키는 코드\n",
    "    print(string1)\n",
    "\n",
    "\n",
    "if __name__ == \"__main__\":\n",
    "    str1 = \"파이썬 알고리즘 정말 재미있다\"\n",
    "    str2 = reversing_words_sentence_logic( list(str1))\n",
    "    \n",
    "\n",
    "#이렇게 하니까 글자 단위로 다 반전되었다 단어 단위가 아니라"
   ]
  },
  {
   "cell_type": "code",
   "execution_count": 5,
   "metadata": {},
   "outputs": [
    {
     "name": "stdout",
     "output_type": "stream",
     "text": [
      "재미있다 정말 알고리즘 파이썬\n"
     ]
    }
   ],
   "source": [
    "def reverser(string1, p1=0, p2=None): #p1, p2를 default parameter로 설정\n",
    "    if len(string1)<2:\n",
    "        return string1\n",
    "    p2 = p2 or len(string1)-1\n",
    "    \n",
    "    while p1<p2:\n",
    "        string1[p1], string1[p2] = string1[p2], string1[p1] #리스트에서 단어 하나를 꺼내는 것, 튜플 스왑. \n",
    "        p1 += 1\n",
    "        p2 -= 1\n",
    "\n",
    "def reversing_words_sentence_logic(string1):\n",
    "    reverser(string1) #문장 전체를 반전시키는 코드\n",
    "#     print(string1)\n",
    "    p = 0\n",
    "    start = 0\n",
    "    while p < len(string1):\n",
    "        if string1[p] == u\"\\u0020\": # 유니코드로 공백을 찾게 된다면 그 속의 글자를 다시 뒤집어주는것이다.(다있미재가 재미있다로 )\n",
    "            reverser(string1, start, p-1) #결과적으로 단어단위로만 뒤집히게 된다\n",
    "            start = p+1\n",
    "        p += 1\n",
    "        \n",
    "    reverser(string1, start, p-1)\n",
    "    return \"\".join(string1) #문자열을 다시 결합해줌\n",
    "\n",
    "if __name__ == \"__main__\":\n",
    "    str1 = \"파이썬 알고리즘 정말 재미있다\"\n",
    "    str2 = reversing_words_sentence_logic( list(str1))\n",
    "    print(str2)\n"
   ]
  },
  {
   "cell_type": "code",
   "execution_count": 28,
   "metadata": {},
   "outputs": [
    {
     "name": "stdout",
     "output_type": "stream",
     "text": [
      "['파이썬', '알고리즘', '정말', '재미있다']\n",
      "None\n"
     ]
    }
   ],
   "source": [
    "def reversing_words_brute(string):\n",
    "    word, sentence = [], []  # 빈 리스트로 초기화\n",
    "    for character in string:\n",
    "        if( character !=  \" \"):\n",
    "            word.append(character)\n",
    "        else:\n",
    "            if word:\n",
    "                sentence.append(\"\".join(word)) #워드를 하나로 묶어줌. 단어별로 list로 붂임\n",
    "            word = []\n",
    "            \n",
    "    if word != \"\": #재미있다를 합쳐주는 것. 재미있다 뒤에 빈칸이 없어서 이거 잆으면 안찍힘\n",
    "            sentence.append(\"\".join(word)) \n",
    "    \n",
    "\n",
    "    print(sentence)\n",
    "    return\n",
    "\n",
    "if __name__ == \"__main__\":\n",
    "    str1 = \"파이썬 알고리즘 정말 재미있다\"\n",
    "    str2 = reversing_words_brute(str1)\n",
    "    print(str2)\n"
   ]
  },
  {
   "cell_type": "code",
   "execution_count": 30,
   "metadata": {},
   "outputs": [
    {
     "name": "stdout",
     "output_type": "stream",
     "text": [
      "재미있다 정말 알고리즘 파이썬\n"
     ]
    }
   ],
   "source": [
    "def reversing_words_brute(string):\n",
    "    word, sentence = [], []  # 빈 리스트로 초기화\n",
    "    for character in string:\n",
    "        if( character !=  \" \"):\n",
    "            word.append(character)\n",
    "        else:\n",
    "            if word:\n",
    "                sentence.append(\"\".join(word)) #워드를 하나로 묶어줌. 단어별로 list로 붂임\n",
    "            word = []\n",
    "            \n",
    "    if word != \"\": #재미있다를 합쳐주는 것. 재미있다 뒤에 빈칸이 없어서 이거 잆으면 안찍힘\n",
    "            sentence.append(\"\".join(word)) # word가 \"\" 이냐, 비어있냐는걸 물어본 것. 명시적으로 보이면 좋다.\n",
    "    \n",
    "    sentence.reverse()\n",
    "    return \" \".join(sentence)\n",
    "\n",
    "\n",
    "if __name__ == \"__main__\":\n",
    "    str1 = \"파이썬 알고리즘 정말 재미있다\"\n",
    "    str2 = reversing_words_brute(str1)\n",
    "    print(str2)\n"
   ]
  },
  {
   "cell_type": "code",
   "execution_count": 33,
   "metadata": {},
   "outputs": [
    {
     "name": "stdout",
     "output_type": "stream",
     "text": [
      "['파이썬', '알고리즘', '정말', '재미있다']\n",
      "None\n"
     ]
    }
   ],
   "source": [
    "def reversing_words_slice(word):\n",
    "    new_word = []\n",
    "    words = word.split(\" \")\n",
    "    print(words)\n",
    "    return \n",
    "\n",
    "\n",
    "if __name__ == \"__main__\":\n",
    "    str1 = \"파이썬 알고리즘 정말 재미있다\"\n",
    "    str2 = reversing_words_slice(str1)\n",
    "    print(str2)\n"
   ]
  },
  {
   "cell_type": "code",
   "execution_count": 45,
   "metadata": {},
   "outputs": [
    {
     "name": "stdout",
     "output_type": "stream",
     "text": [
      "재미있다 정말 알고리즘 파이썬\n"
     ]
    }
   ],
   "source": [
    "def reversing_words_slice(word):\n",
    "    new_word = []\n",
    "    words = word.split(\" \")\n",
    "    for word in words [::-1]: # 뒤에서부터 뽑혀서 넘어온다\n",
    "        new_word.append(word)\n",
    "        \n",
    "    return  \" \".join(new_word)\n",
    "\n",
    "\n",
    "if __name__ == \"__main__\":\n",
    "    str1 = \"파이썬 알고리즘 정말 재미있다\"\n",
    "    str2 = reversing_words_slice(str1)\n",
    "    print(str2)\n"
   ]
  },
  {
   "cell_type": "code",
   "execution_count": 49,
   "metadata": {},
   "outputs": [
    {
     "name": "stdout",
     "output_type": "stream",
     "text": [
      "재미있다 정말 알고리즘 파이썬\n",
      "재미있다 정말 알고리즘 파이썬\n"
     ]
    }
   ],
   "source": [
    "def reversing_words(str1):\n",
    "    words = str1.split(\" \")\n",
    "    rev_set = \" \".join(reversed(words))\n",
    "    return  rev_set\n",
    "\n",
    "def reversing_words2(str1):\n",
    "    words = str1.split(\" \")\n",
    "    words.reverse()\n",
    "    return  \" \".join(words)\n",
    "\n",
    "if __name__ == \"__main__\":\n",
    "    str1 = \"파이썬 알고리즘 정말 재미있다\"\n",
    "    str2 = reversing_words(str1)\n",
    "    str3 = reversing_words2(str1)\n",
    "    print(str2)\n",
    "    print(str3)\n"
   ]
  },
  {
   "cell_type": "markdown",
   "metadata": {},
   "source": [
    "### 단순 문자열 압출"
   ]
  },
  {
   "cell_type": "code",
   "execution_count": 53,
   "metadata": {},
   "outputs": [
    {
     "name": "stdout",
     "output_type": "stream",
     "text": [
      "a2b1c5a3\n"
     ]
    }
   ],
   "source": [
    "def str_compression(s):\n",
    "    count, last = 1, \"\"\n",
    "    list_aux = []\n",
    "    \n",
    "    for i, c in enumerate(s):\n",
    "        if last == c:\n",
    "            count += 1 # 한번 문자가 들어왔는데 또 들어오면 counting 한다는 것\n",
    "        else:\n",
    "            if i != 0: # 첫글자가 아니라면\n",
    "                list_aux.append(str(count)) # 1을 string으로 바꿔서 append 한다는 것\n",
    "            list_aux.append(c)\n",
    "            count = 1\n",
    "            last = c\n",
    "    list_aux.append(str(count))\n",
    "    return \"\".join(list_aux) # join을 통해 문자열을 만드는 것\n",
    "\n",
    "if __name__ == \"__main__\":\n",
    "    result = str_compression(\"aabcccccaaa\")\n",
    "    print(result)"
   ]
  },
  {
   "cell_type": "markdown",
   "metadata": {},
   "source": [
    "### 문자열 순열 "
   ]
  },
  {
   "cell_type": "code",
   "execution_count": 54,
   "metadata": {},
   "outputs": [
    {
     "name": "stdout",
     "output_type": "stream",
     "text": [
      "['012', '021', '102', '120', '201', '210']\n"
     ]
    }
   ],
   "source": [
    "def perm(s):\n",
    "    if len(s) < 2:  # 종료조건\n",
    "        return s\n",
    "    res = []\n",
    "    for i, c in enumerate(s): # enumerate : 대상체와 값을 같이 뽑는 방법  i는 int c 는 str\n",
    "        for cc in perm(s[:i] + s[i+1:]): #i 만큼의 문자열을 호출, i+1부터 문자열을 추출, 재귀적으로 또 호출함.\n",
    "            res.append(c+cc)\n",
    "    return res  #모든 조합을 출력한다\n",
    "# i 가 0일때 s[:1]는 0미만이라 empty list가 된다.그래서 첫번째 rounding에서는 012가 들어온다\n",
    "if __name__ == \"__main__\":\n",
    "    val = \"012\"\n",
    "    \n",
    "    print(perm(val))"
   ]
  },
  {
   "cell_type": "code",
   "execution_count": 55,
   "metadata": {},
   "outputs": [
    {
     "name": "stdout",
     "output_type": "stream",
     "text": [
      "['12']\n",
      "['12', '21']\n",
      "['012']\n",
      "['012', '021']\n",
      "['02']\n",
      "['02', '20']\n",
      "['012', '021', '102']\n",
      "['012', '021', '102', '120']\n",
      "['01']\n",
      "['01', '10']\n",
      "['012', '021', '102', '120', '201']\n",
      "['012', '021', '102', '120', '201', '210']\n",
      "['012', '021', '102', '120', '201', '210']\n"
     ]
    }
   ],
   "source": [
    "def perm(s):\n",
    "    if len(s) < 2:  # 종료조건\n",
    "        return s\n",
    "    res = []\n",
    "    for i, c in enumerate(s): # enumerate : 대상체와 값을 같이 뽑는 방법  i는 int c 는 str\n",
    "        for cc in perm(s[:i] + s[i+1:]): #i 만큼의 문자열을 호출, i+1부터 문자열을 추출, 재귀적으로 또 호출함.\n",
    "            res.append(c+cc)\n",
    "            print(res)\n",
    "    return res  #모든 조합을 출력한다\n",
    "# i 가 0일때 s[:1]는 0미만이라 empty list가 된다.그래서 첫번째 rounding에서는 012가 들어온다\n",
    "if __name__ == \"__main__\":\n",
    "    val = \"012\"\n",
    "    \n",
    "    print(perm(val))"
   ]
  },
  {
   "cell_type": "code",
   "execution_count": 58,
   "metadata": {},
   "outputs": [
    {
     "name": "stdout",
     "output_type": "stream",
     "text": [
      "['012', '021', '102', '120', '201', '210']\n",
      "['012', '021', '102', '120', '201', '210']\n"
     ]
    }
   ],
   "source": [
    "import itertools\n",
    "\n",
    "def perm(s):\n",
    "    if len(s) < 2:  # 종료조건\n",
    "        return s\n",
    "    res = []\n",
    "    for i, c in enumerate(s): # enumerate : 대상체와 값을 같이 뽑는 방법  i는 int c 는 str\n",
    "        for cc in perm(s[:i] + s[i+1:]): #i 만큼의 문자열을 호출, i+1부터 문자열을 추출, 재귀적으로 또 호출함.\n",
    "            res.append(c+cc)\n",
    "    return res  #모든 조합을 출력한다\n",
    "# i 가 0일때 s[:1]는 0미만이라 empty list가 된다.그래서 첫번째 rounding에서는 012가 들어온다\n",
    "\n",
    "def perm2(s):\n",
    "    res = itertools.permutations(s) #임포트필수다.\n",
    "    return [\"\".join(i) for i in res]\n",
    "\n",
    "if __name__ == \"__main__\":\n",
    "    val = \"012\"\n",
    "    \n",
    "    print(perm(val))\n",
    "    print(perm2(val))"
   ]
  },
  {
   "cell_type": "markdown",
   "metadata": {},
   "source": [
    "### combination 구현 "
   ]
  },
  {
   "cell_type": "code",
   "execution_count": 61,
   "metadata": {},
   "outputs": [
    {
     "name": "stdout",
     "output_type": "stream",
     "text": [
      "['a', 'ab', 'abc', 'ac', 'acb', 'b', 'ba', 'bac', 'bc', 'bca', 'c', 'ca', 'cab', 'cb', 'cba']\n"
     ]
    }
   ],
   "source": [
    "import itertools\n",
    "\n",
    "def combinations(s): #모든 조합 찍어냄\n",
    "    if len(s) < 2:  \n",
    "        return s\n",
    "    res = []\n",
    "    for i, c in enumerate(s): \n",
    "        res.append(c)\n",
    "        for j in combinations(s[:i] + s[i+1:]): \n",
    "            res.append(c+j)\n",
    "    return res  \n",
    "\n",
    "\n",
    "if __name__ == \"__main__\":\n",
    "    result = combinations(\"abc\")\n",
    "    print(result)"
   ]
  },
  {
   "cell_type": "markdown",
   "metadata": {},
   "source": [
    "### 회문"
   ]
  },
  {
   "cell_type": "code",
   "execution_count": 67,
   "metadata": {},
   "outputs": [
    {
     "name": "stdout",
     "output_type": "stream",
     "text": [
      "True\n",
      "True\n"
     ]
    }
   ],
   "source": [
    "def is_palindrome(s):\n",
    "    l = s.split(\" \") #공백으로 나뉜다\n",
    "    s2 = \"\".join(l) #공백을 제거하는 코드\n",
    "    return s2 == s2[::-1]\n",
    "    \n",
    "def is_palindrome2(s):\n",
    "    l = len(s)\n",
    "    f, b = 0, l-1\n",
    "    while (f < l // 2):  # f 반에서 만나면 종료\n",
    "        while s[f] == \" \": #f는 공백을 찾을 때 까지 왼쪽으로 이동\n",
    "            f += 1\n",
    "        while s[f] == \" \":\n",
    "            b -= 1\n",
    "            \n",
    "        if(s[f] != s[b]): #양쪽이 같아야 한다\n",
    "            return False\n",
    "        \n",
    "        f+=1\n",
    "        b-=1\n",
    "    return True #살아남았다면 회문이다\n",
    "    \n",
    "\n",
    "if __name__ == \"__main__\":\n",
    "    str1 = \"다시 합창합시다\"\n",
    "    print(is_palindrome(str1))\n",
    "    print(is_palindrome2(str1))"
   ]
  },
  {
   "cell_type": "code",
   "execution_count": 70,
   "metadata": {},
   "outputs": [
    {
     "name": "stdout",
     "output_type": "stream",
     "text": [
      "True\n",
      "True\n"
     ]
    }
   ],
   "source": [
    "    #슬라이싱\n",
    "def is_palindrome(s):\n",
    "    l = s.split(\" \") #공백으로 나뉜다\n",
    "    s2 = \"\".join(l) #공백을 제거하는 코드\n",
    "    return s2 == s2[::-1]\n",
    "    \n",
    "def is_palindrome2(s):\n",
    "    l = len(s)\n",
    "    f, b = 0, l-1\n",
    "    while (f < l // 2):  # f값의 반에서 만나면 종료\n",
    "        while s[f] == \" \": #f는 공백을 만나면 한칸 더 간다.\n",
    "            f += 1\n",
    "        while s[f] == \" \": #b는 공백을 만나면 한칸 더 간다\n",
    "            b -= 1\n",
    "            \n",
    "        if(s[f] != s[b]): #양쪽이 같아야 한다\n",
    "            return False\n",
    "        \n",
    "        f+=1\n",
    "        b-=1\n",
    "    return True #살아남았다면 회문이다\n",
    "    \n",
    "\n",
    "if __name__ == \"__main__\":\n",
    "    str1 = \"소주 잔한잔주소\"\n",
    "    print(is_palindrome(str1))\n",
    "    print(is_palindrome2(str1))"
   ]
  },
  {
   "cell_type": "code",
   "execution_count": 74,
   "metadata": {},
   "outputs": [
    {
     "name": "stdout",
     "output_type": "stream",
     "text": [
      "True\n",
      "True\n",
      "True\n"
     ]
    }
   ],
   "source": [
    "def is_palindrome(s):\n",
    "    l = s.split(\" \") #공백으로 나뉜다\n",
    "    s2 = \"\".join(l) #공백을 제거하는 코드\n",
    "    return s2 == s2[::-1]\n",
    " \n",
    "    \n",
    "    # 로우레벨\n",
    "def is_palindrome2(s):\n",
    "    l = len(s)\n",
    "    f, b = 0, l-1\n",
    "    while (f < l // 2):  # f값의 반에서 만나면 종료\n",
    "        while s[f] == \" \": #f는 공백을 만나면 한칸 더 간다.\n",
    "            f += 1\n",
    "        while s[f] == \" \": #b는 공백을 만나면 한칸 더 간다\n",
    "            b -= 1\n",
    "            \n",
    "        if(s[f] != s[b]): #양쪽이 같아야 한다\n",
    "            return False\n",
    "        \n",
    "        f+=1\n",
    "        b-=1\n",
    "    return True #살아남았다면 회문이다\n",
    "    \n",
    "  \n",
    " #재귀\n",
    "def is_palindrome3(s):\n",
    "    s = s.strip()\n",
    "    if len(s) < 2:\n",
    "        return True\n",
    "    if s[0] == s[-1]:\n",
    "        return is_palindrome3(s[1:-1]) #앞뒤 글자 하나씩 뺀 것\n",
    "    else: \n",
    "        return False\n",
    "\n",
    "if __name__ == \"__main__\":\n",
    "    str1 = \"소주 잔한잔주소\"\n",
    "    print(is_palindrome(str1))\n",
    "    print(is_palindrome2(str1))\n",
    "    print(is_palindrome3(str1))"
   ]
  },
  {
   "cell_type": "code",
   "execution_count": 75,
   "metadata": {},
   "outputs": [
    {
     "name": "stdout",
     "output_type": "stream",
     "text": [
      "False\n",
      "False\n",
      "False\n"
     ]
    }
   ],
   "source": [
    "def is_palindrome(s):\n",
    "    l = s.split(\" \") #공백으로 나뉜다\n",
    "    s2 = \"\".join(l) #공백을 제거하는 코드\n",
    "    return s2 == s2[::-1]\n",
    "\n",
    "\n",
    "def is_palindrome2(s):\n",
    "    l = len(s)\n",
    "    f, b = 0, l-1\n",
    "    while (f < l // 2):  # f값의 반에서 만나면 종료\n",
    "        while s[f] == \" \": #f는 공백을 만나면 한칸 더 간다.\n",
    "            f += 1\n",
    "        while s[f] == \" \": #b는 공백을 만나면 한칸 더 간다\n",
    "            b -= 1\n",
    "            \n",
    "        if(s[f] != s[b]): #양쪽이 같아야 한다\n",
    "            return False\n",
    "        \n",
    "        f+=1\n",
    "        b-=1\n",
    "    return True #살아남았다면 회문이다\n",
    "    \n",
    "    \n",
    "def is_palindrome3(s):\n",
    "    s = s.strip()\n",
    "    if len(s) < 2:\n",
    "        return True\n",
    "    if s[0] == s[-1]:\n",
    "        return is_palindrome3(s[1:-1]) #앞뒤 글자 하나씩 뺀 것\n",
    "    else: \n",
    "        return False\n",
    "\n",
    "if __name__ == \"__main__\":\n",
    "    str1 = \"소주 잔한잔만주소\"\n",
    "    print(is_palindrome(str1))\n",
    "    print(is_palindrome2(str1))\n",
    "    print(is_palindrome3(str1))"
   ]
  },
  {
   "cell_type": "markdown",
   "metadata": {},
   "source": [
    "### set(집합) "
   ]
  },
  {
   "cell_type": "code",
   "execution_count": 76,
   "metadata": {},
   "outputs": [
    {
     "data": {
      "text/plain": [
       "['__and__',\n",
       " '__class__',\n",
       " '__contains__',\n",
       " '__delattr__',\n",
       " '__dir__',\n",
       " '__doc__',\n",
       " '__eq__',\n",
       " '__format__',\n",
       " '__ge__',\n",
       " '__getattribute__',\n",
       " '__gt__',\n",
       " '__hash__',\n",
       " '__iand__',\n",
       " '__init__',\n",
       " '__init_subclass__',\n",
       " '__ior__',\n",
       " '__isub__',\n",
       " '__iter__',\n",
       " '__ixor__',\n",
       " '__le__',\n",
       " '__len__',\n",
       " '__lt__',\n",
       " '__ne__',\n",
       " '__new__',\n",
       " '__or__',\n",
       " '__rand__',\n",
       " '__reduce__',\n",
       " '__reduce_ex__',\n",
       " '__repr__',\n",
       " '__ror__',\n",
       " '__rsub__',\n",
       " '__rxor__',\n",
       " '__setattr__',\n",
       " '__sizeof__',\n",
       " '__str__',\n",
       " '__sub__',\n",
       " '__subclasshook__',\n",
       " '__xor__',\n",
       " 'add',\n",
       " 'clear',\n",
       " 'copy',\n",
       " 'difference',\n",
       " 'difference_update',\n",
       " 'discard',\n",
       " 'intersection',\n",
       " 'intersection_update',\n",
       " 'isdisjoint',\n",
       " 'issubset',\n",
       " 'issuperset',\n",
       " 'pop',\n",
       " 'remove',\n",
       " 'symmetric_difference',\n",
       " 'symmetric_difference_update',\n",
       " 'union',\n",
       " 'update']"
      ]
     },
     "execution_count": 76,
     "metadata": {},
     "output_type": "execute_result"
    }
   ],
   "source": [
    "dir(set()) # 그 객체가 지원하는 모든 함수를 보여준다."
   ]
  },
  {
   "cell_type": "code",
   "execution_count": 77,
   "metadata": {},
   "outputs": [],
   "source": [
    "fs = frozenset((0,1,2,3,4)) # immutable 객체"
   ]
  },
  {
   "cell_type": "code",
   "execution_count": 79,
   "metadata": {},
   "outputs": [
    {
     "data": {
      "text/plain": [
       "True"
      ]
     },
     "execution_count": 79,
     "metadata": {},
     "output_type": "execute_result"
    }
   ],
   "source": [
    "2 in fs\n"
   ]
  },
  {
   "cell_type": "code",
   "execution_count": 80,
   "metadata": {},
   "outputs": [
    {
     "data": {
      "text/plain": [
       "5"
      ]
     },
     "execution_count": 80,
     "metadata": {},
     "output_type": "execute_result"
    }
   ],
   "source": [
    "len(fs)"
   ]
  },
  {
   "cell_type": "markdown",
   "metadata": {},
   "source": [
    "### set method "
   ]
  },
  {
   "cell_type": "code",
   "execution_count": 82,
   "metadata": {},
   "outputs": [
    {
     "data": {
      "text/plain": [
       "{'버피', '아영', '에인절', '월로', '자일스'}"
      ]
     },
     "execution_count": 82,
     "metadata": {},
     "output_type": "execute_result"
    }
   ],
   "source": [
    "people = {\"버피\", \"에인절\", \"자일스\", \"아영\"} #집합은 mutable 객체라 가능\n",
    "\n",
    "people.add(\"월로\")\n",
    "\n",
    "people"
   ]
  },
  {
   "cell_type": "code",
   "execution_count": 83,
   "metadata": {},
   "outputs": [
    {
     "data": {
      "text/plain": [
       "{'로미오', '버피', '아영', '에인절', '자일스', '줄리엣'}"
      ]
     },
     "execution_count": 83,
     "metadata": {},
     "output_type": "execute_result"
    }
   ],
   "source": [
    "people = {\"버피\", \"에인절\", \"자일스\", \"아영\"}\n",
    "people.update({\"로미오\", \"에인절\", \"자일스\", \"줄리엣\"}) #중복 있는 경우\n",
    "people #중복된 것은 추가되지 않는다. "
   ]
  },
  {
   "cell_type": "code",
   "execution_count": 85,
   "metadata": {},
   "outputs": [
    {
     "data": {
      "text/plain": [
       "{'로미오', '리키', '버피', '아영', '에인절', '유진', '자일스', '줄리엣'}"
      ]
     },
     "execution_count": 85,
     "metadata": {},
     "output_type": "execute_result"
    }
   ],
   "source": [
    "people |= {\"리키\", \"유진\",\"에인절\"}\n",
    "people"
   ]
  },
  {
   "cell_type": "code",
   "execution_count": 86,
   "metadata": {},
   "outputs": [
    {
     "data": {
      "text/plain": [
       "{'에인절', '자일스'}"
      ]
     },
     "execution_count": 86,
     "metadata": {},
     "output_type": "execute_result"
    }
   ],
   "source": [
    "people = {\"버피\", \"에인절\", \"자일스\", \"이안\"}\n",
    "vampires = {\"에인절\", \"자일스\", \"윌로\"}\n",
    "people.intersection(vampires)"
   ]
  },
  {
   "cell_type": "code",
   "execution_count": 87,
   "metadata": {},
   "outputs": [
    {
     "data": {
      "text/plain": [
       "{'에인절', '자일스'}"
      ]
     },
     "execution_count": 87,
     "metadata": {},
     "output_type": "execute_result"
    }
   ],
   "source": [
    "people & vampires"
   ]
  },
  {
   "cell_type": "code",
   "execution_count": 88,
   "metadata": {},
   "outputs": [
    {
     "data": {
      "text/plain": [
       "{'버피', '이안'}"
      ]
     },
     "execution_count": 88,
     "metadata": {},
     "output_type": "execute_result"
    }
   ],
   "source": [
    "people = {\"버피\", \"에인절\", \"자일스\", \"이안\"}\n",
    "vampires = {\"에인절\", \"자일스\", \"윌로\"}\n",
    "people.difference(vampires)"
   ]
  },
  {
   "cell_type": "code",
   "execution_count": 89,
   "metadata": {},
   "outputs": [
    {
     "data": {
      "text/plain": [
       "{'버피', '이안'}"
      ]
     },
     "execution_count": 89,
     "metadata": {},
     "output_type": "execute_result"
    }
   ],
   "source": [
    "people - vampires"
   ]
  },
  {
   "cell_type": "code",
   "execution_count": 92,
   "metadata": {},
   "outputs": [
    {
     "data": {
      "text/plain": [
       "set()"
      ]
     },
     "execution_count": 92,
     "metadata": {},
     "output_type": "execute_result"
    }
   ],
   "source": [
    "people = {\"버피\", \"에인절\", \"자일스\", \"이안\"}\n",
    "people.clear()\n",
    "people # empty set이 된다"
   ]
  },
  {
   "cell_type": "code",
   "execution_count": 93,
   "metadata": {},
   "outputs": [
    {
     "data": {
      "text/plain": [
       "{'스페인', '영국', '프랑스'}"
      ]
     },
     "execution_count": 93,
     "metadata": {},
     "output_type": "execute_result"
    }
   ],
   "source": [
    "countries = {\"프랑스\", \"스페인\", \"영국\"}\n",
    "countries.discard(\"한국\") #리턴값 없다\n",
    "countries"
   ]
  },
  {
   "cell_type": "code",
   "execution_count": 95,
   "metadata": {},
   "outputs": [
    {
     "ename": "KeyError",
     "evalue": "'일본'",
     "output_type": "error",
     "traceback": [
      "\u001b[1;31m---------------------------------------------------------------------------\u001b[0m",
      "\u001b[1;31mKeyError\u001b[0m                                  Traceback (most recent call last)",
      "\u001b[1;32m<ipython-input-95-1dbbdb9ab037>\u001b[0m in \u001b[0;36m<module>\u001b[1;34m\u001b[0m\n\u001b[1;32m----> 1\u001b[1;33m \u001b[0mcountries\u001b[0m\u001b[1;33m.\u001b[0m\u001b[0mremove\u001b[0m\u001b[1;33m(\u001b[0m\u001b[1;34m\"일본\"\u001b[0m\u001b[1;33m)\u001b[0m \u001b[1;31m# 지우려는 데이터가 없는 경우 에러가 발생한다.\u001b[0m\u001b[1;33m\u001b[0m\u001b[1;33m\u001b[0m\u001b[0m\n\u001b[0m",
      "\u001b[1;31mKeyError\u001b[0m: '일본'"
     ]
    }
   ],
   "source": [
    "countries.remove(\"일본\") # 리턴값 없다. 지우려는 데이터가 없는 경우 에러가 발생한다."
   ]
  },
  {
   "cell_type": "code",
   "execution_count": 107,
   "metadata": {},
   "outputs": [],
   "source": [
    "countries.discard(\"독일\")"
   ]
  },
  {
   "cell_type": "code",
   "execution_count": 108,
   "metadata": {},
   "outputs": [
    {
     "ename": "NameError",
     "evalue": "name 'countires' is not defined",
     "output_type": "error",
     "traceback": [
      "\u001b[1;31m---------------------------------------------------------------------------\u001b[0m",
      "\u001b[1;31mNameError\u001b[0m                                 Traceback (most recent call last)",
      "\u001b[1;32m<ipython-input-108-70243bab9915>\u001b[0m in \u001b[0;36m<module>\u001b[1;34m\u001b[0m\n\u001b[0;32m      1\u001b[0m \u001b[0mcountries\u001b[0m \u001b[1;33m=\u001b[0m \u001b[1;33m{\u001b[0m\u001b[1;34m\"프랑스\"\u001b[0m\u001b[1;33m,\u001b[0m \u001b[1;34m\"스페인\"\u001b[0m\u001b[1;33m,\u001b[0m \u001b[1;34m\"영국\"\u001b[0m\u001b[1;33m}\u001b[0m\u001b[1;33m\u001b[0m\u001b[1;33m\u001b[0m\u001b[0m\n\u001b[0;32m      2\u001b[0m \u001b[0mcountries\u001b[0m\u001b[1;33m.\u001b[0m\u001b[0mpop\u001b[0m\u001b[1;33m(\u001b[0m\u001b[1;33m)\u001b[0m\u001b[1;33m\u001b[0m\u001b[1;33m\u001b[0m\u001b[0m\n\u001b[1;32m----> 3\u001b[1;33m \u001b[0mcountires\u001b[0m\u001b[1;33m\u001b[0m\u001b[1;33m\u001b[0m\u001b[0m\n\u001b[0m",
      "\u001b[1;31mNameError\u001b[0m: name 'countires' is not defined"
     ]
    }
   ],
   "source": [
    "countries = {\"프랑스\", \"스페인\", \"영국\"}\n",
    "countries.pop()\n",
    "countires"
   ]
  },
  {
   "cell_type": "markdown",
   "metadata": {},
   "source": [
    "###  셋과 리스트 "
   ]
  },
  {
   "cell_type": "code",
   "execution_count": 116,
   "metadata": {},
   "outputs": [
    {
     "name": "stdout",
     "output_type": "stream",
     "text": [
      "[1, 2, 3, 4, 5, 9, 11]\n",
      "[4, 5]\n",
      "[1, 2, 3, 4, 5, 6, 7, 8, 9, 11]\n"
     ]
    }
   ],
   "source": [
    "def remove_dup(l1):\n",
    "    return list(set(l1))\n",
    "\n",
    "def intersection(l1, l2):\n",
    "    return list( set(l1) & set(l2))\n",
    "\n",
    "\n",
    "def union(l1, l2):\n",
    "    return list( set(l1) | set(l2))\n",
    "\n",
    "def test_sets_operations_with_lists():\n",
    "    l1 = [1,2,3,4,5,5,9,11,11]\n",
    "    l2 = [4,5,6,7,8]\n",
    "    print(remove_dup(l1))\n",
    "    print(intersection(l1, l2))\n",
    "    print(union(l1, l2))\n",
    "    \n",
    "\n",
    "    \n",
    "if __name__ == \"__main__\":\n",
    "    test_sets_operations_with_lists()"
   ]
  },
  {
   "cell_type": "markdown",
   "metadata": {},
   "source": [
    "###  딕셔너리"
   ]
  },
  {
   "cell_type": "code",
   "execution_count": 127,
   "metadata": {},
   "outputs": [
    {
     "data": {
      "text/plain": [
       "'쿠엔틴 타란티노'"
      ]
     },
     "execution_count": 127,
     "metadata": {},
     "output_type": "execute_result"
    }
   ],
   "source": [
    "tarantino = {} # {}만 있으면 set인지 dict인지 모르지만\n",
    "tarantino['name'] = '쿠엔틴 타란티노'\n",
    "tarantino['job'] = '감독'\n",
    "tarantino #이렇게 key값과 value 넣으면 dictionary가 된다\n",
    "\n",
    "tarantino['name'] # key값 넣으면 value 나온다. 선언과 동시에 초기화 해도 되고\n",
    " # 나중에 대입해도 된다"
   ]
  },
  {
   "cell_type": "code",
   "execution_count": 136,
   "metadata": {},
   "outputs": [
    {
     "data": {
      "text/plain": [
       "{'name': '버피', 'age': 16, 'hobby': '게임'}"
      ]
     },
     "execution_count": 136,
     "metadata": {},
     "output_type": "execute_result"
    }
   ],
   "source": [
    "sunnydale = dict({'name':\"버피\", 'age':16, 'hobby':'게임'}) # 표준형\n",
    "sunnydale"
   ]
  },
  {
   "cell_type": "code",
   "execution_count": 137,
   "metadata": {},
   "outputs": [
    {
     "data": {
      "text/plain": [
       "{'name': '자일스', 'age': 16, 'hobby': '게임'}"
      ]
     },
     "execution_count": 137,
     "metadata": {},
     "output_type": "execute_result"
    }
   ],
   "source": [
    "sunnydale = dict(name=\"자일스\", age=16, hobby='게임') \n",
    "#{} 도 치지 말고 식별자로 넣어줘야 돌아가긴 함\n",
    "sunnydale"
   ]
  },
  {
   "cell_type": "code",
   "execution_count": 138,
   "metadata": {},
   "outputs": [
    {
     "data": {
      "text/plain": [
       "{'name': '자일스', 'age': 16, 'hobby': '게임'}"
      ]
     },
     "execution_count": 138,
     "metadata": {},
     "output_type": "execute_result"
    }
   ],
   "source": [
    "sunnydale = dict([(\"name\",\"자일스\"),(\"age\",16), (\"hobby\",'게임')]) \n",
    "#이렇게 쓸 수도 있다. 표준형을 쓰자\n",
    "sunnydale"
   ]
  },
  {
   "cell_type": "markdown",
   "metadata": {},
   "source": [
    "###  setdefault()"
   ]
  },
  {
   "cell_type": "code",
   "execution_count": 154,
   "metadata": {},
   "outputs": [
    {
     "name": "stdout",
     "output_type": "stream",
     "text": [
      "(('key1', 'value1'), ('key1', 'value2'), ('key2', 'value3'), ('key2', 'value4'), ('key2', 'value5'))\n",
      "--------------------\n",
      "<class 'tuple'>\n",
      "{'key1': ['value1', 'value2'], 'key2': ['value3', 'value4', 'value5']}\n",
      "{'key1': ['value1', 'value2'], 'key2': ['value3', 'value4', 'value5']}\n"
     ]
    }
   ],
   "source": [
    "def usual_dict(dict_data):\n",
    "    newdata = {}\n",
    "    for k, v in dict_data:\n",
    "        if k in newdata:\n",
    "            newdata[k].append(v)\n",
    "        else:\n",
    "            newdata[k] = [v]\n",
    "    return newdata\n",
    "\n",
    "def setdefault_dict(dict_data):\n",
    "    newdata = {}\n",
    "    for k, v in dict_data: # k가 처음 들어올 땐 list를 생성하고, k가 이미 list있다면 v를 추가해주는 것\n",
    "        newdata.setdefault(k, []).append(v)\n",
    "    return newdata\n",
    "    \n",
    "def test_setdef():\n",
    "    dict_data = ((\"key1\", \"value1\"),\n",
    "                 (\"key1\", \"value2\"),\n",
    "                 (\"key2\", \"value3\"),\n",
    "                 (\"key2\", \"value4\"),\n",
    "                 (\"key2\", \"value5\"),)\n",
    "    print(dict_data)\n",
    "    print(\"-\"*20)\n",
    "    print(type(dict_data))\n",
    "    print(usual_dict(dict_data))\n",
    "    print(setdefault_dict(dict_data))\n",
    "\n",
    "    \n",
    "if __name__ == \"__main__\":\n",
    "    test_setdef()"
   ]
  },
  {
   "cell_type": "markdown",
   "metadata": {},
   "source": [
    "### 딕셔너리 성능 측정"
   ]
  },
  {
   "cell_type": "code",
   "execution_count": 157,
   "metadata": {},
   "outputs": [
    {
     "name": "stdout",
     "output_type": "stream",
     "text": [
      "10000,     0.078,     0.001\n",
      "30000,     0.218,     0.001\n",
      "50000,     0.364,     0.001\n",
      "70000,     0.497,     0.001\n",
      "90000,     0.651,     0.001\n",
      "110000,     0.797,     0.001\n",
      "130000,     0.946,     0.001\n",
      "150000,     1.135,     0.001\n",
      "170000,     1.244,     0.001\n",
      "190000,     1.374,     0.001\n",
      "210000,     1.470,     0.001\n",
      "230000,     1.664,     0.001\n",
      "250000,     1.802,     0.001\n",
      "270000,     2.016,     0.001\n",
      "290000,     2.153,     0.001\n",
      "310000,     2.274,     0.001\n",
      "330000,     2.482,     0.001\n",
      "350000,     2.552,     0.001\n",
      "370000,     2.856,     0.001\n",
      "390000,     2.922,     0.001\n",
      "410000,     2.975,     0.001\n",
      "430000,     3.269,     0.001\n",
      "450000,     3.324,     0.001\n",
      "470000,     3.547,     0.001\n",
      "490000,     3.644,     0.001\n",
      "510000,     3.831,     0.001\n",
      "530000,     4.041,     0.001\n",
      "550000,     4.243,     0.001\n",
      "570000,     4.153,     0.001\n",
      "590000,     4.447,     0.001\n",
      "610000,     4.584,     0.001\n",
      "630000,     4.640,     0.001\n",
      "650000,     4.948,     0.001\n",
      "670000,     5.098,     0.001\n",
      "690000,     5.090,     0.001\n",
      "710000,     5.189,     0.001\n",
      "730000,     5.427,     0.001\n",
      "750000,     5.588,     0.002\n",
      "770000,     5.818,     0.001\n",
      "790000,     6.000,     0.001\n",
      "810000,     6.226,     0.001\n",
      "830000,     6.400,     0.001\n",
      "850000,     6.604,     0.001\n",
      "870000,     6.432,     0.001\n",
      "890000,     6.463,     0.001\n",
      "910000,     6.789,     0.001\n",
      "930000,     7.002,     0.002\n",
      "950000,     7.282,     0.002\n",
      "970000,     7.101,     0.001\n",
      "990000,     7.175,     0.001\n"
     ]
    }
   ],
   "source": [
    "import timeit\n",
    "import random\n",
    "\n",
    "for i in range(10000, 1000001, 20000): #100만까지 20000씩 증가\n",
    "    t = timeit.Timer(\"random.randrange(%d) in x\" %i,\n",
    "                    \"from __main__ import random, x\")\n",
    "    x = list(range(i)) #i만큼 리스트가 만들어진다. 10000개부터 만들어짐 \n",
    "    lst_time = t.timeit(number=1000)\n",
    "    x = { j: None for j in range(i)} #딕셔너리를 같은 크기로 만듦\n",
    "    d_time = t.timeit(number= 1000)\n",
    "    print(\"%d,%10.3f,%10.3f\" % (i, lst_time, d_time)) #딕셔너리는 상수시간이 걸림\n",
    "    # 딕셔너리가 리스트 보다 빠르다"
   ]
  },
  {
   "cell_type": "code",
   "execution_count": null,
   "metadata": {},
   "outputs": [],
   "source": []
  }
 ],
 "metadata": {
  "kernelspec": {
   "display_name": "Python 3",
   "language": "python",
   "name": "python3"
  },
  "language_info": {
   "codemirror_mode": {
    "name": "ipython",
    "version": 3
   },
   "file_extension": ".py",
   "mimetype": "text/x-python",
   "name": "python",
   "nbconvert_exporter": "python",
   "pygments_lexer": "ipython3",
   "version": "3.7.6"
  }
 },
 "nbformat": 4,
 "nbformat_minor": 4
}
