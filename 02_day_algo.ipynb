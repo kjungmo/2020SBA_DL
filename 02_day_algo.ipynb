{
 "cells": [
  {
   "cell_type": "markdown",
   "metadata": {},
   "source": [
    "### 문자열 전체 반전하기"
   ]
  },
  {
   "cell_type": "code",
   "execution_count": 235,
   "metadata": {},
   "outputs": [
    {
     "name": "stdout",
     "output_type": "stream",
     "text": [
      "!상세 녕안\n",
      "!상세 녕안\n"
     ]
    }
   ],
   "source": [
    "def revert(s):\n",
    "    if s:\n",
    "        s = s[-1] + revert(s[:-1]) #맨 마지막글자 + 가장 끝 글자를 배제한 전체 글자를 재귀호출\n",
    "    return s\n",
    "\n",
    "def revert2(string): #이 방법은 문자열을 하나씩 반대로 잘라서 다시\n",
    "                    # 입력시킨 후 출력하는 방법이다\n",
    "    return string[::-1] # 스텝은 보통 1로 되어있다. 한글자 한글자 접근하도록, -1이면 뒤에서부터 앞으로 -1씩 인덱스 줄이면서 접근한다\n",
    "        # 스텝이 -1 이면 문자열 처음부터 끝까지 간격을 -1로 슬라이싱 한다.\n",
    "if __name__ == \"__main__\":\n",
    "    str1 = \"안녕 세상!\"\n",
    "    str2 = revert(str1)\n",
    "    str3 = revert2(str1)\n",
    "    print(str2)\n",
    "    print(str3)"
   ]
  },
  {
   "cell_type": "code",
   "execution_count": 223,
   "metadata": {},
   "outputs": [
    {
     "name": "stdout",
     "output_type": "stream",
     "text": [
      "dlrow olleh\n"
     ]
    }
   ],
   "source": [
    "s = \"hello world\"\n",
    "reversed(s)  # reversed 를 이용해 문자열을 거꾸로 입력 후 ''에 넣어출력\n",
    "#reserved()는 파이썬에서 제공하는 함수이다.\n",
    "print(''.join(reversed(s)))"
   ]
  },
  {
   "cell_type": "code",
   "execution_count": 226,
   "metadata": {},
   "outputs": [
    {
     "name": "stdout",
     "output_type": "stream",
     "text": [
      "dlrow olleh\n"
     ]
    }
   ],
   "source": [
    "print( 'hello world'[::-1]) #파이썬은 이렇게도 된다"
   ]
  },
  {
   "cell_type": "code",
   "execution_count": 231,
   "metadata": {},
   "outputs": [
    {
     "name": "stdout",
     "output_type": "stream",
     "text": [
      "['a', 'b', 'c', 'd', 'e']\n",
      "edcba\n",
      "edcba\n"
     ]
    }
   ],
   "source": [
    "s = 'abcde'\n",
    "s_list = list(s) # reverse 함수를 사용하기 위해 list로 치환\n",
    "print(s_list)\n",
    "s_list.reverse() # reverse 함수를 사용해 문자열 리스트를 거꾸로 뒤집음\n",
    "\n",
    "print(\"\".join(s_list)) #거꾸로 뒤집어진 리스트를 연결해서 출력\n",
    "\n",
    "\n",
    "s = 'abcde'\n",
    "print(''.join(reversed(s))) \n",
    "# reversed는 reverse와는 달리 문자열에도 바로 적용이 가능\n",
    "# reverse는 list에만 사용가능"
   ]
  },
  {
   "cell_type": "markdown",
   "metadata": {},
   "source": [
    "###  문자열 단어 단위로 반전하기\n",
    "\n",
    "**reverse()**함수는 list타입에서 제공하는 함수이다. 값을 반환하지 않고 단순히 해당 list를 뒤섞어준다.\n",
    "\n",
    "**reversed()**는 내장 함수로, list에서 제공하는 함수가 아니다. 딕셔너리의 경우 순서가 있는 타입이 아니므로 지원하지 않는다. reversed()는 reversed 객체를 반환한다. 때문에 list나 tuple 타입으로 바꾸어주려면 타입변환 해주면 된다. 문자열로 만드려면 굳이 list나 tuple로 바꿀 필요 없이 join을 통해 요소들을 연결해주면 된다. \n",
    "* ''.join(reversed(a))"
   ]
  },
  {
   "cell_type": "code",
   "execution_count": 239,
   "metadata": {},
   "outputs": [
    {
     "name": "stdout",
     "output_type": "stream",
     "text": [
      "['다', '있', '미', '재', ' ', '말', '정', ' ', '즘', '리', '고', '알', ' ', '썬', '이', '파']\n"
     ]
    }
   ],
   "source": [
    "def reverser(string1, p1=0, ,p2=None):\n",
    "    if len(string1)<2:\n",
    "        return string1\n",
    "    p2 = p2 or len(string1)-1\n",
    "    \n",
    "    while p1<p2:\n",
    "        string1[p1], string1[p2] = string[p2], string1[p1]\n",
    "\n",
    "def reversing_words_sentence_logic(string1):\n",
    "    reverser(string1) #문장 전체를 반전시키는 코드\n",
    "    print(string1)\n",
    "\n",
    "\n",
    "if __name__ == \"__main__\":\n",
    "    str1 = \"파이썬 알고리즘 정말 재미있다\"\n",
    "    str2 = reversing_words_sentence_logic( list(str1))\n",
    "    \n"
   ]
  },
  {
   "cell_type": "code",
   "execution_count": 121,
   "metadata": {},
   "outputs": [
    {
     "name": "stdout",
     "output_type": "stream",
     "text": [
      "['다', '있', '미', '재', ' ', '말', '정', ' ', '즘', '리', '고', '알', ' ', '썬', '이', '파']\n"
     ]
    }
   ],
   "source": [
    "def reverser(string1, p1=0, p2=None): #p1과 p2의 default parameter 설정\n",
    "    if len(string1)<2:\n",
    "        return string1\n",
    "    p2 = p2 or len(string1)-1\n",
    "    \n",
    "    while p1<p2: # string1[p1]과 string1[p2]의 값을 바꿔주는 스왑\n",
    "        string1[p1], string1[p2] = string1[p2], string1[p1] #리스트에서 단어 하나를 꺼내는 것, 튜플 스왑. \n",
    "        p1 += 1\n",
    "        p2 -= 1\n",
    "\n",
    "def reversing_words_sentence_logic(string1):\n",
    "    reverser(string1) #문장 전체를 반전시키는 코드\n",
    "    print(string1)\n",
    "\n",
    "\n",
    "if __name__ == \"__main__\":\n",
    "    str1 = \"파이썬 알고리즘 정말 재미있다\"\n",
    "    str2 = reversing_words_sentence_logic( list(str1))\n",
    "    \n",
    "\n",
    "#이렇게 하니까 글자 단위로 다 반전되었다 단어 단위가 아니라"
   ]
  },
  {
   "cell_type": "code",
   "execution_count": 242,
   "metadata": {},
   "outputs": [
    {
     "name": "stdout",
     "output_type": "stream",
     "text": [
      "['다', '있', '미', '재', ' ', '말', '정', ' ', '즘', '리', '고', '알', ' ', '썬', '이', '파']\n",
      "재미있다 정말 알고리즘 파이썬\n"
     ]
    }
   ],
   "source": [
    "# 단어 단위로 반전하는 것이기 때문에 문자열을 리스트화 시켜서 반전시킨 뒤\n",
    "# 빈 칸이 단어 단위의 기준이므로 빈칸 마다 문자열을 다시 재반전\n",
    "\n",
    "\n",
    "def reverser(string1, p1=0, p2=None): #p1과 p2의 default parameter 설정\n",
    "    if len(string1)<2:\n",
    "        return string          # 결국 p1은 첫번째 인덱스번호를\n",
    "    p2 = p2 or len(string1)-1  # p2는 마지막 인덱스 번호를 가리키게 된다\n",
    "    \n",
    "    while p1<p2:  #그래서 p1의 인덱스 번호가 p2보다 커질때 까지\n",
    "        string1[p1], string1[p2] = string1[p2], string1[p1] \n",
    "        #리스트에서 단어 하나를 꺼내 바꿔치기 한다. (cf 튜플 스왑) \n",
    "        p1 += 1 # 스왑하고 난 뒤에 p1과 p2가 서로를 향해 전진하면서 나머지 스왑\n",
    "        p2 -= 1\n",
    "\n",
    "def reversing_words_sentence_logic(string1):\n",
    "    reverser(string1) #문장 전체를 반전시키는 코드\n",
    "    print(string1)\n",
    "    p = 0\n",
    "    start = 0\n",
    "    while p < len(string1):\n",
    "        if string1[p] == u\"\\u0020\": # 유니코드로 공백을 찾게 된다면 그 속의 글자를 다시 뒤집어주는것이다.(다있미재가 재미있다로 )\n",
    "            reverser(string1, start, p-1) #p 인덱스가 공백이므로 그 전인 p-1까지\n",
    "            #결과적으로 단어단위로만 뒤집히게 된다\n",
    "            start = p+1 # p의 초기값이 0 이므로 하나씩 증가한다는 뜻이다. 0,1,2...\n",
    "        p += 1 # if문이 끝난 뒤 p값은 1 증가해서 공백 다음 문자열로 간다음\n",
    "                # while문을 계속 진행한다\n",
    "        \n",
    "    reverser(string1, start, p-1)\n",
    "    return \"\".join(string1) #\"\".join(리스트 타입)을 사용하면 리스트를 문자열로 \n",
    "    #문자열을 다시 결합해줌\n",
    "\n",
    "if __name__ == \"__main__\":\n",
    "    str1 = \"파이썬 알고리즘 정말 재미있다\"\n",
    "    str2 = reversing_words_sentence_logic( list(str1))\n",
    "    print(str2)\n"
   ]
  },
  {
   "cell_type": "code",
   "execution_count": 249,
   "metadata": {},
   "outputs": [
    {
     "data": {
      "text/plain": [
       "'a b'"
      ]
     },
     "execution_count": 249,
     "metadata": {},
     "output_type": "execute_result"
    }
   ],
   "source": [
    "\"\".join(['a', ' ', 'b' ]) # 리스트 타입에 빈킨이 요소로 있다면 그 요소도 결합시\n",
    "                        #구현된다. 때문에 \"\".join이렇게 해주면 list->str된다고 보자\n",
    "    \n",
    "    # 반대로 문자열의 경우 split()은 인자를 공란으로 두면 공백(\" \")으로 string을 나눔\n",
    "    # join() 함수의 경우 구분자로 (\"\")를 사용하면 공백으로 구분되는 하나의 문자열로 \n",
    "    # 합칠 수 있다"
   ]
  },
  {
   "cell_type": "code",
   "execution_count": 254,
   "metadata": {},
   "outputs": [
    {
     "name": "stdout",
     "output_type": "stream",
     "text": [
      "My birthdayis2020/02/02\n",
      "My birthday is 2020/02/02\n"
     ]
    }
   ],
   "source": [
    "result1 = ['My birthday', 'is', '2020/02/02']\n",
    "result2 = ['My birthday', 'is', '2020/02/02']\n",
    "text1 = \"\".join(result1)\n",
    "text2 = \" \".join(result2)\n",
    "print(text1)\n",
    "print(text2)  #join의 구분자는 리스트 요소들이 문자열로 결합될 때의 역할을 보여줌"
   ]
  },
  {
   "cell_type": "code",
   "execution_count": 28,
   "metadata": {},
   "outputs": [
    {
     "name": "stdout",
     "output_type": "stream",
     "text": [
      "['파이썬', '알고리즘', '정말', '재미있다']\n",
      "None\n"
     ]
    }
   ],
   "source": [
    "#하나의 반복문만 사용하는 방법\n",
    "# 단어 단위로 나눠 리스트에 추가한 후 리스트를 반전한다\n",
    "\n",
    "\n",
    "def reversing_words_brute(string):\n",
    "    word, sentence = [], []  # 빈 리스트로 초기화\n",
    "    for character in string:\n",
    "        if( character !=  \" \"):\n",
    "            word.append(character)\n",
    "        else:\n",
    "            if word:\n",
    "                sentence.append(\"\".join(word)) #워드를 하나로 묶어줌. 단어별로 list로 붂임\n",
    "            word = []\n",
    "            \n",
    "    if word != \"\": #재미있다를 합쳐주는 것. 재미있다 뒤에 빈칸이 없어서 이거 잆으면 안찍힘\n",
    "            sentence.append(\"\".join(word)) \n",
    "    \n",
    "\n",
    "    print(sentence)\n",
    "    return\n",
    "\n",
    "if __name__ == \"__main__\":\n",
    "    str1 = \"파이썬 알고리즘 정말 재미있다\"\n",
    "    str2 = reversing_words_brute(str1)\n",
    "    print(str2)\n"
   ]
  },
  {
   "cell_type": "code",
   "execution_count": 30,
   "metadata": {},
   "outputs": [
    {
     "name": "stdout",
     "output_type": "stream",
     "text": [
      "재미있다 정말 알고리즘 파이썬\n"
     ]
    }
   ],
   "source": [
    "def reversing_words_brute(string):\n",
    "    word, sentence = [], []  # 빈 리스트로 초기화\n",
    "    for character in string:\n",
    "        if( character !=  \" \"): #빈칸이 아니라면\n",
    "            word.append(character) # word리스트에 character인자를 추가\n",
    "        else:\n",
    "            if word:\n",
    "                sentence.append(\"\".join(word)) #워드를 하나로 묶어줌. 단어별로 list로 붂임\n",
    "            word = []\n",
    "            \n",
    "    if word != \"\": #재미있다를 합쳐주는 것. 재미있다 뒤에 빈칸이 없어서 이거 잆으면 안찍힘\n",
    "            sentence.append(\"\".join(word)) # word가 \"\" 이냐, 비어있냐는걸 물어본 것. 명시적으로 보이면 좋다.\n",
    "    \n",
    "    sentence.reverse()\n",
    "    return \" \".join(sentence)\n",
    "\n",
    "\n",
    "if __name__ == \"__main__\":\n",
    "    str1 = \"파이썬 알고리즘 정말 재미있다\"\n",
    "    str2 = reversing_words_brute(str1)\n",
    "    print(str2)\n"
   ]
  },
  {
   "cell_type": "code",
   "execution_count": 33,
   "metadata": {},
   "outputs": [
    {
     "name": "stdout",
     "output_type": "stream",
     "text": [
      "['파이썬', '알고리즘', '정말', '재미있다']\n",
      "None\n"
     ]
    }
   ],
   "source": [
    "def reversing_words_slice(word):\n",
    "    new_word = []\n",
    "    words = word.split(\" \")\n",
    "    print(words)\n",
    "    return \n",
    "\n",
    "\n",
    "if __name__ == \"__main__\":\n",
    "    str1 = \"파이썬 알고리즘 정말 재미있다\"\n",
    "    str2 = reversing_words_slice(str1)\n",
    "    print(str2)\n"
   ]
  },
  {
   "cell_type": "code",
   "execution_count": 45,
   "metadata": {},
   "outputs": [
    {
     "name": "stdout",
     "output_type": "stream",
     "text": [
      "재미있다 정말 알고리즘 파이썬\n"
     ]
    }
   ],
   "source": [
    "def reversing_words_slice(word):\n",
    "    new_word = []ㅋ\n",
    "    words = word.split(\" \")\n",
    "    for word in words [::-1]: # 뒤에서부터 뽑혀서 넘어온다\n",
    "        new_word.append(word)\n",
    "        \n",
    "    return  \" \".join(new_word)\n",
    "\n",
    "\n",
    "if __name__ == \"__main__\":\n",
    "    str1 = \"파이썬 알고리즘 정말 재미있다\"\n",
    "    str2 = reversing_words_slice(str1)\n",
    "    print(str2)\n"
   ]
  },
  {
   "cell_type": "code",
   "execution_count": 49,
   "metadata": {},
   "outputs": [
    {
     "name": "stdout",
     "output_type": "stream",
     "text": [
      "재미있다 정말 알고리즘 파이썬\n",
      "재미있다 정말 알고리즘 파이썬\n"
     ]
    }
   ],
   "source": [
    "def reversing_words(str1):\n",
    "    words = str1.split(\" \")\n",
    "    rev_set = \" \".join(reversed(words))\n",
    "    return  rev_set\n",
    "\n",
    "def reversing_words2(str1):\n",
    "    words = str1.split(\" \")\n",
    "    words.reverse()\n",
    "    return  \" \".join(words)\n",
    "\n",
    "if __name__ == \"__main__\":\n",
    "    str1 = \"파이썬 알고리즘 정말 재미있다\"\n",
    "    str2 = reversing_words(str1)\n",
    "    str3 = reversing_words2(str1)\n",
    "    print(str2)\n",
    "    print(str3)\n"
   ]
  },
  {
   "cell_type": "markdown",
   "metadata": {},
   "source": [
    "### 단순 문자열 압출"
   ]
  },
  {
   "cell_type": "code",
   "execution_count": 53,
   "metadata": {},
   "outputs": [
    {
     "name": "stdout",
     "output_type": "stream",
     "text": [
      "a2b1c5a3\n"
     ]
    }
   ],
   "source": [
    "def str_compression(s):\n",
    "    count, last = 1, \"\"\n",
    "    list_aux = []\n",
    "    \n",
    "    for i, c in enumerate(s):\n",
    "        if last == c:\n",
    "            count += 1 # 한번 문자가 들어왔는데 또 들어오면 counting 한다는 것\n",
    "        else:\n",
    "            if i != 0: # 첫글자가 아니라면\n",
    "                list_aux.append(str(count)) # 1을 string으로 바꿔서 append 한다는 것\n",
    "            list_aux.append(c)\n",
    "            count = 1\n",
    "            last = c\n",
    "    list_aux.append(str(count))\n",
    "    return \"\".join(list_aux) # join을 통해 문자열을 만드는 것\n",
    "\n",
    "if __name__ == \"__main__\":\n",
    "    result = str_compression(\"aabcccccaaa\")\n",
    "    print(result)"
   ]
  },
  {
   "cell_type": "markdown",
   "metadata": {},
   "source": [
    "### 문자열 순열 "
   ]
  },
  {
   "cell_type": "code",
   "execution_count": 54,
   "metadata": {},
   "outputs": [
    {
     "name": "stdout",
     "output_type": "stream",
     "text": [
      "['012', '021', '102', '120', '201', '210']\n"
     ]
    }
   ],
   "source": [
    "def perm(s):\n",
    "    if len(s) < 2:  # 종료조건\n",
    "        return s\n",
    "    res = []\n",
    "    for i, c in enumerate(s): # enumerate : 대상체와 값을 같이 뽑는 방법  i는 int c 는 str\n",
    "        for cc in perm(s[:i] + s[i+1:]): #i 만큼의 문자열을 호출, i+1부터 문자열을 추출, 재귀적으로 또 호출함.\n",
    "            res.append(c+cc)\n",
    "    return res  #모든 조합을 출력한다\n",
    "# i 가 0일때 s[:1]는 0미만이라 empty list가 된다.그래서 첫번째 rounding에서는 012가 들어온다\n",
    "if __name__ == \"__main__\":\n",
    "    val = \"012\"\n",
    "    \n",
    "    print(perm(val))"
   ]
  },
  {
   "cell_type": "code",
   "execution_count": 55,
   "metadata": {},
   "outputs": [
    {
     "name": "stdout",
     "output_type": "stream",
     "text": [
      "['12']\n",
      "['12', '21']\n",
      "['012']\n",
      "['012', '021']\n",
      "['02']\n",
      "['02', '20']\n",
      "['012', '021', '102']\n",
      "['012', '021', '102', '120']\n",
      "['01']\n",
      "['01', '10']\n",
      "['012', '021', '102', '120', '201']\n",
      "['012', '021', '102', '120', '201', '210']\n",
      "['012', '021', '102', '120', '201', '210']\n"
     ]
    }
   ],
   "source": [
    "def perm(s):\n",
    "    if len(s) < 2:  # 종료조건\n",
    "        return s\n",
    "    res = []\n",
    "    for i, c in enumerate(s): # enumerate : 대상체와 값을 같이 뽑는 방법  i는 int c 는 str\n",
    "        for cc in perm(s[:i] + s[i+1:]): #i 만큼의 문자열을 호출, i+1부터 문자열을 추출, 재귀적으로 또 호출함.\n",
    "            res.append(c+cc)\n",
    "            print(res)\n",
    "    return res  #모든 조합을 출력한다\n",
    "# i 가 0일때 s[:1]는 0미만이라 empty list가 된다.그래서 첫번째 rounding에서는 012가 들어온다\n",
    "if __name__ == \"__main__\":\n",
    "    val = \"012\"\n",
    "    \n",
    "    print(perm(val))"
   ]
  },
  {
   "cell_type": "code",
   "execution_count": 58,
   "metadata": {},
   "outputs": [
    {
     "name": "stdout",
     "output_type": "stream",
     "text": [
      "['012', '021', '102', '120', '201', '210']\n",
      "['012', '021', '102', '120', '201', '210']\n"
     ]
    }
   ],
   "source": [
    "import itertools\n",
    "\n",
    "def perm(s):\n",
    "    if len(s) < 2:  # 종료조건\n",
    "        return s\n",
    "    res = []\n",
    "    for i, c in enumerate(s): # enumerate : 대상체와 값을 같이 뽑는 방법  i는 int c 는 str\n",
    "        for cc in perm(s[:i] + s[i+1:]): #i 만큼의 문자열을 호출, i+1부터 문자열을 추출, 재귀적으로 또 호출함.\n",
    "            res.append(c+cc)\n",
    "    return res  #모든 조합을 출력한다\n",
    "# i 가 0일때 s[:1]는 0미만이라 empty list가 된다.그래서 첫번째 rounding에서는 012가 들어온다\n",
    "\n",
    "def perm2(s):\n",
    "    res = itertools.permutations(s) #임포트필수다.\n",
    "    return [\"\".join(i) for i in res]\n",
    "\n",
    "if __name__ == \"__main__\":\n",
    "    val = \"012\"\n",
    "    \n",
    "    print(perm(val))\n",
    "    print(perm2(val))"
   ]
  },
  {
   "cell_type": "markdown",
   "metadata": {},
   "source": [
    "### combination 구현 "
   ]
  },
  {
   "cell_type": "code",
   "execution_count": 61,
   "metadata": {},
   "outputs": [
    {
     "name": "stdout",
     "output_type": "stream",
     "text": [
      "['a', 'ab', 'abc', 'ac', 'acb', 'b', 'ba', 'bac', 'bc', 'bca', 'c', 'ca', 'cab', 'cb', 'cba']\n"
     ]
    }
   ],
   "source": [
    "import itertools\n",
    "\n",
    "def combinations(s): #모든 조합 찍어냄\n",
    "    if len(s) < 2:  \n",
    "        return s\n",
    "    res = []\n",
    "    for i, c in enumerate(s): \n",
    "        res.append(c)\n",
    "        for j in combinations(s[:i] + s[i+1:]): \n",
    "            res.append(c+j)\n",
    "    return res  \n",
    "\n",
    "\n",
    "if __name__ == \"__main__\":\n",
    "    result = combinations(\"abc\")\n",
    "    print(result)"
   ]
  },
  {
   "cell_type": "markdown",
   "metadata": {},
   "source": [
    "### 회문"
   ]
  },
  {
   "cell_type": "code",
   "execution_count": 67,
   "metadata": {},
   "outputs": [
    {
     "name": "stdout",
     "output_type": "stream",
     "text": [
      "True\n",
      "True\n"
     ]
    }
   ],
   "source": [
    "def is_palindrome(s):\n",
    "    l = s.split(\" \") #공백으로 나뉜다\n",
    "    s2 = \"\".join(l) #공백을 제거하는 코드\n",
    "    return s2 == s2[::-1]\n",
    "    \n",
    "def is_palindrome2(s):\n",
    "    l = len(s)\n",
    "    f, b = 0, l-1\n",
    "    while (f < l // 2):  # f 반에서 만나면 종료\n",
    "        while s[f] == \" \": #f는 공백을 찾을 때 까지 왼쪽으로 이동\n",
    "            f += 1\n",
    "        while s[f] == \" \":\n",
    "            b -= 1\n",
    "            \n",
    "        if(s[f] != s[b]): #양쪽이 같아야 한다\n",
    "            return False\n",
    "        \n",
    "        f+=1\n",
    "        b-=1\n",
    "    return True #살아남았다면 회문이다\n",
    "    \n",
    "\n",
    "if __name__ == \"__main__\":\n",
    "    str1 = \"다시 합창합시다\"\n",
    "    print(is_palindrome(str1))\n",
    "    print(is_palindrome2(str1))"
   ]
  },
  {
   "cell_type": "code",
   "execution_count": 70,
   "metadata": {},
   "outputs": [
    {
     "name": "stdout",
     "output_type": "stream",
     "text": [
      "True\n",
      "True\n"
     ]
    }
   ],
   "source": [
    "    #슬라이싱\n",
    "def is_palindrome(s):\n",
    "    l = s.split(\" \") #공백으로 나뉜다\n",
    "    s2 = \"\".join(l) #공백을 제거하는 코드\n",
    "    return s2 == s2[::-1]\n",
    "    \n",
    "def is_palindrome2(s):\n",
    "    l = len(s)\n",
    "    f, b = 0, l-1\n",
    "    while (f < l // 2):  # f값의 반에서 만나면 종료\n",
    "        while s[f] == \" \": #f는 공백을 만나면 한칸 더 간다.\n",
    "            f += 1\n",
    "        while s[f] == \" \": #b는 공백을 만나면 한칸 더 간다\n",
    "            b -= 1\n",
    "            \n",
    "        if(s[f] != s[b]): #양쪽이 같아야 한다\n",
    "            return False\n",
    "        \n",
    "        f+=1\n",
    "        b-=1\n",
    "    return True #살아남았다면 회문이다\n",
    "    \n",
    "\n",
    "if __name__ == \"__main__\":\n",
    "    str1 = \"소주 잔한잔주소\"\n",
    "    print(is_palindrome(str1))\n",
    "    print(is_palindrome2(str1))"
   ]
  },
  {
   "cell_type": "code",
   "execution_count": 74,
   "metadata": {},
   "outputs": [
    {
     "name": "stdout",
     "output_type": "stream",
     "text": [
      "True\n",
      "True\n",
      "True\n"
     ]
    }
   ],
   "source": [
    "def is_palindrome(s):\n",
    "    l = s.split(\" \") #공백으로 나뉜다\n",
    "    s2 = \"\".join(l) #공백을 제거하는 코드\n",
    "    return s2 == s2[::-1]\n",
    " \n",
    "    \n",
    "    # 로우레벨\n",
    "def is_palindrome2(s):\n",
    "    l = len(s)\n",
    "    f, b = 0, l-1\n",
    "    while (f < l // 2):  # f값의 반에서 만나면 종료\n",
    "        while s[f] == \" \": #f는 공백을 만나면 한칸 더 간다.\n",
    "            f += 1\n",
    "        while s[f] == \" \": #b는 공백을 만나면 한칸 더 간다\n",
    "            b -= 1\n",
    "            \n",
    "        if(s[f] != s[b]): #양쪽이 같아야 한다\n",
    "            return False\n",
    "        \n",
    "        f+=1\n",
    "        b-=1\n",
    "    return True #살아남았다면 회문이다\n",
    "    \n",
    "  \n",
    " #재귀\n",
    "def is_palindrome3(s):\n",
    "    s = s.strip()\n",
    "    if len(s) < 2:\n",
    "        return True\n",
    "    if s[0] == s[-1]:\n",
    "        return is_palindrome3(s[1:-1]) #앞뒤 글자 하나씩 뺀 것\n",
    "    else: \n",
    "        return False\n",
    "\n",
    "if __name__ == \"__main__\":\n",
    "    str1 = \"소주 잔한잔주소\"\n",
    "    print(is_palindrome(str1))\n",
    "    print(is_palindrome2(str1))\n",
    "    print(is_palindrome3(str1))"
   ]
  },
  {
   "cell_type": "code",
   "execution_count": 75,
   "metadata": {},
   "outputs": [
    {
     "name": "stdout",
     "output_type": "stream",
     "text": [
      "False\n",
      "False\n",
      "False\n"
     ]
    }
   ],
   "source": [
    "def is_palindrome(s):\n",
    "    l = s.split(\" \") #공백으로 나뉜다\n",
    "    s2 = \"\".join(l) #공백을 제거하는 코드\n",
    "    return s2 == s2[::-1]\n",
    "\n",
    "\n",
    "def is_palindrome2(s):\n",
    "    l = len(s)\n",
    "    f, b = 0, l-1\n",
    "    while (f < l // 2):  # f값의 반에서 만나면 종료\n",
    "        while s[f] == \" \": #f는 공백을 만나면 한칸 더 간다.\n",
    "            f += 1\n",
    "        while s[f] == \" \": #b는 공백을 만나면 한칸 더 간다\n",
    "            b -= 1\n",
    "            \n",
    "        if(s[f] != s[b]): #양쪽이 같아야 한다\n",
    "            return False\n",
    "        \n",
    "        f+=1\n",
    "        b-=1\n",
    "    return True #살아남았다면 회문이다\n",
    "    \n",
    "    \n",
    "def is_palindrome3(s):\n",
    "    s = s.strip()\n",
    "    if len(s) < 2:\n",
    "        return True\n",
    "    if s[0] == s[-1]:\n",
    "        return is_palindrome3(s[1:-1]) #앞뒤 글자 하나씩 뺀 것\n",
    "    else: \n",
    "        return False\n",
    "\n",
    "if __name__ == \"__main__\":\n",
    "    str1 = \"소주 잔한잔만주소\"\n",
    "    print(is_palindrome(str1))\n",
    "    print(is_palindrome2(str1))\n",
    "    print(is_palindrome3(str1))"
   ]
  },
  {
   "cell_type": "markdown",
   "metadata": {},
   "source": [
    "### set(집합) "
   ]
  },
  {
   "cell_type": "code",
   "execution_count": 76,
   "metadata": {},
   "outputs": [
    {
     "data": {
      "text/plain": [
       "['__and__',\n",
       " '__class__',\n",
       " '__contains__',\n",
       " '__delattr__',\n",
       " '__dir__',\n",
       " '__doc__',\n",
       " '__eq__',\n",
       " '__format__',\n",
       " '__ge__',\n",
       " '__getattribute__',\n",
       " '__gt__',\n",
       " '__hash__',\n",
       " '__iand__',\n",
       " '__init__',\n",
       " '__init_subclass__',\n",
       " '__ior__',\n",
       " '__isub__',\n",
       " '__iter__',\n",
       " '__ixor__',\n",
       " '__le__',\n",
       " '__len__',\n",
       " '__lt__',\n",
       " '__ne__',\n",
       " '__new__',\n",
       " '__or__',\n",
       " '__rand__',\n",
       " '__reduce__',\n",
       " '__reduce_ex__',\n",
       " '__repr__',\n",
       " '__ror__',\n",
       " '__rsub__',\n",
       " '__rxor__',\n",
       " '__setattr__',\n",
       " '__sizeof__',\n",
       " '__str__',\n",
       " '__sub__',\n",
       " '__subclasshook__',\n",
       " '__xor__',\n",
       " 'add',\n",
       " 'clear',\n",
       " 'copy',\n",
       " 'difference',\n",
       " 'difference_update',\n",
       " 'discard',\n",
       " 'intersection',\n",
       " 'intersection_update',\n",
       " 'isdisjoint',\n",
       " 'issubset',\n",
       " 'issuperset',\n",
       " 'pop',\n",
       " 'remove',\n",
       " 'symmetric_difference',\n",
       " 'symmetric_difference_update',\n",
       " 'union',\n",
       " 'update']"
      ]
     },
     "execution_count": 76,
     "metadata": {},
     "output_type": "execute_result"
    }
   ],
   "source": [
    "dir(set()) # 그 객체가 지원하는 모든 함수를 보여준다."
   ]
  },
  {
   "cell_type": "code",
   "execution_count": 77,
   "metadata": {},
   "outputs": [],
   "source": [
    "fs = frozenset((0,1,2,3,4)) # immutable 객체"
   ]
  },
  {
   "cell_type": "code",
   "execution_count": 79,
   "metadata": {},
   "outputs": [
    {
     "data": {
      "text/plain": [
       "True"
      ]
     },
     "execution_count": 79,
     "metadata": {},
     "output_type": "execute_result"
    }
   ],
   "source": [
    "2 in fs\n"
   ]
  },
  {
   "cell_type": "code",
   "execution_count": 80,
   "metadata": {},
   "outputs": [
    {
     "data": {
      "text/plain": [
       "5"
      ]
     },
     "execution_count": 80,
     "metadata": {},
     "output_type": "execute_result"
    }
   ],
   "source": [
    "len(fs)"
   ]
  },
  {
   "cell_type": "markdown",
   "metadata": {},
   "source": [
    "### set method "
   ]
  },
  {
   "cell_type": "code",
   "execution_count": 82,
   "metadata": {},
   "outputs": [
    {
     "data": {
      "text/plain": [
       "{'버피', '아영', '에인절', '월로', '자일스'}"
      ]
     },
     "execution_count": 82,
     "metadata": {},
     "output_type": "execute_result"
    }
   ],
   "source": [
    "people = {\"버피\", \"에인절\", \"자일스\", \"아영\"} #집합은 mutable 객체라 가능\n",
    "\n",
    "people.add(\"월로\")\n",
    "\n",
    "people"
   ]
  },
  {
   "cell_type": "code",
   "execution_count": 83,
   "metadata": {},
   "outputs": [
    {
     "data": {
      "text/plain": [
       "{'로미오', '버피', '아영', '에인절', '자일스', '줄리엣'}"
      ]
     },
     "execution_count": 83,
     "metadata": {},
     "output_type": "execute_result"
    }
   ],
   "source": [
    "people = {\"버피\", \"에인절\", \"자일스\", \"아영\"}\n",
    "people.update({\"로미오\", \"에인절\", \"자일스\", \"줄리엣\"}) #중복 있는 경우\n",
    "people #중복된 것은 추가되지 않는다. "
   ]
  },
  {
   "cell_type": "code",
   "execution_count": 85,
   "metadata": {},
   "outputs": [
    {
     "data": {
      "text/plain": [
       "{'로미오', '리키', '버피', '아영', '에인절', '유진', '자일스', '줄리엣'}"
      ]
     },
     "execution_count": 85,
     "metadata": {},
     "output_type": "execute_result"
    }
   ],
   "source": [
    "people |= {\"리키\", \"유진\",\"에인절\"}\n",
    "people"
   ]
  },
  {
   "cell_type": "code",
   "execution_count": 86,
   "metadata": {},
   "outputs": [
    {
     "data": {
      "text/plain": [
       "{'에인절', '자일스'}"
      ]
     },
     "execution_count": 86,
     "metadata": {},
     "output_type": "execute_result"
    }
   ],
   "source": [
    "people = {\"버피\", \"에인절\", \"자일스\", \"이안\"}\n",
    "vampires = {\"에인절\", \"자일스\", \"윌로\"}\n",
    "people.intersection(vampires)"
   ]
  },
  {
   "cell_type": "code",
   "execution_count": 87,
   "metadata": {},
   "outputs": [
    {
     "data": {
      "text/plain": [
       "{'에인절', '자일스'}"
      ]
     },
     "execution_count": 87,
     "metadata": {},
     "output_type": "execute_result"
    }
   ],
   "source": [
    "people & vampires"
   ]
  },
  {
   "cell_type": "code",
   "execution_count": 88,
   "metadata": {},
   "outputs": [
    {
     "data": {
      "text/plain": [
       "{'버피', '이안'}"
      ]
     },
     "execution_count": 88,
     "metadata": {},
     "output_type": "execute_result"
    }
   ],
   "source": [
    "people = {\"버피\", \"에인절\", \"자일스\", \"이안\"}\n",
    "vampires = {\"에인절\", \"자일스\", \"윌로\"}\n",
    "people.difference(vampires)"
   ]
  },
  {
   "cell_type": "code",
   "execution_count": 89,
   "metadata": {},
   "outputs": [
    {
     "data": {
      "text/plain": [
       "{'버피', '이안'}"
      ]
     },
     "execution_count": 89,
     "metadata": {},
     "output_type": "execute_result"
    }
   ],
   "source": [
    "people - vampires"
   ]
  },
  {
   "cell_type": "code",
   "execution_count": 92,
   "metadata": {},
   "outputs": [
    {
     "data": {
      "text/plain": [
       "set()"
      ]
     },
     "execution_count": 92,
     "metadata": {},
     "output_type": "execute_result"
    }
   ],
   "source": [
    "people = {\"버피\", \"에인절\", \"자일스\", \"이안\"}\n",
    "people.clear()\n",
    "people # empty set이 된다"
   ]
  },
  {
   "cell_type": "code",
   "execution_count": 93,
   "metadata": {},
   "outputs": [
    {
     "data": {
      "text/plain": [
       "{'스페인', '영국', '프랑스'}"
      ]
     },
     "execution_count": 93,
     "metadata": {},
     "output_type": "execute_result"
    }
   ],
   "source": [
    "countries = {\"프랑스\", \"스페인\", \"영국\"}\n",
    "countries.discard(\"한국\") #리턴값 없다\n",
    "countries"
   ]
  },
  {
   "cell_type": "code",
   "execution_count": 95,
   "metadata": {},
   "outputs": [
    {
     "ename": "KeyError",
     "evalue": "'일본'",
     "output_type": "error",
     "traceback": [
      "\u001b[1;31m---------------------------------------------------------------------------\u001b[0m",
      "\u001b[1;31mKeyError\u001b[0m                                  Traceback (most recent call last)",
      "\u001b[1;32m<ipython-input-95-1dbbdb9ab037>\u001b[0m in \u001b[0;36m<module>\u001b[1;34m\u001b[0m\n\u001b[1;32m----> 1\u001b[1;33m \u001b[0mcountries\u001b[0m\u001b[1;33m.\u001b[0m\u001b[0mremove\u001b[0m\u001b[1;33m(\u001b[0m\u001b[1;34m\"일본\"\u001b[0m\u001b[1;33m)\u001b[0m \u001b[1;31m# 지우려는 데이터가 없는 경우 에러가 발생한다.\u001b[0m\u001b[1;33m\u001b[0m\u001b[1;33m\u001b[0m\u001b[0m\n\u001b[0m",
      "\u001b[1;31mKeyError\u001b[0m: '일본'"
     ]
    }
   ],
   "source": [
    "countries.remove(\"일본\") # 리턴값 없다. 지우려는 데이터가 없는 경우 에러가 발생한다."
   ]
  },
  {
   "cell_type": "code",
   "execution_count": 107,
   "metadata": {},
   "outputs": [],
   "source": [
    "countries.discard(\"독일\")"
   ]
  },
  {
   "cell_type": "code",
   "execution_count": 108,
   "metadata": {},
   "outputs": [
    {
     "ename": "NameError",
     "evalue": "name 'countires' is not defined",
     "output_type": "error",
     "traceback": [
      "\u001b[1;31m---------------------------------------------------------------------------\u001b[0m",
      "\u001b[1;31mNameError\u001b[0m                                 Traceback (most recent call last)",
      "\u001b[1;32m<ipython-input-108-70243bab9915>\u001b[0m in \u001b[0;36m<module>\u001b[1;34m\u001b[0m\n\u001b[0;32m      1\u001b[0m \u001b[0mcountries\u001b[0m \u001b[1;33m=\u001b[0m \u001b[1;33m{\u001b[0m\u001b[1;34m\"프랑스\"\u001b[0m\u001b[1;33m,\u001b[0m \u001b[1;34m\"스페인\"\u001b[0m\u001b[1;33m,\u001b[0m \u001b[1;34m\"영국\"\u001b[0m\u001b[1;33m}\u001b[0m\u001b[1;33m\u001b[0m\u001b[1;33m\u001b[0m\u001b[0m\n\u001b[0;32m      2\u001b[0m \u001b[0mcountries\u001b[0m\u001b[1;33m.\u001b[0m\u001b[0mpop\u001b[0m\u001b[1;33m(\u001b[0m\u001b[1;33m)\u001b[0m\u001b[1;33m\u001b[0m\u001b[1;33m\u001b[0m\u001b[0m\n\u001b[1;32m----> 3\u001b[1;33m \u001b[0mcountires\u001b[0m\u001b[1;33m\u001b[0m\u001b[1;33m\u001b[0m\u001b[0m\n\u001b[0m",
      "\u001b[1;31mNameError\u001b[0m: name 'countires' is not defined"
     ]
    }
   ],
   "source": [
    "countries = {\"프랑스\", \"스페인\", \"영국\"}\n",
    "countries.pop()\n",
    "countires"
   ]
  },
  {
   "cell_type": "markdown",
   "metadata": {},
   "source": [
    "###  셋과 리스트 "
   ]
  },
  {
   "cell_type": "code",
   "execution_count": 116,
   "metadata": {},
   "outputs": [
    {
     "name": "stdout",
     "output_type": "stream",
     "text": [
      "[1, 2, 3, 4, 5, 9, 11]\n",
      "[4, 5]\n",
      "[1, 2, 3, 4, 5, 6, 7, 8, 9, 11]\n"
     ]
    }
   ],
   "source": [
    "def remove_dup(l1):\n",
    "    return list(set(l1))\n",
    "\n",
    "def intersection(l1, l2):\n",
    "    return list( set(l1) & set(l2))\n",
    "\n",
    "\n",
    "def union(l1, l2):\n",
    "    return list( set(l1) | set(l2))\n",
    "\n",
    "def test_sets_operations_with_lists():\n",
    "    l1 = [1,2,3,4,5,5,9,11,11]\n",
    "    l2 = [4,5,6,7,8]\n",
    "    print(remove_dup(l1))\n",
    "    print(intersection(l1, l2))\n",
    "    print(union(l1, l2))\n",
    "    \n",
    "\n",
    "    \n",
    "if __name__ == \"__main__\":\n",
    "    test_sets_operations_with_lists()"
   ]
  },
  {
   "cell_type": "markdown",
   "metadata": {},
   "source": [
    "###  딕셔너리"
   ]
  },
  {
   "cell_type": "code",
   "execution_count": 127,
   "metadata": {},
   "outputs": [
    {
     "data": {
      "text/plain": [
       "'쿠엔틴 타란티노'"
      ]
     },
     "execution_count": 127,
     "metadata": {},
     "output_type": "execute_result"
    }
   ],
   "source": [
    "tarantino = {} # {}만 있으면 set인지 dict인지 모르지만\n",
    "tarantino['name'] = '쿠엔틴 타란티노'\n",
    "tarantino['job'] = '감독'\n",
    "tarantino #이렇게 key값과 value 넣으면 dictionary가 된다\n",
    "\n",
    "tarantino['name'] # key값 넣으면 value 나온다. 선언과 동시에 초기화 해도 되고\n",
    " # 나중에 대입해도 된다"
   ]
  },
  {
   "cell_type": "code",
   "execution_count": 136,
   "metadata": {},
   "outputs": [
    {
     "data": {
      "text/plain": [
       "{'name': '버피', 'age': 16, 'hobby': '게임'}"
      ]
     },
     "execution_count": 136,
     "metadata": {},
     "output_type": "execute_result"
    }
   ],
   "source": [
    "sunnydale = dict({'name':\"버피\", 'age':16, 'hobby':'게임'}) # 표준형\n",
    "sunnydale"
   ]
  },
  {
   "cell_type": "code",
   "execution_count": 137,
   "metadata": {},
   "outputs": [
    {
     "data": {
      "text/plain": [
       "{'name': '자일스', 'age': 16, 'hobby': '게임'}"
      ]
     },
     "execution_count": 137,
     "metadata": {},
     "output_type": "execute_result"
    }
   ],
   "source": [
    "sunnydale = dict(name=\"자일스\", age=16, hobby='게임') \n",
    "#{} 도 치지 말고 식별자로 넣어줘야 돌아가긴 함\n",
    "sunnydale"
   ]
  },
  {
   "cell_type": "code",
   "execution_count": 138,
   "metadata": {},
   "outputs": [
    {
     "data": {
      "text/plain": [
       "{'name': '자일스', 'age': 16, 'hobby': '게임'}"
      ]
     },
     "execution_count": 138,
     "metadata": {},
     "output_type": "execute_result"
    }
   ],
   "source": [
    "sunnydale = dict([(\"name\",\"자일스\"),(\"age\",16), (\"hobby\",'게임')]) \n",
    "#이렇게 쓸 수도 있다. 표준형을 쓰자\n",
    "sunnydale"
   ]
  },
  {
   "cell_type": "markdown",
   "metadata": {},
   "source": [
    "###  setdefault()"
   ]
  },
  {
   "cell_type": "code",
   "execution_count": 154,
   "metadata": {},
   "outputs": [
    {
     "name": "stdout",
     "output_type": "stream",
     "text": [
      "(('key1', 'value1'), ('key1', 'value2'), ('key2', 'value3'), ('key2', 'value4'), ('key2', 'value5'))\n",
      "--------------------\n",
      "<class 'tuple'>\n",
      "{'key1': ['value1', 'value2'], 'key2': ['value3', 'value4', 'value5']}\n",
      "{'key1': ['value1', 'value2'], 'key2': ['value3', 'value4', 'value5']}\n"
     ]
    }
   ],
   "source": [
    "def usual_dict(dict_data):\n",
    "    newdata = {}\n",
    "    for k, v in dict_data:\n",
    "        if k in newdata:\n",
    "            newdata[k].append(v)\n",
    "        else:\n",
    "            newdata[k] = [v]\n",
    "    return newdata\n",
    "\n",
    "def setdefault_dict(dict_data):\n",
    "    newdata = {}\n",
    "    for k, v in dict_data: # k가 처음 들어올 땐 list를 생성하고, k가 이미 list있다면 v를 추가해주는 것\n",
    "        newdata.setdefault(k, []).append(v)\n",
    "    return newdata\n",
    "    \n",
    "def test_setdef():\n",
    "    dict_data = ((\"key1\", \"value1\"),\n",
    "                 (\"key1\", \"value2\"),\n",
    "                 (\"key2\", \"value3\"),\n",
    "                 (\"key2\", \"value4\"),\n",
    "                 (\"key2\", \"value5\"),)\n",
    "    print(dict_data)\n",
    "    print(\"-\"*20)\n",
    "    print(type(dict_data))\n",
    "    print(usual_dict(dict_data))\n",
    "    print(setdefault_dict(dict_data))\n",
    "\n",
    "    \n",
    "if __name__ == \"__main__\":\n",
    "    test_setdef()"
   ]
  },
  {
   "cell_type": "markdown",
   "metadata": {},
   "source": [
    "### 딕셔너리 성능 측정"
   ]
  },
  {
   "cell_type": "code",
   "execution_count": 157,
   "metadata": {
    "scrolled": true
   },
   "outputs": [
    {
     "name": "stdout",
     "output_type": "stream",
     "text": [
      "10000,     0.078,     0.001\n",
      "30000,     0.218,     0.001\n",
      "50000,     0.364,     0.001\n",
      "70000,     0.497,     0.001\n",
      "90000,     0.651,     0.001\n",
      "110000,     0.797,     0.001\n",
      "130000,     0.946,     0.001\n",
      "150000,     1.135,     0.001\n",
      "170000,     1.244,     0.001\n",
      "190000,     1.374,     0.001\n",
      "210000,     1.470,     0.001\n",
      "230000,     1.664,     0.001\n",
      "250000,     1.802,     0.001\n",
      "270000,     2.016,     0.001\n",
      "290000,     2.153,     0.001\n",
      "310000,     2.274,     0.001\n",
      "330000,     2.482,     0.001\n",
      "350000,     2.552,     0.001\n",
      "370000,     2.856,     0.001\n",
      "390000,     2.922,     0.001\n",
      "410000,     2.975,     0.001\n",
      "430000,     3.269,     0.001\n",
      "450000,     3.324,     0.001\n",
      "470000,     3.547,     0.001\n",
      "490000,     3.644,     0.001\n",
      "510000,     3.831,     0.001\n",
      "530000,     4.041,     0.001\n",
      "550000,     4.243,     0.001\n",
      "570000,     4.153,     0.001\n",
      "590000,     4.447,     0.001\n",
      "610000,     4.584,     0.001\n",
      "630000,     4.640,     0.001\n",
      "650000,     4.948,     0.001\n",
      "670000,     5.098,     0.001\n",
      "690000,     5.090,     0.001\n",
      "710000,     5.189,     0.001\n",
      "730000,     5.427,     0.001\n",
      "750000,     5.588,     0.002\n",
      "770000,     5.818,     0.001\n",
      "790000,     6.000,     0.001\n",
      "810000,     6.226,     0.001\n",
      "830000,     6.400,     0.001\n",
      "850000,     6.604,     0.001\n",
      "870000,     6.432,     0.001\n",
      "890000,     6.463,     0.001\n",
      "910000,     6.789,     0.001\n",
      "930000,     7.002,     0.002\n",
      "950000,     7.282,     0.002\n",
      "970000,     7.101,     0.001\n",
      "990000,     7.175,     0.001\n"
     ]
    }
   ],
   "source": [
    "import timeit\n",
    "import random\n",
    "\n",
    "for i in range(10000, 1000001, 20000): #100만까지 20000씩 증가\n",
    "    t = timeit.Timer(\"random.randrange(%d) in x\" %i,\n",
    "                    \"from __main__ import random, x\")\n",
    "    x = list(range(i)) #i만큼 리스트가 만들어진다. 10000개부터 만들어짐 \n",
    "    lst_time = t.timeit(number=1000)\n",
    "    x = { j: None for j in range(i)} #딕셔너리를 같은 크기로 만듦\n",
    "    d_time = t.timeit(number= 1000)\n",
    "    print(\"%d,%10.3f,%10.3f\" % (i, lst_time, d_time)) #딕셔너리는 상수시간이 걸림\n",
    "    # 딕셔너리가 리스트 보다 빠르다"
   ]
  },
  {
   "cell_type": "markdown",
   "metadata": {},
   "source": [
    "### 디폴트 딕셔너리 "
   ]
  },
  {
   "cell_type": "code",
   "execution_count": 191,
   "metadata": {},
   "outputs": [
    {
     "name": "stdout",
     "output_type": "stream",
     "text": [
      "<class 'set'>\n",
      "{'c': [3], 'b': [2], 'a': [1]}\n",
      "defaultdict(<class 'list'>, {'c': [3], 'b': [2], 'a': [1]})\n"
     ]
    }
   ],
   "source": [
    "from collections import defaultdict\n",
    "    \n",
    "def defaultdict_examplel():\n",
    "    pairs = {(\"a\",1), (\"b\",2), (\"c\", 3)}\n",
    "    print(type(pairs))\n",
    "    \n",
    "    d1 = {}\n",
    "    for key, value in pairs:\n",
    "        if key not in d1: #a , b, c가 key의 역할을 하고 각각의 value가 리스트 역할\n",
    "            d1[key] = []\n",
    "        d1[key].append(value)\n",
    "    print(d1)\n",
    "    \n",
    "    d2 = defaultdict(list)\n",
    "    for key, value in pairs:\n",
    "        d2[key].append(value)\n",
    "    print(d2)\n",
    "   \n",
    "    \n",
    "if __name__ == \"__main__\":\n",
    "    defaultdict_examplel()"
   ]
  },
  {
   "cell_type": "markdown",
   "metadata": {},
   "source": [
    "### 정렬된 딕셔너리 "
   ]
  },
  {
   "cell_type": "code",
   "execution_count": 190,
   "metadata": {},
   "outputs": [
    {
     "name": "stdout",
     "output_type": "stream",
     "text": [
      "<class 'list'>\n",
      "c [1]\n",
      "b [2]\n",
      "a [3]\n",
      "c 1\n",
      "b 2\n",
      "a 3\n"
     ]
    }
   ],
   "source": [
    "#이상하다................입력된 순서로 정렬되며 3.X버전 이후로는 이거 안써도 정렬됨\n",
    "\n",
    "from collections import OrderedDict\n",
    "    \n",
    "def orderedDict_example():\n",
    "    pairs = [(\"c\",1), (\"b\",2), (\"a\", 3)]\n",
    "    print(type(pairs))\n",
    "    \n",
    "    d1 = {}\n",
    "    for key, value in pairs:\n",
    "        if key not in d1: #a , b, c가 key의 역할을 하고 각각의 value가 리스트 역할\n",
    "            d1[key] = []\n",
    "        d1[key].append(value)\n",
    "    for key in d1:\n",
    "        print(key, d1[key])\n",
    "   \n",
    "    d2 = OrderedDict(pairs)\n",
    "    for key in d2:\n",
    "        print(key, d2[key])\n",
    "   \n",
    "    \n",
    "if __name__ == \"__main__\":\n",
    "    orderedDict_example()"
   ]
  },
  {
   "cell_type": "markdown",
   "metadata": {},
   "source": [
    "### 카운터 딕셔너리"
   ]
  },
  {
   "cell_type": "code",
   "execution_count": 186,
   "metadata": {},
   "outputs": [
    {
     "name": "stdout",
     "output_type": "stream",
     "text": [
      "Counter({5: 4, 1: 3, 2: 3, 3: 1, 4: 1})\n"
     ]
    }
   ],
   "source": [
    "from collections import Counter\n",
    "\n",
    "def counter_example():\n",
    "    seq1 = [1,2,3,5,1,2,5,5,2,5,1,4]\n",
    "    seq_counts = Counter(seq1)\n",
    "    print(seq_counts)\n",
    "    \n",
    "\n",
    "\n",
    "if __name__ == \"__main__\":\n",
    "    counter_example()"
   ]
  },
  {
   "cell_type": "code",
   "execution_count": 183,
   "metadata": {},
   "outputs": [
    {
     "name": "stdout",
     "output_type": "stream",
     "text": [
      "Counter({2: 6, 5: 4, 1: 3, 3: 1, 4: 1})\n",
      "Counter({2: 7, 1: 4, 5: 4, 3: 2, 4: 1})\n",
      "Counter({2: 7, 1: 5, 5: 4, 3: 3, 4: 2})\n",
      "Counter({1: 1, 4: 1, 3: 1})\n",
      "Counter({2: 7, 1: 4, 5: 4, 3: 2, 4: 1})\n"
     ]
    }
   ],
   "source": [
    "from collections import Counter\n",
    "\n",
    "def counter_example():\n",
    "    seq1 = [1,2,3,5,1,2,2,2,2,5,5,2,5,1,4]\n",
    "    seq_counts = Counter(seq1)\n",
    "    print(seq_counts)\n",
    "    #등장 빈도수에 따라 역순 정렬\n",
    "\n",
    "    seq2 = [1,2,3]\n",
    "    seq_counts.update(seq2)\n",
    "    print(seq_counts)\n",
    "    \n",
    "    seq3 = [1,4,3]\n",
    "    for key in seq3:\n",
    "        seq_counts[key] += 1\n",
    "    print(seq_counts)\n",
    "    \n",
    "    seq_counts_2 = Counter(seq3)\n",
    "    print(seq_counts_2)\n",
    "    print(seq_counts + seq_counts_2)\n",
    "    print(seq_counts - seq_counts_2)\n",
    "\n",
    "if __name__ == \"__main__\":\n",
    "    counter_example()"
   ]
  },
  {
   "cell_type": "markdown",
   "metadata": {},
   "source": [
    "###  filter()"
   ]
  },
  {
   "cell_type": "code",
   "execution_count": 192,
   "metadata": {},
   "outputs": [
    {
     "data": {
      "text/plain": [
       "False"
      ]
     },
     "execution_count": 192,
     "metadata": {},
     "output_type": "execute_result"
    }
   ],
   "source": [
    "def f(x):\n",
    "    return x%2 != 0 and x%3 != 0 #2의 배수도 아니고 3의 배수도 아니다\n",
    "f(33)"
   ]
  },
  {
   "cell_type": "code",
   "execution_count": 193,
   "metadata": {},
   "outputs": [
    {
     "data": {
      "text/plain": [
       "True"
      ]
     },
     "execution_count": 193,
     "metadata": {},
     "output_type": "execute_result"
    }
   ],
   "source": [
    "f(17)"
   ]
  },
  {
   "cell_type": "code",
   "execution_count": 197,
   "metadata": {},
   "outputs": [
    {
     "data": {
      "text/plain": [
       "[5, 7, 11, 13, 17, 19, 23]"
      ]
     },
     "execution_count": 197,
     "metadata": {},
     "output_type": "execute_result"
    }
   ],
   "source": [
    "list(filter(f,range(2,25))) #조건에 부합하는(True) 항목만 리스트로 추출\n",
    "#list, filter, range다 함순데 이런걸 함수형 프로그램이라고 함"
   ]
  },
  {
   "cell_type": "markdown",
   "metadata": {},
   "source": [
    "### map()\n"
   ]
  },
  {
   "cell_type": "code",
   "execution_count": 201,
   "metadata": {},
   "outputs": [
    {
     "data": {
      "text/plain": [
       "[1, 8, 27, 64, 125, 216, 343, 512, 729, 1000]"
      ]
     },
     "execution_count": 201,
     "metadata": {},
     "output_type": "execute_result"
    }
   ],
   "source": [
    "def cube(x):\n",
    "    return x*x*x\n",
    "\n",
    "list(map(cube, range(1, 11))) # map은 모든 범위에 있는 애들을 cube와 연결시켜주는것\n",
    "#즉 전체 적용하고 싶으면 map 걸러내고 싶다면 filter\n",
    "\n"
   ]
  },
  {
   "cell_type": "code",
   "execution_count": 200,
   "metadata": {},
   "outputs": [
    {
     "data": {
      "text/plain": [
       "[(0, 0), (1, 1), (2, 4), (3, 9), (4, 16), (5, 25), (6, 36), (7, 49)]"
      ]
     },
     "execution_count": 200,
     "metadata": {},
     "output_type": "execute_result"
    }
   ],
   "source": [
    "seq = range(8)\n",
    "def square(x):\n",
    "    return x*x\n",
    "\n",
    "list(zip(seq, map(square, seq)))  #앞에는 원래 숫자가, 뒤는 제곱이 오게 하는 튜플\n",
    "# 원래 숫자와 그 수의 제곱을 쌍으로 만드는 튜플을 생성"
   ]
  },
  {
   "cell_type": "markdown",
   "metadata": {},
   "source": [
    "### 람다 함수(익명의 함수)"
   ]
  },
  {
   "cell_type": "code",
   "execution_count": 202,
   "metadata": {},
   "outputs": [
    {
     "data": {
      "text/plain": [
       "10.0"
      ]
     },
     "execution_count": 202,
     "metadata": {},
     "output_type": "execute_result"
    }
   ],
   "source": [
    "def area(b, h):\n",
    "    return 0.5 * b * h\n",
    "area(5,4)"
   ]
  },
  {
   "cell_type": "code",
   "execution_count": 203,
   "metadata": {},
   "outputs": [
    {
     "data": {
      "text/plain": [
       "10.0"
      ]
     },
     "execution_count": 203,
     "metadata": {},
     "output_type": "execute_result"
    }
   ],
   "source": [
    "area = lambda b, h: 0.5 * b* h #간결하게 함수를 짤 수 있따.\n",
    "area(5,4)"
   ]
  },
  {
   "cell_type": "code",
   "execution_count": 204,
   "metadata": {},
   "outputs": [
    {
     "data": {
      "text/plain": [
       "[(0, 0), (1, 1), (2, 4), (3, 9), (4, 16), (5, 25), (6, 36), (7, 49)]"
      ]
     },
     "execution_count": 204,
     "metadata": {},
     "output_type": "execute_result"
    }
   ],
   "source": [
    "seq = range(8)\n",
    "\n",
    "list(zip(seq, map(lambda x: x*x, seq))) "
   ]
  },
  {
   "cell_type": "code",
   "execution_count": 205,
   "metadata": {},
   "outputs": [
    {
     "data": {
      "text/plain": [
       "[1, 8, 27, 64, 125, 216, 343, 512, 729, 1000]"
      ]
     },
     "execution_count": 205,
     "metadata": {},
     "output_type": "execute_result"
    }
   ],
   "source": [
    "list(map(lambda x : x*x*x, range(1, 11)))"
   ]
  },
  {
   "cell_type": "code",
   "execution_count": 207,
   "metadata": {},
   "outputs": [
    {
     "data": {
      "text/plain": [
       "[5, 7, 11, 13, 17, 19, 23]"
      ]
     },
     "execution_count": 207,
     "metadata": {},
     "output_type": "execute_result"
    }
   ],
   "source": [
    "list(filter(lambda x: x%2!=0 and x%3!=0, range(2,25)))"
   ]
  },
  {
   "cell_type": "markdown",
   "metadata": {},
   "source": [
    "### pickle 모듈"
   ]
  },
  {
   "cell_type": "code",
   "execution_count": 214,
   "metadata": {},
   "outputs": [
    {
     "data": {
      "text/plain": [
       "{'name': '아스틴', 'age': 23}"
      ]
     },
     "execution_count": 214,
     "metadata": {},
     "output_type": "execute_result"
    }
   ],
   "source": [
    "import pickle\n",
    "\n",
    "x = {}\n",
    "x[\"name\"]= \"아스틴\"\n",
    "x[\"age\"] = 23\n",
    "with open(\"name.pkl\", \"wb\") as f: #with문 사용하면 close안해도됨, write binary모드\n",
    "    pickle.dump(x, f) #앞에는 컨테이너, 뒤에는 파일 스트림\n",
    "    \n",
    "with open(\"name.pkl\", \"rb\") as f:\n",
    "    name = pickle.load(f) #로드할 때엔 파일명만\n",
    "    \n",
    "name #저장된 그대로 객체를 복원해줌 (객체 직렬화)"
   ]
  },
  {
   "cell_type": "code",
   "execution_count": 215,
   "metadata": {},
   "outputs": [
    {
     "name": "stdout",
     "output_type": "stream",
     "text": [
      "{'name': '아스틴', 'age': 23}\n",
      "[1, 2, 3, 4]\n"
     ]
    }
   ],
   "source": [
    "import pickle\n",
    "\n",
    "x = {}\n",
    "x[\"name\"]= \"아스틴\"\n",
    "x[\"age\"] = 23\n",
    "\n",
    "y=[1,2,3,4]\n",
    "with open(\"name2.pkl\", \"wb\") as f: #with문 사용하면 close안해도됨, write binary모드\n",
    "    pickle.dump(x, f) #앞에는 컨테이너, 뒤에는 파일 스트림\n",
    "    pickle.dump(y, f)\n",
    "    \n",
    "with open(\"name2.pkl\", \"rb\") as f:\n",
    "    name = pickle.load(f) #로드할 때엔 파일명만\n",
    "    temp = pickle.load(f)\n",
    "    \n",
    "print(name) #저장된 그대로 객체를 복원해줌 (객체 직렬화)\n",
    "print(temp)"
   ]
  },
  {
   "cell_type": "code",
   "execution_count": null,
   "metadata": {},
   "outputs": [],
   "source": []
  }
 ],
 "metadata": {
  "kernelspec": {
   "display_name": "Python 3",
   "language": "python",
   "name": "python3"
  },
  "language_info": {
   "codemirror_mode": {
    "name": "ipython",
    "version": 3
   },
   "file_extension": ".py",
   "mimetype": "text/x-python",
   "name": "python",
   "nbconvert_exporter": "python",
   "pygments_lexer": "ipython3",
   "version": "3.7.6"
  }
 },
 "nbformat": 4,
 "nbformat_minor": 4
}
