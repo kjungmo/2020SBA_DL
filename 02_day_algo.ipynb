{
 "cells": [
  {
   "cell_type": "markdown",
   "metadata": {},
   "source": [
    "### 문자열 전체 반전하기"
   ]
  },
  {
   "cell_type": "code",
   "execution_count": null,
   "metadata": {},
   "outputs": [],
   "source": [
    "def revert(s):\n",
    "    if s:\n",
    "        s = s[-1] + revert(s[:-1]) #가장 끝 글자를 배제한 전체 글자를 재귀호출\n",
    "    return s\n",
    "\n",
    "def revert2(string):\n",
    "    return string[::] # 스텝은 보통 1로 되어있다. 한글자 한글자 접근하도록, -1이면 뒤에서부터 앞으로 -1씩 인덱스 줄이면서 접근한다\n",
    "\n",
    "if __name__ == \"__main__\":\n",
    "    str1 = \"안녕 세상!\"\n",
    "    str2 = revert(str1)\n",
    "    str3 = revert2(str1)\n",
    "    print(str2)\n",
    "    print(str3)"
   ]
  },
  {
   "cell_type": "markdown",
   "metadata": {},
   "source": [
    "###  문자열 단어 단위로 반전하기"
   ]
  },
  {
   "cell_type": "code",
   "execution_count": 4,
   "metadata": {},
   "outputs": [
    {
     "name": "stdout",
     "output_type": "stream",
     "text": [
      "['다', '있', '미', '재', ' ', '말', '정', ' ', '즘', '리', '고', '알', ' ', '썬', '이', '파']\n"
     ]
    }
   ],
   "source": [
    "def reverser(string1, p1=0, p2=None): #p1, p2를 default parameter로 설정\n",
    "    if len(string1)<2:\n",
    "        return string1\n",
    "    p2 = p2 or len(string1)-1\n",
    "    \n",
    "    while p1<p2:\n",
    "        string1[p1], string1[p2] = string1[p2], string1[p1] #리스트에서 단어 하나를 꺼내는 것, 튜플 스왑. \n",
    "        p1 += 1\n",
    "        p2 -= 1\n",
    "\n",
    "def reversing_words_sentence_logic(string1):\n",
    "    reverser(string1) #문장 전체를 반전시키는 코드\n",
    "    print(string1)\n",
    "\n",
    "\n",
    "if __name__ == \"__main__\":\n",
    "    str1 = \"파이썬 알고리즘 정말 재미있다\"\n",
    "    str2 = reversing_words_sentence_logic( list(str1))\n",
    "    \n",
    "\n",
    "#이렇게 하니까 글자 단위로 다 반전되었다 단어 단위가 아니라"
   ]
  },
  {
   "cell_type": "code",
   "execution_count": 5,
   "metadata": {},
   "outputs": [
    {
     "name": "stdout",
     "output_type": "stream",
     "text": [
      "재미있다 정말 알고리즘 파이썬\n"
     ]
    }
   ],
   "source": [
    "def reverser(string1, p1=0, p2=None): #p1, p2를 default parameter로 설정\n",
    "    if len(string1)<2:\n",
    "        return string1\n",
    "    p2 = p2 or len(string1)-1\n",
    "    \n",
    "    while p1<p2:\n",
    "        string1[p1], string1[p2] = string1[p2], string1[p1] #리스트에서 단어 하나를 꺼내는 것, 튜플 스왑. \n",
    "        p1 += 1\n",
    "        p2 -= 1\n",
    "\n",
    "def reversing_words_sentence_logic(string1):\n",
    "    reverser(string1) #문장 전체를 반전시키는 코드\n",
    "#     print(string1)\n",
    "    p = 0\n",
    "    start = 0\n",
    "    while p < len(string1):\n",
    "        if string1[p] == u\"\\u0020\": # 유니코드로 공백을 찾게 된다면 그 속의 글자를 다시 뒤집어주는것이다.(다있미재가 재미있다로 )\n",
    "            reverser(string1, start, p-1) #결과적으로 단어단위로만 뒤집히게 된다\n",
    "            start = p+1\n",
    "        p += 1\n",
    "        \n",
    "    reverser(string1, start, p-1)\n",
    "    return \"\".join(string1) #문자열을 다시 결합해줌\n",
    "\n",
    "if __name__ == \"__main__\":\n",
    "    str1 = \"파이썬 알고리즘 정말 재미있다\"\n",
    "    str2 = reversing_words_sentence_logic( list(str1))\n",
    "    print(str2)\n"
   ]
  },
  {
   "cell_type": "code",
   "execution_count": 28,
   "metadata": {},
   "outputs": [
    {
     "name": "stdout",
     "output_type": "stream",
     "text": [
      "['파이썬', '알고리즘', '정말', '재미있다']\n",
      "None\n"
     ]
    }
   ],
   "source": [
    "def reversing_words_brute(string):\n",
    "    word, sentence = [], []  # 빈 리스트로 초기화\n",
    "    for character in string:\n",
    "        if( character !=  \" \"):\n",
    "            word.append(character)\n",
    "        else:\n",
    "            if word:\n",
    "                sentence.append(\"\".join(word)) #워드를 하나로 묶어줌. 단어별로 list로 붂임\n",
    "            word = []\n",
    "            \n",
    "    if word != \"\": #재미있다를 합쳐주는 것. 재미있다 뒤에 빈칸이 없어서 이거 잆으면 안찍힘\n",
    "            sentence.append(\"\".join(word)) \n",
    "    \n",
    "\n",
    "    print(sentence)\n",
    "    return\n",
    "\n",
    "if __name__ == \"__main__\":\n",
    "    str1 = \"파이썬 알고리즘 정말 재미있다\"\n",
    "    str2 = reversing_words_brute(str1)\n",
    "    print(str2)\n"
   ]
  },
  {
   "cell_type": "code",
   "execution_count": 30,
   "metadata": {},
   "outputs": [
    {
     "name": "stdout",
     "output_type": "stream",
     "text": [
      "재미있다 정말 알고리즘 파이썬\n"
     ]
    }
   ],
   "source": [
    "def reversing_words_brute(string):\n",
    "    word, sentence = [], []  # 빈 리스트로 초기화\n",
    "    for character in string:\n",
    "        if( character !=  \" \"):\n",
    "            word.append(character)\n",
    "        else:\n",
    "            if word:\n",
    "                sentence.append(\"\".join(word)) #워드를 하나로 묶어줌. 단어별로 list로 붂임\n",
    "            word = []\n",
    "            \n",
    "    if word != \"\": #재미있다를 합쳐주는 것. 재미있다 뒤에 빈칸이 없어서 이거 잆으면 안찍힘\n",
    "            sentence.append(\"\".join(word)) \n",
    "    \n",
    "    sentence.reverse()\n",
    "    return \" \".join(sentence)\n",
    "\n",
    "\n",
    "if __name__ == \"__main__\":\n",
    "    str1 = \"파이썬 알고리즘 정말 재미있다\"\n",
    "    str2 = reversing_words_brute(str1)\n",
    "    print(str2)\n"
   ]
  },
  {
   "cell_type": "code",
   "execution_count": 33,
   "metadata": {},
   "outputs": [
    {
     "name": "stdout",
     "output_type": "stream",
     "text": [
      "['파이썬', '알고리즘', '정말', '재미있다']\n",
      "None\n"
     ]
    }
   ],
   "source": [
    "def reversing_words_slice(word):\n",
    "    new_word = []\n",
    "    words = word.split(\" \")\n",
    "    print(words)\n",
    "    return \n",
    "\n",
    "\n",
    "if __name__ == \"__main__\":\n",
    "    str1 = \"파이썬 알고리즘 정말 재미있다\"\n",
    "    str2 = reversing_words_slice(str1)\n",
    "    print(str2)\n"
   ]
  },
  {
   "cell_type": "code",
   "execution_count": 45,
   "metadata": {},
   "outputs": [
    {
     "name": "stdout",
     "output_type": "stream",
     "text": [
      "재미있다 정말 알고리즘 파이썬\n"
     ]
    }
   ],
   "source": [
    "def reversing_words_slice(word):\n",
    "    new_word = []\n",
    "    words = word.split(\" \")\n",
    "    for word in words [::-1]: # 뒤에서부터 뽑혀서 넘어온다\n",
    "        new_word.append(word)\n",
    "        \n",
    "    return  \" \".join(new_word)\n",
    "\n",
    "\n",
    "if __name__ == \"__main__\":\n",
    "    str1 = \"파이썬 알고리즘 정말 재미있다\"\n",
    "    str2 = reversing_words_slice(str1)\n",
    "    print(str2)\n"
   ]
  },
  {
   "cell_type": "code",
   "execution_count": 49,
   "metadata": {},
   "outputs": [
    {
     "name": "stdout",
     "output_type": "stream",
     "text": [
      "재미있다 정말 알고리즘 파이썬\n",
      "재미있다 정말 알고리즘 파이썬\n"
     ]
    }
   ],
   "source": [
    "def reversing_words(str1):\n",
    "    words = str1.split(\" \")\n",
    "    rev_set = \" \".join(reversed(words))\n",
    "    return  rev_set\n",
    "\n",
    "def reversing_words2(str1):\n",
    "    words = str1.split(\" \")\n",
    "    words.reverse()\n",
    "    return  \" \".join(words)\n",
    "\n",
    "if __name__ == \"__main__\":\n",
    "    str1 = \"파이썬 알고리즘 정말 재미있다\"\n",
    "    str2 = reversing_words(str1)\n",
    "    str3 = reversing_words2(str1)\n",
    "    print(str2)\n",
    "    print(str3)\n"
   ]
  },
  {
   "cell_type": "code",
   "execution_count": null,
   "metadata": {},
   "outputs": [],
   "source": []
  }
 ],
 "metadata": {
  "kernelspec": {
   "display_name": "Python 3",
   "language": "python",
   "name": "python3"
  },
  "language_info": {
   "codemirror_mode": {
    "name": "ipython",
    "version": 3
   },
   "file_extension": ".py",
   "mimetype": "text/x-python",
   "name": "python",
   "nbconvert_exporter": "python",
   "pygments_lexer": "ipython3",
   "version": "3.7.6"
  }
 },
 "nbformat": 4,
 "nbformat_minor": 4
}
