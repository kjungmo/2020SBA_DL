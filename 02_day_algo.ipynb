{
 "cells": [
  {
   "cell_type": "markdown",
   "metadata": {},
   "source": [
    "### 문자열 전체 반전하기"
   ]
  },
  {
   "cell_type": "code",
   "execution_count": null,
   "metadata": {},
   "outputs": [],
   "source": [
    "def revert(s):\n",
    "    if s:\n",
    "        s = s[-1] + revert(s[:-1]) #맨 마지막글자 + 가장 끝 글자를 배제한 전체 글자를 재귀호출\n",
    "    return s\n",
    "\n",
    "def revert2(string):\n",
    "    return string[::] # 스텝은 보통 1로 되어있다. 한글자 한글자 접근하도록, -1이면 뒤에서부터 앞으로 -1씩 인덱스 줄이면서 접근한다\n",
    "\n",
    "if __name__ == \"__main__\":\n",
    "    str1 = \"안녕 세상!\"\n",
    "    str2 = revert(str1)\n",
    "    str3 = revert2(str1)\n",
    "    print(str2)\n",
    "    print(str3)"
   ]
  },
  {
   "cell_type": "markdown",
   "metadata": {},
   "source": [
    "###  문자열 단어 단위로 반전하기"
   ]
  },
  {
   "cell_type": "code",
   "execution_count": 4,
   "metadata": {},
   "outputs": [
    {
     "name": "stdout",
     "output_type": "stream",
     "text": [
      "['다', '있', '미', '재', ' ', '말', '정', ' ', '즘', '리', '고', '알', ' ', '썬', '이', '파']\n"
     ]
    }
   ],
   "source": [
    "def reverser(string1, p1=0, p2=None): #p1, p2를 default parameter로 설정\n",
    "    if len(string1)<2:\n",
    "        return string1\n",
    "    p2 = p2 or len(string1)-1\n",
    "    \n",
    "    while p1<p2:\n",
    "        string1[p1], string1[p2] = string1[p2], string1[p1] #리스트에서 단어 하나를 꺼내는 것, 튜플 스왑. \n",
    "        p1 += 1\n",
    "        p2 -= 1\n",
    "\n",
    "def reversing_words_sentence_logic(string1):\n",
    "    reverser(string1) #문장 전체를 반전시키는 코드\n",
    "    print(string1)\n",
    "\n",
    "\n",
    "if __name__ == \"__main__\":\n",
    "    str1 = \"파이썬 알고리즘 정말 재미있다\"\n",
    "    str2 = reversing_words_sentence_logic( list(str1))\n",
    "    \n",
    "\n",
    "#이렇게 하니까 글자 단위로 다 반전되었다 단어 단위가 아니라"
   ]
  },
  {
   "cell_type": "code",
   "execution_count": 5,
   "metadata": {},
   "outputs": [
    {
     "name": "stdout",
     "output_type": "stream",
     "text": [
      "재미있다 정말 알고리즘 파이썬\n"
     ]
    }
   ],
   "source": [
    "def reverser(string1, p1=0, p2=None): #p1, p2를 default parameter로 설정\n",
    "    if len(string1)<2:\n",
    "        return string1\n",
    "    p2 = p2 or len(string1)-1\n",
    "    \n",
    "    while p1<p2:\n",
    "        string1[p1], string1[p2] = string1[p2], string1[p1] #리스트에서 단어 하나를 꺼내는 것, 튜플 스왑. \n",
    "        p1 += 1\n",
    "        p2 -= 1\n",
    "\n",
    "def reversing_words_sentence_logic(string1):\n",
    "    reverser(string1) #문장 전체를 반전시키는 코드\n",
    "#     print(string1)\n",
    "    p = 0\n",
    "    start = 0\n",
    "    while p < len(string1):\n",
    "        if string1[p] == u\"\\u0020\": # 유니코드로 공백을 찾게 된다면 그 속의 글자를 다시 뒤집어주는것이다.(다있미재가 재미있다로 )\n",
    "            reverser(string1, start, p-1) #결과적으로 단어단위로만 뒤집히게 된다\n",
    "            start = p+1\n",
    "        p += 1\n",
    "        \n",
    "    reverser(string1, start, p-1)\n",
    "    return \"\".join(string1) #문자열을 다시 결합해줌\n",
    "\n",
    "if __name__ == \"__main__\":\n",
    "    str1 = \"파이썬 알고리즘 정말 재미있다\"\n",
    "    str2 = reversing_words_sentence_logic( list(str1))\n",
    "    print(str2)\n"
   ]
  },
  {
   "cell_type": "code",
   "execution_count": 28,
   "metadata": {},
   "outputs": [
    {
     "name": "stdout",
     "output_type": "stream",
     "text": [
      "['파이썬', '알고리즘', '정말', '재미있다']\n",
      "None\n"
     ]
    }
   ],
   "source": [
    "def reversing_words_brute(string):\n",
    "    word, sentence = [], []  # 빈 리스트로 초기화\n",
    "    for character in string:\n",
    "        if( character !=  \" \"):\n",
    "            word.append(character)\n",
    "        else:\n",
    "            if word:\n",
    "                sentence.append(\"\".join(word)) #워드를 하나로 묶어줌. 단어별로 list로 붂임\n",
    "            word = []\n",
    "            \n",
    "    if word != \"\": #재미있다를 합쳐주는 것. 재미있다 뒤에 빈칸이 없어서 이거 잆으면 안찍힘\n",
    "            sentence.append(\"\".join(word)) \n",
    "    \n",
    "\n",
    "    print(sentence)\n",
    "    return\n",
    "\n",
    "if __name__ == \"__main__\":\n",
    "    str1 = \"파이썬 알고리즘 정말 재미있다\"\n",
    "    str2 = reversing_words_brute(str1)\n",
    "    print(str2)\n"
   ]
  },
  {
   "cell_type": "code",
   "execution_count": 30,
   "metadata": {},
   "outputs": [
    {
     "name": "stdout",
     "output_type": "stream",
     "text": [
      "재미있다 정말 알고리즘 파이썬\n"
     ]
    }
   ],
   "source": [
    "def reversing_words_brute(string):\n",
    "    word, sentence = [], []  # 빈 리스트로 초기화\n",
    "    for character in string:\n",
    "        if( character !=  \" \"):\n",
    "            word.append(character)\n",
    "        else:\n",
    "            if word:\n",
    "                sentence.append(\"\".join(word)) #워드를 하나로 묶어줌. 단어별로 list로 붂임\n",
    "            word = []\n",
    "            \n",
    "    if word != \"\": #재미있다를 합쳐주는 것. 재미있다 뒤에 빈칸이 없어서 이거 잆으면 안찍힘\n",
    "            sentence.append(\"\".join(word)) # word가 \"\" 이냐, 비어있냐는걸 물어본 것. 명시적으로 보이면 좋다.\n",
    "    \n",
    "    sentence.reverse()\n",
    "    return \" \".join(sentence)\n",
    "\n",
    "\n",
    "if __name__ == \"__main__\":\n",
    "    str1 = \"파이썬 알고리즘 정말 재미있다\"\n",
    "    str2 = reversing_words_brute(str1)\n",
    "    print(str2)\n"
   ]
  },
  {
   "cell_type": "code",
   "execution_count": 33,
   "metadata": {},
   "outputs": [
    {
     "name": "stdout",
     "output_type": "stream",
     "text": [
      "['파이썬', '알고리즘', '정말', '재미있다']\n",
      "None\n"
     ]
    }
   ],
   "source": [
    "def reversing_words_slice(word):\n",
    "    new_word = []\n",
    "    words = word.split(\" \")\n",
    "    print(words)\n",
    "    return \n",
    "\n",
    "\n",
    "if __name__ == \"__main__\":\n",
    "    str1 = \"파이썬 알고리즘 정말 재미있다\"\n",
    "    str2 = reversing_words_slice(str1)\n",
    "    print(str2)\n"
   ]
  },
  {
   "cell_type": "code",
   "execution_count": 45,
   "metadata": {},
   "outputs": [
    {
     "name": "stdout",
     "output_type": "stream",
     "text": [
      "재미있다 정말 알고리즘 파이썬\n"
     ]
    }
   ],
   "source": [
    "def reversing_words_slice(word):\n",
    "    new_word = []\n",
    "    words = word.split(\" \")\n",
    "    for word in words [::-1]: # 뒤에서부터 뽑혀서 넘어온다\n",
    "        new_word.append(word)\n",
    "        \n",
    "    return  \" \".join(new_word)\n",
    "\n",
    "\n",
    "if __name__ == \"__main__\":\n",
    "    str1 = \"파이썬 알고리즘 정말 재미있다\"\n",
    "    str2 = reversing_words_slice(str1)\n",
    "    print(str2)\n"
   ]
  },
  {
   "cell_type": "code",
   "execution_count": 49,
   "metadata": {},
   "outputs": [
    {
     "name": "stdout",
     "output_type": "stream",
     "text": [
      "재미있다 정말 알고리즘 파이썬\n",
      "재미있다 정말 알고리즘 파이썬\n"
     ]
    }
   ],
   "source": [
    "def reversing_words(str1):\n",
    "    words = str1.split(\" \")\n",
    "    rev_set = \" \".join(reversed(words))\n",
    "    return  rev_set\n",
    "\n",
    "def reversing_words2(str1):\n",
    "    words = str1.split(\" \")\n",
    "    words.reverse()\n",
    "    return  \" \".join(words)\n",
    "\n",
    "if __name__ == \"__main__\":\n",
    "    str1 = \"파이썬 알고리즘 정말 재미있다\"\n",
    "    str2 = reversing_words(str1)\n",
    "    str3 = reversing_words2(str1)\n",
    "    print(str2)\n",
    "    print(str3)\n"
   ]
  },
  {
   "cell_type": "markdown",
   "metadata": {},
   "source": [
    "### 단순 문자열 압출"
   ]
  },
  {
   "cell_type": "code",
   "execution_count": 53,
   "metadata": {},
   "outputs": [
    {
     "name": "stdout",
     "output_type": "stream",
     "text": [
      "a2b1c5a3\n"
     ]
    }
   ],
   "source": [
    "def str_compression(s):\n",
    "    count, last = 1, \"\"\n",
    "    list_aux = []\n",
    "    \n",
    "    for i, c in enumerate(s):\n",
    "        if last == c:\n",
    "            count += 1 # 한번 문자가 들어왔는데 또 들어오면 counting 한다는 것\n",
    "        else:\n",
    "            if i != 0: # 첫글자가 아니라면\n",
    "                list_aux.append(str(count)) # 1을 string으로 바꿔서 append 한다는 것\n",
    "            list_aux.append(c)\n",
    "            count = 1\n",
    "            last = c\n",
    "    list_aux.append(str(count))\n",
    "    return \"\".join(list_aux) # join을 통해 문자열을 만드는 것\n",
    "\n",
    "if __name__ == \"__main__\":\n",
    "    result = str_compression(\"aabcccccaaa\")\n",
    "    print(result)"
   ]
  },
  {
   "cell_type": "markdown",
   "metadata": {},
   "source": [
    "### 문자열 순열 "
   ]
  },
  {
   "cell_type": "code",
   "execution_count": 54,
   "metadata": {},
   "outputs": [
    {
     "name": "stdout",
     "output_type": "stream",
     "text": [
      "['012', '021', '102', '120', '201', '210']\n"
     ]
    }
   ],
   "source": [
    "def perm(s):\n",
    "    if len(s) < 2:  # 종료조건\n",
    "        return s\n",
    "    res = []\n",
    "    for i, c in enumerate(s): # enumerate : 대상체와 값을 같이 뽑는 방법  i는 int c 는 str\n",
    "        for cc in perm(s[:i] + s[i+1:]): #i 만큼의 문자열을 호출, i+1부터 문자열을 추출, 재귀적으로 또 호출함.\n",
    "            res.append(c+cc)\n",
    "    return res  #모든 조합을 출력한다\n",
    "# i 가 0일때 s[:1]는 0미만이라 empty list가 된다.그래서 첫번째 rounding에서는 012가 들어온다\n",
    "if __name__ == \"__main__\":\n",
    "    val = \"012\"\n",
    "    \n",
    "    print(perm(val))"
   ]
  },
  {
   "cell_type": "code",
   "execution_count": 55,
   "metadata": {},
   "outputs": [
    {
     "name": "stdout",
     "output_type": "stream",
     "text": [
      "['12']\n",
      "['12', '21']\n",
      "['012']\n",
      "['012', '021']\n",
      "['02']\n",
      "['02', '20']\n",
      "['012', '021', '102']\n",
      "['012', '021', '102', '120']\n",
      "['01']\n",
      "['01', '10']\n",
      "['012', '021', '102', '120', '201']\n",
      "['012', '021', '102', '120', '201', '210']\n",
      "['012', '021', '102', '120', '201', '210']\n"
     ]
    }
   ],
   "source": [
    "def perm(s):\n",
    "    if len(s) < 2:  # 종료조건\n",
    "        return s\n",
    "    res = []\n",
    "    for i, c in enumerate(s): # enumerate : 대상체와 값을 같이 뽑는 방법  i는 int c 는 str\n",
    "        for cc in perm(s[:i] + s[i+1:]): #i 만큼의 문자열을 호출, i+1부터 문자열을 추출, 재귀적으로 또 호출함.\n",
    "            res.append(c+cc)\n",
    "            print(res)\n",
    "    return res  #모든 조합을 출력한다\n",
    "# i 가 0일때 s[:1]는 0미만이라 empty list가 된다.그래서 첫번째 rounding에서는 012가 들어온다\n",
    "if __name__ == \"__main__\":\n",
    "    val = \"012\"\n",
    "    \n",
    "    print(perm(val))"
   ]
  },
  {
   "cell_type": "code",
   "execution_count": 58,
   "metadata": {},
   "outputs": [
    {
     "name": "stdout",
     "output_type": "stream",
     "text": [
      "['012', '021', '102', '120', '201', '210']\n",
      "['012', '021', '102', '120', '201', '210']\n"
     ]
    }
   ],
   "source": [
    "import itertools\n",
    "\n",
    "def perm(s):\n",
    "    if len(s) < 2:  # 종료조건\n",
    "        return s\n",
    "    res = []\n",
    "    for i, c in enumerate(s): # enumerate : 대상체와 값을 같이 뽑는 방법  i는 int c 는 str\n",
    "        for cc in perm(s[:i] + s[i+1:]): #i 만큼의 문자열을 호출, i+1부터 문자열을 추출, 재귀적으로 또 호출함.\n",
    "            res.append(c+cc)\n",
    "    return res  #모든 조합을 출력한다\n",
    "# i 가 0일때 s[:1]는 0미만이라 empty list가 된다.그래서 첫번째 rounding에서는 012가 들어온다\n",
    "\n",
    "def perm2(s):\n",
    "    res = itertools.permutations(s) #임포트필수다.\n",
    "    return [\"\".join(i) for i in res]\n",
    "\n",
    "if __name__ == \"__main__\":\n",
    "    val = \"012\"\n",
    "    \n",
    "    print(perm(val))\n",
    "    print(perm2(val))"
   ]
  },
  {
   "cell_type": "markdown",
   "metadata": {},
   "source": [
    "### combination 구현 "
   ]
  },
  {
   "cell_type": "code",
   "execution_count": 61,
   "metadata": {},
   "outputs": [
    {
     "name": "stdout",
     "output_type": "stream",
     "text": [
      "['a', 'ab', 'abc', 'ac', 'acb', 'b', 'ba', 'bac', 'bc', 'bca', 'c', 'ca', 'cab', 'cb', 'cba']\n"
     ]
    }
   ],
   "source": [
    "import itertools\n",
    "\n",
    "def combinations(s): #모든 조합 찍어냄\n",
    "    if len(s) < 2:  \n",
    "        return s\n",
    "    res = []\n",
    "    for i, c in enumerate(s): \n",
    "        res.append(c)\n",
    "        for j in combinations(s[:i] + s[i+1:]): \n",
    "            res.append(c+j)\n",
    "    return res  \n",
    "\n",
    "\n",
    "if __name__ == \"__main__\":\n",
    "    result = combinations(\"abc\")\n",
    "    print(result)"
   ]
  },
  {
   "cell_type": "markdown",
   "metadata": {},
   "source": [
    "### 회문"
   ]
  },
  {
   "cell_type": "code",
   "execution_count": 67,
   "metadata": {},
   "outputs": [
    {
     "name": "stdout",
     "output_type": "stream",
     "text": [
      "True\n",
      "True\n"
     ]
    }
   ],
   "source": [
    "def is_palindrome(s):\n",
    "    l = s.split(\" \") #공백으로 나뉜다\n",
    "    s2 = \"\".join(l) #공백을 제거하는 코드\n",
    "    return s2 == s2[::-1]\n",
    "    \n",
    "def is_palindrome2(s):\n",
    "    l = len(s)\n",
    "    f, b = 0, l-1\n",
    "    while (f < l // 2):  # f 반에서 만나면 종료\n",
    "        while s[f] == \" \": #f는 공백을 찾을 때 까지 왼쪽으로 이동\n",
    "            f += 1\n",
    "        while s[f] == \" \":\n",
    "            b -= 1\n",
    "            \n",
    "        if(s[f] != s[b]): #양쪽이 같아야 한다\n",
    "            return False\n",
    "        \n",
    "        f+=1\n",
    "        b-=1\n",
    "    return True #살아남았다면 회문이다\n",
    "    \n",
    "\n",
    "if __name__ == \"__main__\":\n",
    "    str1 = \"다시 합창합시다\"\n",
    "    print(is_palindrome(str1))\n",
    "    print(is_palindrome2(str1))"
   ]
  },
  {
   "cell_type": "code",
   "execution_count": 70,
   "metadata": {},
   "outputs": [
    {
     "name": "stdout",
     "output_type": "stream",
     "text": [
      "True\n",
      "True\n"
     ]
    }
   ],
   "source": [
    "def is_palindrome(s):\n",
    "    l = s.split(\" \") #공백으로 나뉜다\n",
    "    s2 = \"\".join(l) #공백을 제거하는 코드\n",
    "    return s2 == s2[::-1]\n",
    "    \n",
    "def is_palindrome2(s):\n",
    "    l = len(s)\n",
    "    f, b = 0, l-1\n",
    "    while (f < l // 2):  # f값의 반에서 만나면 종료\n",
    "        while s[f] == \" \": #f는 공백을 만나면 한칸 더 간다.\n",
    "            f += 1\n",
    "        while s[f] == \" \": #b는 공백을 만나면 한칸 더 간다\n",
    "            b -= 1\n",
    "            \n",
    "        if(s[f] != s[b]): #양쪽이 같아야 한다\n",
    "            return False\n",
    "        \n",
    "        f+=1\n",
    "        b-=1\n",
    "    return True #살아남았다면 회문이다\n",
    "    \n",
    "\n",
    "if __name__ == \"__main__\":\n",
    "    str1 = \"소주 잔한잔주소\"\n",
    "    print(is_palindrome(str1))\n",
    "    print(is_palindrome2(str1))"
   ]
  },
  {
   "cell_type": "code",
   "execution_count": null,
   "metadata": {},
   "outputs": [],
   "source": []
  }
 ],
 "metadata": {
  "kernelspec": {
   "display_name": "Python 3",
   "language": "python",
   "name": "python3"
  },
  "language_info": {
   "codemirror_mode": {
    "name": "ipython",
    "version": 3
   },
   "file_extension": ".py",
   "mimetype": "text/x-python",
   "name": "python",
   "nbconvert_exporter": "python",
   "pygments_lexer": "ipython3",
   "version": "3.7.6"
  }
 },
 "nbformat": 4,
 "nbformat_minor": 4
}
