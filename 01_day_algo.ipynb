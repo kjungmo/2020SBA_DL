{
 "cells": [
  {
   "cell_type": "code",
   "execution_count": 1,
   "metadata": {},
   "outputs": [
    {
     "name": "stdout",
     "output_type": "stream",
     "text": [
      "11\n"
     ]
    }
   ],
   "source": [
    "s = '11'\n",
    "d = int(s)\n",
    "print(d)"
   ]
  },
  {
   "cell_type": "code",
   "execution_count": 5,
   "metadata": {},
   "outputs": [
    {
     "name": "stdout",
     "output_type": "stream",
     "text": [
      "3\n"
     ]
    }
   ],
   "source": [
    "b = (int(s,2))\n",
    "print(b)"
   ]
  },
  {
   "cell_type": "markdown",
   "metadata": {},
   "source": [
    "### 부동소수점 끼리 연산하기"
   ]
  },
  {
   "cell_type": "code",
   "execution_count": 6,
   "metadata": {},
   "outputs": [
    {
     "data": {
      "text/plain": [
       "False"
      ]
     },
     "execution_count": 6,
     "metadata": {},
     "output_type": "execute_result"
    }
   ],
   "source": [
    "0.2*3 == 0.6  #부동소수점은 같냐 다르냐 비교하면 안된다\n",
    "\n",
    "#진수를 변환하면 무한 소수가 될 확률이 크다. \n",
    "#대소비교는 가능해도 == !=는 안된다"
   ]
  },
  {
   "cell_type": "code",
   "execution_count": 7,
   "metadata": {},
   "outputs": [
    {
     "data": {
      "text/plain": [
       "True"
      ]
     },
     "execution_count": 7,
     "metadata": {},
     "output_type": "execute_result"
    }
   ],
   "source": [
    "1.2  - 0.2 == 1.0"
   ]
  },
  {
   "cell_type": "code",
   "execution_count": 10,
   "metadata": {},
   "outputs": [
    {
     "data": {
      "text/plain": [
       "False"
      ]
     },
     "execution_count": 10,
     "metadata": {},
     "output_type": "execute_result"
    }
   ],
   "source": [
    "1.2  - 0.1 == 1.1"
   ]
  },
  {
   "cell_type": "code",
   "execution_count": 11,
   "metadata": {},
   "outputs": [
    {
     "data": {
      "text/plain": [
       "False"
      ]
     },
     "execution_count": 11,
     "metadata": {},
     "output_type": "execute_result"
    }
   ],
   "source": [
    "0.1*0.1 == 0.01"
   ]
  },
  {
   "cell_type": "code",
   "execution_count": 13,
   "metadata": {},
   "outputs": [
    {
     "data": {
      "text/plain": [
       "True"
      ]
     },
     "execution_count": 13,
     "metadata": {},
     "output_type": "execute_result"
    }
   ],
   "source": [
    "def a(x, y, places=7):\n",
    "    return round(abs(x-y), places)==0\n",
    "a(3.14, 3.14)"
   ]
  },
  {
   "cell_type": "markdown",
   "metadata": {},
   "source": [
    "### 정수와 부동 소수점 메서드"
   ]
  },
  {
   "cell_type": "code",
   "execution_count": 14,
   "metadata": {},
   "outputs": [
    {
     "data": {
      "text/plain": [
       "(7, 3)"
      ]
     },
     "execution_count": 14,
     "metadata": {},
     "output_type": "execute_result"
    }
   ],
   "source": [
    "divmod(45, 6)"
   ]
  },
  {
   "cell_type": "code",
   "execution_count": 15,
   "metadata": {},
   "outputs": [
    {
     "data": {
      "text/plain": [
       "110.0"
      ]
     },
     "execution_count": 15,
     "metadata": {},
     "output_type": "execute_result"
    }
   ],
   "source": [
    "round(113.866, -1)\n",
    "#정수 첫번째 자리에서 반올림 하라는 뜻. 이렇게 거의 사용 안함"
   ]
  },
  {
   "cell_type": "code",
   "execution_count": 17,
   "metadata": {},
   "outputs": [
    {
     "data": {
      "text/plain": [
       "113.87"
      ]
     },
     "execution_count": 17,
     "metadata": {},
     "output_type": "execute_result"
    }
   ],
   "source": [
    "round(113.866, 2)\n",
    "#소숫점 2번째 자리에서 반올림"
   ]
  },
  {
   "cell_type": "markdown",
   "metadata": {},
   "source": [
    "### fraction 모듈 "
   ]
  },
  {
   "cell_type": "code",
   "execution_count": 32,
   "metadata": {},
   "outputs": [],
   "source": [
    "from fractions import Fraction\n"
   ]
  },
  {
   "cell_type": "code",
   "execution_count": 33,
   "metadata": {},
   "outputs": [],
   "source": [
    "def rounding_floats(number1, places):\n",
    "    return round(number1, places)"
   ]
  },
  {
   "cell_type": "code",
   "execution_count": 61,
   "metadata": {},
   "outputs": [],
   "source": [
    "def float_to_fractions(number):\n",
    "    return Fraction(*number.as_integer_ratio())\n",
    "#이렇게 임포트한 Fraction 사용할 때는 number를 저렇게 바꿔서 넣어줘라 (형태 암기)\n"
   ]
  },
  {
   "cell_type": "code",
   "execution_count": 62,
   "metadata": {},
   "outputs": [],
   "source": [
    "def get_denominator(number1, number2):\n",
    "    a = Fraction(number1, number2)\n",
    "    return a.denominator  #분모 추출"
   ]
  },
  {
   "cell_type": "code",
   "execution_count": 63,
   "metadata": {},
   "outputs": [],
   "source": [
    "def get_numerator(number1, number2):\n",
    "    a = Fraction(number1, number2)\n",
    "    return a.numerator  #분자 추출"
   ]
  },
  {
   "cell_type": "code",
   "execution_count": 38,
   "metadata": {},
   "outputs": [],
   "source": [
    "def test_testing_floats():\n",
    "    number1 = 1.25\n",
    "    number2 = 1\n",
    "    number3 = -1\n",
    "    number4 = 5/4\n",
    "    number6 = 6\n",
    "    print(rounding_floats(number1, number2) == 1.2)\n"
   ]
  },
  {
   "cell_type": "code",
   "execution_count": 39,
   "metadata": {},
   "outputs": [
    {
     "name": "stdout",
     "output_type": "stream",
     "text": [
      "True\n"
     ]
    }
   ],
   "source": [
    "test_testing_floats()"
   ]
  },
  {
   "cell_type": "code",
   "execution_count": 48,
   "metadata": {},
   "outputs": [],
   "source": [
    "def test_testing_floats():\n",
    "    number1 = 1.25\n",
    "    number2 = 1\n",
    "    number3 = -1\n",
    "    number4 = 5/4\n",
    "    number6 = 6\n",
    "    assert(rounding_floats(number1, number2) == 1.2)\n",
    "# assert로 ()하면 true라면 아무일 없이 통과된다. false라면 에러뜬다"
   ]
  },
  {
   "cell_type": "code",
   "execution_count": 49,
   "metadata": {},
   "outputs": [],
   "source": [
    "test_testing_floats()"
   ]
  },
  {
   "cell_type": "code",
   "execution_count": 57,
   "metadata": {},
   "outputs": [],
   "source": [
    "def test_testing_floats():\n",
    "    number1 = 1.25\n",
    "    number2 = 1\n",
    "    number3 = -1\n",
    "    number4 = 5/4\n",
    "    number6 = 6\n",
    "    assert(rounding_floats(number1, number2) == 1.5)\n",
    "# assert로 ()하면 true라면 아무일 없이 통과된다. false라면 에러뜬다"
   ]
  },
  {
   "cell_type": "code",
   "execution_count": 58,
   "metadata": {},
   "outputs": [
    {
     "ename": "AssertionError",
     "evalue": "",
     "output_type": "error",
     "traceback": [
      "\u001b[1;31m---------------------------------------------------------------------------\u001b[0m",
      "\u001b[1;31mAssertionError\u001b[0m                            Traceback (most recent call last)",
      "\u001b[1;32m<ipython-input-58-acc76bff8a1a>\u001b[0m in \u001b[0;36m<module>\u001b[1;34m\u001b[0m\n\u001b[1;32m----> 1\u001b[1;33m \u001b[0mtest_testing_floats\u001b[0m\u001b[1;33m(\u001b[0m\u001b[1;33m)\u001b[0m\u001b[1;33m\u001b[0m\u001b[1;33m\u001b[0m\u001b[0m\n\u001b[0m",
      "\u001b[1;32m<ipython-input-57-c8cf2b7fcb1b>\u001b[0m in \u001b[0;36mtest_testing_floats\u001b[1;34m()\u001b[0m\n\u001b[0;32m      5\u001b[0m     \u001b[0mnumber4\u001b[0m \u001b[1;33m=\u001b[0m \u001b[1;36m5\u001b[0m\u001b[1;33m/\u001b[0m\u001b[1;36m4\u001b[0m\u001b[1;33m\u001b[0m\u001b[1;33m\u001b[0m\u001b[0m\n\u001b[0;32m      6\u001b[0m     \u001b[0mnumber6\u001b[0m \u001b[1;33m=\u001b[0m \u001b[1;36m6\u001b[0m\u001b[1;33m\u001b[0m\u001b[1;33m\u001b[0m\u001b[0m\n\u001b[1;32m----> 7\u001b[1;33m     \u001b[1;32massert\u001b[0m\u001b[1;33m(\u001b[0m\u001b[0mrounding_floats\u001b[0m\u001b[1;33m(\u001b[0m\u001b[0mnumber1\u001b[0m\u001b[1;33m,\u001b[0m \u001b[0mnumber2\u001b[0m\u001b[1;33m)\u001b[0m \u001b[1;33m==\u001b[0m \u001b[1;36m1.5\u001b[0m\u001b[1;33m)\u001b[0m\u001b[1;33m\u001b[0m\u001b[1;33m\u001b[0m\u001b[0m\n\u001b[0m\u001b[0;32m      8\u001b[0m \u001b[1;31m# assert로 ()하면 true라면 아무일 없이 통과된다. false라면 에러뜬다\u001b[0m\u001b[1;33m\u001b[0m\u001b[1;33m\u001b[0m\u001b[1;33m\u001b[0m\u001b[0m\n",
      "\u001b[1;31mAssertionError\u001b[0m: "
     ]
    }
   ],
   "source": [
    "test_testing_floats()"
   ]
  },
  {
   "cell_type": "code",
   "execution_count": 64,
   "metadata": {},
   "outputs": [],
   "source": [
    "def test_testing_floats():\n",
    "    number1 = 1.25\n",
    "    number2 = 1\n",
    "    number3 = -1\n",
    "    number4 = 5/4\n",
    "    number6 = 6\n",
    "    assert(rounding_floats(number1, number2) == 1.2)\n",
    "    assert(rounding_floats(number1*10, number3) == 10)\n",
    "    assert(float_to_fractions(number1) == 5/4)\n",
    "    assert(get_denominator(number2, number6)==number6) \n",
    "    assert(get_numerator(number2, number6)==number2) "
   ]
  },
  {
   "cell_type": "code",
   "execution_count": 65,
   "metadata": {},
   "outputs": [],
   "source": [
    "test_testing_floats()"
   ]
  },
  {
   "cell_type": "markdown",
   "metadata": {},
   "source": [
    "### decimal 모듈"
   ]
  },
  {
   "cell_type": "code",
   "execution_count": 67,
   "metadata": {},
   "outputs": [
    {
     "data": {
      "text/plain": [
       "0.9999999999999999"
      ]
     },
     "execution_count": 67,
     "metadata": {},
     "output_type": "execute_result"
    }
   ],
   "source": [
    "sum (0.1 for i in range(10)) # 1이 안나온다! 0.1이 우리가 아는 0.1이 아니다"
   ]
  },
  {
   "cell_type": "code",
   "execution_count": 68,
   "metadata": {},
   "outputs": [
    {
     "data": {
      "text/plain": [
       "False"
      ]
     },
     "execution_count": 68,
     "metadata": {},
     "output_type": "execute_result"
    }
   ],
   "source": [
    "sum (0.1 for i in range(10)) == 1.0"
   ]
  },
  {
   "cell_type": "code",
   "execution_count": 70,
   "metadata": {},
   "outputs": [
    {
     "data": {
      "text/plain": [
       "True"
      ]
     },
     "execution_count": 70,
     "metadata": {},
     "output_type": "execute_result"
    }
   ],
   "source": [
    "from decimal import Decimal \n",
    "sum (Decimal(\"0.1\") for i in range(10)) == Decimal(\"1.0\")\n",
    "#Decimal 모듈 사용해서 값을 비교하게 만들 수 있다.\n",
    "#하지만 위험성이 있으므로 지양해야함."
   ]
  },
  {
   "cell_type": "markdown",
   "metadata": {},
   "source": [
    "### 2진수, 8진수, 16진수 "
   ]
  },
  {
   "cell_type": "code",
   "execution_count": 72,
   "metadata": {},
   "outputs": [
    {
     "data": {
      "text/plain": [
       "'0b1111100111'"
      ]
     },
     "execution_count": 72,
     "metadata": {},
     "output_type": "execute_result"
    }
   ],
   "source": [
    "bin(999) #0b로 출발하는게 2진수이다"
   ]
  },
  {
   "cell_type": "code",
   "execution_count": 73,
   "metadata": {},
   "outputs": [
    {
     "data": {
      "text/plain": [
       "'0o1747'"
      ]
     },
     "execution_count": 73,
     "metadata": {},
     "output_type": "execute_result"
    }
   ],
   "source": [
    "oct(999) #0o로 출발하는건 8진수"
   ]
  },
  {
   "cell_type": "code",
   "execution_count": 74,
   "metadata": {},
   "outputs": [
    {
     "data": {
      "text/plain": [
       "'0x3e7'"
      ]
     },
     "execution_count": 74,
     "metadata": {},
     "output_type": "execute_result"
    }
   ],
   "source": [
    "hex(999) #0x는 16진수"
   ]
  },
  {
   "cell_type": "markdown",
   "metadata": {},
   "source": [
    "### 진법 변환 "
   ]
  },
  {
   "cell_type": "code",
   "execution_count": 75,
   "metadata": {},
   "outputs": [],
   "source": [
    "def convert_to_decimal(number, base):\n",
    "    multiplier, result = 1,0\n",
    "    while number > 0:\n",
    "        result += number % 10 * multiplier\n",
    "        multiplier *= base\n",
    "        number = number // 10\n",
    "    return result\n"
   ]
  },
  {
   "cell_type": "code",
   "execution_count": 76,
   "metadata": {},
   "outputs": [
    {
     "data": {
      "text/plain": [
       "3"
      ]
     },
     "execution_count": 76,
     "metadata": {},
     "output_type": "execute_result"
    }
   ],
   "source": [
    "convert_to_decimal(11,2)"
   ]
  },
  {
   "cell_type": "code",
   "execution_count": 86,
   "metadata": {},
   "outputs": [],
   "source": [
    "def test_convert_to_decimal():\n",
    "    number, base = 1001, 2\n",
    "    assert( convert_to_decimal(number, base) == 9 )\n",
    "    print('테스트 통과')"
   ]
  },
  {
   "cell_type": "code",
   "execution_count": 87,
   "metadata": {},
   "outputs": [
    {
     "name": "stdout",
     "output_type": "stream",
     "text": [
      "테스트 통과\n"
     ]
    }
   ],
   "source": [
    "test_convert_to_decimal()"
   ]
  },
  {
   "cell_type": "code",
   "execution_count": 88,
   "metadata": {},
   "outputs": [],
   "source": [
    "def test_convert_to_decimal():\n",
    "    number, base = 1001, 3\n",
    "    assert( convert_to_decimal(number, base) == 9 )\n",
    "    print('테스트 통과')"
   ]
  },
  {
   "cell_type": "code",
   "execution_count": 89,
   "metadata": {},
   "outputs": [
    {
     "ename": "AssertionError",
     "evalue": "",
     "output_type": "error",
     "traceback": [
      "\u001b[1;31m---------------------------------------------------------------------------\u001b[0m",
      "\u001b[1;31mAssertionError\u001b[0m                            Traceback (most recent call last)",
      "\u001b[1;32m<ipython-input-89-753cda64aefd>\u001b[0m in \u001b[0;36m<module>\u001b[1;34m\u001b[0m\n\u001b[1;32m----> 1\u001b[1;33m \u001b[0mtest_convert_to_decimal\u001b[0m\u001b[1;33m(\u001b[0m\u001b[1;33m)\u001b[0m\u001b[1;33m\u001b[0m\u001b[1;33m\u001b[0m\u001b[0m\n\u001b[0m",
      "\u001b[1;32m<ipython-input-88-50b1a1486d63>\u001b[0m in \u001b[0;36mtest_convert_to_decimal\u001b[1;34m()\u001b[0m\n\u001b[0;32m      1\u001b[0m \u001b[1;32mdef\u001b[0m \u001b[0mtest_convert_to_decimal\u001b[0m\u001b[1;33m(\u001b[0m\u001b[1;33m)\u001b[0m\u001b[1;33m:\u001b[0m\u001b[1;33m\u001b[0m\u001b[1;33m\u001b[0m\u001b[0m\n\u001b[0;32m      2\u001b[0m     \u001b[0mnumber\u001b[0m\u001b[1;33m,\u001b[0m \u001b[0mbase\u001b[0m \u001b[1;33m=\u001b[0m \u001b[1;36m1001\u001b[0m\u001b[1;33m,\u001b[0m \u001b[1;36m3\u001b[0m\u001b[1;33m\u001b[0m\u001b[1;33m\u001b[0m\u001b[0m\n\u001b[1;32m----> 3\u001b[1;33m     \u001b[1;32massert\u001b[0m\u001b[1;33m(\u001b[0m \u001b[0mconvert_to_decimal\u001b[0m\u001b[1;33m(\u001b[0m\u001b[0mnumber\u001b[0m\u001b[1;33m,\u001b[0m \u001b[0mbase\u001b[0m\u001b[1;33m)\u001b[0m \u001b[1;33m==\u001b[0m \u001b[1;36m9\u001b[0m \u001b[1;33m)\u001b[0m\u001b[1;33m\u001b[0m\u001b[1;33m\u001b[0m\u001b[0m\n\u001b[0m\u001b[0;32m      4\u001b[0m     \u001b[0mprint\u001b[0m\u001b[1;33m(\u001b[0m\u001b[1;34m'테스트 통과'\u001b[0m\u001b[1;33m)\u001b[0m\u001b[1;33m\u001b[0m\u001b[1;33m\u001b[0m\u001b[0m\n",
      "\u001b[1;31mAssertionError\u001b[0m: "
     ]
    }
   ],
   "source": [
    "test_convert_to_decimal()"
   ]
  },
  {
   "cell_type": "code",
   "execution_count": 96,
   "metadata": {},
   "outputs": [
    {
     "name": "stdout",
     "output_type": "stream",
     "text": [
      "테스트 통과\n"
     ]
    }
   ],
   "source": [
    "def convert_from_decimal_larger_bases(number, base):\n",
    "    strings = \"0123456789ABCDEFGHIJ\"\n",
    "    result = \"\"\n",
    "    \n",
    "    while number > 0:\n",
    "        digit = number% base\n",
    "        result = strings[digit] + result \n",
    "        number = number // base\n",
    "    return result\n",
    "\n",
    "def test_convert_from_decimal_larger_bases():\n",
    "    number, base = 31, 16\n",
    "    assert( convert_from_decimal_larger_bases(number, base) == \"1F\" )\n",
    "    print('테스트 통과')\n",
    "    \n",
    "if __name__ == \"__main__\":\n",
    "    test_convert_from_decimal_larger_bases()"
   ]
  },
  {
   "cell_type": "code",
   "execution_count": 97,
   "metadata": {},
   "outputs": [
    {
     "name": "stdout",
     "output_type": "stream",
     "text": [
      "테스트 통과\n"
     ]
    }
   ],
   "source": [
    "test_convert_from_decimal_larger_bases()"
   ]
  },
  {
   "cell_type": "code",
   "execution_count": 107,
   "metadata": {},
   "outputs": [
    {
     "name": "stdout",
     "output_type": "stream",
     "text": [
      "테스트 통과\n"
     ]
    }
   ],
   "source": [
    "def convert_dec_to_any_base_rec(number, base):\n",
    "    convertString = \"0123456789ABCDEF\"\n",
    "    result = \"\"\n",
    "    if number < base:\n",
    "        return convertString[number]\n",
    "    else:\n",
    "        return convert_dec_to_any_base_rec(number // base, base) \\\n",
    "            + convertString[number%base]\n",
    "\n",
    "def test_convert_dec_to_any_base_rec():\n",
    "    number, base = 9, 2\n",
    "    assert( convert_dec_to_any_base_rec(number, base) == \"1001\" )\n",
    "    print('테스트 통과')\n",
    "    \n",
    "if __name__ == \"__main__\":\n",
    "    test_convert_dec_to_any_base_rec()"
   ]
  },
  {
   "cell_type": "markdown",
   "metadata": {},
   "source": [
    "### 최대공약수 "
   ]
  },
  {
   "cell_type": "code",
   "execution_count": 121,
   "metadata": {},
   "outputs": [
    {
     "name": "stdout",
     "output_type": "stream",
     "text": [
      "테스트 통과\n"
     ]
    }
   ],
   "source": [
    "def finding_gcd(a,b):\n",
    "    while(b!=0):\n",
    "        result = b\n",
    "        a,b = b, a%b\n",
    "    return result\n",
    "\n",
    "def test_finding_gcd():\n",
    "    number1 = 21\n",
    "    number2 = 12\n",
    "    assert(finding_gcd(number1, number2) == 3)\n",
    "    print('테스트 통과')\n",
    "    \n",
    "if __name__ == '__main__':\n",
    "    test_finding_gcd()"
   ]
  },
  {
   "cell_type": "code",
   "execution_count": 122,
   "metadata": {},
   "outputs": [
    {
     "data": {
      "text/plain": [
       "3"
      ]
     },
     "execution_count": 122,
     "metadata": {},
     "output_type": "execute_result"
    }
   ],
   "source": [
    "finding_gcd(21, 12)"
   ]
  },
  {
   "cell_type": "code",
   "execution_count": 123,
   "metadata": {},
   "outputs": [
    {
     "name": "stdout",
     "output_type": "stream",
     "text": [
      "테스트 통과\n"
     ]
    }
   ],
   "source": [
    "test_finding_gcd()"
   ]
  },
  {
   "cell_type": "code",
   "execution_count": 124,
   "metadata": {},
   "outputs": [
    {
     "name": "stdout",
     "output_type": "stream",
     "text": [
      "테스트 통과\n"
     ]
    }
   ],
   "source": [
    "def finding_gcd(a,b):\n",
    "    while(b!=0):\n",
    "        result = b\n",
    "        a,b = b, a%b\n",
    "    return result\n",
    "\n",
    "def test_finding_gcd():\n",
    "    number1 = 280 #꼭 앞에 숫자가 커야하는 것은 아니다. \n",
    "    number2 = 120\n",
    "    assert(finding_gcd(number1, number2) == 40)\n",
    "    print('테스트 통과')\n",
    "    \n",
    "if __name__ == '__main__':\n",
    "    test_finding_gcd()"
   ]
  },
  {
   "cell_type": "markdown",
   "metadata": {},
   "source": [
    "###  random 모듈"
   ]
  },
  {
   "cell_type": "code",
   "execution_count": 171,
   "metadata": {},
   "outputs": [
    {
     "name": "stdout",
     "output_type": "stream",
     "text": [
      "3\n",
      "1\n",
      "1\n",
      "[1, 4]\n",
      "[4, 3, 2]\n",
      "[1, 2, 3, 4]\n",
      "[3, 1, 2, 4]\n",
      "8\n",
      "0\n",
      "3\n"
     ]
    }
   ],
   "source": [
    "import random\n",
    "\n",
    "def testing_random():\n",
    "    values = [1,2,3,4]\n",
    "    print(random.choice(values)) #하나 선택\n",
    "    print(random.choice(values))\n",
    "    print(random.choice(values))\n",
    "    print(random.sample(values,2)) #여러개 선택\n",
    "    print(random.sample(values,3))\n",
    "    \n",
    "    print(values)\n",
    "    \n",
    "    random.shuffle(values) # 값을 섞는것\n",
    "    print(values)\n",
    "    \n",
    "    print(random.randint(0,10)) #0이상 10이하\n",
    "    print(random.randint(0,10))\n",
    "    print(random.randint(0,10))\n",
    "    \n",
    "    \n",
    "if __name__ == '__main__':\n",
    "    testing_random()"
   ]
  },
  {
   "cell_type": "markdown",
   "metadata": {},
   "source": [
    "###  피보나치 수열"
   ]
  },
  {
   "cell_type": "code",
   "execution_count": 174,
   "metadata": {},
   "outputs": [
    {
     "name": "stdout",
     "output_type": "stream",
     "text": [
      "테스트 통과\n"
     ]
    }
   ],
   "source": [
    "import math\n",
    "\n",
    "def find_fibonacci_seq_form(n):\n",
    "    sq5 = math.sqrt(5)\n",
    "    phi = (1+sq5)/2\n",
    "    return int(math.floor(phi**n / sq5 ))\n",
    "\n",
    "def test_find_fib():\n",
    "    n = 10\n",
    "    assert(find_fibonacci_seq_form(n) == 55)\n",
    "    print('테스트 통과')\n",
    "    \n",
    "    \n",
    "if __name__ == '__main__':\n",
    "    test_find_fib()\n",
    "    "
   ]
  },
  {
   "cell_type": "code",
   "execution_count": 170,
   "metadata": {},
   "outputs": [
    {
     "name": "stdout",
     "output_type": "stream",
     "text": [
      "<generator object fib_generator at 0x000001A8416BDF48>\n",
      "1\n",
      "1\n",
      "2\n"
     ]
    }
   ],
   "source": [
    "def fib_generator():\n",
    "    a, b = 0, 1\n",
    "    while True: \n",
    "        yield b  #yield 들어가는 것을 제너레이터라고 부른다. 파이썬 중급문법\n",
    "        a, b = b , a+b\n",
    "        \n",
    "if __name__ == \"__main__\":\n",
    "    temp = fib_generator()\n",
    "    for _ in range(10)\n",
    "    print(temp)\n",
    "    print(next(temp)) #첫번째를 순회한다\n",
    "    print(next(temp))\n",
    "    print(next(temp)) # 위 함수에는 return없고 yield가 있다. yield가 있으면 값을 넘겨주고도 함수가 끝나지 않는다. yield에서 멈추는 것.\n",
    "    #즉 위 함수는 안끝난다. 계속 next호출 할 때마다 뭔가를 생성한다. 그래서 제너레이터라고 부르는 것\n",
    "    #제너레이터를 사용한다면 스레드를 사용하지 않고도 스레드 효과를 낸다."
   ]
  },
  {
   "cell_type": "code",
   "execution_count": 177,
   "metadata": {},
   "outputs": [
    {
     "name": "stdout",
     "output_type": "stream",
     "text": [
      "1 1 2 3 5 8 13 21 34 55 "
     ]
    }
   ],
   "source": [
    "def fib_generator():\n",
    "    a, b = 0, 1\n",
    "    while True: \n",
    "        yield b  \n",
    "        a, b = b , a+b\n",
    "        \n",
    "if __name__ == \"__main__\": # 이 코드를 다른데에서 import 할 수 있는데 그 때는 __main__이 아닌 다른 네임이 나온다. \n",
    "                            # 그래서 이 파일에서 돌 때 내 코드에서만 돌린다는 test코드라는 뜻이다.\n",
    "    temp = fib_generator()\n",
    "    for _ in range(10): # 값을 무시하고 싶을 때 _ (언더스코어) 사용한다.\n",
    "        print(next(temp), end=' ') \n",
    "   "
   ]
  },
  {
   "cell_type": "markdown",
   "metadata": {},
   "source": [
    "### 소수 (prime number)"
   ]
  },
  {
   "cell_type": "code",
   "execution_count": 190,
   "metadata": {},
   "outputs": [
    {
     "name": "stdout",
     "output_type": "stream",
     "text": [
      "테스트 성공\n"
     ]
    }
   ],
   "source": [
    "import math\n",
    "import random\n",
    "\n",
    "def finding_prime(number):\n",
    "    num = abs(number) # 기본적으로 양의 정수 쓰기 때문에 음수 넘어오면 바꿔주는 것\n",
    "    if (num < 4 ): # 4 미만의 수들이 오면 계산할 필요가 없기 때문에 \n",
    "        return True \n",
    "    for x in range(2, num): # 1로 나눌 필요는 없으니 2부터, 자기 자신으로도 나누지 않아야 하니까 num 까지\n",
    "        if num % x == 0: #나누어 떨어지는 경우 소수가 아니다\n",
    "            return False \n",
    "    return True # 이 경우 소수다\n",
    "\n",
    "def finding_prime_sqrt(number):\n",
    "    num = abs(number) \n",
    "    if (num < 4 ): \n",
    "        return True\n",
    "    \n",
    "    for x in range(2, int(math.sqrt(num)) + 1):\n",
    "        if number % x == 0: \n",
    "            return False \n",
    "    return True\n",
    "                   \n",
    "def finding_prime_fermat(number): #페르마의 공식을 이용한 함수다.\n",
    "    if number <= 102:\n",
    "        for a in  range(2, number): \n",
    "            if pow(a, number-1, number) != 1:  # 제곱수를 사용하고 있다\n",
    "                return False\n",
    "        return True\n",
    "    else: \n",
    "        for i in range(100):\n",
    "            a = random.randint(2, number-1)\n",
    "            if pow(a, number-1, number) != 1:\n",
    "                return False\n",
    "        return True\n",
    "\n",
    "def test_finding_prime():\n",
    "    number1 = 17\n",
    "    number2 = 20\n",
    "    assert(finding_prime(number1) == True)\n",
    "    assert(finding_prime(number2) == False)\n",
    "    assert(finding_prime_sqrt(number1) == True)\n",
    "    assert(finding_prime_sqrt(number2) == False)\n",
    "    assert(finding_prime_fermat(number1) == True)\n",
    "    assert(finding_prime_fermat(number2) == False)\n",
    "    print('테스트 성공')\n",
    "\n",
    "    \n",
    "if __name__ == \"__main__\":\n",
    "    test_finding_prime()"
   ]
  },
  {
   "cell_type": "code",
   "execution_count": null,
   "metadata": {},
   "outputs": [],
   "source": []
  }
 ],
 "metadata": {
  "kernelspec": {
   "display_name": "Python 3",
   "language": "python",
   "name": "python3"
  },
  "language_info": {
   "codemirror_mode": {
    "name": "ipython",
    "version": 3
   },
   "file_extension": ".py",
   "mimetype": "text/x-python",
   "name": "python",
   "nbconvert_exporter": "python",
   "pygments_lexer": "ipython3",
   "version": "3.7.6"
  }
 },
 "nbformat": 4,
 "nbformat_minor": 4
}
