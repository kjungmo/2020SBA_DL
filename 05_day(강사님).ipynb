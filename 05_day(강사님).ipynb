{
 "cells": [
  {
   "cell_type": "code",
   "execution_count": 256,
   "metadata": {},
   "outputs": [
    {
     "name": "stdout",
     "output_type": "stream",
     "text": [
      "  66  53  40  27  14   1 120 107  94  81  68 671\n",
      "  67  65  52  39  26  13  11 119 106  93  80 671\n",
      "  79  77  64  51  38  25  12  10 118 105  92 671\n",
      "  91  78  76  63  50  37  24  22   9 117 104 671\n",
      " 103  90  88  75  62  49  36  23  21   8 116 671\n",
      " 115 102  89  87  74  61  48  35  33  20   7 671\n",
      "   6 114 101  99  86  73  60  47  34  32  19 671\n",
      "  18   5 113 100  98  85  72  59  46  44  31 671\n",
      "  30  17   4 112 110  97  84  71  58  45  43 671\n",
      "  42  29  16   3 111 109  96  83  70  57  55 671\n",
      "  54  41  28  15   2 121 108  95  82  69  56 671\n",
      " 671 671 671 671 671 671 671 671 671 671 671 671\n"
     ]
    }
   ],
   "source": [
    "def  display(a, n):\n",
    "    for i in range(n):\n",
    "        for j in range(n):\n",
    "            print(\"%4d\"%a[i][j], end='')\n",
    "        print()\n",
    "        \n",
    "def init(n):\n",
    "    a = [ [0]*n for j in  range(n) ] \n",
    "    return a\n",
    "\n",
    "def fill(a, n):\n",
    "    row=0\n",
    "    count=1\n",
    "    col=n//2\n",
    "    r=0\n",
    "    c=0\n",
    "    a[row][col] = count\n",
    "\n",
    "    for i in range(n*n-1):\n",
    "        count += 1\n",
    "        r = row-1\n",
    "        c = col-1\n",
    "        if( r < 0 ):\n",
    "            r = n-1\n",
    "\n",
    "        if( c < 0 ):\n",
    "            c = n-1\n",
    "\n",
    "        if( a[r][c] > 0 ):\n",
    "            r = row+1\n",
    "            c = col\n",
    "\n",
    "        a[r][c] = count\n",
    "        row = r\n",
    "        col = c\n",
    "\n",
    "def check(a, n):\n",
    "    for i in range(n):\n",
    "        for j in range(n):\n",
    "            a[i][n] += a[i][j]\n",
    "            a[n][i] += a[j][i]\n",
    "            if( i == j ):\n",
    "                a[n][n] += a[i][j]\n",
    "    \n",
    "n=11\n",
    "a = init(n+1)\n",
    "fill(a, n)\n",
    "check(a, n)\n",
    "display(a,n+1)"
   ]
  },
  {
   "cell_type": "markdown",
   "metadata": {},
   "source": [
    "### 달력 만들기 "
   ]
  },
  {
   "cell_type": "code",
   "execution_count": 280,
   "metadata": {},
   "outputs": [],
   "source": [
    "def isLeap(year):\n",
    "    return (year%4==0 and year%100!=0) or (year%400==0) "
   ]
  },
  {
   "cell_type": "code",
   "execution_count": 281,
   "metadata": {},
   "outputs": [
    {
     "data": {
      "text/plain": [
       "True"
      ]
     },
     "execution_count": 281,
     "metadata": {},
     "output_type": "execute_result"
    }
   ],
   "source": [
    "isLeap(2000)"
   ]
  },
  {
   "cell_type": "code",
   "execution_count": 282,
   "metadata": {},
   "outputs": [],
   "source": [
    "def totalYear(year):\n",
    "    total=0\n",
    "    for i in range(year-1):\n",
    "        total += 365\n",
    "        if(isLeap(i+1)):\n",
    "            total += 1\n",
    "    return total"
   ]
  },
  {
   "cell_type": "code",
   "execution_count": 283,
   "metadata": {},
   "outputs": [
    {
     "data": {
      "text/plain": [
       "2"
      ]
     },
     "execution_count": 283,
     "metadata": {},
     "output_type": "execute_result"
    }
   ],
   "source": [
    "total = totalYear(2019)\n",
    "total%7+1"
   ]
  },
  {
   "cell_type": "code",
   "execution_count": 284,
   "metadata": {},
   "outputs": [],
   "source": [
    "def totalMonth(year, month):\n",
    "    total = 0\n",
    "    mon = [31,28,31,30,31,30,31,31,30,31,30,31]\n",
    "    if( isLeap(year) ):\n",
    "        mon[1] += 1\n",
    "\n",
    "    for i in range(month-1):\n",
    "        total += mon[i]\n",
    "    return total"
   ]
  },
  {
   "cell_type": "code",
   "execution_count": 285,
   "metadata": {
    "scrolled": true
   },
   "outputs": [
    {
     "data": {
      "text/plain": [
       "181"
      ]
     },
     "execution_count": 285,
     "metadata": {},
     "output_type": "execute_result"
    }
   ],
   "source": [
    "totalMonth(2019, 7)"
   ]
  },
  {
   "cell_type": "code",
   "execution_count": 286,
   "metadata": {},
   "outputs": [],
   "source": [
    "def totalDay(year, month):\n",
    "    total = 0\n",
    "    total += totalYear(year)\n",
    "    total += totalMonth(year,month)\n",
    "    return total"
   ]
  },
  {
   "cell_type": "code",
   "execution_count": 289,
   "metadata": {},
   "outputs": [
    {
     "data": {
      "text/plain": [
       "3"
      ]
     },
     "execution_count": 289,
     "metadata": {},
     "output_type": "execute_result"
    }
   ],
   "source": [
    "total = totalDay(2020,7)\n",
    "total%7+1"
   ]
  },
  {
   "cell_type": "code",
   "execution_count": 316,
   "metadata": {},
   "outputs": [],
   "source": [
    "def cal(year, month):\n",
    "    days = [0]*42\n",
    "    mon = [31,28,31,30,31,30,31,31,30,31,30,31]\n",
    "    if( isLeap(year) ):\n",
    "        mon[1] += 1\n",
    "    week=0;\n",
    "    total = totalDay(year,month)\n",
    "    week = (total+1)%7\n",
    "    for i in range(mon[month-1]):\n",
    "        days[i+week] = i+1\n",
    "    \n",
    "    print(\"%d년 %d월\"%(year,month))\n",
    "    title = \"일월화수목금토\"\n",
    "    for str in title:\n",
    "        print(\"%3s\"%str, end='')\n",
    "    print()\n",
    "    for i in range(6):\n",
    "        for j in range(7):\n",
    "            if( days[i*7+j] > 0 ):\n",
    "                print(\"%4d\"%days[i*7+j], end='')\n",
    "            else:\n",
    "                print(\"    \", end='')\n",
    "        print()"
   ]
  },
  {
   "cell_type": "code",
   "execution_count": 320,
   "metadata": {},
   "outputs": [
    {
     "name": "stdout",
     "output_type": "stream",
     "text": [
      "2000년 2월\n",
      "  일  월  화  수  목  금  토\n",
      "           1   2   3   4   5\n",
      "   6   7   8   9  10  11  12\n",
      "  13  14  15  16  17  18  19\n",
      "  20  21  22  23  24  25  26\n",
      "  27  28  29                \n",
      "                            \n"
     ]
    }
   ],
   "source": [
    "cal(2000,2)"
   ]
  },
  {
   "cell_type": "markdown",
   "metadata": {},
   "source": [
    "###  주민 번호 체크"
   ]
  },
  {
   "cell_type": "code",
   "execution_count": 330,
   "metadata": {},
   "outputs": [],
   "source": [
    "def jumin_check():\n",
    "    str   = input()\n",
    "    jumin = [ int(ch) for ch in str ]\n",
    "    seq   = [2,3,4,5,6,7,8,9,2,3,4,5]\n",
    "    sum   = 0\n",
    "    for i in range(len(seq)):\n",
    "        sum += jumin[i]*seq[i]\n",
    "    sum = (11 - sum%11)%10\n",
    "    print(sum)\n",
    "    if( sum == jumin[12] ):\n",
    "        print(\"올바른 주민번호 입니다.\")\n",
    "    else:\n",
    "        print(\"잘못된 주민번호 입니다.\")"
   ]
  },
  {
   "cell_type": "code",
   "execution_count": 331,
   "metadata": {},
   "outputs": [
    {
     "name": "stdout",
     "output_type": "stream",
     "text": [
      "8811201234560\n",
      "0\n",
      "올바른 주민번호 입니다.\n"
     ]
    }
   ],
   "source": [
    "jumin_check()"
   ]
  }
 ],
 "metadata": {
  "kernelspec": {
   "display_name": "Python 3",
   "language": "python",
   "name": "python3"
  },
  "language_info": {
   "codemirror_mode": {
    "name": "ipython",
    "version": 3
   },
   "file_extension": ".py",
   "mimetype": "text/x-python",
   "name": "python",
   "nbconvert_exporter": "python",
   "pygments_lexer": "ipython3",
   "version": "3.7.6"
  }
 },
 "nbformat": 4,
 "nbformat_minor": 4
}
