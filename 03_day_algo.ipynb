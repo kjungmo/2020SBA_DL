{
 "cells": [
  {
   "cell_type": "markdown",
   "metadata": {},
   "source": [
    "### 다형성"
   ]
  },
  {
   "cell_type": "code",
   "execution_count": 4,
   "metadata": {},
   "outputs": [
    {
     "name": "stdout",
     "output_type": "stream",
     "text": [
      "False\n",
      "False\n",
      "2\n",
      "1967316932232\n",
      "1967316933064\n"
     ]
    }
   ],
   "source": [
    "class Symbol(object):\n",
    "    def __init__(self, value): # __로 시작해서 __로 끝나는 스페셜 펑션은 기능이 지정되어 있다\n",
    "        self.value = value\n",
    "\n",
    "\n",
    "if __name__ == \"__main__\":\n",
    "    x = Symbol(\"Py\") # X의 인스턴스를 만듬. 객체 X를 메모리에 예화\n",
    "    y = Symbol(\"Py\")\n",
    "    \n",
    "    symbols = set()\n",
    "    symbols.add(x)\n",
    "    symbols.add(y) #서로 중복되지 않고 유니크\n",
    "    \n",
    "    print(x is y) #x 와 y는 싱글 객체의 별도 객체라 False라고나온다\n",
    "    print(x == y) # 번지수도 달라서 False나옴\n",
    "    print( len(symbols)) # 2개로 나온다\n",
    "    print( id(x))\n",
    "    print( id(y)) #서로 다른 메모리 영역에 예화되기 때문에 다르다.\n",
    "    # 같은 것으로 부터 객체 만들었어도 다른것이다!\n",
    "    \n",
    "    #id()는 그 객체의 번지를 보는것"
   ]
  },
  {
   "cell_type": "code",
   "execution_count": 7,
   "metadata": {},
   "outputs": [
    {
     "ename": "TypeError",
     "evalue": "unhashable type: 'Symbol'",
     "output_type": "error",
     "traceback": [
      "\u001b[1;31m---------------------------------------------------------------------------\u001b[0m",
      "\u001b[1;31mTypeError\u001b[0m                                 Traceback (most recent call last)",
      "\u001b[1;32m<ipython-input-7-0887635437fd>\u001b[0m in \u001b[0;36m<module>\u001b[1;34m\u001b[0m\n\u001b[0;32m     15\u001b[0m \u001b[1;33m\u001b[0m\u001b[0m\n\u001b[0;32m     16\u001b[0m     \u001b[0msymbols\u001b[0m \u001b[1;33m=\u001b[0m \u001b[0mset\u001b[0m\u001b[1;33m(\u001b[0m\u001b[1;33m)\u001b[0m\u001b[1;33m\u001b[0m\u001b[1;33m\u001b[0m\u001b[0m\n\u001b[1;32m---> 17\u001b[1;33m     \u001b[0msymbols\u001b[0m\u001b[1;33m.\u001b[0m\u001b[0madd\u001b[0m\u001b[1;33m(\u001b[0m\u001b[0mx\u001b[0m\u001b[1;33m)\u001b[0m\u001b[1;33m\u001b[0m\u001b[1;33m\u001b[0m\u001b[0m\n\u001b[0m\u001b[0;32m     18\u001b[0m     \u001b[0msymbols\u001b[0m\u001b[1;33m.\u001b[0m\u001b[0madd\u001b[0m\u001b[1;33m(\u001b[0m\u001b[0my\u001b[0m\u001b[1;33m)\u001b[0m \u001b[1;31m#서로 중복되지 않고 유니크\u001b[0m\u001b[1;33m\u001b[0m\u001b[1;33m\u001b[0m\u001b[0m\n\u001b[0;32m     19\u001b[0m \u001b[1;33m\u001b[0m\u001b[0m\n",
      "\u001b[1;31mTypeError\u001b[0m: unhashable type: 'Symbol'"
     ]
    }
   ],
   "source": [
    "class Symbol(object):\n",
    "    def __init__(self, value): # __로 시작해서 __로 끝나는 스페셜 펑션은 기능이 지정되어 있다\n",
    "        self.value = value\n",
    "    \n",
    "    def __eq__(self, other): # 이퀄 함수. 오버로딩 할 때 연관, self와 other를 비교하고 싶단것\n",
    "        print(\"Symbol.__eq__()\")\n",
    "        if isinstance(self, other.__class__):\n",
    "            return self.value == other.value\n",
    "        else:\n",
    "            return NotImplemented\n",
    "\n",
    "if __name__ == \"__main__\":\n",
    "    x = Symbol(\"Py\") # X의 인스턴스를 만듬. 객체 X를 메모리에 예화\n",
    "    y = Symbol(\"Py\")\n",
    "    \n",
    "    symbols = set()\n",
    "    symbols.add(x)\n",
    "    symbols.add(y) #서로 중복되지 않고 유니크\n",
    "    \n",
    "    print(x is y) #x 와 y는 싱글 객체의 별도 객체라 False라고나온다\n",
    "    print(x == y) # 번지수도 달라서 False나옴\n",
    "    print( len(symbols)) # 2개로 나온다\n",
    "    print( id(x))\n",
    "    print( id(y)) #서로 다른 메모리 영역에 예화되기 때문에 다르다.\n",
    "    # 같은 것으로 부터 객체 만들었어도 다른것이다!\n",
    "    \n",
    "    #id()는 그 객체의 번지를 보는것\n",
    "    \n",
    "    \n",
    "TypeError: unhashable type: 'Symbol'\n",
    "        -> 집합에 집어넣으려면 해시 가능한 객체여야 한다. \n",
    "        오버로딩 할 거면 해시 가능해야 한다. \n",
    "        이것을 해결하는 방식이 p137 하단에 나와있다\n",
    "        즉 추가로 내부 해시를 호출해주는 것을 넣어준다"
   ]
  },
  {
   "cell_type": "code",
   "execution_count": 8,
   "metadata": {},
   "outputs": [
    {
     "name": "stdout",
     "output_type": "stream",
     "text": [
      "Symbol.__eq__()\n",
      "False\n",
      "Symbol.__eq__()\n",
      "True\n",
      "1\n",
      "1967317441544\n",
      "1967317396232\n"
     ]
    }
   ],
   "source": [
    "class Symbol(object):\n",
    "    def __init__(self, value): # __로 시작해서 __로 끝나는 스페셜 펑션은 기능이 지정되어 있다\n",
    "        self.value = value\n",
    "    \n",
    "    def __eq__(self, other): # 이퀄 함수. 오버로딩 할 때 연관, self와 other를 비교하고 싶단것\n",
    "        print(\"Symbol.__eq__()\")\n",
    "        if isinstance(self, other.__class__):\n",
    "            return self.value == other.value\n",
    "        else:\n",
    "            return NotImplemented\n",
    "        \n",
    "    def __hash__(self):\n",
    "        return hash(self.value) #내가 가진 value의 해시를 리턴해주는 함수\n",
    "\n",
    "if __name__ == \"__main__\":\n",
    "    x = Symbol(\"Py\") # X의 인스턴스를 만듬. 객체 X를 메모리에 예화\n",
    "    y = Symbol(\"Py\")\n",
    "    \n",
    "    symbols = set()\n",
    "    symbols.add(x)\n",
    "    symbols.add(y) #서로 중복되지 않고 유니크\n",
    "    \n",
    "    print(x is y) #x 와 y는 싱글 객체의 별도 객체라 False라고나온다\n",
    "    print(x == y) # 객체를 비교하는게 아니라 value를 비교했기 때문에 True\n",
    "    print( len(symbols)) # 1개로 나온다는 것은 같은 것으로 봤기 때문에 \n",
    "                        #집합 길이가 1로 나온것. 중복이 배제되니까\n",
    "                        # value로 해시 만들었기 때문\n",
    "    print( id(x))\n",
    "    print( id(y)) #서로 다른 메모리 영역에 예화되기 때문에 다르다.\n",
    "    # 같은 것으로 부터 객체 만들었어도 다른것이다!\n",
    "    \n",
    "    #id()는 그 객체의 번지를 보는것\n",
    "    \n",
    "\\"
   ]
  },
  {
   "cell_type": "markdown",
   "metadata": {},
   "source": [
    "###   클래스 예제\n"
   ]
  },
  {
   "cell_type": "code",
   "execution_count": 24,
   "metadata": {
    "scrolled": true
   },
   "outputs": [
    {
     "name": "stdout",
     "output_type": "stream",
     "text": [
      "Point.__init__()\n",
      "10 10\n",
      "14.142135623730951\n",
      "Point.__init__()\n",
      "True\n",
      "hello\n"
     ]
    },
    {
     "ename": "TypeError",
     "evalue": "__str__ returned non-string (type NoneType)",
     "output_type": "error",
     "traceback": [
      "\u001b[1;31m---------------------------------------------------------------------------\u001b[0m",
      "\u001b[1;31mTypeError\u001b[0m                                 Traceback (most recent call last)",
      "\u001b[1;32m<ipython-input-24-30bbc2239b47>\u001b[0m in \u001b[0;36m<module>\u001b[1;34m\u001b[0m\n\u001b[0;32m     24\u001b[0m     \u001b[0mprint\u001b[0m\u001b[1;33m(\u001b[0m\u001b[0mp1\u001b[0m \u001b[1;33m==\u001b[0m \u001b[0mp2\u001b[0m\u001b[1;33m)\u001b[0m \u001b[1;31m# __eq__가 없다면 False리턴한다. 이퀄 함수를 넣어서 같은 점을 같다고 판단하게 해줌\u001b[0m\u001b[1;33m\u001b[0m\u001b[1;33m\u001b[0m\u001b[0m\n\u001b[0;32m     25\u001b[0m \u001b[1;33m\u001b[0m\u001b[0m\n\u001b[1;32m---> 26\u001b[1;33m     \u001b[0mprint\u001b[0m\u001b[1;33m(\u001b[0m\u001b[0mp1\u001b[0m\u001b[1;33m)\u001b[0m \u001b[1;31m#객체 번지만 나온다. (10,10)이라고 나오지 않는다. 메인 모듈에 있는 포인트 함수의 객체다.\u001b[0m\u001b[1;33m\u001b[0m\u001b[1;33m\u001b[0m\u001b[0m\n\u001b[0m\u001b[0;32m     27\u001b[0m         \u001b[1;31m# 잘 알려진 컨테이너 와야 출력하는데 포인터 객체값이 와서 이상하게 출력나오는거\u001b[0m\u001b[1;33m\u001b[0m\u001b[1;33m\u001b[0m\u001b[1;33m\u001b[0m\u001b[0m\n\u001b[0;32m     28\u001b[0m \u001b[1;33m\u001b[0m\u001b[0m\n",
      "\u001b[1;31mTypeError\u001b[0m: __str__ returned non-string (type NoneType)"
     ]
    }
   ],
   "source": [
    "import math\n",
    "\n",
    "class Point(object):\n",
    "    def __init__(self, x = 0, y = 0):  #멤버변수\n",
    "        print(\"Point.__init__()\")\n",
    "        self.x = x \n",
    "        self.y = y\n",
    "        \n",
    "    def distance_from_origin(self): #얼마나 떨어져있나\n",
    "        return math.hypot(self.x, self.y)\n",
    "    \n",
    "    def __eq__(self, other):# 두 점이 같으면 같은 점으로 봐야하니까\n",
    "        return self.x == other.x and self.y == other.y # 두 점이 같으면 같은 점으로 봐야해!\n",
    "    \n",
    "    def __str__(self): \n",
    "        print(\"hello\")\n",
    "    \n",
    "if __name__ == \"__main__\":\n",
    "    p1 = Point(10,10)\n",
    "    print(p1.x, p1.y)\n",
    "    print(p1.distance_from_origin()) #이만큼 떨어져 있다. 0,0에서 10,10의 대각선 길이\n",
    "    \n",
    "    p2 = Point(10,10)\n",
    "    print(p1 == p2) # __eq__가 없다면 False리턴한다. 이퀄 함수를 넣어서 같은 점을 같다고 판단하게 해줌\n",
    "    \n",
    "    print(p1) #객체 번지만 나온다. (10,10)이라고 나오지 않는다. 메인 모듈에 있는 포인트 함수의 객체다. \n",
    "        # 잘 알려진 컨테이너 와야 출력하는데 포인터 객체값이 와서 이상하게 출력나오는거\n",
    "        # TypeError: __str__ returned non-string (type NoneType) 나온다 "
   ]
  },
  {
   "cell_type": "code",
   "execution_count": 25,
   "metadata": {},
   "outputs": [
    {
     "name": "stdout",
     "output_type": "stream",
     "text": [
      "Point.__init__()\n",
      "10 10\n",
      "14.142135623730951\n",
      "Point.__init__()\n",
      "True\n",
      "hello\n"
     ]
    }
   ],
   "source": [
    "import math\n",
    "\n",
    "class Point(object):\n",
    "    def __init__(self, x = 0, y = 0):  #멤버변수\n",
    "        print(\"Point.__init__()\")\n",
    "        self.x = x \n",
    "        self.y = y\n",
    "        \n",
    "    def distance_from_origin(self): #얼마나 떨어져있나\n",
    "        return math.hypot(self.x, self.y)\n",
    "    \n",
    "    def __eq__(self, other):# 두 점이 같으면 같은 점으로 봐야하니까\n",
    "        return self.x == other.x and self.y == other.y # 두 점이 같으면 같은 점으로 봐야해!\n",
    "    \n",
    "    def __str__(self): \n",
    "        return \"hello\" #이렇게 스트링으로 줘야 나온다.\n",
    "    \n",
    "if __name__ == \"__main__\":\n",
    "    p1 = Point(10,10)\n",
    "    print(p1.x, p1.y)\n",
    "    print(p1.distance_from_origin()) #이만큼 떨어져 있다. 0,0에서 10,10의 대각선 길이\n",
    "    \n",
    "    p2 = Point(10,10)\n",
    "    print(p1 == p2) # __eq__가 없다면 False리턴한다. 이퀄 함수를 넣어서 같은 점을 같다고 판단하게 해줌\n",
    "    \n",
    "    print(p1) #객체 번지만 나온다. (10,10)이라고 나오지 않는다. 메인 모듈에 있는 포인트 함수의 객체다. \n",
    "        # 잘 알려진 컨테이너 와야 출력하는데 포인터 객체값이 와서 이상하게 출력나오는거\n",
    "        # TypeError: __str__ returned non-string (type NoneType) 나온다 "
   ]
  },
  {
   "cell_type": "code",
   "execution_count": 28,
   "metadata": {},
   "outputs": [
    {
     "name": "stdout",
     "output_type": "stream",
     "text": [
      "Point.__init__()\n",
      "10 10\n",
      "14.142135623730951\n",
      "Point.__init__()\n",
      "True\n",
      "(10, 10)\n"
     ]
    }
   ],
   "source": [
    "import math\n",
    "\n",
    "class Point(object):\n",
    "    def __init__(self, x = 0, y = 0):  #멤버변수\n",
    "        print(\"Point.__init__()\")\n",
    "        self.x = x \n",
    "        self.y = y\n",
    "        \n",
    "    def distance_from_origin(self): #얼마나 떨어져있나\n",
    "        return math.hypot(self.x, self.y)\n",
    "    \n",
    "    def __eq__(self, other):# 두 점이 같으면 같은 점으로 봐야하니까\n",
    "        return self.x == other.x and self.y == other.y # 두 점이 같으면 같은 점으로 봐야해!\n",
    "    \n",
    "    def __str__(self): \n",
    "        return \"({0.x!r}, {0.y!r})\".format(self) #이렇게해줘야 (10, 10) 나온다.\n",
    "        # 내 객체속에 있는 값을 찍어서 포매터에 의해 10,10 나오게 되는 식\n",
    "    \n",
    "if __name__ == \"__main__\":\n",
    "    p1 = Point(10,10)\n",
    "    print(p1.x, p1.y)\n",
    "    print(p1.distance_from_origin()) #이만큼 떨어져 있다. 0,0에서 10,10의 대각선 길이\n",
    "    \n",
    "    p2 = Point(10,10)\n",
    "    print(p1 == p2) # __eq__가 없다면 False리턴한다. 이퀄 함수를 넣어서 같은 점을 같다고 판단하게 해줌\n",
    "    \n",
    "    print(p1) #객체 번지만 나온다. (10,10)이라고 나오지 않는다. 메인 모듈에 있는 포인트 함수의 객체다. \n",
    "        # 잘 알려진 컨테이너 와야 출력하는데 포인터 객체값이 와서 이상하게 출력나오는거\n",
    "        # TypeError: __str__ returned non-string (type NoneType) 나온다     \n",
    "        "
   ]
  },
  {
   "cell_type": "code",
   "execution_count": 31,
   "metadata": {},
   "outputs": [
    {
     "name": "stdout",
     "output_type": "stream",
     "text": [
      "Point.__init__()\n",
      "10 10\n",
      "14.142135623730951\n",
      "Point.__init__()\n",
      "True\n",
      "(10, 10)\n"
     ]
    }
   ],
   "source": [
    "import math\n",
    "\n",
    "class Point(object):\n",
    "    def __init__(self, x = 0, y = 0):  #멤버변수\n",
    "        print(\"Point.__init__()\")\n",
    "        self.x = x \n",
    "        self.y = y\n",
    "        \n",
    "    def distance_from_origin(self): #얼마나 떨어져있나\n",
    "        return math.hypot(self.x, self.y)\n",
    "    \n",
    "    def __eq__(self, other):# 두 점이 같으면 같은 점으로 봐야하니까\n",
    "        return self.x == other.x and self.y == other.y # 두 점이 같으면 같은 점으로 봐야해!\n",
    "    \n",
    "    def __str__(self): \n",
    "        return \"({0.x!r}, {0.y!r})\".format(self) #이렇게해줘야 (10, 10) 나온다.\n",
    "        # 내 객체속에 있는 값을 찍어서 포매터에 의해 10,10 나오게 되는 식\n",
    "        #그냥 이쁘게 보이게 출력되게 하는 애\n",
    "    \n",
    "    def __repr__(self): #정밀하다, __str__와 다른건 point 넣어주는 것\n",
    "        return \"point ({0.x!r}, {0.y!r})\".format(self)\n",
    "        #객체를 선언할 때 그 선언한 클래스 ~\n",
    "    \n",
    "if __name__ == \"__main__\":\n",
    "    p1 = Point(10,10)\n",
    "    print(p1.x, p1.y)\n",
    "    print(p1.distance_from_origin()) #이만큼 떨어져 있다. 0,0에서 10,10의 대각선 길이\n",
    "    \n",
    "    p2 = Point(10,10)\n",
    "    print(p1 == p2) # __eq__가 없다면 False리턴한다. 이퀄 함수를 넣어서 같은 점을 같다고 판단하게 해줌\n",
    "    \n",
    "    print(p1) #객체 번지만 나온다. (10,10)이라고 나오지 않는다. 메인 모듈에 있는 포인트 함수의 객체다. \n",
    "        # 잘 알려진 컨테이너 와야 출력하는데 포인터 객체값이 와서 이상하게 출력나오는거\n",
    "        # TypeError: __str__ returned non-string (type NoneType) 나온다     \n",
    "        "
   ]
  },
  {
   "cell_type": "code",
   "execution_count": 30,
   "metadata": {},
   "outputs": [
    {
     "data": {
      "text/plain": [
       "point (10, 10)"
      ]
     },
     "execution_count": 30,
     "metadata": {},
     "output_type": "execute_result"
    }
   ],
   "source": [
    "p1"
   ]
  },
  {
   "cell_type": "code",
   "execution_count": 44,
   "metadata": {},
   "outputs": [
    {
     "name": "stdout",
     "output_type": "stream",
     "text": [
      "Point.__init__()\n",
      "10 10\n",
      "14.142135623730951\n",
      "Point.__init__()\n",
      "True\n",
      "point (10, 10)\n"
     ]
    }
   ],
   "source": [
    "import math\n",
    "\n",
    "class Point(object):\n",
    "    def __init__(self, x = 0, y = 0):  #멤버변수\n",
    "        print(\"Point.__init__()\")\n",
    "        self.x = x \n",
    "        self.y = y\n",
    "        \n",
    "    def distance_from_origin(self): #얼마나 떨어져있나\n",
    "        return math.hypot(self.x, self.y)\n",
    "    \n",
    "    def __eq__(self, other):# 두 점이 같으면 같은 점으로 봐야하니까\n",
    "        return self.x == other.x and self.y == other.y # 두 점이 같으면 같은 점으로 봐야해!\n",
    "    \n",
    "    def __repr__(self): #정밀하다, __str__와 다른건 point 넣어주는 것\n",
    "        return \"point ({0.x!r}, {0.y!r})\".format(self)\n",
    "        #객체를 선언할 때 그 선언한 클래스 ~\n",
    "    \n",
    "    def __str__(self): \n",
    "        return repr(self) #이렇게 내부적으로 통일해서 쓸 수 있다는 것.\n",
    "    \n",
    "    \n",
    "if __name__ == \"__main__\":\n",
    "    p1 = Point(10,10)\n",
    "    print(p1.x, p1.y)\n",
    "    print(p1.distance_from_origin()) #이만큼 떨어져 있다. 0,0에서 10,10의 대각선 길이\n",
    "    \n",
    "    p2 = Point(10,10)\n",
    "    print(p1 == p2) # __eq__가 없다면 False리턴한다. 이퀄 함수를 넣어서 같은 점을 같다고 판단하게 해줌\n",
    "    \n",
    "    print(p1) #객체 번지만 나온다. (10,10)이라고 나오지 않는다. 메인 모듈에 있는 포인트 함수의 객체다. \n",
    "        # 잘 알려진 컨테이너 와야 출력하는데 포인터 객체값이 와서 이상하게 출력나오는거\n",
    "        # TypeError: __str__ returned non-string (type NoneType) 나온다     \n",
    "        "
   ]
  },
  {
   "cell_type": "code",
   "execution_count": 47,
   "metadata": {},
   "outputs": [
    {
     "name": "stdout",
     "output_type": "stream",
     "text": [
      "Point.__init__()\n",
      "10 10\n",
      "14.142135623730951\n",
      "Point.__init__()\n",
      "True\n",
      "point (10, 10)\n",
      "Circle.__init__()\n",
      "Point.__init__()\n",
      "Circle (5, 20, 20)\n",
      "78.53981633974483\n",
      "31.41592653589793\n"
     ]
    }
   ],
   "source": [
    "import math\n",
    "\n",
    "class Point(object):\n",
    "    def __init__(self, x = 0, y = 0):  #멤버변수\n",
    "        print(\"Point.__init__()\")\n",
    "        self.x = x \n",
    "        self.y = y\n",
    "        \n",
    "    def distance_from_origin(self): #얼마나 떨어져있나\n",
    "        return math.hypot(self.x, self.y)\n",
    "    \n",
    "    def __eq__(self, other):# 두 점이 같으면 같은 점으로 봐야하니까\n",
    "        return self.x == other.x and self.y == other.y # 두 점이 같으면 같은 점으로 봐야해!\n",
    "    \n",
    "    def __repr__(self): #정밀하다, __str__와 다른건 point 넣어주는 것\n",
    "        return \"point ({0.x!r}, {0.y!r})\".format(self)\n",
    "        #객체를 선언할 때 그 선언한 클래스 ~\n",
    "    \n",
    "    def __str__(self): \n",
    "        return repr(self) #이렇게 내부적으로 통일해서 쓸 수 있다는 것.\n",
    "    \n",
    "class Circle(Point):\n",
    "    def __init__(self, radius, x = 0, y = 0):  #멤버변수\n",
    "        print(\"Circle.__init__()\")\n",
    "        super().__init__(x,y) #부모 클래스를 대신하는 용어. super클래스를 호출하면 \"부모에 있는~\"\"\n",
    "        self.radius = radius\n",
    "        #부모쪽의 x, y 세팅되고 자기 것인 radius만 세팅해주면 된다.\n",
    "        \n",
    "    def edge_distance_from_origin(self): #자기자신의 distan~ 을 호출함\n",
    "        return abs(self.distance_from_origin() - self.radius) # 음수 나올 수 있어서 절댓값 씌우자\n",
    "        #오리지널로 부터 엣지(원의 지름까지) 떨어진 거리. 이미 부모를 이용.\n",
    "#         self는 나와 부모를 구현하는건데 나도 이닛이고 부모도 이닛이면 \n",
    "#         내거 호출한지 부모호출한지 모르기 때문에 super붙이는 것\n",
    "#         이름이 같지 않은 함수는 그냥 self를 사용해서 호출\n",
    "#         내쪽에 없으면 부모꺼 호출하게 되는 식\n",
    "    \n",
    "    def area(self): #원 면적 구하기\n",
    "        return math.pi * (self.radius**2)\n",
    "    \n",
    "    def circumference(self):\n",
    "        return 2*math.pi*self.radius\n",
    "    \n",
    "    def __eq__(self, other): #반지름 뿐만 아니라 중점도 비교해야 함\n",
    "        return self.radius == other.radius and super().__eq__(other) #부모쪽에서 중점 거리 비교\n",
    "    \n",
    "    def __repr__(self): #정밀하다, __str__와 다른건 point 넣어주는 것\n",
    "        return \"Circle ({0.radius!r}, {0.x!r}, {0.y!r})\".format(self)\n",
    "        #객체를 선언할 때 그 선언한 클래스 이름을 넣어줘\n",
    "    \n",
    "    def __str__(self): \n",
    "        return repr(self) #이렇게 내부적으로 통일해서 쓸 수 있다는 것.\n",
    "    \n",
    "if __name__ == \"__main__\":\n",
    "    p1 = Point(10,10)\n",
    "    print(p1.x, p1.y)\n",
    "    print(p1.distance_from_origin()) #이만큼 떨어져 있다. 0,0에서 10,10의 대각선 길이\n",
    "    \n",
    "    p2 = Point(10,10)\n",
    "    print(p1 == p2) # __eq__가 없다면 False리턴한다. 이퀄 함수를 넣어서 같은 점을 같다고 판단하게 해줌\n",
    "    \n",
    "    print(p1) #객체 번지만 나온다. (10,10)이라고 나오지 않는다. 메인 모듈에 있는 포인트 함수의 객체다. \n",
    "        # 잘 알려진 컨테이너 와야 출력하는데 포인터 객체값이 와서 이상하게 출력나오는거\n",
    "        # TypeError: __str__ returned non-string (type NoneType) 나온다     \n",
    "    \n",
    "    \n",
    "    c1 = Circle(5, 20, 20)\n",
    "    print(c1)\n",
    "    print(c1.area())\n",
    "    print(c1.circumference())"
   ]
  },
  {
   "cell_type": "markdown",
   "metadata": {},
   "source": [
    "### 데커레이터 패턴"
   ]
  },
  {
   "cell_type": "code",
   "execution_count": 48,
   "metadata": {},
   "outputs": [
    {
     "ename": "NameError",
     "evalue": "name 'my_decorator' is not defined",
     "output_type": "error",
     "traceback": [
      "\u001b[1;31m---------------------------------------------------------------------------\u001b[0m",
      "\u001b[1;31mNameError\u001b[0m                                 Traceback (most recent call last)",
      "\u001b[1;32m<ipython-input-48-a08032f6c918>\u001b[0m in \u001b[0;36m<module>\u001b[1;34m\u001b[0m\n\u001b[1;32m----> 1\u001b[1;33m \u001b[1;32mclass\u001b[0m \u001b[0mC\u001b[0m\u001b[1;33m(\u001b[0m\u001b[0mobject\u001b[0m\u001b[1;33m)\u001b[0m\u001b[1;33m:\u001b[0m\u001b[1;33m\u001b[0m\u001b[1;33m\u001b[0m\u001b[0m\n\u001b[0m\u001b[0;32m      2\u001b[0m     \u001b[1;33m@\u001b[0m\u001b[0mmy_decorator\u001b[0m\u001b[1;33m\u001b[0m\u001b[1;33m\u001b[0m\u001b[0m\n\u001b[0;32m      3\u001b[0m     \u001b[1;32mdef\u001b[0m \u001b[0mmethod\u001b[0m\u001b[1;33m(\u001b[0m\u001b[0mself\u001b[0m\u001b[1;33m)\u001b[0m\u001b[1;33m:\u001b[0m\u001b[1;33m\u001b[0m\u001b[1;33m\u001b[0m\u001b[0m\n\u001b[0;32m      4\u001b[0m         \u001b[1;32mpass\u001b[0m\u001b[1;33m\u001b[0m\u001b[1;33m\u001b[0m\u001b[0m\n",
      "\u001b[1;32m<ipython-input-48-a08032f6c918>\u001b[0m in \u001b[0;36mC\u001b[1;34m()\u001b[0m\n\u001b[0;32m      1\u001b[0m \u001b[1;32mclass\u001b[0m \u001b[0mC\u001b[0m\u001b[1;33m(\u001b[0m\u001b[0mobject\u001b[0m\u001b[1;33m)\u001b[0m\u001b[1;33m:\u001b[0m\u001b[1;33m\u001b[0m\u001b[1;33m\u001b[0m\u001b[0m\n\u001b[1;32m----> 2\u001b[1;33m     \u001b[1;33m@\u001b[0m\u001b[0mmy_decorator\u001b[0m\u001b[1;33m\u001b[0m\u001b[1;33m\u001b[0m\u001b[0m\n\u001b[0m\u001b[0;32m      3\u001b[0m     \u001b[1;32mdef\u001b[0m \u001b[0mmethod\u001b[0m\u001b[1;33m(\u001b[0m\u001b[0mself\u001b[0m\u001b[1;33m)\u001b[0m\u001b[1;33m:\u001b[0m\u001b[1;33m\u001b[0m\u001b[1;33m\u001b[0m\u001b[0m\n\u001b[0;32m      4\u001b[0m         \u001b[1;32mpass\u001b[0m\u001b[1;33m\u001b[0m\u001b[1;33m\u001b[0m\u001b[0m\n",
      "\u001b[1;31mNameError\u001b[0m: name 'my_decorator' is not defined"
     ]
    }
   ],
   "source": [
    "class C(object):\n",
    "    @my_decorator \n",
    "    def method(self):\n",
    "        pass\n",
    "    \n",
    "#파이썬의 정식 문법으로 @로 표현하는 것이 데코레이터 문법이다\n",
    "# @"
   ]
  },
  {
   "cell_type": "code",
   "execution_count": 49,
   "metadata": {},
   "outputs": [
    {
     "ename": "NameError",
     "evalue": "name 'my_decorator' is not defined",
     "output_type": "error",
     "traceback": [
      "\u001b[1;31m---------------------------------------------------------------------------\u001b[0m",
      "\u001b[1;31mNameError\u001b[0m                                 Traceback (most recent call last)",
      "\u001b[1;32m<ipython-input-49-a0ec3148e283>\u001b[0m in \u001b[0;36m<module>\u001b[1;34m\u001b[0m\n\u001b[1;32m----> 1\u001b[1;33m \u001b[1;32mclass\u001b[0m \u001b[0mC\u001b[0m\u001b[1;33m(\u001b[0m\u001b[0mobject\u001b[0m\u001b[1;33m)\u001b[0m\u001b[1;33m:\u001b[0m\u001b[1;33m\u001b[0m\u001b[1;33m\u001b[0m\u001b[0m\n\u001b[0m\u001b[0;32m      2\u001b[0m     \u001b[1;33m@\u001b[0m\u001b[0mmy_decorator\u001b[0m\u001b[1;33m\u001b[0m\u001b[1;33m\u001b[0m\u001b[0m\n\u001b[0;32m      3\u001b[0m     \u001b[1;32mdef\u001b[0m \u001b[0mmethod\u001b[0m\u001b[1;33m(\u001b[0m\u001b[0mself\u001b[0m\u001b[1;33m)\u001b[0m\u001b[1;33m:\u001b[0m\u001b[1;33m\u001b[0m\u001b[1;33m\u001b[0m\u001b[0m\n\u001b[0;32m      4\u001b[0m         \u001b[1;32mpass\u001b[0m\u001b[1;33m\u001b[0m\u001b[1;33m\u001b[0m\u001b[0m\n\u001b[0;32m      5\u001b[0m \u001b[1;33m\u001b[0m\u001b[0m\n",
      "\u001b[1;32m<ipython-input-49-a0ec3148e283>\u001b[0m in \u001b[0;36mC\u001b[1;34m()\u001b[0m\n\u001b[0;32m      1\u001b[0m \u001b[1;32mclass\u001b[0m \u001b[0mC\u001b[0m\u001b[1;33m(\u001b[0m\u001b[0mobject\u001b[0m\u001b[1;33m)\u001b[0m\u001b[1;33m:\u001b[0m\u001b[1;33m\u001b[0m\u001b[1;33m\u001b[0m\u001b[0m\n\u001b[1;32m----> 2\u001b[1;33m     \u001b[1;33m@\u001b[0m\u001b[0mmy_decorator\u001b[0m\u001b[1;33m\u001b[0m\u001b[1;33m\u001b[0m\u001b[0m\n\u001b[0m\u001b[0;32m      3\u001b[0m     \u001b[1;32mdef\u001b[0m \u001b[0mmethod\u001b[0m\u001b[1;33m(\u001b[0m\u001b[0mself\u001b[0m\u001b[1;33m)\u001b[0m\u001b[1;33m:\u001b[0m\u001b[1;33m\u001b[0m\u001b[1;33m\u001b[0m\u001b[0m\n\u001b[0;32m      4\u001b[0m         \u001b[1;32mpass\u001b[0m\u001b[1;33m\u001b[0m\u001b[1;33m\u001b[0m\u001b[0m\n\u001b[0;32m      5\u001b[0m \u001b[1;33m\u001b[0m\u001b[0m\n",
      "\u001b[1;31mNameError\u001b[0m: name 'my_decorator' is not defined"
     ]
    }
   ],
   "source": [
    "class C(object):\n",
    "    @my_decorator \n",
    "    def method(self):\n",
    "        pass\n",
    "    \n",
    "    method = my_decorator(method) #내 함수의 데코레이터에 넘겨줘서 데코레이터 내부에서 호출한다는 것\n",
    "    #이렇게 거쳐서 호출하는게 어떤 이점이 있나?"
   ]
  },
  {
   "cell_type": "code",
   "execution_count": 57,
   "metadata": {},
   "outputs": [
    {
     "name": "stdout",
     "output_type": "stream",
     "text": [
      "random_tree() 2.367324599999847\n"
     ]
    }
   ],
   "source": [
    "import random\n",
    "import time\n",
    "\n",
    "def random_tree(n):\n",
    "    t = time.perf_counter()\n",
    "    temp = [ n for n in range(n)] #리스트가 돈다\n",
    "    for i in range(n+1):\n",
    "        temp[random.choice(temp)] = random.choice(temp) #임의로 선택헤서 리스트에 업데이트 빨리 하는지\n",
    "    print(\"{0} {1}\".format( \"random_tree()\", time.perf_counter() - t))\n",
    "    return temp\n",
    "\n",
    "#이렇게 하면 노가다가 심하다 \n",
    "\n",
    "if __name__ == \"__main__\":\n",
    "    random_tree(1000000)"
   ]
  },
  {
   "cell_type": "code",
   "execution_count": 58,
   "metadata": {},
   "outputs": [
    {
     "name": "stdout",
     "output_type": "stream",
     "text": [
      "random_tree() 2.4388472000000547\n"
     ]
    }
   ],
   "source": [
    "import random\n",
    "import time\n",
    "\n",
    "def benchmark(func): # random_tree를 인자로 받는다\n",
    "    def wrapper(*args, **kwargs): #함수 안에 함수 넣을 수 있다. 클로져 라고 함\n",
    "        t = time.perf_counter()\n",
    "        res = func(*args, **kwargs)\n",
    "        print(\"{0} {1}\".format( \"random_tree()\", time.perf_counter() - t))\n",
    "    return wrapper #내부함수를 리턴함.  args가 100000을 인자로 받음. 그대로 호출됨\n",
    "        # 그럼 random_tree에 시간관련 넣지 않아도 되는 것이다\n",
    "\n",
    "def random_tree(n):\n",
    "    temp = [ n for n in range(n)] #리스트가 돈다\n",
    "    for i in range(n+1):\n",
    "        temp[random.choice(temp)] = random.choice(temp) #임의로 선택헤서 리스트에 업데이트 빨리 하는지\n",
    "    return temp\n",
    "\n",
    "#이렇게 하면 노가다가 심하다 \n",
    "\n",
    "if __name__ == \"__main__\":\n",
    "    random_tree = benchmark(random_tree)\n",
    "    random_tree(1000000)"
   ]
  },
  {
   "cell_type": "code",
   "execution_count": null,
   "metadata": {},
   "outputs": [],
   "source": []
  }
 ],
 "metadata": {
  "kernelspec": {
   "display_name": "Python 3",
   "language": "python",
   "name": "python3"
  },
  "language_info": {
   "codemirror_mode": {
    "name": "ipython",
    "version": 3
   },
   "file_extension": ".py",
   "mimetype": "text/x-python",
   "name": "python",
   "nbconvert_exporter": "python",
   "pygments_lexer": "ipython3",
   "version": "3.7.6"
  }
 },
 "nbformat": 4,
 "nbformat_minor": 4
}
