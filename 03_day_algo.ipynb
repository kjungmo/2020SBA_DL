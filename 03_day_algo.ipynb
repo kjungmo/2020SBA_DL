{
 "cells": [
  {
   "cell_type": "markdown",
   "metadata": {},
   "source": [
    "###  클래스와 객체 \n",
    " * 클래스class는 사전에 정의된 특별한 데이터와 메서드의 집합\n",
    " * 클래스에 선언된 모양 그대로 생성된 실체를 객체object\n",
    " * 객체가 소프트웨어에 실체화될 때(메모리에 할당되어 사용될 때), 이 실체를 인스턴스instance\n",
    " * 객체는 인스턴스를 포함할 수 있으며, 포괄적이 의미를 지님"
   ]
  },
  {
   "cell_type": "code",
   "execution_count": 8,
   "metadata": {},
   "outputs": [
    {
     "data": {
      "text/plain": [
       "<__main__.ClassName at 0x217d6c7c788>"
      ]
     },
     "execution_count": 8,
     "metadata": {},
     "output_type": "execute_result"
    }
   ],
   "source": [
    "class ClassName:\n",
    "    # 문장 1\n",
    "    # 문장 2\n",
    "    # ...\n",
    "    # 문장 n\n",
    "    pass\n",
    "\n",
    "x = ClassName() # 클래스 정의에 따라 인스턴스 생성\n",
    "x"
   ]
  },
  {
   "cell_type": "markdown",
   "metadata": {},
   "source": [
    "### 클래스 인스턴스 생성\n",
    "* 클래스 인스턴스 생성은 함수 표기법을 사용하여 초기상태의 객체를 생성하는 일\n",
    "* 인스턴스 생성 작업은 어떤 특징을 가진 빈 객체를 만드는 것\n",
    "* (여러 범위의) 여러 이름을 가진 객체에 바인딩(또는 에일리어싱)할 수 있다.\n",
    "* Hello()를 **생성자constructor**라고 한다. 생성자를 호출하면 Hello.__new__()라는 특수 메서드가 호출되어 객체가 할당되고 그 다음 Hello.__init__()메서드가 객체를 초기화된다\n",
    "* new가 먼저 호출된다.(객체를 메모리에 할당하는 역할) <<singleton 패턴 참조 p148>>"
   ]
  },
  {
   "cell_type": "markdown",
   "metadata": {},
   "source": [
    "### 다형성 (polymorphism\n",
    "* 다형성( 또는 동적 메서드 바인딩)은 메서드가 서브 클래스 내에서 재정의될 수 있다는 원리다. \n",
    "* 즉, 서브 클래스 객체(자식 클래스)에서 슈퍼 클래스(부모 클래스)와 동명의 메서드를 호출하면, 파이썬은 서브 클래스(자식 클래스)에 정의된 메서드를 사용한다는 뜻.\n",
    "* 슈퍼 클래스의 메서드를 호출해야 한다면, 내장된 super()메서드를 사용\n",
    "* 파이썬에서 사용자 정의 클래스의 모든 객체는 기본적으로 해시 가능하다. \n",
    "* 객체가 해시 가능하다는 것은 hash() 속성을 호출할 수 있다는 뜻이며 불변 객체임을 의미"
   ]
  },
  {
   "cell_type": "code",
   "execution_count": 4,
   "metadata": {},
   "outputs": [
    {
     "name": "stdout",
     "output_type": "stream",
     "text": [
      "False\n",
      "False\n",
      "2\n",
      "1967316932232\n",
      "1967316933064\n"
     ]
    }
   ],
   "source": [
    "class Symbol(object):\n",
    "    def __init__(self, value): # __로 시작해서 __로 끝나는 스페셜 펑션은 기능이 지정되어 있다\n",
    "        self.value = value\n",
    "\n",
    "\n",
    "if __name__ == \"__main__\":\n",
    "    x = Symbol(\"Py\") #객체가 메모리에 할당되어 사용될 때, 이 실체를 인스턴스라고 함\n",
    "    y = Symbol(\"Py\") # X의 인스턴스를 만듬. 객체 X를 메모리에 예화\n",
    "    \n",
    "    symbols = set()\n",
    "    symbols.add(x)\n",
    "    symbols.add(y) #서로 중복되지 않고 유니크\n",
    "    \n",
    "    print(x is y) #x 와 y는 싱글 객체의 별도 객체라 False라고나온다, 즉 두 변수 x, y의 참조가 다르므로 첫번째 결과 (x is y)는 False가 나온다\n",
    "    print(x == y) # x와 y의 value가 같지만 False가 나온다. \n",
    "    print( len(symbols)) # 2개로 나온다. set은 중복 항목이 없으므로 1이 나와야 할 것 같지만 2가 나왔다.\n",
    "    print( id(x))\n",
    "    print( id(y)) #서로 다른 메모리 영역에 예화되기 때문에 다르다.\n",
    "    # 같은 것으로 부터 객체 만들었어도 다른것이다!\n",
    "    \n",
    "    #id()는 그 객체의 번지를 보는것"
   ]
  },
  {
   "cell_type": "code",
   "execution_count": 123,
   "metadata": {},
   "outputs": [
    {
     "ename": "TypeError",
     "evalue": "unhashable type: 'Symbol'",
     "output_type": "error",
     "traceback": [
      "\u001b[1;31m---------------------------------------------------------------------------\u001b[0m",
      "\u001b[1;31mTypeError\u001b[0m                                 Traceback (most recent call last)",
      "\u001b[1;32m<ipython-input-123-ac22a011c3ea>\u001b[0m in \u001b[0;36m<module>\u001b[1;34m\u001b[0m\n\u001b[0;32m     15\u001b[0m \u001b[1;33m\u001b[0m\u001b[0m\n\u001b[0;32m     16\u001b[0m     \u001b[0msymbols\u001b[0m \u001b[1;33m=\u001b[0m \u001b[0mset\u001b[0m\u001b[1;33m(\u001b[0m\u001b[1;33m)\u001b[0m\u001b[1;33m\u001b[0m\u001b[1;33m\u001b[0m\u001b[0m\n\u001b[1;32m---> 17\u001b[1;33m     \u001b[0msymbols\u001b[0m\u001b[1;33m.\u001b[0m\u001b[0madd\u001b[0m\u001b[1;33m(\u001b[0m\u001b[0mx\u001b[0m\u001b[1;33m)\u001b[0m\u001b[1;33m\u001b[0m\u001b[1;33m\u001b[0m\u001b[0m\n\u001b[0m\u001b[0;32m     18\u001b[0m     \u001b[0msymbols\u001b[0m\u001b[1;33m.\u001b[0m\u001b[0madd\u001b[0m\u001b[1;33m(\u001b[0m\u001b[0my\u001b[0m\u001b[1;33m)\u001b[0m \u001b[1;31m#서로 중복되지 않고 유니크\u001b[0m\u001b[1;33m\u001b[0m\u001b[1;33m\u001b[0m\u001b[0m\n\u001b[0;32m     19\u001b[0m \u001b[1;33m\u001b[0m\u001b[0m\n",
      "\u001b[1;31mTypeError\u001b[0m: unhashable type: 'Symbol'"
     ]
    }
   ],
   "source": [
    "class Symbol(object):\n",
    "    def __init__(self, value): # __로 시작해서 __로 끝나는 스페셜 펑션은 기능이 지정되어 있다\n",
    "        self.value = value\n",
    "    \n",
    "    # 객체의 비교를 담당하는 __eq__()메서드를 재정의\n",
    "    def __eq__(self, other): # 이퀄 함수. 오버로딩 할 때 연관, self와 other를 비교하고 싶단것\n",
    "        print(\"Symbol.__eq__()\")\n",
    "        if isinstance(self, other.__class__):\n",
    "            return self.value == other.value\n",
    "        else:\n",
    "            return NotImplemented\n",
    "\n",
    "if __name__ == \"__main__\":\n",
    "    x = Symbol(\"Py\") # X의 인스턴스를 만듬. 객체 X를 메모리에 예화\n",
    "    y = Symbol(\"Py\")\n",
    "    \n",
    "    symbols = set()\n",
    "    symbols.add(x)\n",
    "    symbols.add(y) #서로 중복되지 않고 유니크\n",
    "    \n",
    "    print(x is y) #x 와 y는 싱글 객체의 별도 객체라 False라고나온다\n",
    "    print(x == y) # 번지수도 달라서 False나옴\n",
    "    print( len(symbols)) # 2개로 나온다\n",
    "    print( id(x))\n",
    "    print( id(y)) #서로 다른 메모리 영역에 예화되기 때문에 다르다.\n",
    "    # 같은 것으로 부터 객체 만들었어도 다른것이다!\n",
    "    \n",
    "    #id()는 그 객체의 번지를 보는것\n",
    "    \n",
    "    # __eq__() 메서드를 재정의하자 Symbol 클래스가 해시 가능하지 않다고 에러가 발생한다. \n",
    "    # 객체가 해시 가능하지 않다는 것은 mutable 객체임을 의미하는데, set은 immutable하다. \n",
    "    # 에러를 고치기 위해 __hash__()메서드를 추가한다.\n",
    "    \n",
    "# TypeError: unhashable type: 'Symbol'\n",
    "#         -> 집합에 집어넣으려면 해시 가능한 객체여야 한다. \n",
    "#         오버로딩 할 거면 해시 가능해야 한다. \n",
    "#         이것을 해결하는 방식이 p137 하단에 나와있다\n",
    "#         즉 추가로 내부 해시를 호출해주는 것을 넣어준다"
   ]
  },
  {
   "cell_type": "code",
   "execution_count": 13,
   "metadata": {},
   "outputs": [
    {
     "name": "stdout",
     "output_type": "stream",
     "text": [
      "Symbol.__eq__()\n",
      "False\n",
      "Symbol.__eq__()\n",
      "True\n",
      "1\n",
      "2301414233160\n",
      "2301414235528\n"
     ]
    }
   ],
   "source": [
    "#에러를 고치기 위해 __hash__()메서드 추가\n",
    "\n",
    "class Symbol(object):\n",
    "    def __init__(self, value): \n",
    "        self.value = value\n",
    "    \n",
    "    def __eq__(self, other): \n",
    "        print(\"Symbol.__eq__()\")\n",
    "        if isinstance(self, other.__class__):\n",
    "            return self.value == other.value\n",
    "        else:\n",
    "            return NotImplemented\n",
    "        # 어떤 클래스의 연산자, 특히 수치형에서 작동하는 중위 연산자에서 \n",
    "        #지원하지 않는 연산이라고 알리기 위해 NotImplemented를 return합니다.\n",
    "        # NotImplemented는 키워드이자 값이다. 즉 None이나 True, False와 동등한\n",
    "        # 지위를 가진 것이다. NotImplemented는 구현되지 않음을 나타내는 것\n",
    "        \n",
    "    def __hash__(self):\n",
    "        return hash(self.value) #내가 가진 value의 해시를 리턴해주는 함수\n",
    "\n",
    "if __name__ == \"__main__\":\n",
    "    x = Symbol(\"Py\") \n",
    "    y = Symbol(\"Py\")\n",
    "    \n",
    "    symbols = set()\n",
    "    symbols.add(x)\n",
    "    symbols.add(y) \n",
    "    \n",
    "    print(x is y) #x 와 y는 싱글 객체의 별도 객체라 False라고나온다\n",
    "    print(x == y) # 객체를 비교하는게 아니라 value를 비교했기 때문에 True\n",
    "    print( len(symbols)) # 1개로 나온다는 것은 같은 것으로 봤기 때문에 \n",
    "                        #집합 길이가 1로 나온것. 중복이 배제되니까\n",
    "                        # value로 해시 만들었기 때문\n",
    "    print( id(x))\n",
    "    print( id(y)) #서로 다른 메모리 영역에 예화되기 때문에 다르다.\n",
    "    # 같은 것으로 부터 객체 만들었어도 다른것이다!\n",
    "    \n",
    "    #id()는 그 객체의 번지를 보는것\n",
    "    \n",
    "\\"
   ]
  },
  {
   "cell_type": "markdown",
   "metadata": {},
   "source": [
    "###   클래스 예제\n",
    "\n",
    "* **math.hypot(*coordinates)**\n",
    "    - 유클리드 크기(norm) sqrt(sum(x *** 2 for x in coordinates))를 반환합니다. 원점에서 coordinates로 지정된 점까지의 벡터의 길이입니다.\n",
    "\n",
    "    - 2차원 점 (x, y)의 경우, 피타고라스 정리를 사용하여 직각 삼각형의 빗변(hypotenuse)을 계산하는 것과 동등합니다, sqrt(x*x + y*y).\n",
    "\n",
    "    - 버전 3.8에서 변경: n 차원 점에 대한 지원이 추가되었습니다. 이전에는, 2차원인 경우만 지원되었습니다."
   ]
  },
  {
   "cell_type": "code",
   "execution_count": 14,
   "metadata": {
    "scrolled": true
   },
   "outputs": [
    {
     "name": "stdout",
     "output_type": "stream",
     "text": [
      "Point.__init__()\n",
      "10 10\n",
      "14.142135623730951\n",
      "Point.__init__()\n",
      "True\n",
      "hello\n"
     ]
    },
    {
     "ename": "TypeError",
     "evalue": "__str__ returned non-string (type NoneType)",
     "output_type": "error",
     "traceback": [
      "\u001b[1;31m---------------------------------------------------------------------------\u001b[0m",
      "\u001b[1;31mTypeError\u001b[0m                                 Traceback (most recent call last)",
      "\u001b[1;32m<ipython-input-14-98a40356e63f>\u001b[0m in \u001b[0;36m<module>\u001b[1;34m\u001b[0m\n\u001b[0;32m     29\u001b[0m     \u001b[0mprint\u001b[0m\u001b[1;33m(\u001b[0m\u001b[0mp1\u001b[0m \u001b[1;33m==\u001b[0m \u001b[0mp2\u001b[0m\u001b[1;33m)\u001b[0m \u001b[1;31m# __eq__가 없다면 False리턴한다. 이퀄 함수를 넣어서 같은 점을 같다고 판단하게 해줌\u001b[0m\u001b[1;33m\u001b[0m\u001b[1;33m\u001b[0m\u001b[0m\n\u001b[0;32m     30\u001b[0m \u001b[1;33m\u001b[0m\u001b[0m\n\u001b[1;32m---> 31\u001b[1;33m     \u001b[0mprint\u001b[0m\u001b[1;33m(\u001b[0m\u001b[0mp1\u001b[0m\u001b[1;33m)\u001b[0m \u001b[1;31m#객체 번지만 나온다. (10,10)이라고 나오지 않는다. 메인 모듈에 있는 포인트 함수의 객체다.\u001b[0m\u001b[1;33m\u001b[0m\u001b[1;33m\u001b[0m\u001b[0m\n\u001b[0m\u001b[0;32m     32\u001b[0m         \u001b[1;31m# 잘 알려진 컨테이너 와야 출력하는데 포인터 객체값이 와서 이상하게 출력나오는거\u001b[0m\u001b[1;33m\u001b[0m\u001b[1;33m\u001b[0m\u001b[1;33m\u001b[0m\u001b[0m\n\u001b[0;32m     33\u001b[0m         \u001b[1;31m# TypeError: __str__ returned non-string (type NoneType) 나온다\u001b[0m\u001b[1;33m\u001b[0m\u001b[1;33m\u001b[0m\u001b[1;33m\u001b[0m\u001b[0m\n",
      "\u001b[1;31mTypeError\u001b[0m: __str__ returned non-string (type NoneType)"
     ]
    }
   ],
   "source": [
    "#원의 데이터 컨테이너 생성\n",
    "\n",
    "import math\n",
    "\n",
    "class Point(object): \n",
    "    def __init__(self, x = 0, y = 0):  #멤버변수\n",
    "        print(\"Point.__init__()\")\n",
    "        self.x = x \n",
    "        self.y = y\n",
    "        \n",
    "    def distance_from_origin(self): #얼마나 떨어져있나\n",
    "        return math.hypot(self.x, self.y)\n",
    "    # math.hypot( 좌표) 유클리드 크기(norm) sqrt(sum(x**2 for x in coordinates))를 반환\n",
    "    # 즉 원점에서 coordinates로 지정된 점까지의 벡터의 길이이다.\n",
    "    \n",
    "    \n",
    "    def __eq__(self, other):# 두 점이 같으면 같은 점으로 봐야하니까\n",
    "        return self.x == other.x and self.y == other.y # 두 점이 같으면 같은 점으로 봐야해!\n",
    "    \n",
    "    def __str__(self): \n",
    "        print(\"hello\")\n",
    "    \n",
    "if __name__ == \"__main__\":\n",
    "    p1 = Point(10,10)\n",
    "    print(p1.x, p1.y)\n",
    "    print(p1.distance_from_origin()) #이만큼 떨어져 있다. 0,0에서 10,10의 대각선 길이\n",
    "    \n",
    "    p2 = Point(10,10)\n",
    "    print(p1 == p2) # __eq__가 없다면 False리턴한다. 이퀄 함수를 넣어서 같은 점을 같다고 판단하게 해줌\n",
    "    \n",
    "    print(p1) #객체 번지만 나온다. (10,10)이라고 나오지 않는다. 메인 모듈에 있는 포인트 함수의 객체다. \n",
    "        # 잘 알려진 컨테이너 와야 출력하는데 포인터 객체값이 와서 이상하게 출력나오는거\n",
    "        # TypeError: __str__ returned non-string (type NoneType) 나온다 "
   ]
  },
  {
   "cell_type": "code",
   "execution_count": 25,
   "metadata": {},
   "outputs": [
    {
     "name": "stdout",
     "output_type": "stream",
     "text": [
      "Point.__init__()\n",
      "10 10\n",
      "14.142135623730951\n",
      "Point.__init__()\n",
      "True\n",
      "hello\n"
     ]
    }
   ],
   "source": [
    "import math\n",
    "\n",
    "class Point(object):\n",
    "    def __init__(self, x = 0, y = 0):  #멤버변수\n",
    "        print(\"Point.__init__()\")\n",
    "        self.x = x \n",
    "        self.y = y\n",
    "        \n",
    "    def distance_from_origin(self): #얼마나 떨어져있나\n",
    "        return math.hypot(self.x, self.y)\n",
    "    \n",
    "    def __eq__(self, other):# 두 점이 같으면 같은 점으로 봐야하니까\n",
    "        return self.x == other.x and self.y == other.y # 두 점이 같으면 같은 점으로 봐야해!\n",
    "    \n",
    "    def __str__(self): \n",
    "        return \"hello\" #이렇게 스트링으로 줘야 나온다.\n",
    "    \n",
    "if __name__ == \"__main__\":\n",
    "    p1 = Point(10,10)\n",
    "    print(p1.x, p1.y)\n",
    "    print(p1.distance_from_origin()) #이만큼 떨어져 있다. 0,0에서 10,10의 대각선 길이\n",
    "    \n",
    "    p2 = Point(10,10)\n",
    "    print(p1 == p2) # __eq__가 없다면 False리턴한다. 이퀄 함수를 넣어서 같은 점을 같다고 판단하게 해줌\n",
    "    \n",
    "    print(p1) #객체 번지만 나온다. (10,10)이라고 나오지 않는다. 메인 모듈에 있는 포인트 함수의 객체다. \n",
    "        # 잘 알려진 컨테이너 와야 출력하는데 포인터 객체값이 와서 이상하게 출력나오는거\n",
    "        # TypeError: __str__ returned non-string (type NoneType) 나온다 "
   ]
  },
  {
   "cell_type": "code",
   "execution_count": 28,
   "metadata": {},
   "outputs": [
    {
     "name": "stdout",
     "output_type": "stream",
     "text": [
      "Point.__init__()\n",
      "10 10\n",
      "14.142135623730951\n",
      "Point.__init__()\n",
      "True\n",
      "(10, 10)\n"
     ]
    }
   ],
   "source": [
    "import math\n",
    "\n",
    "class Point(object):\n",
    "    def __init__(self, x = 0, y = 0):  #멤버변수\n",
    "        print(\"Point.__init__()\")\n",
    "        self.x = x \n",
    "        self.y = y\n",
    "        \n",
    "    def distance_from_origin(self): #얼마나 떨어져있나\n",
    "        return math.hypot(self.x, self.y)\n",
    "    \n",
    "    def __eq__(self, other):# 두 점이 같으면 같은 점으로 봐야하니까\n",
    "        return self.x == other.x and self.y == other.y # 두 점이 같으면 같은 점으로 봐야해!\n",
    "    \n",
    "    def __str__(self): \n",
    "        return \"({0.x!r}, {0.y!r})\".format(self) #이렇게해줘야 (10, 10) 나온다.\n",
    "        # 내 객체속에 있는 값을 찍어서 포매터에 의해 10,10 나오게 되는 식\n",
    "    \n",
    "if __name__ == \"__main__\":\n",
    "    p1 = Point(10,10)\n",
    "    print(p1.x, p1.y)\n",
    "    print(p1.distance_from_origin()) #이만큼 떨어져 있다. 0,0에서 10,10의 대각선 길이\n",
    "    \n",
    "    p2 = Point(10,10)\n",
    "    print(p1 == p2) # __eq__가 없다면 False리턴한다. 이퀄 함수를 넣어서 같은 점을 같다고 판단하게 해줌\n",
    "    \n",
    "    print(p1) #객체 번지만 나온다. (10,10)이라고 나오지 않는다. 메인 모듈에 있는 포인트 함수의 객체다. \n",
    "        # 잘 알려진 컨테이너 와야 출력하는데 포인터 객체값이 와서 이상하게 출력나오는거\n",
    "        # TypeError: __str__ returned non-string (type NoneType) 나온다     \n",
    "        "
   ]
  },
  {
   "cell_type": "code",
   "execution_count": 31,
   "metadata": {},
   "outputs": [
    {
     "name": "stdout",
     "output_type": "stream",
     "text": [
      "Point.__init__()\n",
      "10 10\n",
      "14.142135623730951\n",
      "Point.__init__()\n",
      "True\n",
      "(10, 10)\n"
     ]
    }
   ],
   "source": [
    "import math\n",
    "\n",
    "class Point(object):\n",
    "    def __init__(self, x = 0, y = 0):  #멤버변수\n",
    "        print(\"Point.__init__()\")\n",
    "        self.x = x \n",
    "        self.y = y\n",
    "        \n",
    "    def distance_from_origin(self): #얼마나 떨어져있나\n",
    "        return math.hypot(self.x, self.y)\n",
    "    \n",
    "    def __eq__(self, other):# 두 점이 같으면 같은 점으로 봐야하니까\n",
    "        return self.x == other.x and self.y == other.y # 두 점이 같으면 같은 점으로 봐야해!\n",
    "    \n",
    "    def __str__(self): \n",
    "        return \"({0.x!r}, {0.y!r})\".format(self) #이렇게해줘야 (10, 10) 나온다.\n",
    "        # 내 객체속에 있는 값을 찍어서 포매터에 의해 10,10 나오게 되는 식\n",
    "        #그냥 이쁘게 보이게 출력되게 하는 애\n",
    "    \n",
    "    def __repr__(self): #정밀하다, __str__와 다른건 point 넣어주는 것\n",
    "        return \"point ({0.x!r}, {0.y!r})\".format(self)\n",
    "        #객체를 선언할 때 그 선언한 클래스 ~\n",
    "    \n",
    "if __name__ == \"__main__\":\n",
    "    p1 = Point(10,10)\n",
    "    print(p1.x, p1.y)\n",
    "    print(p1.distance_from_origin()) #이만큼 떨어져 있다. 0,0에서 10,10의 대각선 길이\n",
    "    \n",
    "    p2 = Point(10,10)\n",
    "    print(p1 == p2) # __eq__가 없다면 False리턴한다. 이퀄 함수를 넣어서 같은 점을 같다고 판단하게 해줌\n",
    "    \n",
    "    print(p1) #객체 번지만 나온다. (10,10)이라고 나오지 않는다. 메인 모듈에 있는 포인트 함수의 객체다. \n",
    "        # 잘 알려진 컨테이너 와야 출력하는데 포인터 객체값이 와서 이상하게 출력나오는거\n",
    "        # TypeError: __str__ returned non-string (type NoneType) 나온다     \n",
    "        "
   ]
  },
  {
   "cell_type": "code",
   "execution_count": 30,
   "metadata": {},
   "outputs": [
    {
     "data": {
      "text/plain": [
       "point (10, 10)"
      ]
     },
     "execution_count": 30,
     "metadata": {},
     "output_type": "execute_result"
    }
   ],
   "source": [
    "p1"
   ]
  },
  {
   "cell_type": "code",
   "execution_count": 44,
   "metadata": {},
   "outputs": [
    {
     "name": "stdout",
     "output_type": "stream",
     "text": [
      "Point.__init__()\n",
      "10 10\n",
      "14.142135623730951\n",
      "Point.__init__()\n",
      "True\n",
      "point (10, 10)\n"
     ]
    }
   ],
   "source": [
    "import math\n",
    "\n",
    "class Point(object):\n",
    "    def __init__(self, x = 0, y = 0):  #멤버변수\n",
    "        print(\"Point.__init__()\")\n",
    "        self.x = x \n",
    "        self.y = y\n",
    "        \n",
    "    def distance_from_origin(self): #얼마나 떨어져있나\n",
    "        return math.hypot(self.x, self.y)\n",
    "    \n",
    "    def __eq__(self, other):# 두 점이 같으면 같은 점으로 봐야하니까\n",
    "        return self.x == other.x and self.y == other.y # 두 점이 같으면 같은 점으로 봐야해!\n",
    "    \n",
    "    def __repr__(self): #정밀하다, __str__와 다른건 point 넣어주는 것\n",
    "        return \"point ({0.x!r}, {0.y!r})\".format(self)\n",
    "        #객체를 선언할 때 그 선언한 클래스 ~\n",
    "    \n",
    "    def __str__(self): \n",
    "        return repr(self) #이렇게 내부적으로 통일해서 쓸 수 있다는 것.\n",
    "    \n",
    "    \n",
    "if __name__ == \"__main__\":\n",
    "    p1 = Point(10,10)\n",
    "    print(p1.x, p1.y)\n",
    "    print(p1.distance_from_origin()) #이만큼 떨어져 있다. 0,0에서 10,10의 대각선 길이\n",
    "    \n",
    "    p2 = Point(10,10)\n",
    "    print(p1 == p2) # __eq__가 없다면 False리턴한다. 이퀄 함수를 넣어서 같은 점을 같다고 판단하게 해줌\n",
    "    \n",
    "    print(p1) #객체 번지만 나온다. (10,10)이라고 나오지 않는다. 메인 모듈에 있는 포인트 함수의 객체다. \n",
    "        # 잘 알려진 컨테이너 와야 출력하는데 포인터 객체값이 와서 이상하게 출력나오는거\n",
    "        # TypeError: __str__ returned non-string (type NoneType) 나온다     \n",
    "        "
   ]
  },
  {
   "cell_type": "code",
   "execution_count": 16,
   "metadata": {},
   "outputs": [
    {
     "name": "stdout",
     "output_type": "stream",
     "text": [
      "Point.__init__()\n",
      "10 10\n",
      "14.142135623730951\n",
      "Point.__init__()\n",
      "True\n",
      "point (10, 10)\n",
      "Circle.__init__()\n",
      "Point.__init__()\n",
      "Circle (5, 20, 20)\n",
      "78.53981633974483\n",
      "31.41592653589793\n"
     ]
    }
   ],
   "source": [
    "import math\n",
    "\n",
    "class Point(object):\n",
    "    def __init__(self, x = 0, y = 0):  #멤버변수\n",
    "        print(\"Point.__init__()\")\n",
    "        self.x = x \n",
    "        self.y = y\n",
    "        \n",
    "    def distance_from_origin(self): #얼마나 떨어져있나\n",
    "        return math.hypot(self.x, self.y)\n",
    "    \n",
    "    def __eq__(self, other):# 두 점이 같으면 같은 점으로 봐야하니까\n",
    "        return self.x == other.x and self.y == other.y # 두 점이 같으면 같은 점으로 봐야해!\n",
    "    \n",
    "    def __repr__(self): #정밀하다, __str__와 다른건 point 넣어주는 것\n",
    "        return \"point ({0.x!r}, {0.y!r})\".format(self)\n",
    "        #객체를 선언할 때 그 선언한 클래스 ~\n",
    "    \n",
    "    def __str__(self): \n",
    "        return repr(self) #이렇게 내부적으로 통일해서 쓸 수 있다는 것.\n",
    "    \n",
    "class Circle(Point): #상속을 사용하여 Circle 서브클래스를 구현\n",
    "    def __init__(self, radius, x = 0, y = 0):  #멤버변수\n",
    "        print(\"Circle.__init__()\")\n",
    "        super().__init__(x,y) #부모 클래스를 대신하는 용어. super클래스를 호출하면 \"부모에 있는~\"\"\n",
    "        self.radius = radius\n",
    "        #부모쪽의 x, y 세팅되고 자기 것인 radius만 세팅해주면 된다.\n",
    "        \n",
    "    def edge_distance_from_origin(self): #자기자신의 distan~ 을 호출함\n",
    "        return abs(self.distance_from_origin() - self.radius) # 음수 나올 수 있어서 절댓값 씌우자\n",
    "        #오리지널로 부터 엣지(원의 지름까지) 떨어진 거리. 이미 부모를 이용.\n",
    "#         self는 나와 부모를 구현하는건데 나도 이닛이고 부모도 이닛이면 \n",
    "#         내거 호출한지 부모호출한지 모르기 때문에 super붙이는 것\n",
    "#         이름이 같지 않은 함수는 그냥 self를 사용해서 호출\n",
    "#         내쪽에 없으면 부모꺼 호출하게 되는 식\n",
    "    \n",
    "    def area(self): #원 면적 구하기\n",
    "        return math.pi * (self.radius**2)\n",
    "    \n",
    "    def circumference(self):\n",
    "        return 2*math.pi*self.radius\n",
    "    \n",
    "    def __eq__(self, other): #반지름 뿐만 아니라 중점도 비교해야 함\n",
    "        return self.radius == other.radius and super().__eq__(other) #부모쪽에서 중점 거리 비교\n",
    "    \n",
    "    def __repr__(self): #정밀하다, __str__와 다른건 point 넣어주는 것\n",
    "        return \"Circle ({0.radius!r}, {0.x!r}, {0.y!r})\".format(self)\n",
    "        #객체를 선언할 때 그 선언한 클래스 이름을 넣어줘\n",
    "    \n",
    "    def __str__(self): \n",
    "        return repr(self) #이렇게 내부적으로 통일해서 쓸 수 있다는 것.\n",
    "    \n",
    "if __name__ == \"__main__\":\n",
    "    p1 = Point(10,10)\n",
    "    print(p1.x, p1.y)\n",
    "    print(p1.distance_from_origin()) #이만큼 떨어져 있다. 0,0에서 10,10의 대각선 길이\n",
    "    \n",
    "    p2 = Point(10,10)\n",
    "    print(p1 == p2) # __eq__가 없다면 False리턴한다. 이퀄 함수를 넣어서 같은 점을 같다고 판단하게 해줌\n",
    "    \n",
    "    print(p1) #객체 번지만 나온다. (10,10)이라고 나오지 않는다. 메인 모듈에 있는 포인트 함수의 객체다. \n",
    "        # 잘 알려진 컨테이너 와야 출력하는데 포인터 객체값이 와서 이상하게 출력나오는거\n",
    "        # TypeError: __str__ returned non-string (type NoneType) 나온다     \n",
    "    \n",
    "    \n",
    "    c1 = Circle(5, 20, 20)\n",
    "    print(c1)\n",
    "    print(c1.area())\n",
    "    print(c1.circumference())"
   ]
  },
  {
   "cell_type": "markdown",
   "metadata": {},
   "source": [
    "# 7.1.1. 포맷 문자열 리터럴¶\n",
    "포맷 문자열 리터럴(간단히 f-문자열이라고도 합니다)은 문자열에 f 또는 F 접두어를 붙이고 표현식을 {expression}로 작성하여 문자열에 파이썬 표현식의 값을 삽입할 수 있게 합니다.\n",
    "\n",
    "선택적인 포맷 지정자가 표현식 뒤에 올 수 있습니다. 이것으로 값이 포맷되는 방식을 더 정교하게 제어할 수 있습니다. 다음 예는 원주율을 소수점 이하 세 자리로 반올림합니다.\n",
    "```python\n",
    ">>>\n",
    ">>> import math\n",
    ">>> print(f'The value of pi is approximately {math.pi:.3f}.')\n",
    "The value of pi is approximately 3.142.\n",
    "```\n",
    "\n",
    "':' 뒤에 정수를 전달하면 해당 필드의 최소 문자 폭이 됩니다. 열을 줄 맞춤할 때 편리합니다.\n",
    "\n",
    "```python\n",
    ">>>\n",
    ">>> table = {'Sjoerd': 4127, 'Jack': 4098, 'Dcab': 7678}\n",
    ">>> for name, phone in table.items():\n",
    "...     print(f'{name:10} ==> {phone:10d}')\n",
    "...\n",
    "Sjoerd     ==>       4127\n",
    "Jack       ==>       4098\n",
    "Dcab       ==>       7678\n",
    "```\n",
    "\n",
    "다른 수정자를 사용하면 포맷되기 전에 값을 변환할 수 있습니다. '!a'는 ascii()를, '!s'는 str()을, '!r'는 repr()을 적용합니다.:\n",
    "\n",
    "```python\n",
    ">>> animals = 'eels'\n",
    ">>> print(f'My hovercraft is full of {animals}.')\n",
    "My hovercraft is full of eels.\n",
    ">>> print(f'My hovercraft is full of {animals!r}.')\n",
    "My hovercraft is full of 'eels'.\n",
    "```\n",
    "\n",
    "이러한 포맷 사양에 대한 레퍼런스는 포맷 명세 미니 언어에 대한 레퍼런스 지침서를 참조하십시오."
   ]
  },
  {
   "cell_type": "markdown",
   "metadata": {},
   "source": [
    "# 소결 : __str__과 __repr__의 차이\n",
    "\n",
    "## 1.\n",
    "   __str__과 __repr__은 객체를 사용자가 이해할 수 있는 문자열로 반환하는 함수이다. \n",
    "    \n",
    "## 2. 이해\n",
    "   \n",
    "   ### 2.1 어떤 작업 후 정수나 소수 등의 자료형을 출력하거나, 접합(concatenating)등의 작업을 할 때 str을 통해 가공한다.\n",
    "        \n",
    "```python\n",
    "\n",
    "def add_expr(a, b):\n",
    "return str(a) + ' + ' str(b)\n",
    "\n",
    "add_expr(3, 5)\n",
    "\n",
    ">>> '3 + 5'\n",
    "\n",
    "```\n",
    " * str은 입력 받은 객체의 문자열 버전을 반환하는 함수다. 위의 함수는 숫자를 받아 str 함수를 통해 정수를 문자열로 변환했다 \n",
    " \n",
    " * 이때 기억할 것은 str은 사실 내장 함수가 아니고, 파이썬의 기본 내장 클래스라는 것. *str(3)* 처럼 입력하는 것은 내장 함수 str을 실행하는 것이 아니고 사실 내장 str클래스의 생성자 메소드를 실행하고 그 인자로 3을 주는 것과 같다. str이 클래스라는 것은 *help(str)*만 입력해보면 바로 확인 가능하다\n",
    " \n",
    " * str과 \\_\\_str__ 은 그럼 무슨 관련이 있을까?\n",
    "     - 파이썬의 OOP(객체지향프로그래밍)과 관련이 있따. 파이썬에는 내장된 많은 자료형들에, 해당하는 자료형에 대한 연산을 정의하는 메소드들이 있다. 그 메소드들은 메소드의 이름 앞뒤에 '\\_\\_'(double underscore)를 지닌다\n",
    "     \n",
    "``` python\n",
    ">>> isinstance(3, int)\n",
    "\n",
    "True\n",
    "```\n",
    "\n",
    " * *instance*내장 함수는 첫 인자가 두 번째 인자의 인스턴스인지의 여부를 반환하는 함수. 3이 'int'클래스의 인스턴스임을 확인 가능\n",
    "     - int클래스에서는 '+'연산을 처리하는 \\_\\_add__메소드를 정의하고 있고, '+'기호가 들어왔을 때 이 메소드가 실행되는 구조다. \n",
    "     - 다시 말해 어떤 값에 대해 +, -, \\*, 등의 연산자를 취하는 것은 내부적으로 \\*\\_\\_add__, \\*\\_\\_sub__, 등의 메소드를 실행하는 것과 동일하다.\n",
    "\n",
    "\n",
    "```python\n",
    "# 1.\n",
    ">>> 3 + 5  # 내부적으로 밑 문장을 실행\n",
    ">>> (3).__add__(5)  # '(3)'처럼 ()로 감싸야 한다. 소수와 구별해야 하기 때문이다.\n",
    "\n",
    "8\n",
    "\n",
    "# 2.\n",
    ">>> [1, 2, 3] + [4, 5, 6]  # 내부적으로 밑 문장을 실행!\n",
    ">>> [1, 2, 3].__add__([4,5,6])\n",
    "\n",
    "[1, 2, 3, 4, 5, 6]\n",
    "```\n",
    "  * 첫 번째 예에서 ‘3 + 5’는 ‘3’이라는 정수 인스턴스에 대해 __add__ 메소드를 호출한다. \n",
    "      - 그 값은 ‘5’를 받아 새로운 정수 8을 반환하게 된다. 1번에서 두 문장은 완전히 동일하다.\n",
    "\n",
    "* 두 번째 예는 같은 ‘+’ 연산자에 대해 클래스마다 다른 구현이 되어 있음을 보여주고 있다. \n",
    "    - list 자료형은 ‘+’ 연산에 대해 값을 더하는 것이 아닌 접합(concatenate)을 하고 새로 생성된 list를 반환한다. 각종 파이썬의 연산들에는 이런 마법들이 많이 있다. 실제로 클래스들에서 구현하는 위와 같은 메소드들을 ‘Magic method’라고 하며 매우 많은 목록이 존재한다.(밑의 자료 출처에서 확인하면 된다.)\n",
    "    \n",
    "* str와 __str__, repr과 __repr__의 관계도 이와 동일하다.\n",
    "    - 어떤 객체 object에 str, repr 함수를 씌우면 해당 객체의 클래스에 정의되어 있는 __str__, __repr__ 메소드가 해당 객체에 실행되고, 두 메소드에 있는 코드를 실행한다.\n",
    "\n",
    "* 다시 말해 str, repr 함수가 인스턴스의 __str__, __repr__ 메소드를 각각 호출한다고 이해할 수 있다. 앞서 살펴본 __add__ 등도 똑같다.\n",
    "\n",
    "\n",
    " ### 2.2. repr, __repr__\n",
    " \n",
    "* repr 함수는 어떤 객체의 ‘출력될 수 있는 표현’(printable representation)을 문자열의 형태로 반환한다. 다시 말해 해당 객체를 설명해줄 수 있는, 그리고 화면에 출력될 수 있는 문자열 표현을 반환하는 것이다. repr 함수의 적용 예시\n",
    "\n",
    "```python\n",
    "import math\n",
    "\n",
    ">>> repr(3)\n",
    ">>> repr([1, 2, 3])\n",
    ">>> repr(math)\n",
    "\n",
    "\n",
    "'3'\n",
    "'[1, 2, 3']\n",
    "\"<module 'math' from ...>\"\n",
    "```\n",
    "* 어떤 객체를 인자로 해서 repr 함수를 실행하면 해당 객체의 클래스에 정의된 __repr__를 실행해 그 결과를 반환한다.\n",
    "\n",
    "\n",
    "## 3. 공통점\n",
    "\n",
    "* 두 메소드는 객체의 문자열 표현을 반환한다.\n",
    "    - 확인했듯이 두 메소드는 객체가 어떤 데이터 타입이든지간에 객체의 문자열 표현을 반환한다. 이는 중요한 질문을 수반한다. **‘왜 문자열 표현인가?’** 그 이유는 일반적인 문자열 평문(plain text)은 파이썬을 사용하는 모든 인간들이 이해할 수 있는 Universal interface이기 때문이다. \n",
    "    \n",
    "    \n",
    "## 4. 차이점\n",
    "이 둘의 차이는 본질적으로 의도된 사용처가 다르다는 데서 기인한다.\n",
    "\n",
    "### * __str__는 태생적인 목적 자체가 인자를 ‘문자열화’해 반환하라는 것이다.평문 문자는 Universal Interface이기 때문에, 서로 다른 데이터 타입이 상호작용하는 좋은 인터페이스가 된다.(인터페이스라는 데 주목)\n",
    "    \n",
    "    이를 극적으로 보여주는 사례가 바로 그 누구나 아는 print라는 함수이다. 아시다시피 이 함수는 인자를 제한없이(0개 이상) 받을 수 있는데\n",
    "    \n",
    "```python\n",
    ">>> a = 1\n",
    ">>> b = '가'\n",
    ">>> c = [1, 2, 3, 4, 5]\n",
    "\n",
    ">>> print(a, b, c)\n",
    "\n",
    "1 가 [1, 2, 3, 4, 5]\n",
    "```\n",
    "* a, b, c는 서로 다른 테이터 타입의 변수이다. 그런데 print 함수는 인자들의 타입을 묻지도 따지지도 않고 문제없이 연결해서 출력했다. \n",
    "    - ‘[1] + 1’ 같은 문장을 실행시키면 TypeError가 발생하는 것과는 대조적이다. 이것이 가능한 것은 a, b, c에 해당하는 int, str, list 자료형이 각 객체를 ‘문자열’로 반환하는 __str__ 메소드를 내부적으로 구현하고 있고, 문자열은 Universal Interface이기 때문에 출처가 서로 완전히 다른 자료형임에도 문자열화된 인자들을 매끄럽게 이을 수 있었기 때문\n",
    "\n",
    "\n",
    "* 따라서 __str__의 본질적인 목적은 객체를 ‘표현’하는 것(representation)에 있다기보다는 추가적인 가공이나 다른 데이터와 호환될 수 있도록 문자열화하는 데 있다\n",
    "\n",
    "\n",
    "재미있는 부분은 print가 인자들을 str화해서 출력한다는 것이다\n",
    "\n",
    "```python\n",
    "class A:\n",
    "    def __str__(self):\n",
    "        return 'str method is called'\n",
    "\n",
    "    def __repr__(self):\n",
    "        return 'repr method is called'\n",
    "\n",
    ">>> a = A()\n",
    " \n",
    ">>> str(a)  # 1.\n",
    ">>> a  # 2.\n",
    "\n",
    "# Look at here!\n",
    ">>> print(a)  # 3.\n",
    "\n",
    "'str method is called' # 1.\n",
    "repr method is called  # 2.\n",
    "\n",
    "# Look at here!\n",
    "str method is called   # 3\n",
    "```\n",
    "\n",
    "\n",
    "### * __repr__은 본 목적이 객체를 인간이 이해할 수 있는 평문으로 ‘표현’하라는 것이다.\n",
    "\n",
    "__str__가 서로 다른 자료형 간에 인터페이스를 제공하기 위해서 존재한다면, __repr__은 해당 객체를 인간이 이해할 수 있는 표현으로 나타내기 위한 용도이다.\n",
    "        - 위의 예시들에서 기본 내장 데이터 타입에 대해 두 함수의 반환값이 매우 비슷했던 것은 기본 내장 클래스에서 객체를 ‘표현’하는 것과 다른 데이터 타입과의 상호작용을 위한 ‘인터페이스’가 되는 것이 비슷했기 때문이다.\n",
    "\n"
   ]
  },
  {
   "cell_type": "markdown",
   "metadata": {},
   "source": [
    "### 데커레이터 패턴"
   ]
  },
  {
   "cell_type": "code",
   "execution_count": 48,
   "metadata": {},
   "outputs": [
    {
     "ename": "NameError",
     "evalue": "name 'my_decorator' is not defined",
     "output_type": "error",
     "traceback": [
      "\u001b[1;31m---------------------------------------------------------------------------\u001b[0m",
      "\u001b[1;31mNameError\u001b[0m                                 Traceback (most recent call last)",
      "\u001b[1;32m<ipython-input-48-a08032f6c918>\u001b[0m in \u001b[0;36m<module>\u001b[1;34m\u001b[0m\n\u001b[1;32m----> 1\u001b[1;33m \u001b[1;32mclass\u001b[0m \u001b[0mC\u001b[0m\u001b[1;33m(\u001b[0m\u001b[0mobject\u001b[0m\u001b[1;33m)\u001b[0m\u001b[1;33m:\u001b[0m\u001b[1;33m\u001b[0m\u001b[1;33m\u001b[0m\u001b[0m\n\u001b[0m\u001b[0;32m      2\u001b[0m     \u001b[1;33m@\u001b[0m\u001b[0mmy_decorator\u001b[0m\u001b[1;33m\u001b[0m\u001b[1;33m\u001b[0m\u001b[0m\n\u001b[0;32m      3\u001b[0m     \u001b[1;32mdef\u001b[0m \u001b[0mmethod\u001b[0m\u001b[1;33m(\u001b[0m\u001b[0mself\u001b[0m\u001b[1;33m)\u001b[0m\u001b[1;33m:\u001b[0m\u001b[1;33m\u001b[0m\u001b[1;33m\u001b[0m\u001b[0m\n\u001b[0;32m      4\u001b[0m         \u001b[1;32mpass\u001b[0m\u001b[1;33m\u001b[0m\u001b[1;33m\u001b[0m\u001b[0m\n",
      "\u001b[1;32m<ipython-input-48-a08032f6c918>\u001b[0m in \u001b[0;36mC\u001b[1;34m()\u001b[0m\n\u001b[0;32m      1\u001b[0m \u001b[1;32mclass\u001b[0m \u001b[0mC\u001b[0m\u001b[1;33m(\u001b[0m\u001b[0mobject\u001b[0m\u001b[1;33m)\u001b[0m\u001b[1;33m:\u001b[0m\u001b[1;33m\u001b[0m\u001b[1;33m\u001b[0m\u001b[0m\n\u001b[1;32m----> 2\u001b[1;33m     \u001b[1;33m@\u001b[0m\u001b[0mmy_decorator\u001b[0m\u001b[1;33m\u001b[0m\u001b[1;33m\u001b[0m\u001b[0m\n\u001b[0m\u001b[0;32m      3\u001b[0m     \u001b[1;32mdef\u001b[0m \u001b[0mmethod\u001b[0m\u001b[1;33m(\u001b[0m\u001b[0mself\u001b[0m\u001b[1;33m)\u001b[0m\u001b[1;33m:\u001b[0m\u001b[1;33m\u001b[0m\u001b[1;33m\u001b[0m\u001b[0m\n\u001b[0;32m      4\u001b[0m         \u001b[1;32mpass\u001b[0m\u001b[1;33m\u001b[0m\u001b[1;33m\u001b[0m\u001b[0m\n",
      "\u001b[1;31mNameError\u001b[0m: name 'my_decorator' is not defined"
     ]
    }
   ],
   "source": [
    "class C(object):\n",
    "    @my_decorator \n",
    "    def method(self):\n",
    "        pass\n",
    "    \n",
    "#파이썬의 정식 문법으로 @로 표현하는 것이 데코레이터 문법이다\n",
    "# @"
   ]
  },
  {
   "cell_type": "code",
   "execution_count": 19,
   "metadata": {},
   "outputs": [
    {
     "ename": "NameError",
     "evalue": "name 'my_decorator' is not defined",
     "output_type": "error",
     "traceback": [
      "\u001b[1;31m---------------------------------------------------------------------------\u001b[0m",
      "\u001b[1;31mNameError\u001b[0m                                 Traceback (most recent call last)",
      "\u001b[1;32m<ipython-input-19-d2e1a79b3d92>\u001b[0m in \u001b[0;36m<module>\u001b[1;34m\u001b[0m\n\u001b[0;32m      1\u001b[0m \u001b[1;31m#위 코드가 뜻하는 바는 아래와 같다\u001b[0m\u001b[1;33m\u001b[0m\u001b[1;33m\u001b[0m\u001b[1;33m\u001b[0m\u001b[0m\n\u001b[1;32m----> 2\u001b[1;33m \u001b[1;32mclass\u001b[0m \u001b[0mC\u001b[0m\u001b[1;33m(\u001b[0m\u001b[0mobject\u001b[0m\u001b[1;33m)\u001b[0m\u001b[1;33m:\u001b[0m\u001b[1;33m\u001b[0m\u001b[1;33m\u001b[0m\u001b[0m\n\u001b[0m\u001b[0;32m      3\u001b[0m     \u001b[1;32mdef\u001b[0m \u001b[0mmethod\u001b[0m\u001b[1;33m(\u001b[0m\u001b[0mself\u001b[0m\u001b[1;33m)\u001b[0m\u001b[1;33m:\u001b[0m\u001b[1;33m\u001b[0m\u001b[1;33m\u001b[0m\u001b[0m\n\u001b[0;32m      4\u001b[0m         \u001b[1;32mpass\u001b[0m\u001b[1;33m\u001b[0m\u001b[1;33m\u001b[0m\u001b[0m\n\u001b[0;32m      5\u001b[0m \u001b[1;33m\u001b[0m\u001b[0m\n",
      "\u001b[1;32m<ipython-input-19-d2e1a79b3d92>\u001b[0m in \u001b[0;36mC\u001b[1;34m()\u001b[0m\n\u001b[0;32m      4\u001b[0m         \u001b[1;32mpass\u001b[0m\u001b[1;33m\u001b[0m\u001b[1;33m\u001b[0m\u001b[0m\n\u001b[0;32m      5\u001b[0m \u001b[1;33m\u001b[0m\u001b[0m\n\u001b[1;32m----> 6\u001b[1;33m     \u001b[0mmethod\u001b[0m \u001b[1;33m=\u001b[0m \u001b[0mmy_decorator\u001b[0m\u001b[1;33m(\u001b[0m\u001b[0mmethod\u001b[0m\u001b[1;33m)\u001b[0m \u001b[1;31m#내 함수의 데코레이터에 넘겨줘서 데코레이터 내부에서 호출한다는 것\u001b[0m\u001b[1;33m\u001b[0m\u001b[1;33m\u001b[0m\u001b[0m\n\u001b[0m\u001b[0;32m      7\u001b[0m     \u001b[1;31m#이렇게 거쳐서 호출하는게 어떤 이점이 있나?\u001b[0m\u001b[1;33m\u001b[0m\u001b[1;33m\u001b[0m\u001b[1;33m\u001b[0m\u001b[0m\n",
      "\u001b[1;31mNameError\u001b[0m: name 'my_decorator' is not defined"
     ]
    }
   ],
   "source": [
    "#위 코드가 뜻하는 바는 아래와 같다\n",
    "class C(object):\n",
    "    def method(self):\n",
    "        pass\n",
    "    \n",
    "    method = my_decorator(method) #내 함수의 데코레이터에 넘겨줘서 데코레이터 내부에서 호출한다는 것\n",
    "    #이렇게 거쳐서 호출하는게 어떤 이점이 있나?"
   ]
  },
  {
   "cell_type": "code",
   "execution_count": 25,
   "metadata": {},
   "outputs": [
    {
     "name": "stdout",
     "output_type": "stream",
     "text": [
      "random_tree() 2.363996500000212\n"
     ]
    }
   ],
   "source": [
    "import random\n",
    "import time\n",
    "\n",
    "def random_tree(n):\n",
    "    t = time.perf_counter()  # perf_counter()는 sleep함수를 호출하여 대기한 시간을 포함하여 측정한다.\n",
    "    temp = [ n for n in range(n)] #리스트가 돈다\n",
    "    \n",
    "    for i in range(n+1): # 1부터 1000000만사이의 숫자\n",
    "        temp[random.choice(temp)] = random.choice(temp) #임의로 선택헤서 리스트에 업데이트 빨리 하는지\n",
    "    print(\"{0} {1}\".format( \"random_tree()\", time.perf_counter() - t))\n",
    "    return temp\n",
    "\n",
    "#이렇게 하면 노가다가 심하다 \n",
    "\n",
    "if __name__ == \"__main__\":\n",
    "    random_tree(1000000)"
   ]
  },
  {
   "cell_type": "code",
   "execution_count": 26,
   "metadata": {},
   "outputs": [
    {
     "name": "stdout",
     "output_type": "stream",
     "text": [
      "[0, 1, 2, 3, 4, 5, 6, 7, 8, 9]\n"
     ]
    }
   ],
   "source": [
    "def ramdo(n):\n",
    "    a = [n for n in range(n)]\n",
    "    print(a)\n",
    "    \n",
    "if __name__ == \"__main__\":\n",
    "    ramdo(10)"
   ]
  },
  {
   "cell_type": "code",
   "execution_count": 59,
   "metadata": {},
   "outputs": [
    {
     "name": "stdout",
     "output_type": "stream",
     "text": [
      "random_tree() 2.4812197000001106\n"
     ]
    }
   ],
   "source": [
    "import random\n",
    "import time\n",
    "\n",
    "def benchmark(func): # random_tree를 인자로 받는다\n",
    "    def wrapper(*args, **kwargs): #함수 안에 함수 넣을 수 있다. 클로져 라고 함\n",
    "        t = time.perf_counter()\n",
    "        res = func(*args, **kwargs)\n",
    "        print(\"{0} {1}\".format( \"random_tree()\", time.perf_counter() - t))\n",
    "    return wrapper #내부함수를 리턴함.  args가 100000을 인자로 받음. 그대로 호출됨\n",
    "        # 그럼 random_tree에 시간관련 넣지 않아도 되는 것이다\n",
    "\n",
    "def random_tree(n):\n",
    "    temp = [ n for n in range(n)] #리스트가 돈다\n",
    "    for i in range(n+1):\n",
    "        temp[random.choice(temp)] = random.choice(temp) #임의로 선택헤서 리스트에 업데이트 빨리 하는지\n",
    "    return temp\n",
    "\n",
    "#일일이 퍼포먼스 타임 재지 않아도 호출 할 수 있게 된다. \n",
    "#하지만 호출자가 벤치마크 함수 이름을 알아서 random_tree 함수 넣고 해야되는 번거로움이 있다\n",
    "\n",
    "if __name__ == \"__main__\":\n",
    "    random_tree = benchmark(random_tree)\n",
    "    random_tree(1000000)"
   ]
  },
  {
   "cell_type": "code",
   "execution_count": 62,
   "metadata": {},
   "outputs": [
    {
     "name": "stdout",
     "output_type": "stream",
     "text": [
      "random_tree() 2.46229140000014\n"
     ]
    }
   ],
   "source": [
    "# 데코레이터를 활용한다면\n",
    "\n",
    "import random\n",
    "import time\n",
    "\n",
    "def benchmark(func): # random_tree를 인자로 받는다\n",
    "    def wrapper(*args, **kwargs): #함수 안에 함수 넣을 수 있다. 클로져 라고 함\n",
    "        t = time.perf_counter()\n",
    "        res = func(*args, **kwargs)\n",
    "        print(\"{0} {1}\".format( \"random_tree()\", time.perf_counter() - t))\n",
    "    return wrapper #내부함수를 리턴함.  args가 100000을 인자로 받음. 그대로 호출됨\n",
    "        # 그럼 random_tree에 시간관련 넣지 않아도 되는 것이다\n",
    "    \n",
    "@benchmark  #대신 이렇게 써주면 \n",
    "def random_tree(n):\n",
    "    temp = [ n for n in range(n)] #리스트가 돈다\n",
    "    for i in range(n+1):\n",
    "        temp[random.choice(temp)] = random.choice(temp) #임의로 선택헤서 리스트에 업데이트 빨리 하는지\n",
    "    return temp\n",
    "\n",
    "#일일이 퍼포먼스 타임 재지 않아도 호출 할 수 있게 된다. \n",
    "#하지만 호출자가 벤치마크 함수 이름을 알아서 random_tree 함수 넣고 해야되는 번거로움이 있다\n",
    "\n",
    "if __name__ == \"__main__\":\n",
    "    #random_tree = benchmark(random_tree)  이 코드를 써주지 않아도 된다\n",
    "    random_tree(1000000)\n",
    "    \n",
    "    # 디버깅과 유지보수가 용이해진다!"
   ]
  },
  {
   "cell_type": "code",
   "execution_count": 69,
   "metadata": {},
   "outputs": [
    {
     "name": "stdout",
     "output_type": "stream",
     "text": [
      "foo(<__main__.A object at 0x000001CA10C3AD08>, 1) 실행\n"
     ]
    },
    {
     "ename": "TypeError",
     "evalue": "static_foo() takes 1 positional argument but 2 were given",
     "output_type": "error",
     "traceback": [
      "\u001b[1;31m---------------------------------------------------------------------------\u001b[0m",
      "\u001b[1;31mTypeError\u001b[0m                                 Traceback (most recent call last)",
      "\u001b[1;32m<ipython-input-69-6d23584488a3>\u001b[0m in \u001b[0;36m<module>\u001b[1;34m\u001b[0m\n\u001b[0;32m     10\u001b[0m     \u001b[0ma\u001b[0m \u001b[1;33m=\u001b[0m \u001b[0mA\u001b[0m\u001b[1;33m(\u001b[0m\u001b[1;33m)\u001b[0m\u001b[1;33m\u001b[0m\u001b[1;33m\u001b[0m\u001b[0m\n\u001b[0;32m     11\u001b[0m     \u001b[0ma\u001b[0m\u001b[1;33m.\u001b[0m\u001b[0mfoo\u001b[0m\u001b[1;33m(\u001b[0m\u001b[1;36m1\u001b[0m\u001b[1;33m)\u001b[0m \u001b[1;31m#객체의 정보와 인자의 정보가 출력된다\u001b[0m\u001b[1;33m\u001b[0m\u001b[1;33m\u001b[0m\u001b[0m\n\u001b[1;32m---> 12\u001b[1;33m     \u001b[0ma\u001b[0m\u001b[1;33m.\u001b[0m\u001b[0mstatic_foo\u001b[0m\u001b[1;33m(\u001b[0m\u001b[1;36m2\u001b[0m\u001b[1;33m)\u001b[0m \u001b[1;31m# 안된다. self 뺀다고 해서 되는게 아니다. 모든 객체 함수는\u001b[0m\u001b[1;33m\u001b[0m\u001b[1;33m\u001b[0m\u001b[0m\n\u001b[0m\u001b[0;32m     13\u001b[0m                 \u001b[1;31m#self가 들어가는 멤버함수로 만들어야 한다\u001b[0m\u001b[1;33m\u001b[0m\u001b[1;33m\u001b[0m\u001b[1;33m\u001b[0m\u001b[0m\n",
      "\u001b[1;31mTypeError\u001b[0m: static_foo() takes 1 positional argument but 2 were given"
     ]
    }
   ],
   "source": [
    "class A(object):\n",
    "    def foo(self, x):\n",
    "        print(\"foo({0}, {1}) 실행\".format(self, x))\n",
    "        \n",
    "    def static_foo(x):\n",
    "        print(\"static_foo({0}) 실행\".format(x))\n",
    "        \n",
    "\n",
    "if __name__ == \"__main__\":\n",
    "    a = A()\n",
    "    a.foo(1) #객체의 정보와 인자의 정보가 출력된다\n",
    "    a.static_foo(2) # 안된다. self 뺀다고 해서 되는게 아니다. 모든 객체 함수는\n",
    "                #self가 들어가는 멤버함수로 만들어야 한다"
   ]
  },
  {
   "cell_type": "code",
   "execution_count": 70,
   "metadata": {},
   "outputs": [
    {
     "name": "stdout",
     "output_type": "stream",
     "text": [
      "foo(<__main__.A object at 0x000001CA0D44F688>, 1) 실행\n",
      "static_foo(2) 실행\n"
     ]
    }
   ],
   "source": [
    "class A(object):\n",
    "    def foo(self, x):\n",
    "        print(\"foo({0}, {1}) 실행\".format(self, x))\n",
    "        \n",
    "    @staticmethod   #데코레이터 사용하면 위의 에러와 양상이 달라진다\n",
    "    def static_foo(x):\n",
    "        print(\"static_foo({0}) 실행\".format(x))\n",
    "        \n",
    "\n",
    "if __name__ == \"__main__\":\n",
    "    a = A()\n",
    "    a.foo(1) #객체의 정보와 인자의 정보가 출력된다\n",
    "    #a.static_foo(2) \n",
    "    A.static_foo(2) #스테틱 멤버 펑션"
   ]
  },
  {
   "cell_type": "code",
   "execution_count": 27,
   "metadata": {},
   "outputs": [
    {
     "name": "stdout",
     "output_type": "stream",
     "text": [
      "foo(<__main__.A object at 0x00000217D709F0C8>, 1) 실행\n",
      "static_foo(2) 실행\n",
      "class_foo(<__main__.A object at 0x00000217D709F0C8>, 3) 실행\n"
     ]
    }
   ],
   "source": [
    "class A(object):\n",
    "    def foo(self, x):\n",
    "        print(\"foo({0}, {1}) 실행\".format(self, x))\n",
    "    \n",
    "    def class_foo(cls, x): # 이름만 cls일뿐 self랑 같은것이다.\n",
    "                            # 그래서 객체 번지주소가 같다\n",
    "                            #아직은 클래스 함수 아니다\n",
    "        print(\"class_foo({0}, {1}) 실행\".format(cls, x))\n",
    "    \n",
    "    @staticmethod   \n",
    "    def static_foo(x):\n",
    "        print(\"static_foo({0}) 실행\".format(x))\n",
    "        \n",
    "\n",
    "if __name__ == \"__main__\":\n",
    "    a = A()\n",
    "    a.foo(1) #객체의 정보와 인자의 정보가 출력된다\n",
    "    #a.static_foo(2) \n",
    "    A.static_foo(2) #스테틱 멤버 펑션\n",
    "    a.class_foo(3)"
   ]
  },
  {
   "cell_type": "code",
   "execution_count": 73,
   "metadata": {},
   "outputs": [
    {
     "name": "stdout",
     "output_type": "stream",
     "text": [
      "foo(<__main__.A object at 0x000001CA0D45D148>, 1) 실행\n",
      "static_foo(2) 실행\n",
      "class_foo(<class '__main__.A'>, 3) 실행\n"
     ]
    }
   ],
   "source": [
    "class A(object):\n",
    "    def foo(self, x):\n",
    "        print(\"foo({0}, {1}) 실행\".format(self, x))\n",
    "        \n",
    "        \n",
    "    @classmethod # 데코레이터를 넣어줘야진정한 클래스 함수가 된다\n",
    "    def class_foo(cls, x): \n",
    "         print(\"class_foo({0}, {1}) 실행\".format(cls, x))\n",
    "    \n",
    "    @staticmethod   \n",
    "    def static_foo(x):\n",
    "        print(\"static_foo({0}) 실행\".format(x))\n",
    "        \n",
    "\n",
    "if __name__ == \"__main__\":\n",
    "    a = A()\n",
    "    a.foo(1) #객체의 정보와 인자의 정보가 출력된다\n",
    "    #a.static_foo(2) \n",
    "    A.static_foo(2) \n",
    "    a.class_foo(3)"
   ]
  },
  {
   "cell_type": "markdown",
   "metadata": {},
   "source": [
    "### 프로퍼티 "
   ]
  },
  {
   "cell_type": "code",
   "execution_count": 85,
   "metadata": {},
   "outputs": [
    {
     "name": "stdout",
     "output_type": "stream",
     "text": [
      "홍길동\n"
     ]
    }
   ],
   "source": [
    "class C :\n",
    "    def __init__(self,name):\n",
    "        self.name = name\n",
    "    \n",
    "\n",
    "\n",
    "if __name__ == \"__main__\":\n",
    "    c = C(\"홍길동\")\n",
    "    print(c.name) \n",
    "    \n",
    "    \n",
    "#모든 객체지향은 getter와 setter를 만드는게 핵심"
   ]
  },
  {
   "cell_type": "code",
   "execution_count": 83,
   "metadata": {},
   "outputs": [
    {
     "name": "stdout",
     "output_type": "stream",
     "text": [
      "홍길동\n",
      "임꺽정\n"
     ]
    }
   ],
   "source": [
    "class C :\n",
    "    def __init__(self,name):\n",
    "        self.name = name\n",
    "    \n",
    "    def getName(self):\n",
    "        return self.name\n",
    "    \n",
    "    def setName(self, new_name):\n",
    "        self.name = new_name\n",
    "\n",
    "\n",
    "if __name__ == \"__main__\":\n",
    "    c = C(\"홍길동\")\n",
    "    print(c.getName()) #인터페이스\n",
    "    c.setName(\"임꺽정\")\n",
    "    print(c.getName())\n",
    "    \n",
    "    \n"
   ]
  },
  {
   "cell_type": "code",
   "execution_count": 93,
   "metadata": {},
   "outputs": [
    {
     "name": "stdout",
     "output_type": "stream",
     "text": [
      "C.getter()\n",
      "홍길동\n",
      "C.setter()\n",
      "C.getter()\n",
      "임꺽정\n"
     ]
    }
   ],
   "source": [
    "class C :\n",
    "    def __init__(self,name):\n",
    "        self._name = name\n",
    "        \n",
    "    @property #property 하면 그냥 getter가 됨\n",
    "    def name(self): #getter로 사용됨\n",
    "        print(\"C.getter()\")\n",
    "        return self._name\n",
    "    \n",
    "    @name.setter \n",
    "    def name(self, new_name): #setter로 사용됨\n",
    "        print(\"C.setter()\")\n",
    "        self._name = new_name\n",
    "\n",
    "\n",
    "if __name__ == \"__main__\":\n",
    "    c = C(\"홍길동\")\n",
    "    print(c.name) \n",
    "    c.name=\"임꺽정\"\n",
    "    print(c.name)\n",
    "    \n",
    "    \n"
   ]
  },
  {
   "cell_type": "code",
   "execution_count": 31,
   "metadata": {},
   "outputs": [
    {
     "name": "stdout",
     "output_type": "stream",
     "text": [
      "C.getter()\n",
      "홍길동\n",
      "C.setter()\n",
      "C.getter()\n",
      "임꺽정\n"
     ]
    }
   ],
   "source": [
    "class C :\n",
    "    def __init__(self,name):\n",
    "        self._name = name\n",
    "        \n",
    "    @property #property 하면 그냥 getter가 됨\n",
    "    def name(self): #getter로 사용됨\n",
    "        print(\"C.getter()\")\n",
    "        return self._name\n",
    "    \n",
    "    @name.setter \n",
    "    def name(self, new_name): #setter로 사용됨\n",
    "        print(\"C.setter()\")\n",
    "        self._name = new_name\n",
    "\n",
    "\n",
    "if __name__ == \"__main__\":\n",
    "    c = C(\"홍길동\")\n",
    "    print(c.name )\n",
    "    c.name=\"임꺽정\"\n",
    "    print(c.name)\n",
    "    \n",
    "    \n"
   ]
  },
  {
   "cell_type": "markdown",
   "metadata": {},
   "source": [
    "### 옵저버(관찰자 패턴) \n",
    "\n",
    "* 옵저버observer 패턴은 특정 값을 유지하는 핵심 객체를 갖고, 직렬화된 객체의 복사본을 생성하는 일부 옵저버(관찰자)가 있는 경우 유용하다. 즉, 객체의 일대다 의존 관계에서 한 객체의 상태가 변경되면, 그 객체에 종속된 모든 객체에 그 내용을 통지하여 자동으로 상태를 갱신하는 방식이다. \n",
    "* 옵저버 패턴은 @property 데커레이터를 사용하여 구현할 수 있다. "
   ]
  },
  {
   "cell_type": "code",
   "execution_count": 33,
   "metadata": {},
   "outputs": [
    {
     "name": "stdout",
     "output_type": "stream",
     "text": [
      "아스틴, 점심시간입니다.\n",
      "제임스, 점심시간입니다.\n",
      "제프, 점심시간입니다.\n",
      "아스틴, 퇴근시간입니다.\n",
      "제임스, 퇴근시간입니다.\n"
     ]
    }
   ],
   "source": [
    "# Publisher 클래스에서 set을 사용하여 옵저버 패턴을 구현\n",
    "\n",
    "class Subscriber(object):\n",
    "    def __init__(self, name):\n",
    "        self.name = name\n",
    "        \n",
    "    def update(self, message):\n",
    "        print(\"{0}, {1}\".format(self.name, message))\n",
    "        \n",
    "class Publisher(object):  #중앙 관리자\n",
    "    def __init__(self):\n",
    "        self.subscribers = set() # 중복을 제거하기위해 set으로 관리\n",
    "        \n",
    "    def register(self, who): #구독을 누르면 publisher쪽에 등록 됨\n",
    "        self.subscribers.add(who)\n",
    "        \n",
    "    def unregister(self, who):\n",
    "        self.subscribers.discard(who)\n",
    "        \n",
    "    def dispatch(self, message):  # 등록된 구독자에게 메시지 전달함. \n",
    "        for subscriber in self.subscribers: #for 문을 돌면서 구독자 set에 update 호출\n",
    "            subscriber.update(message)\n",
    "            \n",
    "\n",
    "        \n",
    "        \n",
    "        \n",
    "        \n",
    "if __name__ == \"__main__\":\n",
    "    pub = Publisher()\n",
    "    \n",
    "    astin = Subscriber(\"아스틴\")\n",
    "    james = Subscriber(\"제임스\")\n",
    "    jeff = Subscriber(\"제프\")\n",
    "    \n",
    "    pub.register(astin)\n",
    "    pub.register(james)\n",
    "    pub.register(jeff)\n",
    "    \n",
    "    pub.dispatch(\"점심시간입니다.\")\n",
    "    pub.unregister(jeff)\n",
    "    pub.dispatch(\"퇴근시간입니다.\")\n",
    "    # 집합에는 순서가 없기 때문에 랜덤하게 찍혀나온다"
   ]
  },
  {
   "cell_type": "code",
   "execution_count": 104,
   "metadata": {
    "scrolled": true
   },
   "outputs": [
    {
     "name": "stdout",
     "output_type": "stream",
     "text": [
      "아스틴, 점심시간입니다.\n",
      "제임스, 점심시간입니다.\n",
      "제프, 점심시간입니다.\n",
      "아스틴, 퇴근시간입니다.\n",
      "제임스, 퇴근시간입니다.\n"
     ]
    }
   ],
   "source": [
    "# Publisher 클래스에서 딕셔너리를 사용해 옵저버 패턴을 구현\n",
    "\n",
    "class SubscriberOne(object):\n",
    "    def __init__(self, name):\n",
    "        self.name = name\n",
    "        \n",
    "    def update(self, message):\n",
    "        print(\"{0}, {1}\".format(self.name, message))\n",
    "        \n",
    "class SubscriberTwo(object):\n",
    "    def __init__(self, name):\n",
    "        self.name = name\n",
    "        \n",
    "    def receive(self, message):\n",
    "        print(\"{0}, {1}\".format(self.name, message))\n",
    "\n",
    "        \n",
    "class Publisher(object):  #중앙 관리자\n",
    "    def __init__(self):\n",
    "        self.subscribers = dict() # 중복을 제거하기위해 set으로 관리\n",
    "        \n",
    "    def register(self, who, callback=None): #구독을 누르면 publisher쪽에 등록 됨\n",
    "        if callback is None: #함수도 인자로 넘길 수 있따.\n",
    "            callback = getattr(who, 'update')\n",
    "        self.subscribers[who] = callback\n",
    "        # who가 key의 역할을 하는 것.\n",
    "        \n",
    "    def unregister(self, who):\n",
    "        del self.subscribers[who] # key역할 함\n",
    "        \n",
    "    def dispatch(self, message):  # 등록된 구독자에게 메시지 전달함. \n",
    "        for subscriber, callback in self.subscribers.items(): #for 문을 돌면서 구독자 dict에 update 호출\n",
    "            callback(message)\n",
    "            #앞의 subs가 key역할, callback이 value역할\n",
    "             \n",
    "        \n",
    "        \n",
    "        \n",
    "if __name__ == \"__main__\":\n",
    "    pub = Publisher()\n",
    "    \n",
    "    astin = SubscriberOne(\"아스틴\")\n",
    "    james = SubscriberTwo(\"제임스\")\n",
    "    jeff = SubscriberOne(\"제프\")\n",
    "    \n",
    "    pub.register(astin, astin.update) #update callback함수 지정\n",
    "    pub.register(james, james.receive)\n",
    "    pub.register(jeff)\n",
    "    \n",
    "    pub.dispatch(\"점심시간입니다.\")\n",
    "    pub.unregister(jeff)\n",
    "    pub.dispatch(\"퇴근시간입니다.\")"
   ]
  },
  {
   "cell_type": "code",
   "execution_count": 107,
   "metadata": {},
   "outputs": [
    {
     "name": "stdout",
     "output_type": "stream",
     "text": [
      "아스틴, 점심시간입니다.\n",
      "제프, 점심시간입니다.\n",
      "아스틴, 저녁시간입니다.\n",
      "제임스, 저녁시간입니다.\n"
     ]
    }
   ],
   "source": [
    "#뭔가 event 기반\n",
    "class Subscriber(object):\n",
    "    def __init__(self, name):\n",
    "        self.name = name\n",
    "        \n",
    "    def update(self, message):\n",
    "        print(\"{0}, {1}\".format(self.name, message))\n",
    "\n",
    "        \n",
    "class Publisher(object):  \n",
    "    def __init__(self, events):\n",
    "        self.subscribers = { event: dict() for event in events }\n",
    "     \n",
    "    def get_subscribers(self, event):\n",
    "        return self.subscribers[event] #event가 key이기 때문\n",
    "        \n",
    "    \n",
    "    def register(self, event, who, callback=None): \n",
    "        if callback is None: #\n",
    "            callback = getattr(who, 'update')\n",
    "        self.get_subscribers(event)[who] = callback\n",
    "\n",
    "    def unregister(self, event, who):\n",
    "        del self.get_subscribers(event)[who]\n",
    "        \n",
    "    def dispatch(self, event, message):  \n",
    "        for subscriber, callback in self.get_subscribers(event).items(): \n",
    "            callback(message)\n",
    "        \n",
    "             \n",
    "        \n",
    "if __name__ == \"__main__\":\n",
    "    pub = Publisher([\"점심\", \"퇴근\"]) #리스트 구조, 이 멤버가 publisher의 events로 전달됨\n",
    "    \n",
    "    astin = Subscriber(\"아스틴\")\n",
    "    james = Subscriber(\"제임스\")\n",
    "    jeff = Subscriber(\"제프\")\n",
    "    \n",
    "    pub.register(\"점심\" ,astin) #event기반의 옵저버 패턴이라고 볼 수 있다.\n",
    "    pub.register(\"퇴근\" ,astin)\n",
    "    pub.register(\"퇴근\" ,james)\n",
    "    pub.register(\"점심\" ,jeff)\n",
    "   \n",
    "    pub.dispatch( \"점심\", \"점심시간입니다.\")\n",
    "    pub.dispatch( \"퇴근\", \"저녁시간입니다.\")"
   ]
  },
  {
   "cell_type": "markdown",
   "metadata": {},
   "source": [
    "### 싱글톤 패턴 (singleton) "
   ]
  },
  {
   "cell_type": "code",
   "execution_count": 109,
   "metadata": {},
   "outputs": [
    {
     "name": "stdout",
     "output_type": "stream",
     "text": [
      "False\n"
     ]
    }
   ],
   "source": [
    "class SinEx:\n",
    "    pass\n",
    "            \n",
    "            \n",
    "if __name__ == \"__main__\":\n",
    "    x = SinEx()\n",
    "    y = SinEx()\n",
    "    #같다 라고 비교할 수 잇는가? 무조건 False 나온다\n",
    "    print(x==y)"
   ]
  },
  {
   "cell_type": "code",
   "execution_count": 112,
   "metadata": {},
   "outputs": [
    {
     "name": "stdout",
     "output_type": "stream",
     "text": [
      "True\n",
      "1967317883208\n",
      "1967317883208\n"
     ]
    }
   ],
   "source": [
    "class SinEx:\n",
    "    _sing = None\n",
    "    \n",
    "    def __new__(self, *args, **kwargs): #모든 인자를 받기 위해 이렇게 쓴다.\n",
    "        if not self._sing: #self의 _sing이라는 곳에 부모의 new를 호출한다\n",
    "            self._sing = super(SinEx, self).__new__(self, *args, **kwargs)\n",
    "        return self._sing\n",
    "            #이렇게 했더니 아래 값이 True를 리턴한다.\n",
    "            \n",
    "if __name__ == \"__main__\":\n",
    "    x = SinEx()\n",
    "    y = SinEx()\n",
    "    print(x==y)\n",
    "    print(id(x))\n",
    "    print(id(y)) # 주소도 똑같다고 나온다. 완전 같은 객체가 된 것!\n",
    "    # 즉 실제 객체는 하나만 만들어졌다는 것을 의미한다.\n",
    "    # 이것을 싱글톤이라고 한다\n",
    "    # 시스템에서 단 한번 뭔가 초기화할 일이 있다면 싱글톤 패턴을 사용한다"
   ]
  },
  {
   "cell_type": "code",
   "execution_count": 115,
   "metadata": {},
   "outputs": [
    {
     "name": "stdout",
     "output_type": "stream",
     "text": [
      "시스템에 매우 중요한 초기화 작업\n",
      "시스템에 매우 중요한 초기화 작업\n",
      "True\n",
      "1967317827464\n",
      "1967317827464\n"
     ]
    }
   ],
   "source": [
    "class SinEx:\n",
    "    _sing = None\n",
    "    \n",
    "    def __init__(self):\n",
    "        print(\"시스템에 매우 중요한 초기화 작업\")\n",
    "    \n",
    "    def __new__(self, *args, **kwargs): \n",
    "        if not self._sing: \n",
    "            self._sing = super(SinEx, self).__new__(self, *args, **kwargs)\n",
    "        return self._sing\n",
    "            \n",
    "if __name__ == \"__main__\":\n",
    "    x = SinEx()\n",
    "    y = SinEx()\n",
    "    print(x==y)\n",
    "    print(id(x))\n",
    "    print(id(y))\n",
    "    \n",
    "# init은 두번 호출되는데\n",
    "# new는 한번호출되는 것이다\n",
    "# new를 분석하면\n",
    "# 객체가 생성될 때 어떤식으로 생성되는지가 중요하다. \n",
    "# 어떤식의 순번으로 객체가 생성되는지 (p133 5.1.1)\n",
    "# new는 객체를 메모리에 할당하는 역할을 한다. \n",
    "\n"
   ]
  },
  {
   "cell_type": "code",
   "execution_count": 121,
   "metadata": {},
   "outputs": [
    {
     "name": "stdout",
     "output_type": "stream",
     "text": [
      "SinEx.__new__()\n",
      "시스템에 매우 중요한 초기화 작업\n",
      "시스템에 매우 중요한 초기화 작업\n",
      "True\n",
      "1967376245512\n",
      "1967376245512\n"
     ]
    }
   ],
   "source": [
    "class SinEx:\n",
    "    _sing = None\n",
    "    \n",
    "    def __init__(self):\n",
    "        print(\"시스템에 매우 중요한 초기화 작업\")\n",
    "    \n",
    "    def __new__(self, *args, **kwargs): \n",
    "        if not self._sing: #class변수가 none인 경우만 if를 탄다.\n",
    "            print(\"SinEx.__new__()\")\n",
    "            self._sing = super(SinEx, self).__new__(self, *args, **kwargs)\n",
    "        return self._sing #부모의 new를 타면 메모리를 부모가 만들어줌\n",
    "    #new를 두번째 호출 하는 경우 이미 객체 번지에 뭔가 들어와있을 수 있어서\n",
    "    #두번째 호출 부터는 if를 안타서 객체를 만들지 않는다. 그대로 그 메모리를 이용\n",
    "    #init은 두번 호출 될지언정 객체는 단 하나만 만들어진다.\n",
    "    #즉 실제 메모리 생성은 단 한번\n",
    "            \n",
    "if __name__ == \"__main__\":\n",
    "    x = SinEx()\n",
    "    y = SinEx()\n",
    "    print(x==y)\n",
    "    print(id(x))\n",
    "    print(id(y))\n",
    "    \n",
    "# init은 두번 호출되는데\n",
    "# new는 한번호출되는 것이다\n",
    "# new를 분석하면\n",
    "# 객체가 생성될 때 어떤식으로 생성되는지가 중요하다. \n",
    "# 어떤식의 순번으로 객체가 생성되는지 (p133 5.1.1)\n",
    "# new는 객체를 메모리에 할당하는 역할을 한다. \n",
    "\n"
   ]
  },
  {
   "cell_type": "code",
   "execution_count": 120,
   "metadata": {},
   "outputs": [
    {
     "name": "stdout",
     "output_type": "stream",
     "text": [
      "객체를 위한 메모리 생성\n",
      "시스템에 매우 중요한 초기화 작업\n",
      "시스템에 매우 중요한 초기화 작업\n",
      "True\n",
      "1967376279624\n",
      "1967376279624\n"
     ]
    }
   ],
   "source": [
    "class SinEx:\n",
    "    _sing = None\n",
    "    \n",
    "    def __init__(self):\n",
    "        print(\"시스템에 매우 중요한 초기화 작업\")\n",
    "    \n",
    "    def __new__(self, *args, **kwargs): \n",
    "        if not self._sing: #class변수가 none인 경우만 if를 탄다. 이건 class의 sing이다\n",
    "            print(\"객체를 위한 메모리 생성\")\n",
    "            self._sing = super(SinEx, self).__new__(self, *args, **kwargs)\n",
    "        return self._sing \n",
    "    #부모 클래스는 시스템 디폴트 클래스인 Object클래스이다. 명시 안해도 됨.\n",
    "    #부모의 new를 타면 메모리를 부모가 만들어줌\n",
    "    #new를 두번째 호출 하는 경우 이미 객체 번지에 뭔가 들어와있을 수 있어서\n",
    "    #두번째 호출 부터는 if를 안타서 객체를 만들지 않는다. 그대로 그 메모리를 이용\n",
    "    #init은 두번 호출 될지언정 객체는 단 하나만 만들어진다.\n",
    "    #즉 실제 메모리 생성은 단 한번\n",
    "            \n",
    "if __name__ == \"__main__\":\n",
    "    x = SinEx()\n",
    "    y = SinEx()\n",
    "    print(x==y)\n",
    "    print(id(x))\n",
    "    print(id(y))\n",
    "    \n",
    "# init은 두번 호출되는데\n",
    "# new는 한번호출되는 것이다\n",
    "# new를 분석하면\n",
    "# 객체가 생성될 때 어떤식으로 생성되는지가 중요하다. \n",
    "# 어떤식의 순번으로 객체가 생성되는지 (p133 5.1.1)\n",
    "# new는 객체를 메모리에 할당하는 역할을 한다. \n",
    "\n"
   ]
  },
  {
   "cell_type": "code",
   "execution_count": 122,
   "metadata": {},
   "outputs": [
    {
     "name": "stdout",
     "output_type": "stream",
     "text": [
      "객체를 위한 메모리 생성\n",
      "시스템에 매우 중요한 초기화 작업\n",
      "시스템에 매우 중요한 초기화 작업\n",
      "True\n",
      "1967317950344\n",
      "1967317950344\n"
     ]
    }
   ],
   "source": [
    "class SinEx:\n",
    "    _sing = None\n",
    "    #self를 클래스 변수로 접근해주면 더 보기 명확해진다\n",
    "    \n",
    "    def __init__(self):\n",
    "        print(\"시스템에 매우 중요한 초기화 작업\")\n",
    "    \n",
    "    def __new__(self, *args, **kwargs): \n",
    "        if not SinEx._sing: #class변수가 none인 경우만 if를 탄다. 이건 class의 sing이다\n",
    "            print(\"객체를 위한 메모리 생성\")\n",
    "            SinEx._sing = super(SinEx, self).__new__(self, *args, **kwargs)\n",
    "        return SinEx._sing \n",
    "    #부모 클래스는 시스템 디폴트 클래스인 Object클래스이다. 명시 안해도 됨.\n",
    "    #부모의 new를 타면 메모리를 부모가 만들어줌\n",
    "    #new를 두번째 호출 하는 경우 이미 객체 번지에 뭔가 들어와있을 수 있어서\n",
    "    #두번째 호출 부터는 if를 안타서 객체를 만들지 않는다. 그대로 그 메모리를 이용\n",
    "    #init은 두번 호출 될지언정 객체는 단 하나만 만들어진다.\n",
    "    #즉 실제 메모리 생성은 단 한번\n",
    "            \n",
    "if __name__ == \"__main__\":\n",
    "    x = SinEx()\n",
    "    y = SinEx()\n",
    "    print(x==y)\n",
    "    print(id(x))\n",
    "    print(id(y))\n",
    "    \n",
    "# init은 두번 호출되는데\n",
    "# new는 한번호출되는 것이다\n",
    "# new를 분석하면\n",
    "# 객체가 생성될 때 어떤식으로 생성되는지가 중요하다. \n",
    "# 어떤식의 순번으로 객체가 생성되는지 (p133 5.1.1)\n",
    "# new는 객체를 메모리에 할당하는 역할을 한다. \n",
    "\n"
   ]
  },
  {
   "cell_type": "markdown",
   "metadata": {},
   "source": [
    "###  파이썬 스레드"
   ]
  },
  {
   "cell_type": "code",
   "execution_count": 6,
   "metadata": {},
   "outputs": [
    {
     "name": "stdout",
     "output_type": "stream",
     "text": [
      "스레드 1 : 처리완료 0스레드 2 : 처리완료 1\n",
      "스레드 2 : 처리완료 2\n",
      "스레드 2 : 처리완료 3\n",
      "스레드 1 : 처리완료 4\n",
      "스레드 1 : 처리완료 5\n",
      "스레드 1 : 처리완료 6\n",
      "스레드 1 : 처리완료 7\n",
      "스레드 1 : 처리완료 8\n",
      "스레드 1 : 처리완료 9\n",
      "스레드 1 : 처리완료 10\n",
      "스레드 1 : 처리완료 11\n",
      "스레드 1 : 처리완료 12\n",
      "스레드 1 : 처리완료 13\n",
      "스레드 4 : 처리완료 14\n",
      "스레드 4 : 처리완료 15\n",
      "스레드 4 : 처리완료 16\n",
      "스레드 4 : 처리완료 17\n",
      "스레드 4 : 처리완료 18\n",
      "스레드 4 : 처리완료 19\n",
      "\n"
     ]
    }
   ],
   "source": [
    "#p155\n",
    "\n",
    "\n",
    "import threading\n",
    "import queue #선입선출의 자료구조\n",
    "\n",
    "q = queue.Queue()\n",
    "\n",
    "def worker(num):\n",
    "    while True:\n",
    "        item = q.get()\n",
    "        if item is None:\n",
    "            break # while 탈출하면서 종료하게 됨\n",
    "        \n",
    "        print(\"스레드 {0} : 처리완료 {1}\".format(num+1, item))\n",
    "        q.task_done()\n",
    "        \n",
    "if __name__ == \"__main__\":\n",
    "    num_worker_threads = 5\n",
    "    threads = []\n",
    "    for i in range(num_worker_threads):\n",
    "        t = threading.Thread( target = worker, args = (i,)) #thread 생성\n",
    "        t.start()\n",
    "        threads.append(t)\n",
    "        \n",
    "    for item in range(20):\n",
    "        q.put(item)\n",
    "        \n",
    "    q.join()\n",
    "    \n",
    "    for i in range(num_worker_threads):\n",
    "        q.put(None)\n",
    "        \n",
    "    for t in threads:\n",
    "        t.join() #종료된 스레드를 기다리는 것"
   ]
  },
  {
   "cell_type": "code",
   "execution_count": null,
   "metadata": {},
   "outputs": [],
   "source": []
  }
 ],
 "metadata": {
  "kernelspec": {
   "display_name": "Python 3",
   "language": "python",
   "name": "python3"
  },
  "language_info": {
   "codemirror_mode": {
    "name": "ipython",
    "version": 3
   },
   "file_extension": ".py",
   "mimetype": "text/x-python",
   "name": "python",
   "nbconvert_exporter": "python",
   "pygments_lexer": "ipython3",
   "version": "3.7.6"
  }
 },
 "nbformat": 4,
 "nbformat_minor": 4
}
