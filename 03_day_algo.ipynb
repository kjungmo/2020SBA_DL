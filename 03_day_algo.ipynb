{
 "cells": [
  {
   "cell_type": "markdown",
   "metadata": {},
   "source": [
    "### 다형성"
   ]
  },
  {
   "cell_type": "code",
   "execution_count": 4,
   "metadata": {},
   "outputs": [
    {
     "name": "stdout",
     "output_type": "stream",
     "text": [
      "False\n",
      "False\n",
      "2\n",
      "1967316932232\n",
      "1967316933064\n"
     ]
    }
   ],
   "source": [
    "class Symbol(object):\n",
    "    def __init__(self, value): # __로 시작해서 __로 끝나는 스페셜 펑션은 기능이 지정되어 있다\n",
    "        self.value = value\n",
    "\n",
    "\n",
    "if __name__ == \"__main__\":\n",
    "    x = Symbol(\"Py\") # X의 인스턴스를 만듬. 객체 X를 메모리에 예화\n",
    "    y = Symbol(\"Py\")\n",
    "    \n",
    "    symbols = set()\n",
    "    symbols.add(x)\n",
    "    symbols.add(y) #서로 중복되지 않고 유니크\n",
    "    \n",
    "    print(x is y) #x 와 y는 싱글 객체의 별도 객체라 False라고나온다\n",
    "    print(x == y) # 번지수도 달라서 False나옴\n",
    "    print( len(symbols)) # 2개로 나온다\n",
    "    print( id(x))\n",
    "    print( id(y)) #서로 다른 메모리 영역에 예화되기 때문에 다르다.\n",
    "    # 같은 것으로 부터 객체 만들었어도 다른것이다!\n",
    "    \n",
    "    #id()는 그 객체의 번지를 보는것"
   ]
  },
  {
   "cell_type": "code",
   "execution_count": 7,
   "metadata": {},
   "outputs": [
    {
     "ename": "TypeError",
     "evalue": "unhashable type: 'Symbol'",
     "output_type": "error",
     "traceback": [
      "\u001b[1;31m---------------------------------------------------------------------------\u001b[0m",
      "\u001b[1;31mTypeError\u001b[0m                                 Traceback (most recent call last)",
      "\u001b[1;32m<ipython-input-7-0887635437fd>\u001b[0m in \u001b[0;36m<module>\u001b[1;34m\u001b[0m\n\u001b[0;32m     15\u001b[0m \u001b[1;33m\u001b[0m\u001b[0m\n\u001b[0;32m     16\u001b[0m     \u001b[0msymbols\u001b[0m \u001b[1;33m=\u001b[0m \u001b[0mset\u001b[0m\u001b[1;33m(\u001b[0m\u001b[1;33m)\u001b[0m\u001b[1;33m\u001b[0m\u001b[1;33m\u001b[0m\u001b[0m\n\u001b[1;32m---> 17\u001b[1;33m     \u001b[0msymbols\u001b[0m\u001b[1;33m.\u001b[0m\u001b[0madd\u001b[0m\u001b[1;33m(\u001b[0m\u001b[0mx\u001b[0m\u001b[1;33m)\u001b[0m\u001b[1;33m\u001b[0m\u001b[1;33m\u001b[0m\u001b[0m\n\u001b[0m\u001b[0;32m     18\u001b[0m     \u001b[0msymbols\u001b[0m\u001b[1;33m.\u001b[0m\u001b[0madd\u001b[0m\u001b[1;33m(\u001b[0m\u001b[0my\u001b[0m\u001b[1;33m)\u001b[0m \u001b[1;31m#서로 중복되지 않고 유니크\u001b[0m\u001b[1;33m\u001b[0m\u001b[1;33m\u001b[0m\u001b[0m\n\u001b[0;32m     19\u001b[0m \u001b[1;33m\u001b[0m\u001b[0m\n",
      "\u001b[1;31mTypeError\u001b[0m: unhashable type: 'Symbol'"
     ]
    }
   ],
   "source": [
    "class Symbol(object):\n",
    "    def __init__(self, value): # __로 시작해서 __로 끝나는 스페셜 펑션은 기능이 지정되어 있다\n",
    "        self.value = value\n",
    "    \n",
    "    def __eq__(self, other): # 이퀄 함수. 오버로딩 할 때 연관, self와 other를 비교하고 싶단것\n",
    "        print(\"Symbol.__eq__()\")\n",
    "        if isinstance(self, other.__class__):\n",
    "            return self.value == other.value\n",
    "        else:\n",
    "            return NotImplemented\n",
    "\n",
    "if __name__ == \"__main__\":\n",
    "    x = Symbol(\"Py\") # X의 인스턴스를 만듬. 객체 X를 메모리에 예화\n",
    "    y = Symbol(\"Py\")\n",
    "    \n",
    "    symbols = set()\n",
    "    symbols.add(x)\n",
    "    symbols.add(y) #서로 중복되지 않고 유니크\n",
    "    \n",
    "    print(x is y) #x 와 y는 싱글 객체의 별도 객체라 False라고나온다\n",
    "    print(x == y) # 번지수도 달라서 False나옴\n",
    "    print( len(symbols)) # 2개로 나온다\n",
    "    print( id(x))\n",
    "    print( id(y)) #서로 다른 메모리 영역에 예화되기 때문에 다르다.\n",
    "    # 같은 것으로 부터 객체 만들었어도 다른것이다!\n",
    "    \n",
    "    #id()는 그 객체의 번지를 보는것\n",
    "    \n",
    "    \n",
    "TypeError: unhashable type: 'Symbol'\n",
    "        -> 집합에 집어넣으려면 해시 가능한 객체여야 한다. \n",
    "        오버로딩 할 거면 해시 가능해야 한다. \n",
    "        이것을 해결하는 방식이 p137 하단에 나와있다\n",
    "        즉 추가로 내부 해시를 호출해주는 것을 넣어준다"
   ]
  },
  {
   "cell_type": "code",
   "execution_count": 8,
   "metadata": {},
   "outputs": [
    {
     "name": "stdout",
     "output_type": "stream",
     "text": [
      "Symbol.__eq__()\n",
      "False\n",
      "Symbol.__eq__()\n",
      "True\n",
      "1\n",
      "1967317441544\n",
      "1967317396232\n"
     ]
    }
   ],
   "source": [
    "class Symbol(object):\n",
    "    def __init__(self, value): # __로 시작해서 __로 끝나는 스페셜 펑션은 기능이 지정되어 있다\n",
    "        self.value = value\n",
    "    \n",
    "    def __eq__(self, other): # 이퀄 함수. 오버로딩 할 때 연관, self와 other를 비교하고 싶단것\n",
    "        print(\"Symbol.__eq__()\")\n",
    "        if isinstance(self, other.__class__):\n",
    "            return self.value == other.value\n",
    "        else:\n",
    "            return NotImplemented\n",
    "        \n",
    "    def __hash__(self):\n",
    "        return hash(self.value) #내가 가진 value의 해시를 리턴해주는 함수\n",
    "\n",
    "if __name__ == \"__main__\":\n",
    "    x = Symbol(\"Py\") # X의 인스턴스를 만듬. 객체 X를 메모리에 예화\n",
    "    y = Symbol(\"Py\")\n",
    "    \n",
    "    symbols = set()\n",
    "    symbols.add(x)\n",
    "    symbols.add(y) #서로 중복되지 않고 유니크\n",
    "    \n",
    "    print(x is y) #x 와 y는 싱글 객체의 별도 객체라 False라고나온다\n",
    "    print(x == y) # 객체를 비교하는게 아니라 value를 비교했기 때문에 True\n",
    "    print( len(symbols)) # 1개로 나온다는 것은 같은 것으로 봤기 때문에 \n",
    "                        #집합 길이가 1로 나온것. 중복이 배제되니까\n",
    "                        # value로 해시 만들었기 때문\n",
    "    print( id(x))\n",
    "    print( id(y)) #서로 다른 메모리 영역에 예화되기 때문에 다르다.\n",
    "    # 같은 것으로 부터 객체 만들었어도 다른것이다!\n",
    "    \n",
    "    #id()는 그 객체의 번지를 보는것\n",
    "    \n",
    "\\"
   ]
  },
  {
   "cell_type": "code",
   "execution_count": null,
   "metadata": {},
   "outputs": [],
   "source": []
  }
 ],
 "metadata": {
  "kernelspec": {
   "display_name": "Python 3",
   "language": "python",
   "name": "python3"
  },
  "language_info": {
   "codemirror_mode": {
    "name": "ipython",
    "version": 3
   },
   "file_extension": ".py",
   "mimetype": "text/x-python",
   "name": "python",
   "nbconvert_exporter": "python",
   "pygments_lexer": "ipython3",
   "version": "3.7.6"
  }
 },
 "nbformat": 4,
 "nbformat_minor": 4
}
